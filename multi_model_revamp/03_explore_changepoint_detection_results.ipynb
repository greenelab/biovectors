{
 "cells": [
  {
   "cell_type": "markdown",
   "metadata": {},
   "source": [
    "# Look into changepoints detected by CUSUM"
   ]
  },
  {
   "cell_type": "code",
   "execution_count": 1,
   "metadata": {
    "ExecuteTime": {
     "end_time": "2022-05-19T18:59:13.347105Z",
     "start_time": "2022-05-19T18:59:12.264382Z"
    }
   },
   "outputs": [],
   "source": [
    "import itertools\n",
    "from pathlib import Path\n",
    "\n",
    "from gensim.models import Word2Vec\n",
    "import numpy as np\n",
    "import pandas as pd\n",
    "import plydata as ply\n",
    "import tqdm\n",
    "\n",
    "from detecta import detect_cusum\n",
    "\n",
    "from biovectors_modules.plot_helper import deidentify_concepts, generate_neighbor_table"
   ]
  },
  {
   "cell_type": "code",
   "execution_count": 2,
   "metadata": {
    "ExecuteTime": {
     "end_time": "2022-05-19T18:59:13.350943Z",
     "start_time": "2022-05-19T18:59:13.348633Z"
    }
   },
   "outputs": [],
   "source": [
    "output_file_folder = Path(\"output/figure_data_and_figures/neighbor_tables\")"
   ]
  },
  {
   "cell_type": "code",
   "execution_count": 3,
   "metadata": {
    "ExecuteTime": {
     "end_time": "2022-05-19T18:59:13.431691Z",
     "start_time": "2022-05-19T18:59:13.352603Z"
    }
   },
   "outputs": [
    {
     "name": "stdout",
     "output_type": "stream",
     "text": [
      "[PosixPath('output/models/2000_model/2000_0_fulltext.model'), PosixPath('output/models/2001_model/2001_0_fulltext.model')]\n"
     ]
    }
   ],
   "source": [
    "word2vec_model_list = sorted(\n",
    "    list(Path(\"output/models\").rglob(\"*0_fulltext.model\")),\n",
    "    key=lambda x: int(x.stem.split(\"_\")[0]),\n",
    ")\n",
    "print(word2vec_model_list[0:2])"
   ]
  },
  {
   "cell_type": "code",
   "execution_count": 4,
   "metadata": {
    "ExecuteTime": {
     "end_time": "2022-05-19T19:00:15.508702Z",
     "start_time": "2022-05-19T18:59:13.433620Z"
    }
   },
   "outputs": [
    {
     "data": {
      "text/html": [
       "<div>\n",
       "<style scoped>\n",
       "    .dataframe tbody tr th:only-of-type {\n",
       "        vertical-align: middle;\n",
       "    }\n",
       "\n",
       "    .dataframe tbody tr th {\n",
       "        vertical-align: top;\n",
       "    }\n",
       "\n",
       "    .dataframe thead th {\n",
       "        text-align: right;\n",
       "    }\n",
       "</style>\n",
       "<table border=\"1\" class=\"dataframe\">\n",
       "  <thead>\n",
       "    <tr style=\"text-align: right;\">\n",
       "      <th></th>\n",
       "      <th>concept_id</th>\n",
       "      <th>concept</th>\n",
       "    </tr>\n",
       "  </thead>\n",
       "  <tbody>\n",
       "    <tr>\n",
       "      <th>0</th>\n",
       "      <td>mesh_d000001</td>\n",
       "      <td>calcimycin</td>\n",
       "    </tr>\n",
       "    <tr>\n",
       "      <th>1</th>\n",
       "      <td>mesh_d000002</td>\n",
       "      <td>temefos</td>\n",
       "    </tr>\n",
       "    <tr>\n",
       "      <th>2</th>\n",
       "      <td>mesh_d000003</td>\n",
       "      <td>abattoirs</td>\n",
       "    </tr>\n",
       "    <tr>\n",
       "      <th>3</th>\n",
       "      <td>mesh_d000004</td>\n",
       "      <td>abbreviations as topic</td>\n",
       "    </tr>\n",
       "    <tr>\n",
       "      <th>4</th>\n",
       "      <td>mesh_d000005</td>\n",
       "      <td>abdomen</td>\n",
       "    </tr>\n",
       "    <tr>\n",
       "      <th>5</th>\n",
       "      <td>mesh_d000006</td>\n",
       "      <td>abdomen, acute</td>\n",
       "    </tr>\n",
       "    <tr>\n",
       "      <th>6</th>\n",
       "      <td>mesh_d000007</td>\n",
       "      <td>abdominal injuries</td>\n",
       "    </tr>\n",
       "    <tr>\n",
       "      <th>7</th>\n",
       "      <td>mesh_d000008</td>\n",
       "      <td>abdominal neoplasms</td>\n",
       "    </tr>\n",
       "    <tr>\n",
       "      <th>8</th>\n",
       "      <td>mesh_d000009</td>\n",
       "      <td>abdominal muscles</td>\n",
       "    </tr>\n",
       "    <tr>\n",
       "      <th>9</th>\n",
       "      <td>mesh_d000010</td>\n",
       "      <td>abducens nerve</td>\n",
       "    </tr>\n",
       "  </tbody>\n",
       "</table>\n",
       "</div>"
      ],
      "text/plain": [
       "     concept_id                 concept\n",
       "0  mesh_d000001              calcimycin\n",
       "1  mesh_d000002                 temefos\n",
       "2  mesh_d000003               abattoirs\n",
       "3  mesh_d000004  abbreviations as topic\n",
       "4  mesh_d000005                 abdomen\n",
       "5  mesh_d000006          abdomen, acute\n",
       "6  mesh_d000007      abdominal injuries\n",
       "7  mesh_d000008     abdominal neoplasms\n",
       "8  mesh_d000009       abdominal muscles\n",
       "9  mesh_d000010          abducens nerve"
      ]
     },
     "execution_count": 4,
     "metadata": {},
     "output_type": "execute_result"
    }
   ],
   "source": [
    "concepts_df = pd.read_csv(\n",
    "    \"../concept_mapper_experiment/output/all_concept_ids.tsv.xz\", sep=\"\\t\"\n",
    ")\n",
    "lower_case_concept_id = list(map(lambda x: x.lower(), concepts_df.concept_id.tolist()))\n",
    "concept_mapper = dict(zip(lower_case_concept_id, concepts_df.concept.tolist()))\n",
    "concepts_df >> ply.slice_rows(10)"
   ]
  },
  {
   "cell_type": "code",
   "execution_count": 5,
   "metadata": {
    "ExecuteTime": {
     "end_time": "2022-05-19T19:00:15.639827Z",
     "start_time": "2022-05-19T19:00:15.510024Z"
    }
   },
   "outputs": [
    {
     "data": {
      "text/html": [
       "<div>\n",
       "<style scoped>\n",
       "    .dataframe tbody tr th:only-of-type {\n",
       "        vertical-align: middle;\n",
       "    }\n",
       "\n",
       "    .dataframe tbody tr th {\n",
       "        vertical-align: top;\n",
       "    }\n",
       "\n",
       "    .dataframe thead th {\n",
       "        text-align: right;\n",
       "    }\n",
       "</style>\n",
       "<table border=\"1\" class=\"dataframe\">\n",
       "  <thead>\n",
       "    <tr style=\"text-align: right;\">\n",
       "      <th></th>\n",
       "      <th>tok</th>\n",
       "      <th>changepoint_idx</th>\n",
       "      <th>start_idx</th>\n",
       "      <th>end_idx</th>\n",
       "      <th>value</th>\n",
       "    </tr>\n",
       "  </thead>\n",
       "  <tbody>\n",
       "    <tr>\n",
       "      <th>0</th>\n",
       "      <td>species_2697049</td>\n",
       "      <td>2019-2020</td>\n",
       "      <td>2008-2009</td>\n",
       "      <td>2019-2020</td>\n",
       "      <td>1894.444406</td>\n",
       "    </tr>\n",
       "    <tr>\n",
       "      <th>1</th>\n",
       "      <td>gene_43740578</td>\n",
       "      <td>2019-2020</td>\n",
       "      <td>2016-2017</td>\n",
       "      <td>2019-2020</td>\n",
       "      <td>1616.904268</td>\n",
       "    </tr>\n",
       "    <tr>\n",
       "      <th>2</th>\n",
       "      <td>lockdown</td>\n",
       "      <td>2019-2020</td>\n",
       "      <td>2012-2013</td>\n",
       "      <td>2019-2020</td>\n",
       "      <td>589.494584</td>\n",
       "    </tr>\n",
       "    <tr>\n",
       "      <th>3</th>\n",
       "      <td>species_333278</td>\n",
       "      <td>2012-2013</td>\n",
       "      <td>2011-2012</td>\n",
       "      <td>2012-2013</td>\n",
       "      <td>533.319955</td>\n",
       "    </tr>\n",
       "    <tr>\n",
       "      <th>4</th>\n",
       "      <td>typeset</td>\n",
       "      <td>2007-2008</td>\n",
       "      <td>2006-2007</td>\n",
       "      <td>2007-2008</td>\n",
       "      <td>453.520680</td>\n",
       "    </tr>\n",
       "    <tr>\n",
       "      <th>...</th>\n",
       "      <td>...</td>\n",
       "      <td>...</td>\n",
       "      <td>...</td>\n",
       "      <td>...</td>\n",
       "      <td>...</td>\n",
       "    </tr>\n",
       "    <tr>\n",
       "      <th>44835</th>\n",
       "      <td>algan</td>\n",
       "      <td>2010-2011</td>\n",
       "      <td>2009-2010</td>\n",
       "      <td>2010-2011</td>\n",
       "      <td>8.815154</td>\n",
       "    </tr>\n",
       "    <tr>\n",
       "      <th>44836</th>\n",
       "      <td>gene_100314169</td>\n",
       "      <td>2019-2020</td>\n",
       "      <td>2018-2019</td>\n",
       "      <td>2019-2020</td>\n",
       "      <td>8.815005</td>\n",
       "    </tr>\n",
       "    <tr>\n",
       "      <th>44837</th>\n",
       "      <td>gene_55915</td>\n",
       "      <td>2020-2021</td>\n",
       "      <td>2014-2015</td>\n",
       "      <td>2020-2021</td>\n",
       "      <td>8.814831</td>\n",
       "    </tr>\n",
       "    <tr>\n",
       "      <th>44838</th>\n",
       "      <td>sadrs</td>\n",
       "      <td>2012-2013</td>\n",
       "      <td>2009-2010</td>\n",
       "      <td>2012-2013</td>\n",
       "      <td>8.814770</td>\n",
       "    </tr>\n",
       "    <tr>\n",
       "      <th>44839</th>\n",
       "      <td>septentrionali</td>\n",
       "      <td>2016-2017</td>\n",
       "      <td>2013-2014</td>\n",
       "      <td>2016-2017</td>\n",
       "      <td>8.814704</td>\n",
       "    </tr>\n",
       "  </tbody>\n",
       "</table>\n",
       "<p>44840 rows × 5 columns</p>\n",
       "</div>"
      ],
      "text/plain": [
       "                   tok changepoint_idx  start_idx    end_idx        value\n",
       "0      species_2697049       2019-2020  2008-2009  2019-2020  1894.444406\n",
       "1        gene_43740578       2019-2020  2016-2017  2019-2020  1616.904268\n",
       "2             lockdown       2019-2020  2012-2013  2019-2020   589.494584\n",
       "3       species_333278       2012-2013  2011-2012  2012-2013   533.319955\n",
       "4              typeset       2007-2008  2006-2007  2007-2008   453.520680\n",
       "...                ...             ...        ...        ...          ...\n",
       "44835            algan       2010-2011  2009-2010  2010-2011     8.815154\n",
       "44836   gene_100314169       2019-2020  2018-2019  2019-2020     8.815005\n",
       "44837       gene_55915       2020-2021  2014-2015  2020-2021     8.814831\n",
       "44838            sadrs       2012-2013  2009-2010  2012-2013     8.814770\n",
       "44839   septentrionali       2016-2017  2013-2014  2016-2017     8.814704\n",
       "\n",
       "[44840 rows x 5 columns]"
      ]
     },
     "execution_count": 5,
     "metadata": {},
     "output_type": "execute_result"
    }
   ],
   "source": [
    "changepoints_df = pd.read_csv(\"output/pubtator_updated_changepoints.tsv\", sep=\"\\t\")\n",
    "changepoints_df"
   ]
  },
  {
   "cell_type": "code",
   "execution_count": 6,
   "metadata": {
    "ExecuteTime": {
     "end_time": "2022-05-19T19:05:12.109900Z",
     "start_time": "2022-05-19T19:00:15.641014Z"
    }
   },
   "outputs": [
    {
     "name": "stderr",
     "output_type": "stream",
     "text": [
      "100%|██████████| 22/22 [04:55<00:00, 13.45s/it]"
     ]
    },
    {
     "name": "stdout",
     "output_type": "stream",
     "text": [
      "            tok changepoint_idx  start_idx    end_idx     value\n",
      "105  reviewer(s       2018-2019  2017-2018  2018-2019  65.54713\n"
     ]
    },
    {
     "name": "stderr",
     "output_type": "stream",
     "text": [
      "\n"
     ]
    },
    {
     "data": {
      "text/html": [
       "<div>\n",
       "<style scoped>\n",
       "    .dataframe tbody tr th:only-of-type {\n",
       "        vertical-align: middle;\n",
       "    }\n",
       "\n",
       "    .dataframe tbody tr th {\n",
       "        vertical-align: top;\n",
       "    }\n",
       "\n",
       "    .dataframe thead th {\n",
       "        text-align: right;\n",
       "    }\n",
       "</style>\n",
       "<table border=\"1\" class=\"dataframe\">\n",
       "  <thead>\n",
       "    <tr style=\"text-align: right;\">\n",
       "      <th></th>\n",
       "      <th>0</th>\n",
       "      <th>1</th>\n",
       "      <th>2</th>\n",
       "      <th>3</th>\n",
       "      <th>4</th>\n",
       "      <th>5</th>\n",
       "      <th>6</th>\n",
       "      <th>7</th>\n",
       "      <th>8</th>\n",
       "      <th>9</th>\n",
       "    </tr>\n",
       "  </thead>\n",
       "  <tbody>\n",
       "    <tr>\n",
       "      <th>2013</th>\n",
       "      <td>coauthore</td>\n",
       "      <td>favazza</td>\n",
       "      <td>coauthored</td>\n",
       "      <td>unf</td>\n",
       "      <td>jmcr</td>\n",
       "      <td>crommelin</td>\n",
       "      <td>refereed</td>\n",
       "      <td>wrote</td>\n",
       "      <td>reports</td>\n",
       "      <td>naish</td>\n",
       "    </tr>\n",
       "    <tr>\n",
       "      <th>2014</th>\n",
       "      <td>uavi</td>\n",
       "      <td>csbj</td>\n",
       "      <td>7,483</td>\n",
       "      <td>4,150</td>\n",
       "      <td>n=265</td>\n",
       "      <td>mdoc</td>\n",
       "      <td>1,328</td>\n",
       "      <td>392,582</td>\n",
       "      <td>auc(0,2.5h</td>\n",
       "      <td>ipdma</td>\n",
       "    </tr>\n",
       "    <tr>\n",
       "      <th>2015</th>\n",
       "      <td>biostatistician</td>\n",
       "      <td>statistician</td>\n",
       "      <td>duly</td>\n",
       "      <td>electroencephalographer</td>\n",
       "      <td>proofreader</td>\n",
       "      <td>informatician</td>\n",
       "      <td>5.0.24</td>\n",
       "      <td>electrocardiographer</td>\n",
       "      <td>adjudication</td>\n",
       "      <td>abnm</td>\n",
       "    </tr>\n",
       "    <tr>\n",
       "      <th>2016</th>\n",
       "      <td>sundquist</td>\n",
       "      <td>monaci</td>\n",
       "      <td>j.-j</td>\n",
       "      <td>mirjana</td>\n",
       "      <td>y.-c.</td>\n",
       "      <td>marcelo</td>\n",
       "      <td>fursch</td>\n",
       "      <td>svetlana</td>\n",
       "      <td>konstantinos</td>\n",
       "      <td>mehrabi</td>\n",
       "    </tr>\n",
       "    <tr>\n",
       "      <th>2017</th>\n",
       "      <td>heiko</td>\n",
       "      <td>irina</td>\n",
       "      <td>zachary</td>\n",
       "      <td>cynthia</td>\n",
       "      <td>kenneth</td>\n",
       "      <td>johanna</td>\n",
       "      <td>kristin</td>\n",
       "      <td>nicholas</td>\n",
       "      <td>christina</td>\n",
       "      <td>vanessa</td>\n",
       "    </tr>\n",
       "    <tr>\n",
       "      <th>2018</th>\n",
       "      <td>matthias</td>\n",
       "      <td>maryam</td>\n",
       "      <td>katharina</td>\n",
       "      <td>mohamed</td>\n",
       "      <td>jens</td>\n",
       "      <td>cristina</td>\n",
       "      <td>evgeny</td>\n",
       "      <td>dmitry</td>\n",
       "      <td>tatiana</td>\n",
       "      <td>juliane</td>\n",
       "    </tr>\n",
       "    <tr>\n",
       "      <th>2019</th>\n",
       "      <td>communications</td>\n",
       "      <td>thanks</td>\n",
       "      <td>suppiah</td>\n",
       "      <td>michal</td>\n",
       "      <td>friederike</td>\n",
       "      <td>katharina</td>\n",
       "      <td>melanie</td>\n",
       "      <td>yoshihiro</td>\n",
       "      <td>cristian</td>\n",
       "      <td>kerstin</td>\n",
       "    </tr>\n",
       "    <tr>\n",
       "      <th>2020</th>\n",
       "      <td>communications</td>\n",
       "      <td>informationnature</td>\n",
       "      <td>thanks</td>\n",
       "      <td>yukiko</td>\n",
       "      <td>koichiro</td>\n",
       "      <td>aurelien</td>\n",
       "      <td>verena</td>\n",
       "      <td>ionut</td>\n",
       "      <td>maziar</td>\n",
       "      <td>wataru</td>\n",
       "    </tr>\n",
       "    <tr>\n",
       "      <th>2021</th>\n",
       "      <td>informationnature</td>\n",
       "      <td>communications</td>\n",
       "      <td>thanks</td>\n",
       "      <td>informationcommunication</td>\n",
       "      <td>justyna</td>\n",
       "      <td>kerstin</td>\n",
       "      <td>dorothee</td>\n",
       "      <td>mickael</td>\n",
       "      <td>mihaela</td>\n",
       "      <td>alberto</td>\n",
       "    </tr>\n",
       "  </tbody>\n",
       "</table>\n",
       "</div>"
      ],
      "text/plain": [
       "                      0                  1           2  \\\n",
       "2013          coauthore            favazza  coauthored   \n",
       "2014               uavi               csbj       7,483   \n",
       "2015    biostatistician       statistician        duly   \n",
       "2016          sundquist             monaci        j.-j   \n",
       "2017              heiko              irina     zachary   \n",
       "2018           matthias             maryam   katharina   \n",
       "2019     communications             thanks     suppiah   \n",
       "2020     communications  informationnature      thanks   \n",
       "2021  informationnature     communications      thanks   \n",
       "\n",
       "                             3            4              5         6  \\\n",
       "2013                       unf         jmcr      crommelin  refereed   \n",
       "2014                     4,150        n=265           mdoc     1,328   \n",
       "2015   electroencephalographer  proofreader  informatician    5.0.24   \n",
       "2016                   mirjana        y.-c.        marcelo    fursch   \n",
       "2017                   cynthia      kenneth        johanna   kristin   \n",
       "2018                   mohamed         jens       cristina    evgeny   \n",
       "2019                    michal   friederike      katharina   melanie   \n",
       "2020                    yukiko     koichiro       aurelien    verena   \n",
       "2021  informationcommunication      justyna        kerstin  dorothee   \n",
       "\n",
       "                         7             8        9  \n",
       "2013                 wrote       reports    naish  \n",
       "2014               392,582    auc(0,2.5h    ipdma  \n",
       "2015  electrocardiographer  adjudication     abnm  \n",
       "2016              svetlana  konstantinos  mehrabi  \n",
       "2017              nicholas     christina  vanessa  \n",
       "2018                dmitry       tatiana  juliane  \n",
       "2019             yoshihiro      cristian  kerstin  \n",
       "2020                 ionut        maziar   wataru  \n",
       "2021               mickael       mihaela  alberto  "
      ]
     },
     "execution_count": 6,
     "metadata": {},
     "output_type": "execute_result"
    }
   ],
   "source": [
    "query = \"reviewer(s\"\n",
    "neighbor_thru_time_df = generate_neighbor_table(\n",
    "    word2vec_model_list, query, changepoints_df, concept_mapper, n_neighbors=10\n",
    ")\n",
    "neighbor_thru_time_df.T"
   ]
  },
  {
   "cell_type": "code",
   "execution_count": 7,
   "metadata": {
    "ExecuteTime": {
     "end_time": "2022-05-19T19:10:42.480439Z",
     "start_time": "2022-05-19T19:05:12.111060Z"
    }
   },
   "outputs": [
    {
     "name": "stderr",
     "output_type": "stream",
     "text": [
      "100%|██████████| 22/22 [05:30<00:00, 15.01s/it]\n"
     ]
    },
    {
     "name": "stdout",
     "output_type": "stream",
     "text": [
      "        tok changepoint_idx  start_idx    end_idx      value\n",
      "89  medrxiv       2019-2020  2018-2019  2019-2020  69.958309\n"
     ]
    },
    {
     "ename": "NameError",
     "evalue": "name 'output_file_folder' is not defined",
     "output_type": "error",
     "traceback": [
      "\u001b[0;31m---------------------------------------------------------------------------\u001b[0m",
      "\u001b[0;31mNameError\u001b[0m                                 Traceback (most recent call last)",
      "\u001b[0;32m<ipython-input-7-ad5675e436a3>\u001b[0m in \u001b[0;36m<module>\u001b[0;34m\u001b[0m\n\u001b[1;32m      1\u001b[0m \u001b[0mquery\u001b[0m \u001b[0;34m=\u001b[0m \u001b[0;34m'medrxiv'\u001b[0m\u001b[0;34m\u001b[0m\u001b[0;34m\u001b[0m\u001b[0m\n\u001b[0;32m----> 2\u001b[0;31m \u001b[0mneighbor_thru_time_df\u001b[0m \u001b[0;34m=\u001b[0m \u001b[0mgenerate_neighbor_table\u001b[0m\u001b[0;34m(\u001b[0m\u001b[0mword2vec_model_list\u001b[0m\u001b[0;34m,\u001b[0m \u001b[0mquery\u001b[0m\u001b[0;34m,\u001b[0m \u001b[0mchangepoints_df\u001b[0m\u001b[0;34m,\u001b[0m \u001b[0mconcept_mapper\u001b[0m\u001b[0;34m,\u001b[0m \u001b[0mn_neighbors\u001b[0m\u001b[0;34m=\u001b[0m\u001b[0;36m10\u001b[0m\u001b[0;34m,\u001b[0m \u001b[0msave_file\u001b[0m\u001b[0;34m=\u001b[0m\u001b[0;32mTrue\u001b[0m\u001b[0;34m)\u001b[0m\u001b[0;34m\u001b[0m\u001b[0;34m\u001b[0m\u001b[0m\n\u001b[0m\u001b[1;32m      3\u001b[0m \u001b[0mneighbor_thru_time_df\u001b[0m\u001b[0;34m.\u001b[0m\u001b[0mT\u001b[0m\u001b[0;34m\u001b[0m\u001b[0;34m\u001b[0m\u001b[0m\n",
      "\u001b[0;32m~/Documents/biovectors/biovectors_modules/plot_helper.py\u001b[0m in \u001b[0;36mgenerate_neighbor_table\u001b[0;34m(word2vec_model_list, query_token, changepoint_df, concept_mapper, n_neighbors, save_file)\u001b[0m\n\u001b[1;32m     56\u001b[0m         neighbor_df.T >> ply.call(\n\u001b[1;32m     57\u001b[0m             \u001b[0;34m\".to_csv\"\u001b[0m\u001b[0;34m,\u001b[0m\u001b[0;34m\u001b[0m\u001b[0;34m\u001b[0m\u001b[0m\n\u001b[0;32m---> 58\u001b[0;31m             \u001b[0;34mf\"{str(output_file_folder)}/{query_token}_neighbors_{changepoint[0]}.tsv\"\u001b[0m\u001b[0;34m,\u001b[0m\u001b[0;34m\u001b[0m\u001b[0;34m\u001b[0m\u001b[0m\n\u001b[0m\u001b[1;32m     59\u001b[0m             \u001b[0msep\u001b[0m\u001b[0;34m=\u001b[0m\u001b[0;34m\"\\t\"\u001b[0m\u001b[0;34m,\u001b[0m\u001b[0;34m\u001b[0m\u001b[0;34m\u001b[0m\u001b[0m\n\u001b[1;32m     60\u001b[0m         )\n",
      "\u001b[0;31mNameError\u001b[0m: name 'output_file_folder' is not defined"
     ]
    }
   ],
   "source": [
    "query = \"medrxiv\"\n",
    "neighbor_thru_time_df = generate_neighbor_table(\n",
    "    word2vec_model_list,\n",
    "    query,\n",
    "    changepoints_df,\n",
    "    concept_mapper,\n",
    "    n_neighbors=10,\n",
    "    save_file=True,\n",
    ")\n",
    "neighbor_thru_time_df.T"
   ]
  },
  {
   "cell_type": "code",
   "execution_count": null,
   "metadata": {
    "ExecuteTime": {
     "end_time": "2022-05-19T19:10:42.482154Z",
     "start_time": "2022-05-19T18:59:12.269Z"
    }
   },
   "outputs": [],
   "source": [
    "query = \"pandemic\"\n",
    "neighbor_thru_time_df = generate_neighbor_table(\n",
    "    word2vec_model_list,\n",
    "    query,\n",
    "    changepoints_df,\n",
    "    concept_mapper,\n",
    "    n_neighbors=10,\n",
    "    save_file=True,\n",
    ")\n",
    "neighbor_thru_time_df.T"
   ]
  },
  {
   "cell_type": "code",
   "execution_count": null,
   "metadata": {
    "ExecuteTime": {
     "end_time": "2022-05-19T19:10:42.482968Z",
     "start_time": "2022-05-19T18:59:12.273Z"
    }
   },
   "outputs": [],
   "source": [
    "query = \"cas9\"\n",
    "neighbor_thru_time_df = generate_neighbor_table(\n",
    "    word2vec_model_list,\n",
    "    query,\n",
    "    changepoints_df,\n",
    "    concept_mapper,\n",
    "    n_neighbors=10,\n",
    "    save_file=True,\n",
    ")\n",
    "neighbor_thru_time_df.T"
   ]
  },
  {
   "cell_type": "code",
   "execution_count": null,
   "metadata": {
    "ExecuteTime": {
     "end_time": "2022-05-19T19:10:42.483658Z",
     "start_time": "2022-05-19T18:59:12.276Z"
    }
   },
   "outputs": [],
   "source": [
    "query = \"cellline_cvcl_1698\"\n",
    "neighbor_thru_time_df = generate_neighbor_table(\n",
    "    word2vec_model_list, query, changepoints_df, concept_mapper, n_neighbors=10\n",
    ")\n",
    "neighbor_thru_time_df.T"
   ]
  }
 ],
 "metadata": {
  "jupytext": {
   "formats": "ipynb,py:light"
  },
  "kernelspec": {
   "display_name": "Python [conda env:biovectors]",
   "language": "python",
   "name": "conda-env-biovectors-py"
  },
  "language_info": {
   "codemirror_mode": {
    "name": "ipython",
    "version": 3
   },
   "file_extension": ".py",
   "mimetype": "text/x-python",
   "name": "python",
   "nbconvert_exporter": "python",
   "pygments_lexer": "ipython3",
   "version": "3.7.2"
  },
  "toc": {
   "base_numbering": 1,
   "nav_menu": {},
   "number_sections": true,
   "sideBar": true,
   "skip_h1_title": false,
   "title_cell": "Table of Contents",
   "title_sidebar": "Contents",
   "toc_cell": false,
   "toc_position": {},
   "toc_section_display": true,
   "toc_window_display": false
  }
 },
 "nbformat": 4,
 "nbformat_minor": 2
}
