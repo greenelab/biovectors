{
 "cells": [
  {
   "cell_type": "markdown",
   "metadata": {},
   "source": [
    "# Pubtator Central Update"
   ]
  },
  {
   "cell_type": "markdown",
   "metadata": {},
   "source": [
    "Pubtator Central updates their data monthly; however, they changed their data to be xml format instead of common text.\n",
    "Based on this update it is imperative to know what changes have been made/format this data to make future experiments easier to work with.\n",
    "This notebook is being created to make training word2vec a whole lot easier."
   ]
  },
  {
   "cell_type": "code",
   "execution_count": 1,
   "metadata": {
    "ExecuteTime": {
     "end_time": "2021-12-06T18:28:19.769508Z",
     "start_time": "2021-12-06T18:28:18.678221Z"
    }
   },
   "outputs": [],
   "source": [
    "%load_ext autoreload\n",
    "%autoreload 2\n",
    "\n",
    "from collections import defaultdict, Counter\n",
    "import csv\n",
    "from datetime import datetime\n",
    "import itertools\n",
    "import lzma\n",
    "from pathlib import Path\n",
    "import pickle\n",
    "import tarfile\n",
    "\n",
    "import lxml.etree as ET\n",
    "import numpy as np\n",
    "import pandas as pd\n",
    "import plotnine as p9\n",
    "import tqdm\n",
    "\n",
    "from biovectors_modules.word2vec_run_helper import (\n",
    "    PubMedSentencesIterator,\n",
    "    PubtatorTarIterator,\n",
    "    chunks,\n",
    ")"
   ]
  },
  {
   "cell_type": "markdown",
   "metadata": {
    "ExecuteTime": {
     "end_time": "2021-02-14T17:47:18.089567Z",
     "start_time": "2021-02-14T17:47:18.084433Z"
    }
   },
   "source": [
    "# Look at xml example"
   ]
  },
  {
   "cell_type": "markdown",
   "metadata": {},
   "source": [
    "Lets look at an example entry for each tagged document. Looks like it is regular BioCXML format which is good for processing."
   ]
  },
  {
   "cell_type": "code",
   "execution_count": 2,
   "metadata": {
    "ExecuteTime": {
     "end_time": "2021-12-06T18:28:20.270104Z",
     "start_time": "2021-12-06T18:28:20.252993Z"
    }
   },
   "outputs": [
    {
     "name": "stdout",
     "output_type": "stream",
     "text": [
      "10\n"
     ]
    }
   ],
   "source": [
    "# Move up a level in the repository, enter the folder with all the pubmed abstracts\n",
    "# grab all files with the .gz extenstion for processing\n",
    "pubtator_abstract_batch = list(Path(\"../pubtator_abstracts\").rglob(\"*.gz\"))\n",
    "print(len(pubtator_abstract_batch))"
   ]
  },
  {
   "cell_type": "code",
   "execution_count": 3,
   "metadata": {
    "ExecuteTime": {
     "end_time": "2021-12-06T18:28:22.833439Z",
     "start_time": "2021-12-06T18:28:22.624321Z"
    },
    "scrolled": false
   },
   "outputs": [
    {
     "name": "stdout",
     "output_type": "stream",
     "text": [
      "<passage>\n",
      "  <infon key=\"section_type\">ABSTRACT</infon>\n",
      "  <infon key=\"type\">abstract</infon>\n",
      "  <offset>106</offset>\n",
      "  <text>Adipose tissue development and function are widely studied to examine the relationship between obesity and the metabolic syndrome. It is well documented that the inability of adipose tissue to properly increase its lipid storage capacity during the obese state can lead to metabolic dysfunction. In a blind screen of 425 botanicals, we identified naringenin as an inhibitor of adipocyte differentiation. Naringenin is one of the most abundant citrus flavonoids, and recent studies have demonstrated antihyperlipidemic capabilities. These studies have largely focused on the effects of naringenin on the liver. Our biochemical studies clearly demonstrate that naringenin inhibits adipogenesis and impairs mature fat cell function. Naringenin specifically inhibited adipogenesis in a dose-dependent fashion as judged by examining lipid accumulation and induction of adipocyte marker protein expression. In mature 3T3-L1 adipocytes, naringenin reduced the ability of insulin to induce IRS-1 tyrosine phosphorylation and substantially inhibited insulin-stimulated glucose uptake in a dose-dependent manner and over a time frame of 1.5 to 24 hours. Exposure to naringenin also inhibited adiponectin protein expression in mature murine and human adipocytes. Our studies have revealed that naringenin may have a negative impact on adipocyte-related diseases by limiting differentiation of preadipocytes, by significantly inducing insulin resistance, and by decreasing adiponectin expression in mature fat cells.</text>\n",
      "  <annotation id=\"33\">\n",
      "    <infon key=\"identifier\">3630</infon>\n",
      "    <infon key=\"type\">Gene</infon>\n",
      "    <infon key=\"NCBI Homologene\">173</infon>\n",
      "    <location offset=\"1070\" length=\"7\"/>\n",
      "    <text>insulin</text>\n",
      "  </annotation>\n",
      "  <annotation id=\"34\">\n",
      "    <infon key=\"identifier\">16367</infon>\n",
      "    <infon key=\"type\">Gene</infon>\n",
      "    <infon key=\"NCBI Homologene\">4049</infon>\n",
      "    <location offset=\"1088\" length=\"5\"/>\n",
      "    <text>IRS-1</text>\n",
      "  </annotation>\n",
      "  <annotation id=\"35\">\n",
      "    <infon key=\"identifier\">11450</infon>\n",
      "    <infon key=\"type\">Gene</infon>\n",
      "    <infon key=\"NCBI Homologene\">3525</infon>\n",
      "    <location offset=\"1288\" length=\"11\"/>\n",
      "    <text>adiponectin</text>\n",
      "  </annotation>\n",
      "  <annotation id=\"36\">\n",
      "    <infon key=\"identifier\">11450</infon>\n",
      "    <infon key=\"type\">Gene</infon>\n",
      "    <infon key=\"NCBI Homologene\">3525</infon>\n",
      "    <location offset=\"1567\" length=\"11\"/>\n",
      "    <text>adiponectin</text>\n",
      "  </annotation>\n",
      "  <annotation id=\"37\">\n",
      "    <infon key=\"identifier\">3630</infon>\n",
      "    <infon key=\"type\">Gene</infon>\n",
      "    <infon key=\"NCBI Homologene\">173</infon>\n",
      "    <location offset=\"1147\" length=\"7\"/>\n",
      "    <text>insulin</text>\n",
      "  </annotation>\n",
      "  <annotation id=\"38\">\n",
      "    <infon key=\"identifier\">3630</infon>\n",
      "    <infon key=\"type\">Gene</infon>\n",
      "    <infon key=\"NCBI Homologene\">173</infon>\n",
      "    <location offset=\"1529\" length=\"7\"/>\n",
      "    <text>insulin</text>\n",
      "  </annotation>\n",
      "  <annotation id=\"39\">\n",
      "    <infon key=\"identifier\">230796</infon>\n",
      "    <infon key=\"type\">Gene</infon>\n",
      "    <infon key=\"NCBI Homologene\">8997</infon>\n",
      "    <location offset=\"281\" length=\"7\"/>\n",
      "    <text>adipose</text>\n",
      "  </annotation>\n",
      "  <annotation id=\"40\">\n",
      "    <infon key=\"identifier\">230796</infon>\n",
      "    <infon key=\"type\">Gene</infon>\n",
      "    <infon key=\"NCBI Homologene\">8997</infon>\n",
      "    <location offset=\"106\" length=\"7\"/>\n",
      "    <text>Adipose</text>\n",
      "  </annotation>\n",
      "  <annotation id=\"41\">\n",
      "    <infon key=\"identifier\">10090</infon>\n",
      "    <infon key=\"type\">Species</infon>\n",
      "    <location offset=\"1329\" length=\"6\"/>\n",
      "    <text>murine</text>\n",
      "  </annotation>\n",
      "  <annotation id=\"42\">\n",
      "    <infon key=\"identifier\">9606</infon>\n",
      "    <infon key=\"type\">Species</infon>\n",
      "    <location offset=\"1340\" length=\"5\"/>\n",
      "    <text>human</text>\n",
      "  </annotation>\n",
      "  <annotation id=\"43\">\n",
      "    <infon key=\"identifier\">MESH:D009765</infon>\n",
      "    <infon key=\"type\">Disease</infon>\n",
      "    <location offset=\"201\" length=\"7\"/>\n",
      "    <text>obesity</text>\n",
      "  </annotation>\n",
      "  <annotation id=\"44\">\n",
      "    <infon key=\"identifier\">MESH:D005419</infon>\n",
      "    <infon key=\"type\">Chemical</infon>\n",
      "    <location offset=\"556\" length=\"10\"/>\n",
      "    <text>flavonoids</text>\n",
      "  </annotation>\n",
      "  <annotation id=\"45\">\n",
      "    <infon key=\"identifier\">MESH:D008055</infon>\n",
      "    <infon key=\"type\">Chemical</infon>\n",
      "    <location offset=\"321\" length=\"5\"/>\n",
      "    <text>lipid</text>\n",
      "  </annotation>\n",
      "  <annotation id=\"46\">\n",
      "    <infon key=\"identifier\">MESH:D005947</infon>\n",
      "    <infon key=\"type\">Chemical</infon>\n",
      "    <location offset=\"1166\" length=\"7\"/>\n",
      "    <text>glucose</text>\n",
      "  </annotation>\n",
      "  <annotation id=\"47\">\n",
      "    <infon key=\"identifier\">MESH:C005273</infon>\n",
      "    <infon key=\"type\">Chemical</infon>\n",
      "    <location offset=\"453\" length=\"10\"/>\n",
      "    <text>naringenin</text>\n",
      "  </annotation>\n",
      "  <annotation id=\"48\">\n",
      "    <infon key=\"identifier\">MESH:D014443</infon>\n",
      "    <infon key=\"type\">Chemical</infon>\n",
      "    <location offset=\"1094\" length=\"8\"/>\n",
      "    <text>tyrosine</text>\n",
      "  </annotation>\n",
      "  <annotation id=\"49\">\n",
      "    <infon key=\"identifier\">MESH:D008659</infon>\n",
      "    <infon key=\"type\">Disease</infon>\n",
      "    <location offset=\"217\" length=\"18\"/>\n",
      "    <text>metabolic syndrome</text>\n",
      "  </annotation>\n",
      "  <annotation id=\"50\">\n",
      "    <infon key=\"identifier\">MESH:C005273</infon>\n",
      "    <infon key=\"type\">Chemical</infon>\n",
      "    <location offset=\"1262\" length=\"10\"/>\n",
      "    <text>naringenin</text>\n",
      "  </annotation>\n",
      "  <annotation id=\"51\">\n",
      "    <infon key=\"identifier\">MESH:D008055</infon>\n",
      "    <infon key=\"type\">Chemical</infon>\n",
      "    <location offset=\"934\" length=\"5\"/>\n",
      "    <text>lipid</text>\n",
      "  </annotation>\n",
      "  <annotation id=\"52\">\n",
      "    <infon key=\"identifier\">MESH:C005273</infon>\n",
      "    <infon key=\"type\">Chemical</infon>\n",
      "    <location offset=\"1389\" length=\"10\"/>\n",
      "    <text>naringenin</text>\n",
      "  </annotation>\n",
      "  <annotation id=\"53\">\n",
      "    <infon key=\"identifier\">MESH:C005273</infon>\n",
      "    <infon key=\"type\">Chemical</infon>\n",
      "    <location offset=\"836\" length=\"10\"/>\n",
      "    <text>Naringenin</text>\n",
      "  </annotation>\n",
      "  <annotation id=\"54\">\n",
      "    <infon key=\"identifier\">MESH:D009765</infon>\n",
      "    <infon key=\"type\">Disease</infon>\n",
      "    <location offset=\"355\" length=\"5\"/>\n",
      "    <text>obese</text>\n",
      "  </annotation>\n",
      "  <annotation id=\"55\">\n",
      "    <infon key=\"identifier\">MESH:C005273</infon>\n",
      "    <infon key=\"type\">Chemical</infon>\n",
      "    <location offset=\"691\" length=\"10\"/>\n",
      "    <text>naringenin</text>\n",
      "  </annotation>\n",
      "  <annotation id=\"56\">\n",
      "    <infon key=\"identifier\">MESH:D008659</infon>\n",
      "    <infon key=\"type\">Disease</infon>\n",
      "    <location offset=\"379\" length=\"21\"/>\n",
      "    <text>metabolic dysfunction</text>\n",
      "  </annotation>\n",
      "  <annotation id=\"57\">\n",
      "    <infon key=\"identifier\">MESH:C005273</infon>\n",
      "    <infon key=\"type\">Chemical</infon>\n",
      "    <location offset=\"765\" length=\"10\"/>\n",
      "    <text>naringenin</text>\n",
      "  </annotation>\n",
      "  <annotation id=\"58\">\n",
      "    <infon key=\"identifier\">MESH:C005273</infon>\n",
      "    <infon key=\"type\">Chemical</infon>\n",
      "    <location offset=\"1036\" length=\"10\"/>\n",
      "    <text>naringenin</text>\n",
      "  </annotation>\n",
      "  <annotation id=\"59\">\n",
      "    <infon key=\"identifier\">MESH:C005273</infon>\n",
      "    <infon key=\"type\">Chemical</infon>\n",
      "    <location offset=\"510\" length=\"10\"/>\n",
      "    <text>Naringenin</text>\n",
      "  </annotation>\n",
      "</passage>\n",
      "\n"
     ]
    }
   ],
   "source": [
    "for batch_directory in pubtator_abstract_batch:\n",
    "    for doc_obj in PubtatorTarIterator(batch_directory, return_ibatch_file=False):\n",
    "        passages = doc_obj.xpath(\"//passage\")\n",
    "        lxml_str = ET.tostring(passages[1], pretty_print=True)\n",
    "        print(lxml_str.decode(\"utf-8\"))\n",
    "        break\n",
    "    break"
   ]
  },
  {
   "cell_type": "markdown",
   "metadata": {},
   "source": [
    "# Grab Document Metadata"
   ]
  },
  {
   "cell_type": "code",
   "execution_count": 4,
   "metadata": {
    "ExecuteTime": {
     "end_time": "2021-12-06T23:43:37.382383Z",
     "start_time": "2021-12-06T18:28:34.440832Z"
    },
    "lines_to_next_cell": 2,
    "scrolled": false
   },
   "outputs": [
    {
     "name": "stderr",
     "output_type": "stream",
     "text": [
      "3633384it [34:00, 1780.81it/s]\n",
      "3635577it [33:20, 1817.15it/s]\n",
      "3632470it [34:05, 1775.82it/s]\n",
      "3634994it [32:35, 1858.40it/s]\n",
      "3635308it [33:56, 1785.17it/s]\n",
      "3634149it [32:51, 1843.17it/s]\n",
      "3633648it [32:43, 1850.21it/s]\n",
      "3632841it [32:24, 1868.17it/s]\n",
      "249882it [15:38, 266.17it/s]\n",
      "3635430it [33:24, 1813.51it/s]\n"
     ]
    }
   ],
   "source": [
    "if not Path(\"output/pmc_metadata_full.tsv.xz\").exists():\n",
    "    with lzma.open(\"output/pmc_metadata_full.tsv.xz\", \"wt\") as outfile:\n",
    "        writer = csv.DictWriter(\n",
    "            outfile,\n",
    "            fieldnames=[\n",
    "                \"batch_folder\",\n",
    "                \"batch_file\",\n",
    "                \"doc_id\",\n",
    "                \"doi\",\n",
    "                \"pmc\",\n",
    "                \"pmid\",\n",
    "                \"section\",\n",
    "                \"published_year\",\n",
    "            ],\n",
    "            delimiter=\"\\t\",\n",
    "        )\n",
    "        writer.writeheader()\n",
    "\n",
    "        # Cycle through each batch file\n",
    "        for batch_directory in pubtator_abstract_batch:\n",
    "\n",
    "            # Cycle through each document\n",
    "            for file_name, doc_obj in tqdm.tqdm(\n",
    "                PubtatorTarIterator(batch_directory, return_ibatch_file=True)\n",
    "            ):\n",
    "                doc_id = doc_obj.xpath(\"id/text()\")\n",
    "                doi = doc_obj.xpath(\"passage/infon[@key='article-id_doi']/text()\")\n",
    "                pmc_id = doc_obj.xpath(\"passage/infon[@key='article-id_pmc']/text()\")\n",
    "                pmid = doc_obj.xpath(\"passage/infon[@key='article-id_pmid']/text()\")\n",
    "                sections = doc_obj.xpath(\"passage/infon[@key='section_type']/text()\")\n",
    "                section_type = doc_obj.xpath(\"passage/infon[@key='type']/text()\")\n",
    "                year = doc_obj.xpath(\"passage/infon[@key='year']/text()\")\n",
    "\n",
    "                section_headers = \"|\".join(sorted(list(set(sections))))\n",
    "                section_headers_type = \"|\".join(\n",
    "                    sorted(list(set(map(lambda x: x.upper(), section_type))))\n",
    "                )\n",
    "\n",
    "                writer.writerow(\n",
    "                    {\n",
    "                        \"batch_folder\": batch_directory.name,\n",
    "                        \"batch_file\": file_name,\n",
    "                        \"doc_id\": doc_id[0],\n",
    "                        \"doi\": doi[0] if len(doi) > 0 else \"\",\n",
    "                        \"pmc\": pmc_id[0] if len(pmc_id) > 0 else \"\",\n",
    "                        \"pmid\": pmid[0] if len(pmid) > 0 else \"\",\n",
    "                        \"section\": section_headers\n",
    "                        if len(section_headers) > 0\n",
    "                        else section_headers_type,\n",
    "                        \"published_year\": year[0]\n",
    "                        if len(year) > 0\n",
    "                        else 0,  # Shouldnt get to the else statement\n",
    "                    }\n",
    "                )"
   ]
  },
  {
   "cell_type": "markdown",
   "metadata": {},
   "source": [
    "# Analyze Abstract/Full Text Dataset"
   ]
  },
  {
   "cell_type": "code",
   "execution_count": 5,
   "metadata": {
    "ExecuteTime": {
     "end_time": "2021-12-06T23:49:11.471980Z",
     "start_time": "2021-12-06T23:48:33.409559Z"
    }
   },
   "outputs": [
    {
     "name": "stderr",
     "output_type": "stream",
     "text": [
      "/home/danich1/anaconda3/envs/biovectors/lib/python3.7/site-packages/IPython/core/interactiveshell.py:3156: DtypeWarning: Columns (4) have mixed types.Specify dtype option on import or set low_memory=False.\n"
     ]
    },
    {
     "name": "stdout",
     "output_type": "stream",
     "text": [
      "(32957683, 8)\n"
     ]
    },
    {
     "data": {
      "text/html": [
       "<div>\n",
       "<style scoped>\n",
       "    .dataframe tbody tr th:only-of-type {\n",
       "        vertical-align: middle;\n",
       "    }\n",
       "\n",
       "    .dataframe tbody tr th {\n",
       "        vertical-align: top;\n",
       "    }\n",
       "\n",
       "    .dataframe thead th {\n",
       "        text-align: right;\n",
       "    }\n",
       "</style>\n",
       "<table border=\"1\" class=\"dataframe\">\n",
       "  <thead>\n",
       "    <tr style=\"text-align: right;\">\n",
       "      <th></th>\n",
       "      <th>batch_folder</th>\n",
       "      <th>batch_file</th>\n",
       "      <th>doc_id</th>\n",
       "      <th>doi</th>\n",
       "      <th>pmc</th>\n",
       "      <th>pmid</th>\n",
       "      <th>section</th>\n",
       "      <th>published_year</th>\n",
       "    </tr>\n",
       "  </thead>\n",
       "  <tbody>\n",
       "    <tr>\n",
       "      <th>0</th>\n",
       "      <td>BioCXML.3.gz</td>\n",
       "      <td>output/BioCXML/10003.bioc.xml</td>\n",
       "      <td>3745873</td>\n",
       "      <td>10.1155/2013/549750</td>\n",
       "      <td>3745873</td>\n",
       "      <td>23983791.0</td>\n",
       "      <td>ABSTRACT|CONCL|DISCUSS|FIG|INTRO|METHODS|REF|R...</td>\n",
       "      <td>2013</td>\n",
       "    </tr>\n",
       "    <tr>\n",
       "      <th>1</th>\n",
       "      <td>BioCXML.3.gz</td>\n",
       "      <td>output/BioCXML/10003.bioc.xml</td>\n",
       "      <td>3745882</td>\n",
       "      <td>10.1155/2013/208797</td>\n",
       "      <td>3745882</td>\n",
       "      <td>23983702.0</td>\n",
       "      <td>ABSTRACT|CASE|DISCUSS|REF|TABLE|TITLE</td>\n",
       "      <td>2013</td>\n",
       "    </tr>\n",
       "    <tr>\n",
       "      <th>2</th>\n",
       "      <td>BioCXML.3.gz</td>\n",
       "      <td>output/BioCXML/10003.bioc.xml</td>\n",
       "      <td>3745886</td>\n",
       "      <td>10.1155/2013/586741</td>\n",
       "      <td>3745886</td>\n",
       "      <td>23983792.0</td>\n",
       "      <td>ABSTRACT|DISCUSS|FIG|INTRO|METHODS|REF|RESULTS...</td>\n",
       "      <td>2013</td>\n",
       "    </tr>\n",
       "    <tr>\n",
       "      <th>3</th>\n",
       "      <td>BioCXML.3.gz</td>\n",
       "      <td>output/BioCXML/10003.bioc.xml</td>\n",
       "      <td>3745887</td>\n",
       "      <td>10.1155/2013/479698</td>\n",
       "      <td>3745887</td>\n",
       "      <td>23984132.0</td>\n",
       "      <td>ABSTRACT|CASE|DISCUSS|FIG|INTRO|REF|TITLE</td>\n",
       "      <td>2013</td>\n",
       "    </tr>\n",
       "    <tr>\n",
       "      <th>4</th>\n",
       "      <td>BioCXML.3.gz</td>\n",
       "      <td>output/BioCXML/10003.bioc.xml</td>\n",
       "      <td>3745889</td>\n",
       "      <td>10.1155/2013/354276</td>\n",
       "      <td>3745889</td>\n",
       "      <td>23984352.0</td>\n",
       "      <td>ABSTRACT|CONCL|DISCUSS|FIG|INTRO|METHODS|REF|R...</td>\n",
       "      <td>2013</td>\n",
       "    </tr>\n",
       "  </tbody>\n",
       "</table>\n",
       "</div>"
      ],
      "text/plain": [
       "   batch_folder                     batch_file   doc_id                  doi  \\\n",
       "0  BioCXML.3.gz  output/BioCXML/10003.bioc.xml  3745873  10.1155/2013/549750   \n",
       "1  BioCXML.3.gz  output/BioCXML/10003.bioc.xml  3745882  10.1155/2013/208797   \n",
       "2  BioCXML.3.gz  output/BioCXML/10003.bioc.xml  3745886  10.1155/2013/586741   \n",
       "3  BioCXML.3.gz  output/BioCXML/10003.bioc.xml  3745887  10.1155/2013/479698   \n",
       "4  BioCXML.3.gz  output/BioCXML/10003.bioc.xml  3745889  10.1155/2013/354276   \n",
       "\n",
       "       pmc        pmid                                            section  \\\n",
       "0  3745873  23983791.0  ABSTRACT|CONCL|DISCUSS|FIG|INTRO|METHODS|REF|R...   \n",
       "1  3745882  23983702.0              ABSTRACT|CASE|DISCUSS|REF|TABLE|TITLE   \n",
       "2  3745886  23983792.0  ABSTRACT|DISCUSS|FIG|INTRO|METHODS|REF|RESULTS...   \n",
       "3  3745887  23984132.0          ABSTRACT|CASE|DISCUSS|FIG|INTRO|REF|TITLE   \n",
       "4  3745889  23984352.0  ABSTRACT|CONCL|DISCUSS|FIG|INTRO|METHODS|REF|R...   \n",
       "\n",
       "   published_year  \n",
       "0            2013  \n",
       "1            2013  \n",
       "2            2013  \n",
       "3            2013  \n",
       "4            2013  "
      ]
     },
     "execution_count": 5,
     "metadata": {},
     "output_type": "execute_result"
    }
   ],
   "source": [
    "pubtator_central_metadata_df = pd.read_csv(\"output/pmc_metadata_full.tsv.xz\", sep=\"\\t\")\n",
    "print(pubtator_central_metadata_df.shape)\n",
    "pubtator_central_metadata_df.head()"
   ]
  },
  {
   "cell_type": "markdown",
   "metadata": {},
   "source": [
    "## Sanity Check the data"
   ]
  },
  {
   "cell_type": "code",
   "execution_count": 6,
   "metadata": {
    "ExecuteTime": {
     "end_time": "2021-05-26T15:12:23.580190Z",
     "start_time": "2021-05-26T15:12:23.419177Z"
    }
   },
   "outputs": [
    {
     "data": {
      "text/plain": [
       "(0, 8)"
      ]
     },
     "execution_count": 6,
     "metadata": {},
     "output_type": "execute_result"
    }
   ],
   "source": [
    "# Sanity check that all documents have a published year\n",
    "(pubtator_central_metadata_df.query(\"published_year.isnull()\").shape)"
   ]
  },
  {
   "cell_type": "code",
   "execution_count": 7,
   "metadata": {
    "ExecuteTime": {
     "end_time": "2021-05-26T15:12:23.646342Z",
     "start_time": "2021-05-26T15:12:23.581619Z"
    }
   },
   "outputs": [
    {
     "data": {
      "text/plain": [
       "(0, 8)"
      ]
     },
     "execution_count": 7,
     "metadata": {},
     "output_type": "execute_result"
    }
   ],
   "source": [
    "# Do all documents have an id?\n",
    "(pubtator_central_metadata_df.query(\"doc_id.isnull()\").shape)"
   ]
  },
  {
   "cell_type": "code",
   "execution_count": 8,
   "metadata": {
    "ExecuteTime": {
     "end_time": "2021-05-26T15:12:25.472012Z",
     "start_time": "2021-05-26T15:12:23.647580Z"
    }
   },
   "outputs": [
    {
     "data": {
      "text/plain": [
       "(27244927, 8)"
      ]
     },
     "execution_count": 8,
     "metadata": {},
     "output_type": "execute_result"
    }
   ],
   "source": [
    "# Do all documents have a pmid?\n",
    "(pubtator_central_metadata_df.query(\"pmid.isnull()\").shape)"
   ]
  },
  {
   "cell_type": "code",
   "execution_count": 9,
   "metadata": {
    "ExecuteTime": {
     "end_time": "2021-05-26T15:12:27.764091Z",
     "start_time": "2021-05-26T15:12:25.474385Z"
    }
   },
   "outputs": [
    {
     "data": {
      "text/plain": [
       "(24449017, 8)"
      ]
     },
     "execution_count": 9,
     "metadata": {},
     "output_type": "execute_result"
    }
   ],
   "source": [
    "# Do all documents have a pmc id?\n",
    "(pubtator_central_metadata_df.query(\"pmc.isnull()\").shape)"
   ]
  },
  {
   "cell_type": "code",
   "execution_count": 10,
   "metadata": {
    "ExecuteTime": {
     "end_time": "2021-05-26T15:12:30.236116Z",
     "start_time": "2021-05-26T15:12:27.765600Z"
    }
   },
   "outputs": [
    {
     "data": {
      "text/plain": [
       "(27517661, 8)"
      ]
     },
     "execution_count": 10,
     "metadata": {},
     "output_type": "execute_result"
    }
   ],
   "source": [
    "# Do all documents have a doi?\n",
    "(pubtator_central_metadata_df.query(\"doi.isnull()\").shape)"
   ]
  },
  {
   "cell_type": "markdown",
   "metadata": {},
   "source": [
    "## Published Year Distribution"
   ]
  },
  {
   "cell_type": "code",
   "execution_count": 11,
   "metadata": {
    "ExecuteTime": {
     "end_time": "2021-05-26T15:12:34.112607Z",
     "start_time": "2021-05-26T15:12:30.237375Z"
    },
    "scrolled": false
   },
   "outputs": [
    {
     "data": {
      "text/plain": [
       "array([   0, 1781, 1782, 1783, 1784, 1785, 1786, 1787, 1788, 1789, 1790,\n",
       "       1791, 1792, 1793, 1794, 1795, 1796, 1797, 1798, 1799, 1800, 1801,\n",
       "       1802, 1803, 1804, 1805, 1806, 1807, 1808, 1809, 1810, 1811, 1812,\n",
       "       1813, 1814, 1815, 1816, 1817, 1818, 1819, 1820, 1821, 1822, 1823,\n",
       "       1824, 1825, 1826, 1827, 1828, 1829, 1830, 1831, 1832, 1833, 1834,\n",
       "       1835, 1836, 1837, 1838, 1839, 1840, 1841, 1842, 1843, 1844, 1845,\n",
       "       1846, 1847, 1848, 1849, 1850, 1851, 1852, 1853, 1854, 1855, 1856,\n",
       "       1857, 1858, 1859, 1860, 1861, 1862, 1863, 1864, 1865, 1866, 1867,\n",
       "       1868, 1869, 1870, 1871, 1872, 1873, 1874, 1875, 1876, 1877, 1878,\n",
       "       1879, 1880, 1881, 1882, 1883, 1884, 1885, 1886, 1887, 1888, 1889,\n",
       "       1890, 1891, 1892, 1893, 1894, 1895, 1896, 1897, 1898, 1899, 1900,\n",
       "       1901, 1902, 1903, 1904, 1905, 1906, 1907, 1908, 1909, 1910, 1911,\n",
       "       1912, 1913, 1914, 1915, 1916, 1917, 1918, 1919, 1920, 1921, 1922,\n",
       "       1923, 1924, 1925, 1926, 1927, 1928, 1929, 1930, 1931, 1932, 1933,\n",
       "       1934, 1935, 1936, 1937, 1938, 1939, 1940, 1941, 1942, 1943, 1944,\n",
       "       1945, 1946, 1947, 1948, 1949, 1950, 1951, 1952, 1953, 1954, 1955,\n",
       "       1956, 1957, 1958, 1959, 1960, 1961, 1962, 1963, 1964, 1965, 1966,\n",
       "       1967, 1968, 1969, 1970, 1971, 1972, 1973, 1974, 1975, 1976, 1977,\n",
       "       1978, 1979, 1980, 1981, 1982, 1983, 1984, 1985, 1986, 1987, 1988,\n",
       "       1989, 1990, 1991, 1992, 1993, 1994, 1995, 1996, 1997, 1998, 1999,\n",
       "       2000, 2001, 2002, 2003, 2004, 2005, 2006, 2007, 2008, 2009, 2010,\n",
       "       2011, 2012, 2013, 2014, 2015, 2016, 2017, 2018, 2019, 2020, 2021])"
      ]
     },
     "execution_count": 11,
     "metadata": {},
     "output_type": "execute_result"
    }
   ],
   "source": [
    "(pubtator_central_metadata_df.sort_values(\"published_year\").published_year.unique())"
   ]
  },
  {
   "cell_type": "code",
   "execution_count": 12,
   "metadata": {
    "ExecuteTime": {
     "end_time": "2021-05-26T15:12:34.476210Z",
     "start_time": "2021-05-26T15:12:34.114218Z"
    }
   },
   "outputs": [
    {
     "data": {
      "text/html": [
       "<div>\n",
       "<style scoped>\n",
       "    .dataframe tbody tr th:only-of-type {\n",
       "        vertical-align: middle;\n",
       "    }\n",
       "\n",
       "    .dataframe tbody tr th {\n",
       "        vertical-align: top;\n",
       "    }\n",
       "\n",
       "    .dataframe thead th {\n",
       "        text-align: right;\n",
       "    }\n",
       "</style>\n",
       "<table border=\"1\" class=\"dataframe\">\n",
       "  <thead>\n",
       "    <tr style=\"text-align: right;\">\n",
       "      <th></th>\n",
       "      <th>published_year</th>\n",
       "      <th>doc_count</th>\n",
       "    </tr>\n",
       "  </thead>\n",
       "  <tbody>\n",
       "    <tr>\n",
       "      <th>0</th>\n",
       "      <td>0</td>\n",
       "      <td>43010</td>\n",
       "    </tr>\n",
       "    <tr>\n",
       "      <th>1</th>\n",
       "      <td>1781</td>\n",
       "      <td>68</td>\n",
       "    </tr>\n",
       "    <tr>\n",
       "      <th>2</th>\n",
       "      <td>1782</td>\n",
       "      <td>22</td>\n",
       "    </tr>\n",
       "    <tr>\n",
       "      <th>3</th>\n",
       "      <td>1783</td>\n",
       "      <td>26</td>\n",
       "    </tr>\n",
       "    <tr>\n",
       "      <th>4</th>\n",
       "      <td>1784</td>\n",
       "      <td>31</td>\n",
       "    </tr>\n",
       "  </tbody>\n",
       "</table>\n",
       "</div>"
      ],
      "text/plain": [
       "   published_year  doc_count\n",
       "0               0      43010\n",
       "1            1781         68\n",
       "2            1782         22\n",
       "3            1783         26\n",
       "4            1784         31"
      ]
     },
     "execution_count": 12,
     "metadata": {},
     "output_type": "execute_result"
    }
   ],
   "source": [
    "doc_count_df = (\n",
    "    pubtator_central_metadata_df.groupby(\"published_year\")\n",
    "    .agg({\"published_year\": \"size\"})\n",
    "    .rename(index=str, columns={\"published_year\": \"doc_count\"})\n",
    "    .reset_index()\n",
    "    .astype({\"published_year\": int, \"doc_count\": int})\n",
    ")\n",
    "doc_count_df.head()"
   ]
  },
  {
   "cell_type": "code",
   "execution_count": 13,
   "metadata": {
    "ExecuteTime": {
     "end_time": "2021-05-26T15:12:35.577580Z",
     "start_time": "2021-05-26T15:12:34.479115Z"
    }
   },
   "outputs": [
    {
     "name": "stderr",
     "output_type": "stream",
     "text": [
      "/home/danich1/anaconda3/envs/biovectors/lib/python3.7/site-packages/plotnine/ggplot.py:729: PlotnineWarning: Saving 6.4 x 4.8 in image.\n",
      "/home/danich1/anaconda3/envs/biovectors/lib/python3.7/site-packages/plotnine/ggplot.py:730: PlotnineWarning: Filename: output/figures/pre_1950_doc_count.png\n"
     ]
    },
    {
     "data": {
      "image/png": "[encoded data removed]",
      "text/plain": [
       "<Figure size 640x480 with 1 Axes>"
      ]
     },
     "metadata": {},
     "output_type": "display_data"
    },
    {
     "name": "stdout",
     "output_type": "stream",
     "text": [
      "<ggplot: (-9223363278789655608)>\n"
     ]
    }
   ],
   "source": [
    "g = (\n",
    "    p9.ggplot(\n",
    "        doc_count_df.query(\"published_year > 0& published_year < 1950\"),\n",
    "        p9.aes(x=\"published_year\", y=\"doc_count\"),\n",
    "    )\n",
    "    + p9.geom_col(position=p9.position_dodge(width=0.9), fill=\"#1f78b4\")\n",
    "    + p9.labs(\n",
    "        title=\"Number of Documents Pre 1950\", x=\"Publication Year\", y=\"Document Count\"\n",
    "    )\n",
    ")\n",
    "g.save(\"output/figures/pre_1950_doc_count.png\", dpi=500)\n",
    "print(g)"
   ]
  },
  {
   "cell_type": "code",
   "execution_count": 14,
   "metadata": {
    "ExecuteTime": {
     "end_time": "2021-05-26T15:12:36.418578Z",
     "start_time": "2021-05-26T15:12:35.579405Z"
    }
   },
   "outputs": [
    {
     "name": "stderr",
     "output_type": "stream",
     "text": [
      "/home/danich1/anaconda3/envs/biovectors/lib/python3.7/site-packages/plotnine/ggplot.py:729: PlotnineWarning: Saving 6.4 x 4.8 in image.\n",
      "/home/danich1/anaconda3/envs/biovectors/lib/python3.7/site-packages/plotnine/ggplot.py:730: PlotnineWarning: Filename: output/figures/post_1950_doc_count.png\n"
     ]
    },
    {
     "data": {
      "image/png": "[encoded data removed]",
      "text/plain": [
       "<Figure size 640x480 with 1 Axes>"
      ]
     },
     "metadata": {},
     "output_type": "display_data"
    },
    {
     "name": "stdout",
     "output_type": "stream",
     "text": [
      "<ggplot: (-9223363278789786301)>\n"
     ]
    }
   ],
   "source": [
    "g = (\n",
    "    p9.ggplot(\n",
    "        doc_count_df.query(\"published_year >= 1950\"),\n",
    "        p9.aes(x=\"published_year\", y=\"doc_count\"),\n",
    "    )\n",
    "    + p9.geom_col(position=p9.position_dodge(width=0.9), fill=\"#1f78b4\")\n",
    "    + p9.labs(\n",
    "        title=\"Number of Documents Post 1950\", x=\"Publication Year\", y=\"Document Count\"\n",
    "    )\n",
    ")\n",
    "g.save(\"output/figures/post_1950_doc_count.png\", dpi=500)\n",
    "print(g)"
   ]
  },
  {
   "cell_type": "code",
   "execution_count": 15,
   "metadata": {
    "ExecuteTime": {
     "end_time": "2021-05-26T15:17:19.827680Z",
     "start_time": "2021-05-26T15:12:36.419997Z"
    }
   },
   "outputs": [
    {
     "data": {
      "text/html": [
       "<div>\n",
       "<style scoped>\n",
       "    .dataframe tbody tr th:only-of-type {\n",
       "        vertical-align: middle;\n",
       "    }\n",
       "\n",
       "    .dataframe tbody tr th {\n",
       "        vertical-align: top;\n",
       "    }\n",
       "\n",
       "    .dataframe thead th {\n",
       "        text-align: right;\n",
       "    }\n",
       "</style>\n",
       "<table border=\"1\" class=\"dataframe\">\n",
       "  <thead>\n",
       "    <tr style=\"text-align: right;\">\n",
       "      <th></th>\n",
       "      <th>published_year</th>\n",
       "      <th>doc_count</th>\n",
       "    </tr>\n",
       "  </thead>\n",
       "  <tbody>\n",
       "    <tr>\n",
       "      <th>0</th>\n",
       "      <td>1955</td>\n",
       "      <td>1</td>\n",
       "    </tr>\n",
       "    <tr>\n",
       "      <th>1</th>\n",
       "      <td>1956</td>\n",
       "      <td>1</td>\n",
       "    </tr>\n",
       "    <tr>\n",
       "      <th>2</th>\n",
       "      <td>1959</td>\n",
       "      <td>23</td>\n",
       "    </tr>\n",
       "    <tr>\n",
       "      <th>3</th>\n",
       "      <td>1960</td>\n",
       "      <td>55</td>\n",
       "    </tr>\n",
       "    <tr>\n",
       "      <th>4</th>\n",
       "      <td>1961</td>\n",
       "      <td>55</td>\n",
       "    </tr>\n",
       "  </tbody>\n",
       "</table>\n",
       "</div>"
      ],
      "text/plain": [
       "   published_year  doc_count\n",
       "0            1955          1\n",
       "1            1956          1\n",
       "2            1959         23\n",
       "3            1960         55\n",
       "4            1961         55"
      ]
     },
     "execution_count": 15,
     "metadata": {},
     "output_type": "execute_result"
    }
   ],
   "source": [
    "full_text_doc_count_df = (\n",
    "    pubtator_central_metadata_df[\n",
    "        pubtator_central_metadata_df.apply(lambda x: \"INTRO\" in x.section, axis=1)\n",
    "    ]\n",
    "    .groupby(\"published_year\")\n",
    "    .agg({\"published_year\": \"size\"})\n",
    "    .rename(index=str, columns={\"published_year\": \"doc_count\"})\n",
    "    .reset_index()\n",
    "    .astype({\"published_year\": int, \"doc_count\": int})\n",
    ")\n",
    "full_text_doc_count_df.head()"
   ]
  },
  {
   "cell_type": "code",
   "execution_count": 16,
   "metadata": {
    "ExecuteTime": {
     "end_time": "2021-05-26T15:17:20.699927Z",
     "start_time": "2021-05-26T15:17:19.829237Z"
    }
   },
   "outputs": [
    {
     "name": "stderr",
     "output_type": "stream",
     "text": [
      "/home/danich1/anaconda3/envs/biovectors/lib/python3.7/site-packages/plotnine/ggplot.py:729: PlotnineWarning: Saving 6.4 x 4.8 in image.\n",
      "/home/danich1/anaconda3/envs/biovectors/lib/python3.7/site-packages/plotnine/ggplot.py:730: PlotnineWarning: Filename: output/figures/pre_2000_full_text_doc_count.png\n"
     ]
    },
    {
     "data": {
      "image/png": "[encoded data removed]",
      "text/plain": [
       "<Figure size 640x480 with 1 Axes>"
      ]
     },
     "metadata": {},
     "output_type": "display_data"
    },
    {
     "name": "stdout",
     "output_type": "stream",
     "text": [
      "<ggplot: (-9223363278782533190)>\n"
     ]
    }
   ],
   "source": [
    "g = (\n",
    "    p9.ggplot(\n",
    "        full_text_doc_count_df.query(\"published_year > 0& published_year < 2000\"),\n",
    "        p9.aes(x=\"published_year\", y=\"doc_count\"),\n",
    "    )\n",
    "    + p9.geom_col(position=p9.position_dodge(width=0.9), fill=\"#1f78b4\")\n",
    "    + p9.labs(\n",
    "        title=\"Number of Full Text Documents Pre 2000\",\n",
    "        x=\"Publication Year\",\n",
    "        y=\"Document Count\",\n",
    "    )\n",
    ")\n",
    "g.save(\"output/figures/pre_2000_full_text_doc_count.png\", dpi=500)\n",
    "print(g)"
   ]
  },
  {
   "cell_type": "code",
   "execution_count": 17,
   "metadata": {
    "ExecuteTime": {
     "end_time": "2021-05-26T15:17:21.525649Z",
     "start_time": "2021-05-26T15:17:20.701424Z"
    }
   },
   "outputs": [
    {
     "name": "stderr",
     "output_type": "stream",
     "text": [
      "/home/danich1/anaconda3/envs/biovectors/lib/python3.7/site-packages/plotnine/ggplot.py:729: PlotnineWarning: Saving 6.4 x 4.8 in image.\n",
      "/home/danich1/anaconda3/envs/biovectors/lib/python3.7/site-packages/plotnine/ggplot.py:730: PlotnineWarning: Filename: output/figures/post_1950_full_text_doc_count.png\n"
     ]
    },
    {
     "data": {
      "image/png": "[encoded data removed]",
      "text/plain": [
       "<Figure size 640x480 with 1 Axes>"
      ]
     },
     "metadata": {},
     "output_type": "display_data"
    },
    {
     "name": "stdout",
     "output_type": "stream",
     "text": [
      "<ggplot: (-9223363278789798428)>\n"
     ]
    }
   ],
   "source": [
    "g = (\n",
    "    p9.ggplot(\n",
    "        full_text_doc_count_df.query(\"published_year >= 2000\"),\n",
    "        p9.aes(x=\"published_year\", y=\"doc_count\"),\n",
    "    )\n",
    "    + p9.geom_col(position=p9.position_dodge(width=0.9), fill=\"#1f78b4\")\n",
    "    + p9.labs(\n",
    "        title=\"Number of Full Text Documents Post 2000\",\n",
    "        x=\"Publication Year\",\n",
    "        y=\"Document Count\",\n",
    "    )\n",
    ")\n",
    "g.save(\"output/figures/post_2000_full_text_doc_count.png\", dpi=500)\n",
    "print(g)"
   ]
  },
  {
   "cell_type": "markdown",
   "metadata": {
    "ExecuteTime": {
     "end_time": "2021-02-25T17:23:28.046940Z",
     "start_time": "2021-02-25T17:23:28.041919Z"
    }
   },
   "source": [
    "# Shared Tokens Across Time - Abstract Only"
   ]
  },
  {
   "cell_type": "code",
   "execution_count": 15,
   "metadata": {
    "ExecuteTime": {
     "end_time": "2021-05-19T23:38:44.930823Z",
     "start_time": "2021-05-19T23:38:44.914978Z"
    }
   },
   "outputs": [],
   "source": [
    "tokens_by_year = defaultdict(Counter)\n",
    "sentence_iterator = PubMedSentencesIterator(\n",
    "    pubtator_abstract_batch,\n",
    "    year_filter=list(range(1990, datetime.now().year + 1, 1)),\n",
    "    return_year=True,\n",
    "    tag_entities=False,\n",
    "    jobs=3,\n",
    ")"
   ]
  },
  {
   "cell_type": "code",
   "execution_count": 16,
   "metadata": {
    "ExecuteTime": {
     "end_time": "2021-05-20T05:04:26.610916Z",
     "start_time": "2021-05-19T23:38:44.931943Z"
    }
   },
   "outputs": [
    {
     "name": "stderr",
     "output_type": "stream",
     "text": [
      "4385560it [1:30:36, 126.82it/s] "
     ]
    },
    {
     "name": "stdout",
     "output_type": "stream",
     "text": [
      "Parsing the archive reached an error. Breaking out the loop\n"
     ]
    },
    {
     "name": "stderr",
     "output_type": "stream",
     "text": [
      "15051965it [5:25:41, 770.25it/s] \n"
     ]
    }
   ],
   "source": [
    "if not Path(\"output/unique_tokens_by_year_replace.pkl\").exists():\n",
    "    for year, sentence in tqdm.tqdm(sentence_iterator):\n",
    "        tokens_by_year[year].update(Counter(sentence))"
   ]
  },
  {
   "cell_type": "code",
   "execution_count": 17,
   "metadata": {
    "ExecuteTime": {
     "end_time": "2021-05-20T05:04:30.011662Z",
     "start_time": "2021-05-20T05:04:26.626560Z"
    }
   },
   "outputs": [],
   "source": [
    "if not Path(\"output/unique_tokens_by_year_replace.pkl\").exists():\n",
    "    pickle.dump(tokens_by_year, open(\"output/unique_tokens_by_year_replace.pkl\", \"wb\"))\n",
    "else:\n",
    "    tokens_by_year = pickle.load(open(\"output/unique_tokens_by_year_replace.pkl\", \"rb\"))"
   ]
  },
  {
   "cell_type": "markdown",
   "metadata": {},
   "source": [
    "## Unique Tokens Available per Year"
   ]
  },
  {
   "cell_type": "code",
   "execution_count": 18,
   "metadata": {
    "ExecuteTime": {
     "end_time": "2021-05-20T05:04:30.028877Z",
     "start_time": "2021-05-20T05:04:30.012804Z"
    }
   },
   "outputs": [],
   "source": [
    "data_rows = []\n",
    "\n",
    "for query_year in tokens_by_year:\n",
    "\n",
    "    data_rows.append(\n",
    "        {\n",
    "            \"year\": query_year,\n",
    "            \"num_tokens\": len(tokens_by_year[query_year]),\n",
    "        }\n",
    "    )"
   ]
  },
  {
   "cell_type": "code",
   "execution_count": 19,
   "metadata": {
    "ExecuteTime": {
     "end_time": "2021-05-20T05:04:30.051988Z",
     "start_time": "2021-05-20T05:04:30.030129Z"
    }
   },
   "outputs": [
    {
     "data": {
      "text/html": [
       "<div>\n",
       "<style scoped>\n",
       "    .dataframe tbody tr th:only-of-type {\n",
       "        vertical-align: middle;\n",
       "    }\n",
       "\n",
       "    .dataframe tbody tr th {\n",
       "        vertical-align: top;\n",
       "    }\n",
       "\n",
       "    .dataframe thead th {\n",
       "        text-align: right;\n",
       "    }\n",
       "</style>\n",
       "<table border=\"1\" class=\"dataframe\">\n",
       "  <thead>\n",
       "    <tr style=\"text-align: right;\">\n",
       "      <th></th>\n",
       "      <th>year</th>\n",
       "      <th>num_tokens</th>\n",
       "    </tr>\n",
       "  </thead>\n",
       "  <tbody>\n",
       "    <tr>\n",
       "      <th>0</th>\n",
       "      <td>2007</td>\n",
       "      <td>119790</td>\n",
       "    </tr>\n",
       "    <tr>\n",
       "      <th>1</th>\n",
       "      <td>2001</td>\n",
       "      <td>42661</td>\n",
       "    </tr>\n",
       "    <tr>\n",
       "      <th>2</th>\n",
       "      <td>2002</td>\n",
       "      <td>46577</td>\n",
       "    </tr>\n",
       "    <tr>\n",
       "      <th>3</th>\n",
       "      <td>1995</td>\n",
       "      <td>30358</td>\n",
       "    </tr>\n",
       "    <tr>\n",
       "      <th>4</th>\n",
       "      <td>2009</td>\n",
       "      <td>283537</td>\n",
       "    </tr>\n",
       "    <tr>\n",
       "      <th>5</th>\n",
       "      <td>2008</td>\n",
       "      <td>201942</td>\n",
       "    </tr>\n",
       "    <tr>\n",
       "      <th>6</th>\n",
       "      <td>2010</td>\n",
       "      <td>327784</td>\n",
       "    </tr>\n",
       "    <tr>\n",
       "      <th>7</th>\n",
       "      <td>2013</td>\n",
       "      <td>466437</td>\n",
       "    </tr>\n",
       "    <tr>\n",
       "      <th>8</th>\n",
       "      <td>2012</td>\n",
       "      <td>418607</td>\n",
       "    </tr>\n",
       "    <tr>\n",
       "      <th>9</th>\n",
       "      <td>2014</td>\n",
       "      <td>530873</td>\n",
       "    </tr>\n",
       "    <tr>\n",
       "      <th>10</th>\n",
       "      <td>2011</td>\n",
       "      <td>376918</td>\n",
       "    </tr>\n",
       "    <tr>\n",
       "      <th>11</th>\n",
       "      <td>2006</td>\n",
       "      <td>93263</td>\n",
       "    </tr>\n",
       "    <tr>\n",
       "      <th>12</th>\n",
       "      <td>1997</td>\n",
       "      <td>32193</td>\n",
       "    </tr>\n",
       "    <tr>\n",
       "      <th>13</th>\n",
       "      <td>1998</td>\n",
       "      <td>33811</td>\n",
       "    </tr>\n",
       "    <tr>\n",
       "      <th>14</th>\n",
       "      <td>2003</td>\n",
       "      <td>46709</td>\n",
       "    </tr>\n",
       "    <tr>\n",
       "      <th>15</th>\n",
       "      <td>2015</td>\n",
       "      <td>579310</td>\n",
       "    </tr>\n",
       "    <tr>\n",
       "      <th>16</th>\n",
       "      <td>2005</td>\n",
       "      <td>75141</td>\n",
       "    </tr>\n",
       "    <tr>\n",
       "      <th>17</th>\n",
       "      <td>2016</td>\n",
       "      <td>618271</td>\n",
       "    </tr>\n",
       "    <tr>\n",
       "      <th>18</th>\n",
       "      <td>1993</td>\n",
       "      <td>28514</td>\n",
       "    </tr>\n",
       "    <tr>\n",
       "      <th>19</th>\n",
       "      <td>2017</td>\n",
       "      <td>668549</td>\n",
       "    </tr>\n",
       "    <tr>\n",
       "      <th>20</th>\n",
       "      <td>1991</td>\n",
       "      <td>26365</td>\n",
       "    </tr>\n",
       "    <tr>\n",
       "      <th>21</th>\n",
       "      <td>2000</td>\n",
       "      <td>36820</td>\n",
       "    </tr>\n",
       "    <tr>\n",
       "      <th>22</th>\n",
       "      <td>2004</td>\n",
       "      <td>57117</td>\n",
       "    </tr>\n",
       "    <tr>\n",
       "      <th>23</th>\n",
       "      <td>1999</td>\n",
       "      <td>34170</td>\n",
       "    </tr>\n",
       "    <tr>\n",
       "      <th>24</th>\n",
       "      <td>1994</td>\n",
       "      <td>30391</td>\n",
       "    </tr>\n",
       "    <tr>\n",
       "      <th>25</th>\n",
       "      <td>1990</td>\n",
       "      <td>24936</td>\n",
       "    </tr>\n",
       "    <tr>\n",
       "      <th>26</th>\n",
       "      <td>2018</td>\n",
       "      <td>698927</td>\n",
       "    </tr>\n",
       "    <tr>\n",
       "      <th>27</th>\n",
       "      <td>1996</td>\n",
       "      <td>31431</td>\n",
       "    </tr>\n",
       "    <tr>\n",
       "      <th>28</th>\n",
       "      <td>1992</td>\n",
       "      <td>26569</td>\n",
       "    </tr>\n",
       "    <tr>\n",
       "      <th>29</th>\n",
       "      <td>2019</td>\n",
       "      <td>754415</td>\n",
       "    </tr>\n",
       "    <tr>\n",
       "      <th>30</th>\n",
       "      <td>2020</td>\n",
       "      <td>566286</td>\n",
       "    </tr>\n",
       "    <tr>\n",
       "      <th>31</th>\n",
       "      <td>2021</td>\n",
       "      <td>2298</td>\n",
       "    </tr>\n",
       "  </tbody>\n",
       "</table>\n",
       "</div>"
      ],
      "text/plain": [
       "    year  num_tokens\n",
       "0   2007      119790\n",
       "1   2001       42661\n",
       "2   2002       46577\n",
       "3   1995       30358\n",
       "4   2009      283537\n",
       "5   2008      201942\n",
       "6   2010      327784\n",
       "7   2013      466437\n",
       "8   2012      418607\n",
       "9   2014      530873\n",
       "10  2011      376918\n",
       "11  2006       93263\n",
       "12  1997       32193\n",
       "13  1998       33811\n",
       "14  2003       46709\n",
       "15  2015      579310\n",
       "16  2005       75141\n",
       "17  2016      618271\n",
       "18  1993       28514\n",
       "19  2017      668549\n",
       "20  1991       26365\n",
       "21  2000       36820\n",
       "22  2004       57117\n",
       "23  1999       34170\n",
       "24  1994       30391\n",
       "25  1990       24936\n",
       "26  2018      698927\n",
       "27  1996       31431\n",
       "28  1992       26569\n",
       "29  2019      754415\n",
       "30  2020      566286\n",
       "31  2021        2298"
      ]
     },
     "execution_count": 19,
     "metadata": {},
     "output_type": "execute_result"
    }
   ],
   "source": [
    "unique_token_df = pd.DataFrame.from_records(data_rows)\n",
    "unique_token_df"
   ]
  },
  {
   "cell_type": "code",
   "execution_count": 20,
   "metadata": {
    "ExecuteTime": {
     "end_time": "2021-05-20T05:04:30.971394Z",
     "start_time": "2021-05-20T05:04:30.053386Z"
    }
   },
   "outputs": [
    {
     "name": "stderr",
     "output_type": "stream",
     "text": [
      "/home/danich1/anaconda3/envs/biovectors/lib/python3.7/site-packages/plotnine/ggplot.py:729: PlotnineWarning: Saving 6.4 x 4.8 in image.\n",
      "/home/danich1/anaconda3/envs/biovectors/lib/python3.7/site-packages/plotnine/ggplot.py:730: PlotnineWarning: Filename: output/figures/post_1990_unique_tokens_abstracts.png\n"
     ]
    },
    {
     "data": {
      "image/png": "[encoded data removed]",
      "text/plain": [
       "<Figure size 640x480 with 1 Axes>"
      ]
     },
     "metadata": {},
     "output_type": "display_data"
    },
    {
     "name": "stdout",
     "output_type": "stream",
     "text": [
      "<ggplot: (-9223363247278316407)>\n"
     ]
    }
   ],
   "source": [
    "g = (\n",
    "    p9.ggplot(unique_token_df, p9.aes(x=\"year\", y=\"num_tokens\"))\n",
    "    + p9.geom_col(fill=\"#1f78b4\")\n",
    "    + p9.coord_flip()\n",
    "    + p9.labs(\n",
    "        title=\"Number of Abstract Tokens Available Post 1990\",\n",
    "        x=\"Year\",\n",
    "        y=\"# Unique Tokens\",\n",
    "    )\n",
    ")\n",
    "g.save(\"output/figures/post_1990_unique_tokens_abstracts.png\", dpi=500)\n",
    "print(g)"
   ]
  },
  {
   "cell_type": "markdown",
   "metadata": {},
   "source": [
    "## Shared tokens across years"
   ]
  },
  {
   "cell_type": "code",
   "execution_count": 21,
   "metadata": {
    "ExecuteTime": {
     "end_time": "2021-05-20T05:04:32.474035Z",
     "start_time": "2021-05-20T05:04:30.972789Z"
    }
   },
   "outputs": [],
   "source": [
    "data_rows = []\n",
    "reversed_tokens = list(sorted(tokens_by_year.keys()))[::-1]\n",
    "all_tokens = set(tokens_by_year[2021].keys()) | set(tokens_by_year[2020].keys())\n",
    "\n",
    "for query_year in reversed_tokens[1:]:\n",
    "    query_year_vocab_set = set(tokens_by_year[query_year].keys())\n",
    "    tokens_matched = all_tokens & query_year_vocab_set\n",
    "\n",
    "    data_rows.append(\n",
    "        {\n",
    "            \"years\": str(query_year) if query_year != 2020 else \"2020-21\",\n",
    "            \"percentage_tokens_mapped\": len(tokens_matched) / len(all_tokens),\n",
    "            \"num_tokens_matched\": len(tokens_matched),\n",
    "            \"num_tokens_total\": len(all_tokens),\n",
    "        }\n",
    "    )"
   ]
  },
  {
   "cell_type": "code",
   "execution_count": 22,
   "metadata": {
    "ExecuteTime": {
     "end_time": "2021-05-20T05:04:32.521325Z",
     "start_time": "2021-05-20T05:04:32.475238Z"
    }
   },
   "outputs": [
    {
     "data": {
      "text/html": [
       "<div>\n",
       "<style scoped>\n",
       "    .dataframe tbody tr th:only-of-type {\n",
       "        vertical-align: middle;\n",
       "    }\n",
       "\n",
       "    .dataframe tbody tr th {\n",
       "        vertical-align: top;\n",
       "    }\n",
       "\n",
       "    .dataframe thead th {\n",
       "        text-align: right;\n",
       "    }\n",
       "</style>\n",
       "<table border=\"1\" class=\"dataframe\">\n",
       "  <thead>\n",
       "    <tr style=\"text-align: right;\">\n",
       "      <th></th>\n",
       "      <th>years</th>\n",
       "      <th>percentage_tokens_mapped</th>\n",
       "      <th>num_tokens_matched</th>\n",
       "      <th>num_tokens_total</th>\n",
       "    </tr>\n",
       "  </thead>\n",
       "  <tbody>\n",
       "    <tr>\n",
       "      <th>0</th>\n",
       "      <td>2020-21</td>\n",
       "      <td>0.999891</td>\n",
       "      <td>566286</td>\n",
       "      <td>566348</td>\n",
       "    </tr>\n",
       "    <tr>\n",
       "      <th>1</th>\n",
       "      <td>2019</td>\n",
       "      <td>0.482059</td>\n",
       "      <td>273013</td>\n",
       "      <td>566348</td>\n",
       "    </tr>\n",
       "    <tr>\n",
       "      <th>2</th>\n",
       "      <td>2018</td>\n",
       "      <td>0.464188</td>\n",
       "      <td>262892</td>\n",
       "      <td>566348</td>\n",
       "    </tr>\n",
       "    <tr>\n",
       "      <th>3</th>\n",
       "      <td>2017</td>\n",
       "      <td>0.450832</td>\n",
       "      <td>255328</td>\n",
       "      <td>566348</td>\n",
       "    </tr>\n",
       "    <tr>\n",
       "      <th>4</th>\n",
       "      <td>2016</td>\n",
       "      <td>0.431023</td>\n",
       "      <td>244109</td>\n",
       "      <td>566348</td>\n",
       "    </tr>\n",
       "    <tr>\n",
       "      <th>5</th>\n",
       "      <td>2015</td>\n",
       "      <td>0.414335</td>\n",
       "      <td>234658</td>\n",
       "      <td>566348</td>\n",
       "    </tr>\n",
       "    <tr>\n",
       "      <th>6</th>\n",
       "      <td>2014</td>\n",
       "      <td>0.394436</td>\n",
       "      <td>223388</td>\n",
       "      <td>566348</td>\n",
       "    </tr>\n",
       "    <tr>\n",
       "      <th>7</th>\n",
       "      <td>2013</td>\n",
       "      <td>0.366402</td>\n",
       "      <td>207511</td>\n",
       "      <td>566348</td>\n",
       "    </tr>\n",
       "    <tr>\n",
       "      <th>8</th>\n",
       "      <td>2012</td>\n",
       "      <td>0.339016</td>\n",
       "      <td>192001</td>\n",
       "      <td>566348</td>\n",
       "    </tr>\n",
       "    <tr>\n",
       "      <th>9</th>\n",
       "      <td>2011</td>\n",
       "      <td>0.315327</td>\n",
       "      <td>178585</td>\n",
       "      <td>566348</td>\n",
       "    </tr>\n",
       "    <tr>\n",
       "      <th>10</th>\n",
       "      <td>2010</td>\n",
       "      <td>0.287851</td>\n",
       "      <td>163024</td>\n",
       "      <td>566348</td>\n",
       "    </tr>\n",
       "    <tr>\n",
       "      <th>11</th>\n",
       "      <td>2009</td>\n",
       "      <td>0.260614</td>\n",
       "      <td>147598</td>\n",
       "      <td>566348</td>\n",
       "    </tr>\n",
       "    <tr>\n",
       "      <th>12</th>\n",
       "      <td>2008</td>\n",
       "      <td>0.209437</td>\n",
       "      <td>118614</td>\n",
       "      <td>566348</td>\n",
       "    </tr>\n",
       "    <tr>\n",
       "      <th>13</th>\n",
       "      <td>2007</td>\n",
       "      <td>0.148705</td>\n",
       "      <td>84219</td>\n",
       "      <td>566348</td>\n",
       "    </tr>\n",
       "    <tr>\n",
       "      <th>14</th>\n",
       "      <td>2006</td>\n",
       "      <td>0.123036</td>\n",
       "      <td>69681</td>\n",
       "      <td>566348</td>\n",
       "    </tr>\n",
       "    <tr>\n",
       "      <th>15</th>\n",
       "      <td>2005</td>\n",
       "      <td>0.102163</td>\n",
       "      <td>57860</td>\n",
       "      <td>566348</td>\n",
       "    </tr>\n",
       "    <tr>\n",
       "      <th>16</th>\n",
       "      <td>2004</td>\n",
       "      <td>0.082324</td>\n",
       "      <td>46624</td>\n",
       "      <td>566348</td>\n",
       "    </tr>\n",
       "    <tr>\n",
       "      <th>17</th>\n",
       "      <td>2003</td>\n",
       "      <td>0.068347</td>\n",
       "      <td>38708</td>\n",
       "      <td>566348</td>\n",
       "    </tr>\n",
       "    <tr>\n",
       "      <th>18</th>\n",
       "      <td>2002</td>\n",
       "      <td>0.067054</td>\n",
       "      <td>37976</td>\n",
       "      <td>566348</td>\n",
       "    </tr>\n",
       "    <tr>\n",
       "      <th>19</th>\n",
       "      <td>2001</td>\n",
       "      <td>0.061914</td>\n",
       "      <td>35065</td>\n",
       "      <td>566348</td>\n",
       "    </tr>\n",
       "    <tr>\n",
       "      <th>20</th>\n",
       "      <td>2000</td>\n",
       "      <td>0.053253</td>\n",
       "      <td>30160</td>\n",
       "      <td>566348</td>\n",
       "    </tr>\n",
       "    <tr>\n",
       "      <th>21</th>\n",
       "      <td>1999</td>\n",
       "      <td>0.049832</td>\n",
       "      <td>28222</td>\n",
       "      <td>566348</td>\n",
       "    </tr>\n",
       "    <tr>\n",
       "      <th>22</th>\n",
       "      <td>1998</td>\n",
       "      <td>0.048567</td>\n",
       "      <td>27506</td>\n",
       "      <td>566348</td>\n",
       "    </tr>\n",
       "    <tr>\n",
       "      <th>23</th>\n",
       "      <td>1997</td>\n",
       "      <td>0.046327</td>\n",
       "      <td>26237</td>\n",
       "      <td>566348</td>\n",
       "    </tr>\n",
       "    <tr>\n",
       "      <th>24</th>\n",
       "      <td>1996</td>\n",
       "      <td>0.044889</td>\n",
       "      <td>25423</td>\n",
       "      <td>566348</td>\n",
       "    </tr>\n",
       "    <tr>\n",
       "      <th>25</th>\n",
       "      <td>1995</td>\n",
       "      <td>0.043876</td>\n",
       "      <td>24849</td>\n",
       "      <td>566348</td>\n",
       "    </tr>\n",
       "    <tr>\n",
       "      <th>26</th>\n",
       "      <td>1994</td>\n",
       "      <td>0.043404</td>\n",
       "      <td>24582</td>\n",
       "      <td>566348</td>\n",
       "    </tr>\n",
       "    <tr>\n",
       "      <th>27</th>\n",
       "      <td>1993</td>\n",
       "      <td>0.041151</td>\n",
       "      <td>23306</td>\n",
       "      <td>566348</td>\n",
       "    </tr>\n",
       "    <tr>\n",
       "      <th>28</th>\n",
       "      <td>1992</td>\n",
       "      <td>0.038247</td>\n",
       "      <td>21661</td>\n",
       "      <td>566348</td>\n",
       "    </tr>\n",
       "    <tr>\n",
       "      <th>29</th>\n",
       "      <td>1991</td>\n",
       "      <td>0.038540</td>\n",
       "      <td>21827</td>\n",
       "      <td>566348</td>\n",
       "    </tr>\n",
       "    <tr>\n",
       "      <th>30</th>\n",
       "      <td>1990</td>\n",
       "      <td>0.036665</td>\n",
       "      <td>20765</td>\n",
       "      <td>566348</td>\n",
       "    </tr>\n",
       "  </tbody>\n",
       "</table>\n",
       "</div>"
      ],
      "text/plain": [
       "      years  percentage_tokens_mapped  num_tokens_matched  num_tokens_total\n",
       "0   2020-21                  0.999891              566286            566348\n",
       "1      2019                  0.482059              273013            566348\n",
       "2      2018                  0.464188              262892            566348\n",
       "3      2017                  0.450832              255328            566348\n",
       "4      2016                  0.431023              244109            566348\n",
       "5      2015                  0.414335              234658            566348\n",
       "6      2014                  0.394436              223388            566348\n",
       "7      2013                  0.366402              207511            566348\n",
       "8      2012                  0.339016              192001            566348\n",
       "9      2011                  0.315327              178585            566348\n",
       "10     2010                  0.287851              163024            566348\n",
       "11     2009                  0.260614              147598            566348\n",
       "12     2008                  0.209437              118614            566348\n",
       "13     2007                  0.148705               84219            566348\n",
       "14     2006                  0.123036               69681            566348\n",
       "15     2005                  0.102163               57860            566348\n",
       "16     2004                  0.082324               46624            566348\n",
       "17     2003                  0.068347               38708            566348\n",
       "18     2002                  0.067054               37976            566348\n",
       "19     2001                  0.061914               35065            566348\n",
       "20     2000                  0.053253               30160            566348\n",
       "21     1999                  0.049832               28222            566348\n",
       "22     1998                  0.048567               27506            566348\n",
       "23     1997                  0.046327               26237            566348\n",
       "24     1996                  0.044889               25423            566348\n",
       "25     1995                  0.043876               24849            566348\n",
       "26     1994                  0.043404               24582            566348\n",
       "27     1993                  0.041151               23306            566348\n",
       "28     1992                  0.038247               21661            566348\n",
       "29     1991                  0.038540               21827            566348\n",
       "30     1990                  0.036665               20765            566348"
      ]
     },
     "execution_count": 22,
     "metadata": {},
     "output_type": "execute_result"
    }
   ],
   "source": [
    "token_overlap_df = pd.DataFrame.from_dict(data_rows)\n",
    "token_overlap_df"
   ]
  },
  {
   "cell_type": "code",
   "execution_count": 23,
   "metadata": {
    "ExecuteTime": {
     "end_time": "2021-05-20T05:04:33.712997Z",
     "start_time": "2021-05-20T05:04:32.523856Z"
    }
   },
   "outputs": [
    {
     "name": "stderr",
     "output_type": "stream",
     "text": [
      "/home/danich1/anaconda3/envs/biovectors/lib/python3.7/site-packages/plotnine/ggplot.py:729: PlotnineWarning: Saving 6.4 x 4.8 in image.\n",
      "/home/danich1/anaconda3/envs/biovectors/lib/python3.7/site-packages/plotnine/ggplot.py:730: PlotnineWarning: Filename: output/figures/tokens_overlap_with_2020-21_abstracts.png\n"
     ]
    },
    {
     "data": {
      "image/png": "[encoded data removed]",
      "text/plain": [
       "<Figure size 640x480 with 1 Axes>"
      ]
     },
     "metadata": {},
     "output_type": "display_data"
    },
    {
     "name": "stdout",
     "output_type": "stream",
     "text": [
      "<ggplot: (-9223363247205604541)>\n"
     ]
    }
   ],
   "source": [
    "g = (\n",
    "    p9.ggplot(\n",
    "        token_overlap_df.iloc[1:, :], p9.aes(x=\"years\", y=\"percentage_tokens_mapped\")\n",
    "    )\n",
    "    + p9.geom_col(fill=\"#1f78b4\")\n",
    "    + p9.coord_flip()\n",
    "    + p9.labs(\n",
    "        title=\"Token Overlap with 2020-2021 Abstracts\",\n",
    "        x=\"Year\",\n",
    "        y=\"Fraction of Tokens Overlapped\",\n",
    "    )\n",
    ")\n",
    "g.save(\"output/figures/tokens_overlap_with_2020-21_abstracts.png\", dpi=500)\n",
    "print(g)"
   ]
  },
  {
   "cell_type": "markdown",
   "metadata": {},
   "source": [
    "# Shared Tokens Across Time - Full Text Only"
   ]
  },
  {
   "cell_type": "markdown",
   "metadata": {},
   "source": [
    "Grab sentences within the full text documents"
   ]
  },
  {
   "cell_type": "code",
   "execution_count": 24,
   "metadata": {
    "ExecuteTime": {
     "end_time": "2021-05-20T05:04:33.730829Z",
     "start_time": "2021-05-20T05:04:33.714566Z"
    }
   },
   "outputs": [],
   "source": [
    "tokens_by_year_full_text = defaultdict(Counter)\n",
    "sentence_iterator = PubMedSentencesIterator(\n",
    "    pubtator_abstract_batch,\n",
    "    section_filter=[\"INTRO\", \"METHODS\", \"RESULTS\", \"DISCUSS\", \"CONCL\", \"SUPPL\"],\n",
    "    year_filter=list(range(1990, datetime.now().year + 1, 1)),\n",
    "    return_year=True,\n",
    "    tag_entities=False,\n",
    "    jobs=3,\n",
    ")"
   ]
  },
  {
   "cell_type": "code",
   "execution_count": 25,
   "metadata": {
    "ExecuteTime": {
     "end_time": "2021-05-20T22:04:11.451889Z",
     "start_time": "2021-05-20T05:04:33.731989Z"
    },
    "scrolled": true
   },
   "outputs": [
    {
     "name": "stderr",
     "output_type": "stream",
     "text": [
      "59230495it [6:41:04, 2331.03it/s]IOPub message rate exceeded.\n",
      "The notebook server will temporarily stop sending output\n",
      "to the client in order to avoid crashing it.\n",
      "To change this limit, set the config variable\n",
      "`--NotebookApp.iopub_msg_rate_limit`.\n",
      "\n",
      "Current values:\n",
      "NotebookApp.iopub_msg_rate_limit=1000.0 (msgs/sec)\n",
      "NotebookApp.rate_limit_window=3.0 (secs)\n",
      "\n",
      "62485959it [7:03:53, 2317.52it/s]IOPub message rate exceeded.\n",
      "The notebook server will temporarily stop sending output\n",
      "to the client in order to avoid crashing it.\n",
      "To change this limit, set the config variable\n",
      "`--NotebookApp.iopub_msg_rate_limit`.\n",
      "\n",
      "Current values:\n",
      "NotebookApp.iopub_msg_rate_limit=1000.0 (msgs/sec)\n",
      "NotebookApp.rate_limit_window=3.0 (secs)\n",
      "\n",
      "65802105it [7:25:39, 2625.78it/s]IOPub message rate exceeded.\n",
      "The notebook server will temporarily stop sending output\n",
      "to the client in order to avoid crashing it.\n",
      "To change this limit, set the config variable\n",
      "`--NotebookApp.iopub_msg_rate_limit`.\n",
      "\n",
      "Current values:\n",
      "NotebookApp.iopub_msg_rate_limit=1000.0 (msgs/sec)\n",
      "NotebookApp.rate_limit_window=3.0 (secs)\n",
      "\n",
      "69448503it [7:48:39, 2582.59it/s]IOPub message rate exceeded.\n",
      "The notebook server will temporarily stop sending output\n",
      "to the client in order to avoid crashing it.\n",
      "To change this limit, set the config variable\n",
      "`--NotebookApp.iopub_msg_rate_limit`.\n",
      "\n",
      "Current values:\n",
      "NotebookApp.iopub_msg_rate_limit=1000.0 (msgs/sec)\n",
      "NotebookApp.rate_limit_window=3.0 (secs)\n",
      "\n",
      "73050571it [8:11:34, 2750.43it/s]IOPub message rate exceeded.\n",
      "The notebook server will temporarily stop sending output\n",
      "to the client in order to avoid crashing it.\n",
      "To change this limit, set the config variable\n",
      "`--NotebookApp.iopub_msg_rate_limit`.\n",
      "\n",
      "Current values:\n",
      "NotebookApp.iopub_msg_rate_limit=1000.0 (msgs/sec)\n",
      "NotebookApp.rate_limit_window=3.0 (secs)\n",
      "\n",
      "76374371it [8:37:02, 2389.87it/s]IOPub message rate exceeded.\n",
      "The notebook server will temporarily stop sending output\n",
      "to the client in order to avoid crashing it.\n",
      "To change this limit, set the config variable\n",
      "`--NotebookApp.iopub_msg_rate_limit`.\n",
      "\n",
      "Current values:\n",
      "NotebookApp.iopub_msg_rate_limit=1000.0 (msgs/sec)\n",
      "NotebookApp.rate_limit_window=3.0 (secs)\n",
      "\n",
      "79858162it [8:59:55, 2474.93it/s]IOPub message rate exceeded.\n",
      "The notebook server will temporarily stop sending output\n",
      "to the client in order to avoid crashing it.\n",
      "To change this limit, set the config variable\n",
      "`--NotebookApp.iopub_msg_rate_limit`.\n",
      "\n",
      "Current values:\n",
      "NotebookApp.iopub_msg_rate_limit=1000.0 (msgs/sec)\n",
      "NotebookApp.rate_limit_window=3.0 (secs)\n",
      "\n",
      "83461333it [9:22:45, 2576.92it/s]IOPub message rate exceeded.\n",
      "The notebook server will temporarily stop sending output\n",
      "to the client in order to avoid crashing it.\n",
      "To change this limit, set the config variable\n",
      "`--NotebookApp.iopub_msg_rate_limit`.\n",
      "\n",
      "Current values:\n",
      "NotebookApp.iopub_msg_rate_limit=1000.0 (msgs/sec)\n",
      "NotebookApp.rate_limit_window=3.0 (secs)\n",
      "\n",
      "87038561it [9:47:54, 1994.97it/s]IOPub message rate exceeded.\n",
      "The notebook server will temporarily stop sending output\n",
      "to the client in order to avoid crashing it.\n",
      "To change this limit, set the config variable\n",
      "`--NotebookApp.iopub_msg_rate_limit`.\n",
      "\n",
      "Current values:\n",
      "NotebookApp.iopub_msg_rate_limit=1000.0 (msgs/sec)\n",
      "NotebookApp.rate_limit_window=3.0 (secs)\n",
      "\n",
      "90304698it [10:12:23, 2347.20it/s]IOPub message rate exceeded.\n",
      "The notebook server will temporarily stop sending output\n",
      "to the client in order to avoid crashing it.\n",
      "To change this limit, set the config variable\n",
      "`--NotebookApp.iopub_msg_rate_limit`.\n",
      "\n",
      "Current values:\n",
      "NotebookApp.iopub_msg_rate_limit=1000.0 (msgs/sec)\n",
      "NotebookApp.rate_limit_window=3.0 (secs)\n",
      "\n",
      "93814781it [10:35:18, 2496.21it/s]IOPub message rate exceeded.\n",
      "The notebook server will temporarily stop sending output\n",
      "to the client in order to avoid crashing it.\n",
      "To change this limit, set the config variable\n",
      "`--NotebookApp.iopub_msg_rate_limit`.\n",
      "\n",
      "Current values:\n",
      "NotebookApp.iopub_msg_rate_limit=1000.0 (msgs/sec)\n",
      "NotebookApp.rate_limit_window=3.0 (secs)\n",
      "\n",
      "97399412it [10:58:06, 2656.40it/s]IOPub message rate exceeded.\n",
      "The notebook server will temporarily stop sending output\n",
      "to the client in order to avoid crashing it.\n",
      "To change this limit, set the config variable\n",
      "`--NotebookApp.iopub_msg_rate_limit`.\n",
      "\n",
      "Current values:\n",
      "NotebookApp.iopub_msg_rate_limit=1000.0 (msgs/sec)\n",
      "NotebookApp.rate_limit_window=3.0 (secs)\n",
      "\n",
      "100980110it [11:20:58, 2705.35it/s]IOPub message rate exceeded.\n",
      "The notebook server will temporarily stop sending output\n",
      "to the client in order to avoid crashing it.\n",
      "To change this limit, set the config variable\n",
      "`--NotebookApp.iopub_msg_rate_limit`.\n",
      "\n",
      "Current values:\n",
      "NotebookApp.iopub_msg_rate_limit=1000.0 (msgs/sec)\n",
      "NotebookApp.rate_limit_window=3.0 (secs)\n",
      "\n",
      "104323311it [11:47:42, 2252.23it/s]IOPub message rate exceeded.\n",
      "The notebook server will temporarily stop sending output\n",
      "to the client in order to avoid crashing it.\n",
      "To change this limit, set the config variable\n",
      "`--NotebookApp.iopub_msg_rate_limit`.\n",
      "\n",
      "Current values:\n",
      "NotebookApp.iopub_msg_rate_limit=1000.0 (msgs/sec)\n",
      "NotebookApp.rate_limit_window=3.0 (secs)\n",
      "\n",
      "107212776it [12:07:19, 2571.55it/s]IOPub message rate exceeded.\n",
      "The notebook server will temporarily stop sending output\n",
      "to the client in order to avoid crashing it.\n",
      "To change this limit, set the config variable\n",
      "`--NotebookApp.iopub_msg_rate_limit`.\n",
      "\n",
      "Current values:\n",
      "NotebookApp.iopub_msg_rate_limit=1000.0 (msgs/sec)\n",
      "NotebookApp.rate_limit_window=3.0 (secs)\n",
      "\n",
      "107719186it [12:10:39, 2581.14it/s]IOPub message rate exceeded.\n",
      "The notebook server will temporarily stop sending output\n",
      "to the client in order to avoid crashing it.\n",
      "To change this limit, set the config variable\n",
      "`--NotebookApp.iopub_msg_rate_limit`.\n",
      "\n",
      "Current values:\n",
      "NotebookApp.iopub_msg_rate_limit=1000.0 (msgs/sec)\n",
      "NotebookApp.rate_limit_window=3.0 (secs)\n",
      "\n",
      "110716767it [12:30:05, 2468.65it/s]IOPub message rate exceeded.\n",
      "The notebook server will temporarily stop sending output\n",
      "to the client in order to avoid crashing it.\n",
      "To change this limit, set the config variable\n",
      "`--NotebookApp.iopub_msg_rate_limit`.\n",
      "\n",
      "Current values:\n",
      "NotebookApp.iopub_msg_rate_limit=1000.0 (msgs/sec)\n",
      "NotebookApp.rate_limit_window=3.0 (secs)\n",
      "\n",
      "111239993it [12:33:24, 2560.50it/s]IOPub message rate exceeded.\n",
      "The notebook server will temporarily stop sending output\n",
      "to the client in order to avoid crashing it.\n",
      "To change this limit, set the config variable\n",
      "`--NotebookApp.iopub_msg_rate_limit`.\n",
      "\n",
      "Current values:\n",
      "NotebookApp.iopub_msg_rate_limit=1000.0 (msgs/sec)\n",
      "NotebookApp.rate_limit_window=3.0 (secs)\n",
      "\n",
      "114282563it [12:52:46, 2467.77it/s]IOPub message rate exceeded.\n",
      "The notebook server will temporarily stop sending output\n",
      "to the client in order to avoid crashing it.\n",
      "To change this limit, set the config variable\n",
      "`--NotebookApp.iopub_msg_rate_limit`.\n",
      "\n",
      "Current values:\n",
      "NotebookApp.iopub_msg_rate_limit=1000.0 (msgs/sec)\n",
      "NotebookApp.rate_limit_window=3.0 (secs)\n",
      "\n",
      "114809513it [12:56:07, 2556.09it/s]IOPub message rate exceeded.\n",
      "The notebook server will temporarily stop sending output\n",
      "to the client in order to avoid crashing it.\n",
      "To change this limit, set the config variable\n",
      "`--NotebookApp.iopub_msg_rate_limit`.\n",
      "\n",
      "Current values:\n",
      "NotebookApp.iopub_msg_rate_limit=1000.0 (msgs/sec)\n",
      "NotebookApp.rate_limit_window=3.0 (secs)\n",
      "\n",
      "117743840it [13:18:36, 2690.12it/s]IOPub message rate exceeded.\n",
      "The notebook server will temporarily stop sending output\n",
      "to the client in order to avoid crashing it.\n",
      "To change this limit, set the config variable\n",
      "`--NotebookApp.iopub_msg_rate_limit`.\n",
      "\n",
      "Current values:\n",
      "NotebookApp.iopub_msg_rate_limit=1000.0 (msgs/sec)\n",
      "NotebookApp.rate_limit_window=3.0 (secs)\n",
      "\n",
      "118216770it [13:22:34, 2365.15it/s]IOPub message rate exceeded.\n",
      "The notebook server will temporarily stop sending output\n",
      "to the client in order to avoid crashing it.\n",
      "To change this limit, set the config variable\n",
      "`--NotebookApp.iopub_msg_rate_limit`.\n",
      "\n",
      "Current values:\n",
      "NotebookApp.iopub_msg_rate_limit=1000.0 (msgs/sec)\n",
      "NotebookApp.rate_limit_window=3.0 (secs)\n",
      "\n",
      "120978378it [13:42:07, 2215.93it/s]IOPub message rate exceeded.\n",
      "The notebook server will temporarily stop sending output\n",
      "to the client in order to avoid crashing it.\n",
      "To change this limit, set the config variable\n",
      "`--NotebookApp.iopub_msg_rate_limit`.\n",
      "\n",
      "Current values:\n",
      "NotebookApp.iopub_msg_rate_limit=1000.0 (msgs/sec)\n",
      "NotebookApp.rate_limit_window=3.0 (secs)\n",
      "\n"
     ]
    },
    {
     "name": "stderr",
     "output_type": "stream",
     "text": [
      "121473596it [13:45:27, 2709.15it/s]IOPub message rate exceeded.\n",
      "The notebook server will temporarily stop sending output\n",
      "to the client in order to avoid crashing it.\n",
      "To change this limit, set the config variable\n",
      "`--NotebookApp.iopub_msg_rate_limit`.\n",
      "\n",
      "Current values:\n",
      "NotebookApp.iopub_msg_rate_limit=1000.0 (msgs/sec)\n",
      "NotebookApp.rate_limit_window=3.0 (secs)\n",
      "\n",
      "124452703it [14:04:54, 2271.54it/s]IOPub message rate exceeded.\n",
      "The notebook server will temporarily stop sending output\n",
      "to the client in order to avoid crashing it.\n",
      "To change this limit, set the config variable\n",
      "`--NotebookApp.iopub_msg_rate_limit`.\n",
      "\n",
      "Current values:\n",
      "NotebookApp.iopub_msg_rate_limit=1000.0 (msgs/sec)\n",
      "NotebookApp.rate_limit_window=3.0 (secs)\n",
      "\n",
      "124958150it [14:08:14, 2782.32it/s]IOPub message rate exceeded.\n",
      "The notebook server will temporarily stop sending output\n",
      "to the client in order to avoid crashing it.\n",
      "To change this limit, set the config variable\n",
      "`--NotebookApp.iopub_msg_rate_limit`.\n",
      "\n",
      "Current values:\n",
      "NotebookApp.iopub_msg_rate_limit=1000.0 (msgs/sec)\n",
      "NotebookApp.rate_limit_window=3.0 (secs)\n",
      "\n",
      "128338936it [14:29:41, 2930.59it/s]IOPub message rate exceeded.\n",
      "The notebook server will temporarily stop sending output\n",
      "to the client in order to avoid crashing it.\n",
      "To change this limit, set the config variable\n",
      "`--NotebookApp.iopub_msg_rate_limit`.\n",
      "\n",
      "Current values:\n",
      "NotebookApp.iopub_msg_rate_limit=1000.0 (msgs/sec)\n",
      "NotebookApp.rate_limit_window=3.0 (secs)\n",
      "\n",
      "131929118it [14:53:23, 2372.03it/s]IOPub message rate exceeded.\n",
      "The notebook server will temporarily stop sending output\n",
      "to the client in order to avoid crashing it.\n",
      "To change this limit, set the config variable\n",
      "`--NotebookApp.iopub_msg_rate_limit`.\n",
      "\n",
      "Current values:\n",
      "NotebookApp.iopub_msg_rate_limit=1000.0 (msgs/sec)\n",
      "NotebookApp.rate_limit_window=3.0 (secs)\n",
      "\n",
      "135206679it [15:19:30, 2466.82it/s]IOPub message rate exceeded.\n",
      "The notebook server will temporarily stop sending output\n",
      "to the client in order to avoid crashing it.\n",
      "To change this limit, set the config variable\n",
      "`--NotebookApp.iopub_msg_rate_limit`.\n",
      "\n",
      "Current values:\n",
      "NotebookApp.iopub_msg_rate_limit=1000.0 (msgs/sec)\n",
      "NotebookApp.rate_limit_window=3.0 (secs)\n",
      "\n",
      "138622471it [15:42:27, 2537.72it/s]IOPub message rate exceeded.\n",
      "The notebook server will temporarily stop sending output\n",
      "to the client in order to avoid crashing it.\n",
      "To change this limit, set the config variable\n",
      "`--NotebookApp.iopub_msg_rate_limit`.\n",
      "\n",
      "Current values:\n",
      "NotebookApp.iopub_msg_rate_limit=1000.0 (msgs/sec)\n",
      "NotebookApp.rate_limit_window=3.0 (secs)\n",
      "\n",
      "142141691it [16:05:10, 2691.53it/s]IOPub message rate exceeded.\n",
      "The notebook server will temporarily stop sending output\n",
      "to the client in order to avoid crashing it.\n",
      "To change this limit, set the config variable\n",
      "`--NotebookApp.iopub_msg_rate_limit`.\n",
      "\n",
      "Current values:\n",
      "NotebookApp.iopub_msg_rate_limit=1000.0 (msgs/sec)\n",
      "NotebookApp.rate_limit_window=3.0 (secs)\n",
      "\n",
      "145707255it [16:27:56, 2251.77it/s]IOPub message rate exceeded.\n",
      "The notebook server will temporarily stop sending output\n",
      "to the client in order to avoid crashing it.\n",
      "To change this limit, set the config variable\n",
      "`--NotebookApp.iopub_msg_rate_limit`.\n",
      "\n",
      "Current values:\n",
      "NotebookApp.iopub_msg_rate_limit=1000.0 (msgs/sec)\n",
      "NotebookApp.rate_limit_window=3.0 (secs)\n",
      "\n",
      "149100475it [16:54:37, 2568.83it/s]IOPub message rate exceeded.\n",
      "The notebook server will temporarily stop sending output\n",
      "to the client in order to avoid crashing it.\n",
      "To change this limit, set the config variable\n",
      "`--NotebookApp.iopub_msg_rate_limit`.\n",
      "\n",
      "Current values:\n",
      "NotebookApp.iopub_msg_rate_limit=1000.0 (msgs/sec)\n",
      "NotebookApp.rate_limit_window=3.0 (secs)\n",
      "\n"
     ]
    }
   ],
   "source": [
    "if not Path(\"output/unique_tokens_by_year_full_text_replace.pkl\").exists():\n",
    "    for year, sentence in tqdm.tqdm(sentence_iterator):\n",
    "        tokens_by_year_full_text[year].update(Counter(sentence))"
   ]
  },
  {
   "cell_type": "code",
   "execution_count": 26,
   "metadata": {
    "ExecuteTime": {
     "end_time": "2021-05-20T22:04:36.991210Z",
     "start_time": "2021-05-20T22:04:11.471899Z"
    }
   },
   "outputs": [],
   "source": [
    "if not Path(\"output/unique_tokens_by_year_full_text_replace.pkl\").exists():\n",
    "    pickle.dump(\n",
    "        tokens_by_year_full_text,\n",
    "        open(\"output/unique_tokens_by_year_full_text_replace.pkl\", \"wb\"),\n",
    "    )\n",
    "else:\n",
    "    tokens_by_year_full_text = pickle.load(\n",
    "        open(\"output/unique_tokens_by_year_full_text_replace.pkl\", \"rb\")\n",
    "    )"
   ]
  },
  {
   "cell_type": "markdown",
   "metadata": {},
   "source": [
    "## Unique Tokens Available per Year"
   ]
  },
  {
   "cell_type": "code",
   "execution_count": 27,
   "metadata": {
    "ExecuteTime": {
     "end_time": "2021-05-20T22:04:37.008508Z",
     "start_time": "2021-05-20T22:04:36.992566Z"
    }
   },
   "outputs": [],
   "source": [
    "data_rows = []\n",
    "\n",
    "for query_year in tokens_by_year_full_text:\n",
    "\n",
    "    data_rows.append(\n",
    "        {\n",
    "            \"year\": query_year,\n",
    "            \"num_tokens\": len(tokens_by_year_full_text[query_year]),\n",
    "        }\n",
    "    )"
   ]
  },
  {
   "cell_type": "code",
   "execution_count": 28,
   "metadata": {
    "ExecuteTime": {
     "end_time": "2021-05-20T22:04:37.030710Z",
     "start_time": "2021-05-20T22:04:37.009639Z"
    }
   },
   "outputs": [
    {
     "data": {
      "text/html": [
       "<div>\n",
       "<style scoped>\n",
       "    .dataframe tbody tr th:only-of-type {\n",
       "        vertical-align: middle;\n",
       "    }\n",
       "\n",
       "    .dataframe tbody tr th {\n",
       "        vertical-align: top;\n",
       "    }\n",
       "\n",
       "    .dataframe thead th {\n",
       "        text-align: right;\n",
       "    }\n",
       "</style>\n",
       "<table border=\"1\" class=\"dataframe\">\n",
       "  <thead>\n",
       "    <tr style=\"text-align: right;\">\n",
       "      <th></th>\n",
       "      <th>year</th>\n",
       "      <th>num_tokens</th>\n",
       "    </tr>\n",
       "  </thead>\n",
       "  <tbody>\n",
       "    <tr>\n",
       "      <th>0</th>\n",
       "      <td>2013</td>\n",
       "      <td>3483872</td>\n",
       "    </tr>\n",
       "    <tr>\n",
       "      <th>1</th>\n",
       "      <td>2011</td>\n",
       "      <td>2789992</td>\n",
       "    </tr>\n",
       "    <tr>\n",
       "      <th>2</th>\n",
       "      <td>2008</td>\n",
       "      <td>1340025</td>\n",
       "    </tr>\n",
       "    <tr>\n",
       "      <th>3</th>\n",
       "      <td>2010</td>\n",
       "      <td>2383537</td>\n",
       "    </tr>\n",
       "    <tr>\n",
       "      <th>4</th>\n",
       "      <td>2012</td>\n",
       "      <td>3109171</td>\n",
       "    </tr>\n",
       "    <tr>\n",
       "      <th>5</th>\n",
       "      <td>2014</td>\n",
       "      <td>4000869</td>\n",
       "    </tr>\n",
       "    <tr>\n",
       "      <th>6</th>\n",
       "      <td>2007</td>\n",
       "      <td>724022</td>\n",
       "    </tr>\n",
       "    <tr>\n",
       "      <th>7</th>\n",
       "      <td>2006</td>\n",
       "      <td>525842</td>\n",
       "    </tr>\n",
       "    <tr>\n",
       "      <th>8</th>\n",
       "      <td>2009</td>\n",
       "      <td>2040215</td>\n",
       "    </tr>\n",
       "    <tr>\n",
       "      <th>9</th>\n",
       "      <td>2015</td>\n",
       "      <td>4413455</td>\n",
       "    </tr>\n",
       "    <tr>\n",
       "      <th>10</th>\n",
       "      <td>2001</td>\n",
       "      <td>145602</td>\n",
       "    </tr>\n",
       "    <tr>\n",
       "      <th>11</th>\n",
       "      <td>2003</td>\n",
       "      <td>217116</td>\n",
       "    </tr>\n",
       "    <tr>\n",
       "      <th>12</th>\n",
       "      <td>2004</td>\n",
       "      <td>294387</td>\n",
       "    </tr>\n",
       "    <tr>\n",
       "      <th>13</th>\n",
       "      <td>2005</td>\n",
       "      <td>410568</td>\n",
       "    </tr>\n",
       "    <tr>\n",
       "      <th>14</th>\n",
       "      <td>2002</td>\n",
       "      <td>180362</td>\n",
       "    </tr>\n",
       "    <tr>\n",
       "      <th>15</th>\n",
       "      <td>1999</td>\n",
       "      <td>106023</td>\n",
       "    </tr>\n",
       "    <tr>\n",
       "      <th>16</th>\n",
       "      <td>1998</td>\n",
       "      <td>104368</td>\n",
       "    </tr>\n",
       "    <tr>\n",
       "      <th>17</th>\n",
       "      <td>1991</td>\n",
       "      <td>17382</td>\n",
       "    </tr>\n",
       "    <tr>\n",
       "      <th>18</th>\n",
       "      <td>1992</td>\n",
       "      <td>18340</td>\n",
       "    </tr>\n",
       "    <tr>\n",
       "      <th>19</th>\n",
       "      <td>1993</td>\n",
       "      <td>20588</td>\n",
       "    </tr>\n",
       "    <tr>\n",
       "      <th>20</th>\n",
       "      <td>1994</td>\n",
       "      <td>19293</td>\n",
       "    </tr>\n",
       "    <tr>\n",
       "      <th>21</th>\n",
       "      <td>1995</td>\n",
       "      <td>26751</td>\n",
       "    </tr>\n",
       "    <tr>\n",
       "      <th>22</th>\n",
       "      <td>2016</td>\n",
       "      <td>4876895</td>\n",
       "    </tr>\n",
       "    <tr>\n",
       "      <th>23</th>\n",
       "      <td>2000</td>\n",
       "      <td>126878</td>\n",
       "    </tr>\n",
       "    <tr>\n",
       "      <th>24</th>\n",
       "      <td>2017</td>\n",
       "      <td>5378534</td>\n",
       "    </tr>\n",
       "    <tr>\n",
       "      <th>25</th>\n",
       "      <td>1997</td>\n",
       "      <td>98722</td>\n",
       "    </tr>\n",
       "    <tr>\n",
       "      <th>26</th>\n",
       "      <td>1996</td>\n",
       "      <td>33420</td>\n",
       "    </tr>\n",
       "    <tr>\n",
       "      <th>27</th>\n",
       "      <td>2018</td>\n",
       "      <td>5716555</td>\n",
       "    </tr>\n",
       "    <tr>\n",
       "      <th>28</th>\n",
       "      <td>1990</td>\n",
       "      <td>21305</td>\n",
       "    </tr>\n",
       "    <tr>\n",
       "      <th>29</th>\n",
       "      <td>2019</td>\n",
       "      <td>6275882</td>\n",
       "    </tr>\n",
       "    <tr>\n",
       "      <th>30</th>\n",
       "      <td>2020</td>\n",
       "      <td>4604079</td>\n",
       "    </tr>\n",
       "    <tr>\n",
       "      <th>31</th>\n",
       "      <td>2021</td>\n",
       "      <td>10323</td>\n",
       "    </tr>\n",
       "  </tbody>\n",
       "</table>\n",
       "</div>"
      ],
      "text/plain": [
       "    year  num_tokens\n",
       "0   2013     3483872\n",
       "1   2011     2789992\n",
       "2   2008     1340025\n",
       "3   2010     2383537\n",
       "4   2012     3109171\n",
       "5   2014     4000869\n",
       "6   2007      724022\n",
       "7   2006      525842\n",
       "8   2009     2040215\n",
       "9   2015     4413455\n",
       "10  2001      145602\n",
       "11  2003      217116\n",
       "12  2004      294387\n",
       "13  2005      410568\n",
       "14  2002      180362\n",
       "15  1999      106023\n",
       "16  1998      104368\n",
       "17  1991       17382\n",
       "18  1992       18340\n",
       "19  1993       20588\n",
       "20  1994       19293\n",
       "21  1995       26751\n",
       "22  2016     4876895\n",
       "23  2000      126878\n",
       "24  2017     5378534\n",
       "25  1997       98722\n",
       "26  1996       33420\n",
       "27  2018     5716555\n",
       "28  1990       21305\n",
       "29  2019     6275882\n",
       "30  2020     4604079\n",
       "31  2021       10323"
      ]
     },
     "execution_count": 28,
     "metadata": {},
     "output_type": "execute_result"
    }
   ],
   "source": [
    "unique_token_full_text_df = pd.DataFrame.from_records(data_rows)\n",
    "unique_token_full_text_df"
   ]
  },
  {
   "cell_type": "code",
   "execution_count": 29,
   "metadata": {
    "ExecuteTime": {
     "end_time": "2021-05-20T22:04:37.890142Z",
     "start_time": "2021-05-20T22:04:37.032479Z"
    }
   },
   "outputs": [
    {
     "name": "stderr",
     "output_type": "stream",
     "text": [
      "/home/danich1/anaconda3/envs/biovectors/lib/python3.7/site-packages/plotnine/ggplot.py:729: PlotnineWarning: Saving 6.4 x 4.8 in image.\n",
      "/home/danich1/anaconda3/envs/biovectors/lib/python3.7/site-packages/plotnine/ggplot.py:730: PlotnineWarning: Filename: output/figures/post_1990_unique_tokens_full_text.png\n"
     ]
    },
    {
     "data": {
      "image/png": "[encoded data removed]",
      "text/plain": [
       "<Figure size 640x480 with 1 Axes>"
      ]
     },
     "metadata": {},
     "output_type": "display_data"
    },
    {
     "name": "stdout",
     "output_type": "stream",
     "text": [
      "<ggplot: (-9223363247533580856)>\n"
     ]
    }
   ],
   "source": [
    "g = (\n",
    "    p9.ggplot(unique_token_full_text_df, p9.aes(x=\"year\", y=\"num_tokens\"))\n",
    "    + p9.geom_col(fill=\"#1f78b4\")\n",
    "    + p9.coord_flip()\n",
    "    + p9.labs(\n",
    "        title=\"Number of Full Text Tokens Available Post 1990\",\n",
    "        x=\"Year\",\n",
    "        y=\"# Unique Tokens\",\n",
    "    )\n",
    ")\n",
    "g.save(\"output/figures/post_1990_unique_tokens_full_text.png\", dpi=500)\n",
    "print(g)"
   ]
  },
  {
   "cell_type": "markdown",
   "metadata": {},
   "source": [
    "## Shared tokens across years"
   ]
  },
  {
   "cell_type": "code",
   "execution_count": 30,
   "metadata": {
    "ExecuteTime": {
     "end_time": "2021-05-20T22:04:50.816787Z",
     "start_time": "2021-05-20T22:04:37.891456Z"
    }
   },
   "outputs": [],
   "source": [
    "data_rows = []\n",
    "reversed_tokens = list(sorted(tokens_by_year_full_text.keys()))[::-1]\n",
    "all_tokens = set(tokens_by_year_full_text[2021].keys()) | set(\n",
    "    tokens_by_year_full_text[2020].keys()\n",
    ")\n",
    "\n",
    "for query_year in reversed_tokens[1:]:\n",
    "    query_year_vocab_set = set(tokens_by_year_full_text[query_year].keys())\n",
    "    tokens_matched = all_tokens & query_year_vocab_set\n",
    "\n",
    "    data_rows.append(\n",
    "        {\n",
    "            \"years\": str(query_year) if query_year != 2020 else \"2020-21\",\n",
    "            \"percentage_tokens_mapped\": len(tokens_matched) / len(all_tokens),\n",
    "            \"num_tokens_matched\": len(tokens_matched),\n",
    "            \"num_tokens_total\": len(all_tokens),\n",
    "        }\n",
    "    )"
   ]
  },
  {
   "cell_type": "code",
   "execution_count": 31,
   "metadata": {
    "ExecuteTime": {
     "end_time": "2021-05-20T22:04:50.840894Z",
     "start_time": "2021-05-20T22:04:50.818059Z"
    }
   },
   "outputs": [
    {
     "data": {
      "text/html": [
       "<div>\n",
       "<style scoped>\n",
       "    .dataframe tbody tr th:only-of-type {\n",
       "        vertical-align: middle;\n",
       "    }\n",
       "\n",
       "    .dataframe tbody tr th {\n",
       "        vertical-align: top;\n",
       "    }\n",
       "\n",
       "    .dataframe thead th {\n",
       "        text-align: right;\n",
       "    }\n",
       "</style>\n",
       "<table border=\"1\" class=\"dataframe\">\n",
       "  <thead>\n",
       "    <tr style=\"text-align: right;\">\n",
       "      <th></th>\n",
       "      <th>years</th>\n",
       "      <th>percentage_tokens_mapped</th>\n",
       "      <th>num_tokens_matched</th>\n",
       "      <th>num_tokens_total</th>\n",
       "    </tr>\n",
       "  </thead>\n",
       "  <tbody>\n",
       "    <tr>\n",
       "      <th>0</th>\n",
       "      <td>2020-21</td>\n",
       "      <td>0.999930</td>\n",
       "      <td>4604079</td>\n",
       "      <td>4604402</td>\n",
       "    </tr>\n",
       "    <tr>\n",
       "      <th>1</th>\n",
       "      <td>2019</td>\n",
       "      <td>0.398108</td>\n",
       "      <td>1833051</td>\n",
       "      <td>4604402</td>\n",
       "    </tr>\n",
       "    <tr>\n",
       "      <th>2</th>\n",
       "      <td>2018</td>\n",
       "      <td>0.377073</td>\n",
       "      <td>1736197</td>\n",
       "      <td>4604402</td>\n",
       "    </tr>\n",
       "    <tr>\n",
       "      <th>3</th>\n",
       "      <td>2017</td>\n",
       "      <td>0.359584</td>\n",
       "      <td>1655668</td>\n",
       "      <td>4604402</td>\n",
       "    </tr>\n",
       "    <tr>\n",
       "      <th>4</th>\n",
       "      <td>2016</td>\n",
       "      <td>0.335823</td>\n",
       "      <td>1546265</td>\n",
       "      <td>4604402</td>\n",
       "    </tr>\n",
       "    <tr>\n",
       "      <th>5</th>\n",
       "      <td>2015</td>\n",
       "      <td>0.314967</td>\n",
       "      <td>1450236</td>\n",
       "      <td>4604402</td>\n",
       "    </tr>\n",
       "    <tr>\n",
       "      <th>6</th>\n",
       "      <td>2014</td>\n",
       "      <td>0.294210</td>\n",
       "      <td>1354663</td>\n",
       "      <td>4604402</td>\n",
       "    </tr>\n",
       "    <tr>\n",
       "      <th>7</th>\n",
       "      <td>2013</td>\n",
       "      <td>0.268902</td>\n",
       "      <td>1238134</td>\n",
       "      <td>4604402</td>\n",
       "    </tr>\n",
       "    <tr>\n",
       "      <th>8</th>\n",
       "      <td>2012</td>\n",
       "      <td>0.246252</td>\n",
       "      <td>1133845</td>\n",
       "      <td>4604402</td>\n",
       "    </tr>\n",
       "    <tr>\n",
       "      <th>9</th>\n",
       "      <td>2011</td>\n",
       "      <td>0.227725</td>\n",
       "      <td>1048536</td>\n",
       "      <td>4604402</td>\n",
       "    </tr>\n",
       "    <tr>\n",
       "      <th>10</th>\n",
       "      <td>2010</td>\n",
       "      <td>0.205899</td>\n",
       "      <td>948044</td>\n",
       "      <td>4604402</td>\n",
       "    </tr>\n",
       "    <tr>\n",
       "      <th>11</th>\n",
       "      <td>2009</td>\n",
       "      <td>0.183686</td>\n",
       "      <td>845764</td>\n",
       "      <td>4604402</td>\n",
       "    </tr>\n",
       "    <tr>\n",
       "      <th>12</th>\n",
       "      <td>2008</td>\n",
       "      <td>0.141181</td>\n",
       "      <td>650055</td>\n",
       "      <td>4604402</td>\n",
       "    </tr>\n",
       "    <tr>\n",
       "      <th>13</th>\n",
       "      <td>2007</td>\n",
       "      <td>0.091603</td>\n",
       "      <td>421778</td>\n",
       "      <td>4604402</td>\n",
       "    </tr>\n",
       "    <tr>\n",
       "      <th>14</th>\n",
       "      <td>2006</td>\n",
       "      <td>0.072092</td>\n",
       "      <td>331941</td>\n",
       "      <td>4604402</td>\n",
       "    </tr>\n",
       "    <tr>\n",
       "      <th>15</th>\n",
       "      <td>2005</td>\n",
       "      <td>0.058979</td>\n",
       "      <td>271564</td>\n",
       "      <td>4604402</td>\n",
       "    </tr>\n",
       "    <tr>\n",
       "      <th>16</th>\n",
       "      <td>2004</td>\n",
       "      <td>0.045739</td>\n",
       "      <td>210599</td>\n",
       "      <td>4604402</td>\n",
       "    </tr>\n",
       "    <tr>\n",
       "      <th>17</th>\n",
       "      <td>2003</td>\n",
       "      <td>0.035271</td>\n",
       "      <td>162400</td>\n",
       "      <td>4604402</td>\n",
       "    </tr>\n",
       "    <tr>\n",
       "      <th>18</th>\n",
       "      <td>2002</td>\n",
       "      <td>0.029642</td>\n",
       "      <td>136483</td>\n",
       "      <td>4604402</td>\n",
       "    </tr>\n",
       "    <tr>\n",
       "      <th>19</th>\n",
       "      <td>2001</td>\n",
       "      <td>0.024384</td>\n",
       "      <td>112276</td>\n",
       "      <td>4604402</td>\n",
       "    </tr>\n",
       "    <tr>\n",
       "      <th>20</th>\n",
       "      <td>2000</td>\n",
       "      <td>0.021288</td>\n",
       "      <td>98018</td>\n",
       "      <td>4604402</td>\n",
       "    </tr>\n",
       "    <tr>\n",
       "      <th>21</th>\n",
       "      <td>1999</td>\n",
       "      <td>0.017939</td>\n",
       "      <td>82599</td>\n",
       "      <td>4604402</td>\n",
       "    </tr>\n",
       "    <tr>\n",
       "      <th>22</th>\n",
       "      <td>1998</td>\n",
       "      <td>0.017057</td>\n",
       "      <td>78536</td>\n",
       "      <td>4604402</td>\n",
       "    </tr>\n",
       "    <tr>\n",
       "      <th>23</th>\n",
       "      <td>1997</td>\n",
       "      <td>0.016154</td>\n",
       "      <td>74378</td>\n",
       "      <td>4604402</td>\n",
       "    </tr>\n",
       "    <tr>\n",
       "      <th>24</th>\n",
       "      <td>1996</td>\n",
       "      <td>0.006553</td>\n",
       "      <td>30173</td>\n",
       "      <td>4604402</td>\n",
       "    </tr>\n",
       "    <tr>\n",
       "      <th>25</th>\n",
       "      <td>1995</td>\n",
       "      <td>0.005321</td>\n",
       "      <td>24502</td>\n",
       "      <td>4604402</td>\n",
       "    </tr>\n",
       "    <tr>\n",
       "      <th>26</th>\n",
       "      <td>1994</td>\n",
       "      <td>0.003929</td>\n",
       "      <td>18091</td>\n",
       "      <td>4604402</td>\n",
       "    </tr>\n",
       "    <tr>\n",
       "      <th>27</th>\n",
       "      <td>1993</td>\n",
       "      <td>0.004115</td>\n",
       "      <td>18948</td>\n",
       "      <td>4604402</td>\n",
       "    </tr>\n",
       "    <tr>\n",
       "      <th>28</th>\n",
       "      <td>1992</td>\n",
       "      <td>0.003750</td>\n",
       "      <td>17268</td>\n",
       "      <td>4604402</td>\n",
       "    </tr>\n",
       "    <tr>\n",
       "      <th>29</th>\n",
       "      <td>1991</td>\n",
       "      <td>0.003544</td>\n",
       "      <td>16320</td>\n",
       "      <td>4604402</td>\n",
       "    </tr>\n",
       "    <tr>\n",
       "      <th>30</th>\n",
       "      <td>1990</td>\n",
       "      <td>0.004222</td>\n",
       "      <td>19442</td>\n",
       "      <td>4604402</td>\n",
       "    </tr>\n",
       "  </tbody>\n",
       "</table>\n",
       "</div>"
      ],
      "text/plain": [
       "      years  percentage_tokens_mapped  num_tokens_matched  num_tokens_total\n",
       "0   2020-21                  0.999930             4604079           4604402\n",
       "1      2019                  0.398108             1833051           4604402\n",
       "2      2018                  0.377073             1736197           4604402\n",
       "3      2017                  0.359584             1655668           4604402\n",
       "4      2016                  0.335823             1546265           4604402\n",
       "5      2015                  0.314967             1450236           4604402\n",
       "6      2014                  0.294210             1354663           4604402\n",
       "7      2013                  0.268902             1238134           4604402\n",
       "8      2012                  0.246252             1133845           4604402\n",
       "9      2011                  0.227725             1048536           4604402\n",
       "10     2010                  0.205899              948044           4604402\n",
       "11     2009                  0.183686              845764           4604402\n",
       "12     2008                  0.141181              650055           4604402\n",
       "13     2007                  0.091603              421778           4604402\n",
       "14     2006                  0.072092              331941           4604402\n",
       "15     2005                  0.058979              271564           4604402\n",
       "16     2004                  0.045739              210599           4604402\n",
       "17     2003                  0.035271              162400           4604402\n",
       "18     2002                  0.029642              136483           4604402\n",
       "19     2001                  0.024384              112276           4604402\n",
       "20     2000                  0.021288               98018           4604402\n",
       "21     1999                  0.017939               82599           4604402\n",
       "22     1998                  0.017057               78536           4604402\n",
       "23     1997                  0.016154               74378           4604402\n",
       "24     1996                  0.006553               30173           4604402\n",
       "25     1995                  0.005321               24502           4604402\n",
       "26     1994                  0.003929               18091           4604402\n",
       "27     1993                  0.004115               18948           4604402\n",
       "28     1992                  0.003750               17268           4604402\n",
       "29     1991                  0.003544               16320           4604402\n",
       "30     1990                  0.004222               19442           4604402"
      ]
     },
     "execution_count": 31,
     "metadata": {},
     "output_type": "execute_result"
    }
   ],
   "source": [
    "token_overlap_full_text_df = pd.DataFrame.from_dict(data_rows)\n",
    "token_overlap_full_text_df"
   ]
  },
  {
   "cell_type": "code",
   "execution_count": 32,
   "metadata": {
    "ExecuteTime": {
     "end_time": "2021-05-20T22:04:52.982795Z",
     "start_time": "2021-05-20T22:04:50.842099Z"
    }
   },
   "outputs": [
    {
     "name": "stderr",
     "output_type": "stream",
     "text": [
      "/home/danich1/anaconda3/envs/biovectors/lib/python3.7/site-packages/plotnine/ggplot.py:729: PlotnineWarning: Saving 6.4 x 4.8 in image.\n",
      "/home/danich1/anaconda3/envs/biovectors/lib/python3.7/site-packages/plotnine/ggplot.py:730: PlotnineWarning: Filename: output/figures/tokens_overlap_with_2020-21_full_text.png\n"
     ]
    },
    {
     "data": {
      "image/png": "[encoded data removed]",
      "text/plain": [
       "<Figure size 640x480 with 1 Axes>"
      ]
     },
     "metadata": {},
     "output_type": "display_data"
    },
    {
     "name": "stdout",
     "output_type": "stream",
     "text": [
      "<ggplot: (8789573685424)>\n"
     ]
    }
   ],
   "source": [
    "g = (\n",
    "    p9.ggplot(\n",
    "        token_overlap_full_text_df.iloc[1:, :],\n",
    "        p9.aes(x=\"years\", y=\"percentage_tokens_mapped\"),\n",
    "    )\n",
    "    + p9.geom_col(fill=\"#1f78b4\")\n",
    "    + p9.coord_flip()\n",
    "    + p9.labs(\n",
    "        title=\"Token Overlap with 2020-2021 Full Text\",\n",
    "        x=\"Year\",\n",
    "        y=\"Fraction of Tokens Overlapped\",\n",
    "    )\n",
    ")\n",
    "g.save(\"output/figures/tokens_overlap_with_2020-21_full_text.png\", dpi=500)\n",
    "print(g)"
   ]
  }
 ],
 "metadata": {
  "jupytext": {
   "formats": "ipynb,py"
  },
  "kernelspec": {
   "display_name": "Python [conda env:biovectors]",
   "language": "python",
   "name": "conda-env-biovectors-py"
  },
  "language_info": {
   "codemirror_mode": {
    "name": "ipython",
    "version": 3
   },
   "file_extension": ".py",
   "mimetype": "text/x-python",
   "name": "python",
   "nbconvert_exporter": "python",
   "pygments_lexer": "ipython3",
   "version": "3.7.2"
  },
  "toc": {
   "base_numbering": 1,
   "nav_menu": {},
   "number_sections": true,
   "sideBar": true,
   "skip_h1_title": false,
   "title_cell": "Table of Contents",
   "title_sidebar": "Contents",
   "toc_cell": false,
   "toc_position": {},
   "toc_section_display": true,
   "toc_window_display": false
  }
 },
 "nbformat": 4,
 "nbformat_minor": 2
}
