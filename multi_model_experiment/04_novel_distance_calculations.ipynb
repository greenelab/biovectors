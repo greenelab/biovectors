{
 "cells": [
  {
   "cell_type": "markdown",
   "metadata": {},
   "source": [
    "# Statistical Test for Multi-Model Variation"
   ]
  },
  {
   "cell_type": "markdown",
   "metadata": {},
   "source": [
    "After confirming that aligning multiple word2vec models is a success [03_multi_model_alignment_check.ipynb](03_multi_model_alignment_check.ipynb), the next step is to construct a metric that accounts for intra and inter year variation.\n",
    "\n",
    "Typically, the way to compare words words is to use cosine distance, which measures the distance between two vectors by looking at the angle between two vectors.\n",
    "A more common name for this would be [cosine similarity](https://en.wikipedia.org/wiki/Cosine_similarity); however, the difference here is that cosine distance shifts the range from -1 to 1 to 0 to 2 (1 - cosine similarity).\n",
    "\n",
    "Regarding this project, I'm using cosine distance to see how a word changes across time.\n",
    "I based this comparison off of two metrics defined by authors in [this paper](http://arxiv.org/abs/1606.02821).\n",
    "- Global distance is defined as the cosine distance between words in year with their second year counterparts\n",
    "- Local distance is defined as the cosine distance of a word's similarity to its neighbors across time (no longer used)"
   ]
  },
  {
   "cell_type": "code",
   "execution_count": 1,
   "metadata": {
    "ExecuteTime": {
     "end_time": "2021-12-06T16:14:28.949529Z",
     "start_time": "2021-12-06T16:14:17.430258Z"
    }
   },
   "outputs": [],
   "source": [
    "%load_ext autoreload\n",
    "%autoreload 2\n",
    "\n",
    "from collections import Counter\n",
    "import csv\n",
    "import copy\n",
    "import itertools\n",
    "import math\n",
    "from pathlib import Path\n",
    "import random\n",
    "import re\n",
    "\n",
    "from gensim.models import Word2Vec, KeyedVectors\n",
    "from joblib import Parallel, delayed\n",
    "import numpy as np\n",
    "import pandas as pd\n",
    "import plotnine as p9\n",
    "import plydata as ply\n",
    "import plydata.tidy as ply_tdy\n",
    "import scipy.stats as stats\n",
    "import tqdm\n",
    "\n",
    "from biovectors_modules.word2vec_analysis_helper import align_word2vec_models"
   ]
  },
  {
   "cell_type": "code",
   "execution_count": 2,
   "metadata": {
    "ExecuteTime": {
     "end_time": "2021-12-06T16:14:28.977829Z",
     "start_time": "2021-12-06T16:14:28.950892Z"
    }
   },
   "outputs": [],
   "source": [
    "# Method only used for this notebook\n",
    "def return_global_plot(year_model, tok=\"are\", limits=(0, 1), inter_or_intra=\"intra\"):\n",
    "    g = (\n",
    "        p9.ggplot(\n",
    "            year_model >> ply.query(f\"tok=='{tok}'\"),\n",
    "            p9.aes(x=\"year\", y=\"global_distance\"),\n",
    "        )\n",
    "        + p9.geom_boxplot()\n",
    "        + p9.labs(\n",
    "            title=f\"{inter_or_intra.capitalize()} Year global Distance for Token: '{tok}'\"\n",
    "        )\n",
    "        + p9.coord_flip()\n",
    "        + p9.scale_y_continuous(limits=limits)\n",
    "        + p9.theme_seaborn(style=\"white\")\n",
    "    )\n",
    "    return g"
   ]
  },
  {
   "cell_type": "markdown",
   "metadata": {},
   "source": [
    "# Grab a listing of all word models"
   ]
  },
  {
   "cell_type": "code",
   "execution_count": 3,
   "metadata": {
    "ExecuteTime": {
     "end_time": "2021-12-06T16:14:29.008372Z",
     "start_time": "2021-12-06T16:14:28.979340Z"
    }
   },
   "outputs": [],
   "source": [
    "word_models = list(Path(\"output/models\").rglob(\"*model\"))\n",
    "word_models = sorted(word_models, key=lambda x: x.stem)\n",
    "word_model_filter = list(filter(lambda x: \"2021\" not in x.stem, word_models))"
   ]
  },
  {
   "cell_type": "code",
   "execution_count": 4,
   "metadata": {
    "ExecuteTime": {
     "end_time": "2021-12-06T16:14:39.131264Z",
     "start_time": "2021-12-06T16:14:29.009856Z"
    }
   },
   "outputs": [],
   "source": [
    "alignment_base_model = Word2Vec.load(str(word_model_filter[-1]))\n",
    "temp_output_path = Path(\"output/aligned_vectors_tmp\")"
   ]
  },
  {
   "cell_type": "code",
   "execution_count": 5,
   "metadata": {
    "ExecuteTime": {
     "end_time": "2021-12-06T16:14:39.163911Z",
     "start_time": "2021-12-06T16:14:39.133440Z"
    }
   },
   "outputs": [
    {
     "name": "stderr",
     "output_type": "stream",
     "text": [
      "100%|██████████| 210/210 [00:00<00:00, 80748.43it/s]\n"
     ]
    }
   ],
   "source": [
    "for model_file in tqdm.tqdm(word_model_filter):\n",
    "    if not Path(f\"{str(temp_output_path)}/{model_file.stem}.kv\").exists():\n",
    "        word_model = Word2Vec.load(str(model_file))\n",
    "        aligned_model = align_word2vec_models(alignment_base_model.wv, word_model.wv)\n",
    "        aligned_model.save(f\"{str(temp_output_path)}/{model_file.stem}.kv\")"
   ]
  },
  {
   "cell_type": "markdown",
   "metadata": {},
   "source": [
    "# Inter and Intra Variation calculation"
   ]
  },
  {
   "cell_type": "markdown",
   "metadata": {},
   "source": [
    "Refer to the following scripts in order to perform inter and intra word2vec calculations:\n",
    "1. [pmacs_cluster_running_inter_model_variation.py](pmacs_cluster_running_inter_model_variation.py)\n",
    "2. [pmacs_cluster_running_intra_model_variation.py](pmacs_cluster_running_intra_model_variation.py)"
   ]
  },
  {
   "cell_type": "markdown",
   "metadata": {},
   "source": [
    "# Are word2vec models unstable?"
   ]
  },
  {
   "cell_type": "markdown",
   "metadata": {},
   "source": [
    "Due to the nature of negative sampling, word2vec models generat weights arbitrarily.\n",
    "This is undesired as a token in the year 2000 cannot be compared with a token in 2001.\n",
    "A solution is to use orthogonal procrustes to align word2vec models; however, variation could still remain in these word models.\n",
    "To measure this variation I trained 10 unique word2vec models on abstracts for each given year and then calculated global and local distances between every word2vec model pair (10 choose 2).\n",
    "From there I analyzed variation within each year (term intra-year variation)."
   ]
  },
  {
   "cell_type": "markdown",
   "metadata": {},
   "source": [
    "## Intra Model Calculations"
   ]
  },
  {
   "cell_type": "code",
   "execution_count": 6,
   "metadata": {
    "ExecuteTime": {
     "end_time": "2021-12-06T16:23:06.102952Z",
     "start_time": "2021-12-06T16:14:39.165142Z"
    },
    "scrolled": false
   },
   "outputs": [],
   "source": [
    "intra_year_models = []\n",
    "for idx, file in enumerate(Path(\"output/intra_models\").rglob(\"*.tsv.xz\")):\n",
    "    intra_year_model_df = pd.read_csv(\n",
    "        str(file), sep=\"\\t\", na_filter=False\n",
    "    ) >> ply_tdy.extract(\"year_pair\", into=\"year\", regex=r\"(\\d+)_\", convert=True)\n",
    "\n",
    "    intra_year_models.append(intra_year_model_df)\n",
    "\n",
    "    if Path(\n",
    "        f\"output/averaged_intra_models/average_{str(Path(file.stem).stem)}.tsv\"\n",
    "    ).exists():\n",
    "        continue\n",
    "\n",
    "    averaged_intra_year_models = dict()\n",
    "    for idx, row in tqdm.tqdm(\n",
    "        intra_year_model_df.iterrows(), desc=f\"intra_df: {str(file)}\"\n",
    "    ):\n",
    "        if (row[\"tok\"], int(row[\"year\"])) not in averaged_intra_year_models:\n",
    "            averaged_intra_year_models[(row[\"tok\"], int(row[\"year\"]))] = dict(\n",
    "                global_distance=[], local_distance=[]\n",
    "            )\n",
    "\n",
    "        averaged_intra_year_models[(row[\"tok\"], int(row[\"year\"]))][\n",
    "            \"global_distance\"\n",
    "        ].append(row[\"global_distance\"])\n",
    "        averaged_intra_year_models[(row[\"tok\"], int(row[\"year\"]))][\n",
    "            \"local_distance\"\n",
    "        ].append(row[\"local_distance\"])\n",
    "\n",
    "    with open(\n",
    "        f\"output/averaged_intra_models/average_{str(Path(file.stem).stem)}.tsv\", \"w\"\n",
    "    ) as outfile:\n",
    "        fieldnames = [\n",
    "            \"average_global_distance\",\n",
    "            \"average_local_distance\",\n",
    "            \"var_global_distance\",\n",
    "            \"var_local_distance\",\n",
    "            \"tok\",\n",
    "            \"year\",\n",
    "        ]\n",
    "        writer = csv.DictWriter(outfile, fieldnames=fieldnames, delimiter=\"\\t\")\n",
    "        writer.writeheader()\n",
    "\n",
    "        for tok, year in tqdm.tqdm(\n",
    "            averaged_intra_year_models, desc=f\"summary_intra_writer: {str(file.stem)}\"\n",
    "        ):\n",
    "            writer.writerow(\n",
    "                {\n",
    "                    \"average_global_distance\": np.mean(\n",
    "                        averaged_intra_year_models[(tok, year)][\"global_distance\"]\n",
    "                    ),\n",
    "                    \"var_global_distance\": np.var(\n",
    "                        averaged_intra_year_models[(tok, year)][\"global_distance\"]\n",
    "                    ),\n",
    "                    \"average_local_distance\": np.mean(\n",
    "                        averaged_intra_year_models[(tok, year)][\"local_distance\"]\n",
    "                    ),\n",
    "                    \"var_local_distance\": np.var(\n",
    "                        averaged_intra_year_models[(tok, year)][\"local_distance\"]\n",
    "                    ),\n",
    "                    \"tok\": tok,\n",
    "                    \"year\": year,\n",
    "                }\n",
    "            )"
   ]
  },
  {
   "cell_type": "code",
   "execution_count": 7,
   "metadata": {
    "ExecuteTime": {
     "end_time": "2021-12-06T16:23:54.792686Z",
     "start_time": "2021-12-06T16:23:06.104121Z"
    }
   },
   "outputs": [
    {
     "data": {
      "text/html": [
       "<div>\n",
       "<style scoped>\n",
       "    .dataframe tbody tr th:only-of-type {\n",
       "        vertical-align: middle;\n",
       "    }\n",
       "\n",
       "    .dataframe tbody tr th {\n",
       "        vertical-align: top;\n",
       "    }\n",
       "\n",
       "    .dataframe thead th {\n",
       "        text-align: right;\n",
       "    }\n",
       "</style>\n",
       "<table border=\"1\" class=\"dataframe\">\n",
       "  <thead>\n",
       "    <tr style=\"text-align: right;\">\n",
       "      <th></th>\n",
       "      <th>tok</th>\n",
       "      <th>year</th>\n",
       "      <th>global_distance</th>\n",
       "      <th>local_distance</th>\n",
       "    </tr>\n",
       "  </thead>\n",
       "  <tbody>\n",
       "    <tr>\n",
       "      <th>0</th>\n",
       "      <td>lv</td>\n",
       "      <td>2003</td>\n",
       "      <td>0.082675</td>\n",
       "      <td>0.001640</td>\n",
       "    </tr>\n",
       "    <tr>\n",
       "      <th>1</th>\n",
       "      <td>else</td>\n",
       "      <td>2003</td>\n",
       "      <td>0.209104</td>\n",
       "      <td>0.023128</td>\n",
       "    </tr>\n",
       "    <tr>\n",
       "      <th>2</th>\n",
       "      <td>parasitization</td>\n",
       "      <td>2003</td>\n",
       "      <td>0.273858</td>\n",
       "      <td>0.093215</td>\n",
       "    </tr>\n",
       "    <tr>\n",
       "      <th>3</th>\n",
       "      <td>dairy</td>\n",
       "      <td>2003</td>\n",
       "      <td>0.053674</td>\n",
       "      <td>0.001084</td>\n",
       "    </tr>\n",
       "    <tr>\n",
       "      <th>4</th>\n",
       "      <td>humidified</td>\n",
       "      <td>2003</td>\n",
       "      <td>0.328590</td>\n",
       "      <td>0.045201</td>\n",
       "    </tr>\n",
       "  </tbody>\n",
       "</table>\n",
       "</div>"
      ],
      "text/plain": [
       "              tok  year  global_distance  local_distance\n",
       "0              lv  2003         0.082675        0.001640\n",
       "1            else  2003         0.209104        0.023128\n",
       "2  parasitization  2003         0.273858        0.093215\n",
       "3           dairy  2003         0.053674        0.001084\n",
       "4      humidified  2003         0.328590        0.045201"
      ]
     },
     "execution_count": 7,
     "metadata": {},
     "output_type": "execute_result"
    }
   ],
   "source": [
    "intra_year_models = pd.concat(intra_year_models)\n",
    "intra_year_models.year = pd.Categorical(intra_year_models.year.tolist())\n",
    "intra_year_models.head()"
   ]
  },
  {
   "cell_type": "code",
   "execution_count": 8,
   "metadata": {
    "ExecuteTime": {
     "end_time": "2021-12-06T16:24:03.112558Z",
     "start_time": "2021-12-06T16:23:54.794397Z"
    }
   },
   "outputs": [
    {
     "data": {
      "image/png": "[encoded data removed]",
      "text/plain": [
       "<Figure size 640x480 with 1 Axes>"
      ]
     },
     "metadata": {},
     "output_type": "display_data"
    },
    {
     "data": {
      "text/plain": [
       "<ggplot: (8746659620528)>"
      ]
     },
     "execution_count": 8,
     "metadata": {},
     "output_type": "execute_result"
    }
   ],
   "source": [
    "return_global_plot(intra_year_models, limits=(0, 0.1))"
   ]
  },
  {
   "cell_type": "code",
   "execution_count": 9,
   "metadata": {
    "ExecuteTime": {
     "end_time": "2021-12-06T16:24:07.680381Z",
     "start_time": "2021-12-06T16:24:03.114000Z"
    }
   },
   "outputs": [
    {
     "data": {
      "image/png": "[encoded data removed]",
      "text/plain": [
       "<Figure size 640x480 with 1 Axes>"
      ]
     },
     "metadata": {},
     "output_type": "display_data"
    },
    {
     "data": {
      "text/plain": [
       "<ggplot: (-9223363290366908612)>"
      ]
     },
     "execution_count": 9,
     "metadata": {},
     "output_type": "execute_result"
    }
   ],
   "source": [
    "return_global_plot(intra_year_models, \"privacy\", limits=(0, 0.5))"
   ]
  },
  {
   "cell_type": "code",
   "execution_count": 10,
   "metadata": {
    "ExecuteTime": {
     "end_time": "2021-12-06T16:24:12.231785Z",
     "start_time": "2021-12-06T16:24:07.681685Z"
    },
    "scrolled": false
   },
   "outputs": [
    {
     "data": {
      "image/png": "[encoded data removed]",
      "text/plain": [
       "<Figure size 640x480 with 1 Axes>"
      ]
     },
     "metadata": {},
     "output_type": "display_data"
    },
    {
     "data": {
      "text/plain": [
       "<ggplot: (8746300438185)>"
      ]
     },
     "execution_count": 10,
     "metadata": {},
     "output_type": "execute_result"
    }
   ],
   "source": [
    "return_global_plot(intra_year_models, \"rna\", limits=(0, 0.5))"
   ]
  },
  {
   "cell_type": "markdown",
   "metadata": {},
   "source": [
    "## Inter Model Calculations"
   ]
  },
  {
   "cell_type": "code",
   "execution_count": 11,
   "metadata": {
    "ExecuteTime": {
     "end_time": "2021-12-06T16:24:12.263931Z",
     "start_time": "2021-12-06T16:24:12.233125Z"
    }
   },
   "outputs": [],
   "source": [
    "for idx, file in enumerate(Path(\"output/inter_models/on_years\").rglob(\"*.tsv.xz\")):\n",
    "\n",
    "    average_file_name = f\"output/averaged_inter_models/average_{str(Path(file).stem)}\"\n",
    "\n",
    "    if Path(average_file_name).exists():\n",
    "        continue\n",
    "\n",
    "    inter_year_model_df = pd.read_csv(\n",
    "        str(file), sep=\"\\t\", na_filter=False\n",
    "    ) >> ply_tdy.extract(\n",
    "        \"year_pair\", into=[\"year1\", \"year2\"], regex=r\"(\\d+)_\\d-(\\d+)_\\d\", convert=True\n",
    "    )\n",
    "\n",
    "    averaged_inter_year_models = dict()\n",
    "    for idx, row in tqdm.tqdm(\n",
    "        inter_year_model_df.iterrows(), desc=f\"inter_df {str(Path(file).stem)}\"\n",
    "    ):\n",
    "\n",
    "        if (\n",
    "            row[\"tok\"],\n",
    "            int(row[\"year1\"]),\n",
    "            int(row[\"year2\"]),\n",
    "        ) not in averaged_inter_year_models:\n",
    "            averaged_inter_year_models[\n",
    "                (row[\"tok\"], int(row[\"year1\"]), int(row[\"year2\"]))\n",
    "            ] = dict(global_distance=[], local_distance=[])\n",
    "\n",
    "        averaged_inter_year_models[(row[\"tok\"], int(row[\"year1\"]), int(row[\"year2\"]))][\n",
    "            \"global_distance\"\n",
    "        ].append(row[\"global_distance\"])\n",
    "\n",
    "    with open(average_file_name, \"w\") as outfile:\n",
    "        fieldnames = [\n",
    "            \"average_global_distance\",\n",
    "            \"var_global_distance\",\n",
    "            \"tok\",\n",
    "            \"year1\",\n",
    "            \"year2\",\n",
    "        ]\n",
    "        writer = csv.DictWriter(outfile, fieldnames=fieldnames, delimiter=\"\\t\")\n",
    "        writer.writeheader()\n",
    "\n",
    "        for tok, year1, year2 in tqdm.tqdm(\n",
    "            averaged_inter_year_models, desc=\"summary_inter_writer\"\n",
    "        ):\n",
    "            writer.writerow(\n",
    "                {\n",
    "                    \"average_global_distance\": np.mean(\n",
    "                        averaged_inter_year_models[(tok, year1, year2)][\n",
    "                            \"global_distance\"\n",
    "                        ]\n",
    "                    ),\n",
    "                    \"var_global_distance\": np.var(\n",
    "                        averaged_inter_year_models[(tok, year1, year2)][\n",
    "                            \"global_distance\"\n",
    "                        ]\n",
    "                    ),\n",
    "                    \"tok\": tok,\n",
    "                    \"year1\": year1,\n",
    "                    \"year2\": year2,\n",
    "                }\n",
    "            )"
   ]
  },
  {
   "cell_type": "markdown",
   "metadata": {},
   "source": [
    "# Custom Statistic that accounts for Inter and Intra Variation"
   ]
  },
  {
   "cell_type": "markdown",
   "metadata": {},
   "source": [
    "I needed to figure out a metric to take in inter-year (between years) and intra-year(within year variation).\n",
    "Turns out population genetics developed a statistic that accounts for genetic variation between populations and with in populations (termed $Q_{st}$).\n",
    "This metric is calculated via this equation: $$Q_{st}= \\frac{Variation_{between}}{Variation_{between} + 2*Variation_{within}}$$\n",
    "\n",
    "Translating this equation into my field, population is the same as a group of word2vec models trained on abstracts for a given year.\n",
    "Each \"year\" has it's own variation (intra) along with variation across years (inter), so the idea here is to try and capture this instability.\n",
    "\n",
    "Using the equation above as inspiration, I devise a custom equation below.\n",
    "\n",
    "First have to define the distance mapping function:\n",
    "Let distance be cosine distance: $$ distance(w_{x}, w_{y}) = cos\\_dist(w_{x}, w_{y})$$ where $$ 0 \\leq cos\\_dist(w_{x}, w_{y}) \\leq 2$$\n",
    "\n",
    "Values close to 2 signify completely opposite word contexts, while values close to 0 signify same word context.\n",
    "\n",
    "Every publication year has ten models. I took the average distance of every model combination for a given year to calculate the intra year variation for each given word.\n",
    "E.g. year 2000 has 10 choose 2 options so for every combination pair I calculated the distance above and then averaged over all years.\n",
    "For inter year I just performed the cartesian product of all models between years and then perform the same average approach above.\n",
    "Now assume each distance is averaged, we get the following equation:\n",
    "\n",
    "$$\\hat{Distance} = \\frac{Distance_{inter\\_year(x,y)}}{Distance_{inter\\_year(x,y)} + Distance_{intra\\_year(x)} + Distance_{intra\\_year(y)}}$$\n",
    "\n",
    "Where x and y are a particular year and $x \\neq y$.\n",
    "If $x = y$ then this estimate would be 1.\n",
    "\n",
    "However, I cant use this metric for bayesian changepoint detection as this metric would be completely dominated by\n",
    "the frequency ratio metric.\n",
    "In other words the above metric is bound between 0 and 1, while the frequency ratio is bounded between 0 and infinity.\n",
    "Therefore, the change metric heavily depends on frequency to work. This is bad as there are words that have undergone a semantic change, but have yet to have a change in frequency to detect said change (e.g. increase).\n",
    "\n",
    "To account for this I'm using the following metric instead:\n",
    "$$\\hat{Distance} = \\frac{Distance_{inter\\_year(x,y)}}{Distance_{intra\\_year(x)} + Distance_{intra\\_year(y)}}$$"
   ]
  },
  {
   "cell_type": "code",
   "execution_count": 12,
   "metadata": {
    "ExecuteTime": {
     "end_time": "2021-12-06T16:24:15.556276Z",
     "start_time": "2021-12-06T16:24:12.265137Z"
    }
   },
   "outputs": [
    {
     "data": {
      "text/html": [
       "<div>\n",
       "<style scoped>\n",
       "    .dataframe tbody tr th:only-of-type {\n",
       "        vertical-align: middle;\n",
       "    }\n",
       "\n",
       "    .dataframe tbody tr th {\n",
       "        vertical-align: top;\n",
       "    }\n",
       "\n",
       "    .dataframe thead th {\n",
       "        text-align: right;\n",
       "    }\n",
       "</style>\n",
       "<table border=\"1\" class=\"dataframe\">\n",
       "  <thead>\n",
       "    <tr style=\"text-align: right;\">\n",
       "      <th></th>\n",
       "      <th>average_global_distance</th>\n",
       "      <th>average_local_distance</th>\n",
       "      <th>var_global_distance</th>\n",
       "      <th>var_local_distance</th>\n",
       "      <th>tok</th>\n",
       "      <th>year</th>\n",
       "    </tr>\n",
       "  </thead>\n",
       "  <tbody>\n",
       "    <tr>\n",
       "      <th>0</th>\n",
       "      <td>0.410073</td>\n",
       "      <td>0.025239</td>\n",
       "      <td>0.012523</td>\n",
       "      <td>0.001628</td>\n",
       "      <td>20/33</td>\n",
       "      <td>2014</td>\n",
       "    </tr>\n",
       "    <tr>\n",
       "      <th>1</th>\n",
       "      <td>0.359794</td>\n",
       "      <td>0.113411</td>\n",
       "      <td>0.001748</td>\n",
       "      <td>0.009297</td>\n",
       "      <td>cobamide</td>\n",
       "      <td>2014</td>\n",
       "    </tr>\n",
       "    <tr>\n",
       "      <th>2</th>\n",
       "      <td>0.234263</td>\n",
       "      <td>0.003609</td>\n",
       "      <td>0.000471</td>\n",
       "      <td>0.000001</td>\n",
       "      <td>ov-3</td>\n",
       "      <td>2014</td>\n",
       "    </tr>\n",
       "    <tr>\n",
       "      <th>3</th>\n",
       "      <td>0.340756</td>\n",
       "      <td>0.068135</td>\n",
       "      <td>0.000501</td>\n",
       "      <td>0.000778</td>\n",
       "      <td>inconsequential</td>\n",
       "      <td>2014</td>\n",
       "    </tr>\n",
       "    <tr>\n",
       "      <th>4</th>\n",
       "      <td>0.448973</td>\n",
       "      <td>0.157008</td>\n",
       "      <td>0.002355</td>\n",
       "      <td>0.017869</td>\n",
       "      <td>33/51</td>\n",
       "      <td>2014</td>\n",
       "    </tr>\n",
       "  </tbody>\n",
       "</table>\n",
       "</div>"
      ],
      "text/plain": [
       "   average_global_distance  average_local_distance  var_global_distance  \\\n",
       "0                 0.410073                0.025239             0.012523   \n",
       "1                 0.359794                0.113411             0.001748   \n",
       "2                 0.234263                0.003609             0.000471   \n",
       "3                 0.340756                0.068135             0.000501   \n",
       "4                 0.448973                0.157008             0.002355   \n",
       "\n",
       "   var_local_distance              tok  year  \n",
       "0            0.001628            20/33  2014  \n",
       "1            0.009297         cobamide  2014  \n",
       "2            0.000001             ov-3  2014  \n",
       "3            0.000778  inconsequential  2014  \n",
       "4            0.017869            33/51  2014  "
      ]
     },
     "execution_count": 12,
     "metadata": {},
     "output_type": "execute_result"
    }
   ],
   "source": [
    "intra_year_averaged = pd.concat(\n",
    "    [\n",
    "        pd.read_csv(str(file), sep=\"\\t\", na_filter=False)\n",
    "        for file in Path(\"output/averaged_intra_models\").rglob(\"*.tsv\")\n",
    "    ]\n",
    ")\n",
    "intra_year_averaged.head()"
   ]
  },
  {
   "cell_type": "code",
   "execution_count": 13,
   "metadata": {
    "ExecuteTime": {
     "end_time": "2021-12-06T16:28:25.017741Z",
     "start_time": "2021-12-06T16:24:15.557457Z"
    }
   },
   "outputs": [
    {
     "name": "stderr",
     "output_type": "stream",
     "text": [
      "3281667it [04:09, 13156.53it/s]\n"
     ]
    }
   ],
   "source": [
    "tok_intra_year = dict()\n",
    "for idx, row in tqdm.tqdm(intra_year_averaged.iterrows()):\n",
    "    tok_intra_year[(row[\"tok\"], row[\"year\"])] = {\n",
    "        \"global\": row[\"average_global_distance\"],\n",
    "        \"local\": row[\"average_local_distance\"],\n",
    "    }"
   ]
  },
  {
   "cell_type": "code",
   "execution_count": 14,
   "metadata": {
    "ExecuteTime": {
     "end_time": "2021-12-06T16:28:25.047059Z",
     "start_time": "2021-12-06T16:28:25.018954Z"
    }
   },
   "outputs": [
    {
     "data": {
      "text/plain": [
       "20"
      ]
     },
     "execution_count": 14,
     "metadata": {},
     "output_type": "execute_result"
    }
   ],
   "source": [
    "inter_model_files = list(Path(\"output/averaged_inter_models\").rglob(\"*tsv\"))\n",
    "unique_years = set(\n",
    "    list(map(lambda x: int(re.search(r\"(\\d+)\", x.stem).groups()[0]), inter_model_files))\n",
    ")\n",
    "len(unique_years)"
   ]
  },
  {
   "cell_type": "code",
   "execution_count": 16,
   "metadata": {
    "ExecuteTime": {
     "end_time": "2021-12-06T16:37:16.826686Z",
     "start_time": "2021-12-06T16:32:58.440025Z"
    },
    "scrolled": false
   },
   "outputs": [
    {
     "name": "stderr",
     "output_type": "stream",
     "text": [
      "20302it [00:02, 9513.40it/s]\n",
      "22809it [00:02, 10002.78it/s]\n",
      "23924it [00:02, 10012.30it/s]\n",
      "26849it [00:02, 9923.59it/s]\n",
      "33010it [00:03, 9865.00it/s]\n",
      "41305it [00:04, 9942.82it/s]\n",
      "50573it [00:05, 9995.34it/s] \n",
      "66727it [00:06, 10039.33it/s]\n",
      "95922it [00:09, 10025.86it/s]\n",
      "117306it [00:11, 10081.42it/s]\n",
      "131356it [00:13, 10038.12it/s]\n",
      "145115it [00:14, 10029.38it/s]\n",
      "159024it [00:15, 10043.84it/s]\n",
      "174715it [00:17, 9980.86it/s] \n",
      "189129it [00:18, 10023.59it/s]\n",
      "199621it [00:20, 9969.80it/s] \n",
      "210139it [00:21, 9954.41it/s] \n",
      "219908it [00:21, 10024.41it/s]\n",
      "229032it [00:22, 9963.12it/s] \n",
      "285138it [00:28, 9999.02it/s] \n"
     ]
    }
   ],
   "source": [
    "for year in unique_years:\n",
    "\n",
    "    if Path(\n",
    "        f\"output/combined_inter_intra_distances/saved_{year}-{year+1}_distance.tsv\"\n",
    "    ).exists():\n",
    "        print(f\"{year}-{year+1} exists!\")\n",
    "        continue\n",
    "\n",
    "    inter_year_models_averaged = pd.concat(\n",
    "        [\n",
    "            pd.read_csv(str(file), sep=\"\\t\", na_filter=False)\n",
    "            for file in filter(\n",
    "                lambda x: int(re.search(r\"(\\d+)\", x.stem).group(0)) == year,\n",
    "                Path(\"output/averaged_inter_models\").rglob(f\"*{year}*.tsv\"),\n",
    "            )\n",
    "        ]\n",
    "    )\n",
    "\n",
    "    data = []\n",
    "    already_seen = set()\n",
    "    for idx, row in tqdm.tqdm(inter_year_models_averaged.iterrows()):\n",
    "\n",
    "        # Inter year variation\n",
    "        global_inter_top = row[\"average_global_distance\"]\n",
    "        # local_inter_top = row[\"average_local_distance\"]\n",
    "\n",
    "        if (row[\"tok\"], int(row[\"year1\"])) not in tok_intra_year or (\n",
    "            row[\"tok\"],\n",
    "            int(row[\"year2\"]),\n",
    "        ) not in tok_intra_year:\n",
    "            continue\n",
    "\n",
    "        # global intra year variation\n",
    "        global_intra_bottom = (\n",
    "            tok_intra_year[(row[\"tok\"], int(row[\"year1\"]))][\"global\"]\n",
    "            + tok_intra_year[(row[\"tok\"], int(row[\"year2\"]))][\"global\"]\n",
    "        )\n",
    "\n",
    "        global_distance_qst = global_inter_top / (\n",
    "            global_inter_top + global_intra_bottom\n",
    "        )\n",
    "\n",
    "        data.append(\n",
    "            {\n",
    "                \"tok\": row[\"tok\"],\n",
    "                \"original_global_distance\": global_inter_top,\n",
    "                \"global_distance_qst\": global_distance_qst,\n",
    "                \"ratio_metric\": global_inter_top / global_intra_bottom,\n",
    "                \"year_1\": row[\"year1\"],\n",
    "                \"year_2\": row[\"year2\"],\n",
    "            }\n",
    "        )\n",
    "\n",
    "    (\n",
    "        pd.DataFrame.from_records(data)\n",
    "        >> ply.call(\n",
    "            \".to_csv\",\n",
    "            f\"output/combined_inter_intra_distances/saved_{year}-{year+1}_distance.tsv\",\n",
    "            sep=\"\\t\",\n",
    "            index=False,\n",
    "        )\n",
    "    )"
   ]
  }
 ],
 "metadata": {
  "jupytext": {
   "formats": "ipynb,py"
  },
  "kernelspec": {
   "display_name": "Python [conda env:biovectors]",
   "language": "python",
   "name": "conda-env-biovectors-py"
  },
  "language_info": {
   "codemirror_mode": {
    "name": "ipython",
    "version": 3
   },
   "file_extension": ".py",
   "mimetype": "text/x-python",
   "name": "python",
   "nbconvert_exporter": "python",
   "pygments_lexer": "ipython3",
   "version": "3.7.2"
  },
  "toc": {
   "base_numbering": 1,
   "nav_menu": {},
   "number_sections": true,
   "sideBar": true,
   "skip_h1_title": false,
   "title_cell": "Table of Contents",
   "title_sidebar": "Contents",
   "toc_cell": false,
   "toc_position": {},
   "toc_section_display": true,
   "toc_window_display": false
  }
 },
 "nbformat": 4,
 "nbformat_minor": 2
}
