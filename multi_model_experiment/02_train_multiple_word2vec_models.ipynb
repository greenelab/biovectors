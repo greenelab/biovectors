{
 "cells": [
  {
   "cell_type": "markdown",
   "metadata": {},
   "source": [
    "# Train Multiple Word2vec Models at One Time"
   ]
  },
  {
   "cell_type": "code",
   "execution_count": 1,
   "metadata": {
    "ExecuteTime": {
     "end_time": "2021-06-30T13:50:32.436491Z",
     "start_time": "2021-06-30T13:50:25.717937Z"
    }
   },
   "outputs": [],
   "source": [
    "import multiprocessing\n",
    "from pathlib import Path\n",
    "import random\n",
    "import re\n",
    "import time\n",
    "\n",
    "from gensim.models import Word2Vec\n",
    "import lxml.etree as ET\n",
    "import spacy"
   ]
  },
  {
   "cell_type": "markdown",
   "metadata": {
    "ExecuteTime": {
     "end_time": "2021-06-19T22:46:35.824572Z",
     "start_time": "2021-06-19T22:46:35.822447Z"
    }
   },
   "source": [
    "# Set up Document Iterator"
   ]
  },
  {
   "cell_type": "code",
   "execution_count": 3,
   "metadata": {
    "ExecuteTime": {
     "end_time": "2021-06-30T13:50:32.514839Z",
     "start_time": "2021-06-30T13:50:32.461947Z"
    }
   },
   "outputs": [],
   "source": [
    "class AbstractIterator:\n",
    "    def __init__(self, file_iterator, section_filter=None, seed=100):\n",
    "        self.file_iterator = file_iterator\n",
    "\n",
    "        if section_filter is None:\n",
    "            section_filter = [\"TITLE\", \"ABSTRACT\"]\n",
    "        self.section_filter = section_filter\n",
    "\n",
    "        disabled_pipelines = [\n",
    "            \"tagger\",\n",
    "            \"parser\",\n",
    "            \"ner\",\n",
    "            \"attribute_ruler\",\n",
    "            \"tok2vec\",\n",
    "        ]\n",
    "        self.nlp = spacy.load(\"en_core_web_sm\", disable=disabled_pipelines)\n",
    "        random.seed(seed)\n",
    "\n",
    "    def __iter__(self):\n",
    "        random.shuffle(self.file_iterator)\n",
    "        for doc in self.file_iterator:\n",
    "            doc_obj = ET.parse(str(doc)).getroot()\n",
    "\n",
    "            for passage in doc_obj.xpath(\"passage\"):\n",
    "                section = passage.xpath(\"infon[@key='section_type']/text()\")\n",
    "\n",
    "                if section[0] not in self.section_filter:\n",
    "                    continue\n",
    "\n",
    "                passage_text = passage.xpath(\"text/text()\")\n",
    "\n",
    "                if len(passage_text) < 1:\n",
    "                    continue\n",
    "\n",
    "                passage_text = passage_text[0]\n",
    "\n",
    "                passage_offset = passage.xpath(\"offset/text()\")[0]\n",
    "                current_pos = 0\n",
    "                yield_text = \"\"\n",
    "\n",
    "                sorted_passages = sorted(\n",
    "                    passage.xpath(\"annotation\"),\n",
    "                    key=lambda x: int(x.xpath(\"location\")[0].attrib[\"offset\"]),\n",
    "                )\n",
    "\n",
    "                for annotation in sorted_passages:\n",
    "                    annot_identifier = annotation.xpath(\n",
    "                        \"infon[@key='identifier']/text()\"\n",
    "                    )\n",
    "\n",
    "                    if len(annot_identifier) == 0 or annot_identifier[0] == \"-\":\n",
    "                        continue\n",
    "\n",
    "                    annot_text = annotation.xpath(\"text/text()\")[0]\n",
    "                    location = annotation.xpath(\"location\")\n",
    "\n",
    "                    # replace string with identifier\n",
    "                    entity_start = int(location[0].attrib[\"offset\"]) - int(\n",
    "                        passage_offset\n",
    "                    )\n",
    "                    entity_end = entity_start + int(location[0].attrib[\"length\"])\n",
    "                    replacement_str = re.sub(r\"\\s+\", \"_\", annot_text)\n",
    "                    replacement_str = f\" {replacement_str} \"\n",
    "                    yield_text += (\n",
    "                        passage_text[current_pos:entity_start] + replacement_str\n",
    "                    )\n",
    "                    current_pos = entity_end\n",
    "\n",
    "                yield_text += passage_text[current_pos:]\n",
    "                analyzed_text = self.nlp(yield_text.lower())\n",
    "\n",
    "                yield list(map(str, analyzed_text))\n",
    "\n",
    "            doc_obj.clear()"
   ]
  },
  {
   "cell_type": "code",
   "execution_count": 4,
   "metadata": {
    "ExecuteTime": {
     "end_time": "2021-06-30T13:50:32.622566Z",
     "start_time": "2021-06-30T13:50:32.520073Z"
    }
   },
   "outputs": [],
   "source": [
    "def train_word2vec(doc_iterator):\n",
    "    seed = 100 + doc_iterator[2]\n",
    "    model = Word2Vec(size=300, seed=seed, window=16, workers=5, min_count=1)\n",
    "    model.build_vocab(doc_iterator[0])\n",
    "    model.train(doc_iterator[0], epochs=10, total_examples=model.corpus_count)\n",
    "    Path(f\"output/models/{doc_iterator[1]}\").mkdir(parents=True, exist_ok=True)\n",
    "    model.save(\n",
    "        f\"output/models/{doc_iterator[1]}/{doc_iterator[1]}_{doc_iterator[2]}.model\"\n",
    "    )\n",
    "    return f\"finished {doc_iterator[2]}\""
   ]
  },
  {
   "cell_type": "markdown",
   "metadata": {},
   "source": [
    "# Train the Word2Vec models"
   ]
  },
  {
   "cell_type": "code",
   "execution_count": 5,
   "metadata": {
    "ExecuteTime": {
     "end_time": "2021-06-30T13:50:32.704381Z",
     "start_time": "2021-06-30T13:50:32.627793Z"
    }
   },
   "outputs": [],
   "source": [
    "folder_years = sorted(\n",
    "    list(Path(\"output/abstract_output\").iterdir()), key=lambda x: str(x).split(\"/\")[1]\n",
    ")"
   ]
  },
  {
   "cell_type": "code",
   "execution_count": null,
   "metadata": {
    "ExecuteTime": {
     "start_time": "2021-06-30T13:50:25.670Z"
    },
    "scrolled": false
   },
   "outputs": [
    {
     "name": "stdout",
     "output_type": "stream",
     "text": [
      "output/2000\n",
      "output/2001\n",
      "output/2002\n",
      "output/2003\n",
      "output/2004\n",
      "output/2005\n",
      "output/2006\n",
      "output/2007\n",
      "output/2008\n",
      "output/2009\n",
      "output/2010\n",
      "output/2011\n",
      "output/2012\n",
      "output/2013\n"
     ]
    }
   ],
   "source": [
    "# create a pool of word2vec models\n",
    "# Each pool trains the model and then see if you can train simultaenously\n",
    "for year in folder_years:\n",
    "    print(year)\n",
    "    year_test = str(year).split(\"/\")[1]\n",
    "    if not Path(f\"output/models/{year_test}\").exists():\n",
    "        num_of_models = 10\n",
    "        with multiprocessing.Pool(processes=3) as pool:\n",
    "            batch_files = list(year.rglob(\"*xml\"))\n",
    "            doc_iterators = [\n",
    "                (AbstractIterator(batch_files), str(year).split(\"/\")[1], idx)\n",
    "                for idx in range(num_of_models)\n",
    "            ]\n",
    "            pool.map(train_word2vec, doc_iterators)"
   ]
  }
 ],
 "metadata": {
  "jupytext": {
   "formats": "ipynb,py"
  },
  "kernelspec": {
   "display_name": "Python [conda env:biovectors]",
   "language": "python",
   "name": "conda-env-biovectors-py"
  },
  "language_info": {
   "codemirror_mode": {
    "name": "ipython",
    "version": 3
   },
   "file_extension": ".py",
   "mimetype": "text/x-python",
   "name": "python",
   "nbconvert_exporter": "python",
   "pygments_lexer": "ipython3",
   "version": "3.7.2"
  },
  "toc": {
   "base_numbering": 1,
   "nav_menu": {},
   "number_sections": true,
   "sideBar": true,
   "skip_h1_title": false,
   "title_cell": "Table of Contents",
   "title_sidebar": "Contents",
   "toc_cell": false,
   "toc_position": {},
   "toc_section_display": true,
   "toc_window_display": false
  }
 },
 "nbformat": 4,
 "nbformat_minor": 2
}
