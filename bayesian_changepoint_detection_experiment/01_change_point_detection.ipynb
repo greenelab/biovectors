{
 "cells": [
  {
   "cell_type": "markdown",
   "metadata": {},
   "source": [
    "# Change Point Detection"
   ]
  },
  {
   "cell_type": "markdown",
   "metadata": {},
   "source": [
    "This notebook is designed to perform bayesian change point detection on each individual token.\n",
    "This method provides probability estimates that a changepoint occurred at a given time point.\n",
    "There may be a problem with detecting changes at the extreme ends of the time series but inconclusive at the moment."
   ]
  },
  {
   "cell_type": "code",
   "execution_count": 1,
   "metadata": {
    "ExecuteTime": {
     "end_time": "2021-11-08T18:21:22.367254Z",
     "start_time": "2021-11-08T18:21:20.255584Z"
    }
   },
   "outputs": [
    {
     "name": "stdout",
     "output_type": "stream",
     "text": [
      "Use scipy logsumexp().\n"
     ]
    }
   ],
   "source": [
    "from functools import partial\n",
    "from pathlib import Path\n",
    "import re\n",
    "\n",
    "from gensim.models import Word2Vec\n",
    "import numpy as np\n",
    "import pandas as pd\n",
    "import plotnine as p9\n",
    "import plydata as ply\n",
    "import plydata.tidy as ply_tdy\n",
    "import tqdm\n",
    "\n",
    "import bayesian_changepoint_detection.offline_changepoint_detection as offcd"
   ]
  },
  {
   "cell_type": "markdown",
   "metadata": {},
   "source": [
    "# Grab Word Frequencies"
   ]
  },
  {
   "cell_type": "code",
   "execution_count": 2,
   "metadata": {
    "ExecuteTime": {
     "end_time": "2021-11-08T18:21:22.374896Z",
     "start_time": "2021-11-08T18:21:22.368941Z"
    }
   },
   "outputs": [],
   "source": [
    "if not Path(\"output/all_tok_frequencies.tsv\").exists():\n",
    "    data = []\n",
    "    for model in tqdm.tqdm(sorted(list(Path(\"models\").rglob(\"*/*_0.model\")))):\n",
    "        wv_model = Word2Vec.load(str(model))\n",
    "        word_freq_df = pd.DataFrame.from_records(\n",
    "            [\n",
    "                {\n",
    "                    \"tok\": tok,\n",
    "                    \"word_count\": wv_model.wv.vocab[tok].count,\n",
    "                    \"year\": re.search(r\"(\\d+)_0\", str(model)).group(1),\n",
    "                }\n",
    "                for tok in wv_model.wv.vocab.keys()\n",
    "            ]\n",
    "        )\n",
    "        total_count = word_freq_df.word_count.sum()\n",
    "        word_freq_df = word_freq_df >> ply.define(frequency=f\"word_count/{total_count}\")\n",
    "        data.append(word_freq_df)"
   ]
  },
  {
   "cell_type": "code",
   "execution_count": 3,
   "metadata": {
    "ExecuteTime": {
     "end_time": "2021-11-08T18:21:37.214107Z",
     "start_time": "2021-11-08T18:21:22.376558Z"
    }
   },
   "outputs": [
    {
     "data": {
      "text/html": [
       "<div>\n",
       "<style scoped>\n",
       "    .dataframe tbody tr th:only-of-type {\n",
       "        vertical-align: middle;\n",
       "    }\n",
       "\n",
       "    .dataframe tbody tr th {\n",
       "        vertical-align: top;\n",
       "    }\n",
       "\n",
       "    .dataframe thead th {\n",
       "        text-align: right;\n",
       "    }\n",
       "</style>\n",
       "<table border=\"1\" class=\"dataframe\">\n",
       "  <thead>\n",
       "    <tr style=\"text-align: right;\">\n",
       "      <th></th>\n",
       "      <th>tok</th>\n",
       "      <th>word_count</th>\n",
       "      <th>year</th>\n",
       "      <th>frequency</th>\n",
       "    </tr>\n",
       "  </thead>\n",
       "  <tbody>\n",
       "    <tr>\n",
       "      <th>0</th>\n",
       "      <td></td>\n",
       "      <td>87283.0</td>\n",
       "      <td>2000</td>\n",
       "      <td>8.850373e-02</td>\n",
       "    </tr>\n",
       "    <tr>\n",
       "      <th>1</th>\n",
       "      <td>mouse</td>\n",
       "      <td>299.0</td>\n",
       "      <td>2000</td>\n",
       "      <td>3.031818e-04</td>\n",
       "    </tr>\n",
       "    <tr>\n",
       "      <th>2</th>\n",
       "      <td>homologue</td>\n",
       "      <td>43.0</td>\n",
       "      <td>2000</td>\n",
       "      <td>4.360139e-05</td>\n",
       "    </tr>\n",
       "    <tr>\n",
       "      <th>3</th>\n",
       "      <td>of</td>\n",
       "      <td>35677.0</td>\n",
       "      <td>2000</td>\n",
       "      <td>3.617598e-02</td>\n",
       "    </tr>\n",
       "    <tr>\n",
       "      <th>4</th>\n",
       "      <td>the</td>\n",
       "      <td>38877.0</td>\n",
       "      <td>2000</td>\n",
       "      <td>3.942073e-02</td>\n",
       "    </tr>\n",
       "    <tr>\n",
       "      <th>...</th>\n",
       "      <td>...</td>\n",
       "      <td>...</td>\n",
       "      <td>...</td>\n",
       "      <td>...</td>\n",
       "    </tr>\n",
       "    <tr>\n",
       "      <th>9158541</th>\n",
       "      <td>1-ethynyladamantanes</td>\n",
       "      <td>1.0</td>\n",
       "      <td>2020</td>\n",
       "      <td>1.285818e-08</td>\n",
       "    </tr>\n",
       "    <tr>\n",
       "      <th>9158542</th>\n",
       "      <td>1800-fold</td>\n",
       "      <td>1.0</td>\n",
       "      <td>2020</td>\n",
       "      <td>1.285818e-08</td>\n",
       "    </tr>\n",
       "    <tr>\n",
       "      <th>9158543</th>\n",
       "      <td>foveally</td>\n",
       "      <td>1.0</td>\n",
       "      <td>2020</td>\n",
       "      <td>1.285818e-08</td>\n",
       "    </tr>\n",
       "    <tr>\n",
       "      <th>9158544</th>\n",
       "      <td>0.45x:12.79</td>\n",
       "      <td>1.0</td>\n",
       "      <td>2020</td>\n",
       "      <td>1.285818e-08</td>\n",
       "    </tr>\n",
       "    <tr>\n",
       "      <th>9158545</th>\n",
       "      <td>0.29x:8.53</td>\n",
       "      <td>1.0</td>\n",
       "      <td>2020</td>\n",
       "      <td>1.285818e-08</td>\n",
       "    </tr>\n",
       "  </tbody>\n",
       "</table>\n",
       "<p>8556687 rows × 4 columns</p>\n",
       "</div>"
      ],
      "text/plain": [
       "                          tok  word_count  year     frequency\n",
       "0                                 87283.0  2000  8.850373e-02\n",
       "1                       mouse       299.0  2000  3.031818e-04\n",
       "2                   homologue        43.0  2000  4.360139e-05\n",
       "3                          of     35677.0  2000  3.617598e-02\n",
       "4                         the     38877.0  2000  3.942073e-02\n",
       "...                       ...         ...   ...           ...\n",
       "9158541  1-ethynyladamantanes         1.0  2020  1.285818e-08\n",
       "9158542             1800-fold         1.0  2020  1.285818e-08\n",
       "9158543              foveally         1.0  2020  1.285818e-08\n",
       "9158544           0.45x:12.79         1.0  2020  1.285818e-08\n",
       "9158545            0.29x:8.53         1.0  2020  1.285818e-08\n",
       "\n",
       "[8556687 rows x 4 columns]"
      ]
     },
     "execution_count": 3,
     "metadata": {},
     "output_type": "execute_result"
    }
   ],
   "source": [
    "if not Path(\"output/all_tok_frequencies.tsv\").exists():\n",
    "    all_word_freq_df = pd.concat(data)\n",
    "    all_word_freq_df.dropna().to_csv(\n",
    "        \"output/all_tok_frequencies.tsv\", sep=\"\\t\", index=False\n",
    "    )\n",
    "else:\n",
    "    all_word_freq_df = (\n",
    "        pd.read_csv(\"output/all_tok_frequencies.tsv\", sep=\"\\t\")\n",
    "        .dropna()\n",
    "        .astype({\"year\": int})\n",
    "    )\n",
    "all_word_freq_df"
   ]
  },
  {
   "cell_type": "code",
   "execution_count": 4,
   "metadata": {
    "ExecuteTime": {
     "end_time": "2021-11-08T18:21:37.236757Z",
     "start_time": "2021-11-08T18:21:37.215419Z"
    }
   },
   "outputs": [
    {
     "data": {
      "text/html": [
       "<div>\n",
       "<style scoped>\n",
       "    .dataframe tbody tr th:only-of-type {\n",
       "        vertical-align: middle;\n",
       "    }\n",
       "\n",
       "    .dataframe tbody tr th {\n",
       "        vertical-align: top;\n",
       "    }\n",
       "\n",
       "    .dataframe thead th {\n",
       "        text-align: right;\n",
       "    }\n",
       "</style>\n",
       "<table border=\"1\" class=\"dataframe\">\n",
       "  <thead>\n",
       "    <tr style=\"text-align: right;\">\n",
       "      <th></th>\n",
       "      <th>tok</th>\n",
       "    </tr>\n",
       "  </thead>\n",
       "  <tbody>\n",
       "    <tr>\n",
       "      <th>0</th>\n",
       "      <td>united</td>\n",
       "    </tr>\n",
       "    <tr>\n",
       "      <th>1</th>\n",
       "      <td>combining</td>\n",
       "    </tr>\n",
       "    <tr>\n",
       "      <th>2</th>\n",
       "      <td>purinergic</td>\n",
       "    </tr>\n",
       "    <tr>\n",
       "      <th>3</th>\n",
       "      <td>decomposition</td>\n",
       "    </tr>\n",
       "    <tr>\n",
       "      <th>4</th>\n",
       "      <td>60.0</td>\n",
       "    </tr>\n",
       "  </tbody>\n",
       "</table>\n",
       "</div>"
      ],
      "text/plain": [
       "             tok\n",
       "0         united\n",
       "1      combining\n",
       "2     purinergic\n",
       "3  decomposition\n",
       "4           60.0"
      ]
     },
     "execution_count": 4,
     "metadata": {},
     "output_type": "execute_result"
    }
   ],
   "source": [
    "subsetted_tokens = pd.read_csv(\n",
    "    \"../multi_model_experiment/output/subsetted_tokens.tsv\", sep=\"\\t\"\n",
    ")\n",
    "token_filter_list = subsetted_tokens.tok.tolist()\n",
    "subsetted_tokens.head()"
   ]
  },
  {
   "cell_type": "markdown",
   "metadata": {},
   "source": [
    "## Calculate percent change for frequency"
   ]
  },
  {
   "cell_type": "code",
   "execution_count": 5,
   "metadata": {
    "ExecuteTime": {
     "end_time": "2021-11-08T18:22:12.346140Z",
     "start_time": "2021-11-08T18:21:37.239928Z"
    }
   },
   "outputs": [
    {
     "data": {
      "text/html": [
       "<div>\n",
       "<style scoped>\n",
       "    .dataframe tbody tr th:only-of-type {\n",
       "        vertical-align: middle;\n",
       "    }\n",
       "\n",
       "    .dataframe tbody tr th {\n",
       "        vertical-align: top;\n",
       "    }\n",
       "\n",
       "    .dataframe thead th {\n",
       "        text-align: right;\n",
       "    }\n",
       "</style>\n",
       "<table border=\"1\" class=\"dataframe\">\n",
       "  <thead>\n",
       "    <tr style=\"text-align: right;\">\n",
       "      <th></th>\n",
       "      <th>tok</th>\n",
       "      <th>word_count</th>\n",
       "      <th>year</th>\n",
       "      <th>frequency</th>\n",
       "      <th>freq_pct_change</th>\n",
       "    </tr>\n",
       "  </thead>\n",
       "  <tbody>\n",
       "    <tr>\n",
       "      <th>57757</th>\n",
       "      <td>organised</td>\n",
       "      <td>7.0</td>\n",
       "      <td>2000-2001</td>\n",
       "      <td>0.000006</td>\n",
       "      <td>0.952062</td>\n",
       "    </tr>\n",
       "    <tr>\n",
       "      <th>57756</th>\n",
       "      <td>observers</td>\n",
       "      <td>3.0</td>\n",
       "      <td>2000-2001</td>\n",
       "      <td>0.000003</td>\n",
       "      <td>-0.686276</td>\n",
       "    </tr>\n",
       "    <tr>\n",
       "      <th>57750</th>\n",
       "      <td>compensate</td>\n",
       "      <td>8.0</td>\n",
       "      <td>2000-2001</td>\n",
       "      <td>0.000007</td>\n",
       "      <td>0.673196</td>\n",
       "    </tr>\n",
       "    <tr>\n",
       "      <th>57723</th>\n",
       "      <td>stems</td>\n",
       "      <td>4.0</td>\n",
       "      <td>2000-2001</td>\n",
       "      <td>0.000003</td>\n",
       "      <td>0.115464</td>\n",
       "    </tr>\n",
       "    <tr>\n",
       "      <th>57746</th>\n",
       "      <td>forebrain</td>\n",
       "      <td>6.0</td>\n",
       "      <td>2000-2001</td>\n",
       "      <td>0.000005</td>\n",
       "      <td>0.003918</td>\n",
       "    </tr>\n",
       "  </tbody>\n",
       "</table>\n",
       "</div>"
      ],
      "text/plain": [
       "              tok  word_count       year  frequency  freq_pct_change\n",
       "57757   organised         7.0  2000-2001   0.000006         0.952062\n",
       "57756   observers         3.0  2000-2001   0.000003        -0.686276\n",
       "57750  compensate         8.0  2000-2001   0.000007         0.673196\n",
       "57723       stems         4.0  2000-2001   0.000003         0.115464\n",
       "57746   forebrain         6.0  2000-2001   0.000005         0.003918"
      ]
     },
     "execution_count": 5,
     "metadata": {},
     "output_type": "execute_result"
    }
   ],
   "source": [
    "all_word_pct_change_df = (\n",
    "    all_word_freq_df\n",
    "    >> ply.query(f\"tok in {token_filter_list}\")\n",
    "    >> ply.group_by(\"tok\")\n",
    "    >> ply.arrange(\"year\")\n",
    "    >> ply.define(freq_pct_change=\"frequency.pct_change()\")\n",
    "    >> ply.ungroup()\n",
    "    >> ply.call(\".dropna\")\n",
    "    >> ply.define(year=lambda x: x[\"year\"].apply(lambda y: f\"{int(y)-1}-{y}\"))\n",
    ")\n",
    "all_word_pct_change_df.head()"
   ]
  },
  {
   "cell_type": "markdown",
   "metadata": {},
   "source": [
    "# Grab semantic change values"
   ]
  },
  {
   "cell_type": "code",
   "execution_count": 6,
   "metadata": {
    "ExecuteTime": {
     "end_time": "2021-11-08T18:22:12.356726Z",
     "start_time": "2021-11-08T18:22:12.350579Z"
    }
   },
   "outputs": [
    {
     "name": "stdout",
     "output_type": "stream",
     "text": [
      "20\n"
     ]
    }
   ],
   "source": [
    "distance_files = list(\n",
    "    Path(\"../multi_model_experiment/output/combined_inter_intra_distances\").rglob(\n",
    "        \"saved_*_distance.tsv\"\n",
    "    )\n",
    ")\n",
    "print(len(distance_files))"
   ]
  },
  {
   "cell_type": "code",
   "execution_count": 7,
   "metadata": {
    "ExecuteTime": {
     "end_time": "2021-11-08T18:22:15.129080Z",
     "start_time": "2021-11-08T18:22:12.360640Z"
    }
   },
   "outputs": [
    {
     "name": "stderr",
     "output_type": "stream",
     "text": [
      "100%|██████████| 20/20 [00:02<00:00,  7.29it/s]\n"
     ]
    }
   ],
   "source": [
    "year_distance_map = {\n",
    "    re.search(r\"\\d+\", str(year_file)).group(0): (pd.read_csv(str(year_file), sep=\"\\t\"))\n",
    "    for year_file in tqdm.tqdm(distance_files)\n",
    "}"
   ]
  },
  {
   "cell_type": "code",
   "execution_count": 8,
   "metadata": {
    "ExecuteTime": {
     "end_time": "2021-11-08T18:22:15.319488Z",
     "start_time": "2021-11-08T18:22:15.130659Z"
    }
   },
   "outputs": [
    {
     "name": "stderr",
     "output_type": "stream",
     "text": [
      "100%|██████████| 20/20 [00:00<00:00, 149.47it/s]\n"
     ]
    },
    {
     "name": "stdout",
     "output_type": "stream",
     "text": [
      "(390810, 8)\n"
     ]
    },
    {
     "data": {
      "text/html": [
       "<div>\n",
       "<style scoped>\n",
       "    .dataframe tbody tr th:only-of-type {\n",
       "        vertical-align: middle;\n",
       "    }\n",
       "\n",
       "    .dataframe tbody tr th {\n",
       "        vertical-align: top;\n",
       "    }\n",
       "\n",
       "    .dataframe thead th {\n",
       "        text-align: right;\n",
       "    }\n",
       "</style>\n",
       "<table border=\"1\" class=\"dataframe\">\n",
       "  <thead>\n",
       "    <tr style=\"text-align: right;\">\n",
       "      <th></th>\n",
       "      <th>tok</th>\n",
       "      <th>original_global_distance</th>\n",
       "      <th>global_distance_qst</th>\n",
       "      <th>global_times_distance_qst</th>\n",
       "      <th>local_distance_qst</th>\n",
       "      <th>local_times_distance_qst</th>\n",
       "      <th>year_1</th>\n",
       "      <th>year_2</th>\n",
       "    </tr>\n",
       "  </thead>\n",
       "  <tbody>\n",
       "    <tr>\n",
       "      <th>0</th>\n",
       "      <td>poly(adp</td>\n",
       "      <td>0.211844</td>\n",
       "      <td>0.522492</td>\n",
       "      <td>0.110687</td>\n",
       "      <td>0.696891</td>\n",
       "      <td>0.006111</td>\n",
       "      <td>2009</td>\n",
       "      <td>2010</td>\n",
       "    </tr>\n",
       "    <tr>\n",
       "      <th>1</th>\n",
       "      <td>partners</td>\n",
       "      <td>0.159972</td>\n",
       "      <td>0.491531</td>\n",
       "      <td>0.078631</td>\n",
       "      <td>0.625901</td>\n",
       "      <td>0.001607</td>\n",
       "      <td>2009</td>\n",
       "      <td>2010</td>\n",
       "    </tr>\n",
       "    <tr>\n",
       "      <th>2</th>\n",
       "      <td>permeation</td>\n",
       "      <td>0.280244</td>\n",
       "      <td>0.565166</td>\n",
       "      <td>0.158384</td>\n",
       "      <td>0.694604</td>\n",
       "      <td>0.004055</td>\n",
       "      <td>2009</td>\n",
       "      <td>2010</td>\n",
       "    </tr>\n",
       "    <tr>\n",
       "      <th>3</th>\n",
       "      <td>137</td>\n",
       "      <td>0.385017</td>\n",
       "      <td>0.592415</td>\n",
       "      <td>0.228090</td>\n",
       "      <td>0.782952</td>\n",
       "      <td>0.002569</td>\n",
       "      <td>2009</td>\n",
       "      <td>2010</td>\n",
       "    </tr>\n",
       "    <tr>\n",
       "      <th>4</th>\n",
       "      <td>sixty</td>\n",
       "      <td>0.170093</td>\n",
       "      <td>0.520045</td>\n",
       "      <td>0.088456</td>\n",
       "      <td>0.578388</td>\n",
       "      <td>0.001063</td>\n",
       "      <td>2009</td>\n",
       "      <td>2010</td>\n",
       "    </tr>\n",
       "  </tbody>\n",
       "</table>\n",
       "</div>"
      ],
      "text/plain": [
       "          tok  original_global_distance  global_distance_qst  \\\n",
       "0    poly(adp                  0.211844             0.522492   \n",
       "1    partners                  0.159972             0.491531   \n",
       "2  permeation                  0.280244             0.565166   \n",
       "3         137                  0.385017             0.592415   \n",
       "4       sixty                  0.170093             0.520045   \n",
       "\n",
       "   global_times_distance_qst  local_distance_qst  local_times_distance_qst  \\\n",
       "0                   0.110687            0.696891                  0.006111   \n",
       "1                   0.078631            0.625901                  0.001607   \n",
       "2                   0.158384            0.694604                  0.004055   \n",
       "3                   0.228090            0.782952                  0.002569   \n",
       "4                   0.088456            0.578388                  0.001063   \n",
       "\n",
       "   year_1  year_2  \n",
       "0    2009    2010  \n",
       "1    2009    2010  \n",
       "2    2009    2010  \n",
       "3    2009    2010  \n",
       "4    2009    2010  "
      ]
     },
     "execution_count": 8,
     "metadata": {},
     "output_type": "execute_result"
    }
   ],
   "source": [
    "full_token_set_df = pd.concat(\n",
    "    [\n",
    "        year_distance_map[year] >> ply.query(\"year_2-year_1 == 1\")\n",
    "        for year in tqdm.tqdm(year_distance_map)\n",
    "    ]\n",
    ")\n",
    "print(full_token_set_df.shape)\n",
    "full_token_set_df.head()"
   ]
  },
  {
   "cell_type": "markdown",
   "metadata": {},
   "source": [
    "# Combine both information"
   ]
  },
  {
   "cell_type": "markdown",
   "metadata": {},
   "source": [
    "Using an idea similar to SCAF \\[[1](https://doi.org/10.1007/s00799-019-00271-6)\\], I'm combining the global qst metric with the percent change in frequency.\n",
    "SCAF uses percent change for both metrics; however, the caveat is that their method loses information for the first two timepoints.\n",
    "In my case given that global_distance_qst is a metric that's bound between 0 and 1 frequency percent change can be used directly.\n",
    "By combining these two terms I can use this metric as a means to estimate change and allow for bayesian changepoint detection to calculate the probability of a timepoint change."
   ]
  },
  {
   "cell_type": "code",
   "execution_count": 9,
   "metadata": {
    "ExecuteTime": {
     "end_time": "2021-11-08T18:22:18.025101Z",
     "start_time": "2021-11-08T18:22:15.324349Z"
    }
   },
   "outputs": [
    {
     "data": {
      "text/html": [
       "<div>\n",
       "<style scoped>\n",
       "    .dataframe tbody tr th:only-of-type {\n",
       "        vertical-align: middle;\n",
       "    }\n",
       "\n",
       "    .dataframe tbody tr th {\n",
       "        vertical-align: top;\n",
       "    }\n",
       "\n",
       "    .dataframe thead th {\n",
       "        text-align: right;\n",
       "    }\n",
       "</style>\n",
       "<table border=\"1\" class=\"dataframe\">\n",
       "  <thead>\n",
       "    <tr style=\"text-align: right;\">\n",
       "      <th></th>\n",
       "      <th>tok</th>\n",
       "      <th>original_global_distance</th>\n",
       "      <th>global_distance_qst</th>\n",
       "      <th>year_pair</th>\n",
       "      <th>frequency</th>\n",
       "      <th>freq_pct_change</th>\n",
       "    </tr>\n",
       "  </thead>\n",
       "  <tbody>\n",
       "    <tr>\n",
       "      <th>0</th>\n",
       "      <td>poly(adp</td>\n",
       "      <td>0.211844</td>\n",
       "      <td>0.522492</td>\n",
       "      <td>2009-2010</td>\n",
       "      <td>3.340596e-06</td>\n",
       "      <td>-0.156690</td>\n",
       "    </tr>\n",
       "    <tr>\n",
       "      <th>1</th>\n",
       "      <td>partners</td>\n",
       "      <td>0.159972</td>\n",
       "      <td>0.491531</td>\n",
       "      <td>2009-2010</td>\n",
       "      <td>4.281238e-05</td>\n",
       "      <td>-0.046123</td>\n",
       "    </tr>\n",
       "    <tr>\n",
       "      <th>2</th>\n",
       "      <td>permeation</td>\n",
       "      <td>0.280244</td>\n",
       "      <td>0.565166</td>\n",
       "      <td>2009-2010</td>\n",
       "      <td>5.567661e-06</td>\n",
       "      <td>-0.017940</td>\n",
       "    </tr>\n",
       "    <tr>\n",
       "      <th>3</th>\n",
       "      <td>137</td>\n",
       "      <td>0.385017</td>\n",
       "      <td>0.592415</td>\n",
       "      <td>2009-2010</td>\n",
       "      <td>4.717860e-06</td>\n",
       "      <td>0.180164</td>\n",
       "    </tr>\n",
       "    <tr>\n",
       "      <th>4</th>\n",
       "      <td>sixty</td>\n",
       "      <td>0.170093</td>\n",
       "      <td>0.520045</td>\n",
       "      <td>2009-2010</td>\n",
       "      <td>2.101059e-05</td>\n",
       "      <td>0.187133</td>\n",
       "    </tr>\n",
       "    <tr>\n",
       "      <th>...</th>\n",
       "      <td>...</td>\n",
       "      <td>...</td>\n",
       "      <td>...</td>\n",
       "      <td>...</td>\n",
       "      <td>...</td>\n",
       "      <td>...</td>\n",
       "    </tr>\n",
       "    <tr>\n",
       "      <th>298835</th>\n",
       "      <td>residences</td>\n",
       "      <td>0.390813</td>\n",
       "      <td>0.557452</td>\n",
       "      <td>2014-2015</td>\n",
       "      <td>9.709601e-07</td>\n",
       "      <td>0.072999</td>\n",
       "    </tr>\n",
       "    <tr>\n",
       "      <th>298836</th>\n",
       "      <td>polyproteins</td>\n",
       "      <td>0.654729</td>\n",
       "      <td>0.556530</td>\n",
       "      <td>2014-2015</td>\n",
       "      <td>2.703940e-07</td>\n",
       "      <td>0.387331</td>\n",
       "    </tr>\n",
       "    <tr>\n",
       "      <th>298837</th>\n",
       "      <td>mimicking</td>\n",
       "      <td>0.218953</td>\n",
       "      <td>0.558827</td>\n",
       "      <td>2014-2015</td>\n",
       "      <td>1.356886e-05</td>\n",
       "      <td>0.043536</td>\n",
       "    </tr>\n",
       "    <tr>\n",
       "      <th>298838</th>\n",
       "      <td>synergistic</td>\n",
       "      <td>0.113028</td>\n",
       "      <td>0.490899</td>\n",
       "      <td>2014-2015</td>\n",
       "      <td>2.541703e-05</td>\n",
       "      <td>0.028000</td>\n",
       "    </tr>\n",
       "    <tr>\n",
       "      <th>298839</th>\n",
       "      <td>dephosphorylation</td>\n",
       "      <td>0.179083</td>\n",
       "      <td>0.501326</td>\n",
       "      <td>2014-2015</td>\n",
       "      <td>4.227978e-06</td>\n",
       "      <td>-0.010751</td>\n",
       "    </tr>\n",
       "  </tbody>\n",
       "</table>\n",
       "<p>298840 rows × 6 columns</p>\n",
       "</div>"
      ],
      "text/plain": [
       "                      tok  original_global_distance  global_distance_qst  \\\n",
       "0                poly(adp                  0.211844             0.522492   \n",
       "1                partners                  0.159972             0.491531   \n",
       "2              permeation                  0.280244             0.565166   \n",
       "3                     137                  0.385017             0.592415   \n",
       "4                   sixty                  0.170093             0.520045   \n",
       "...                   ...                       ...                  ...   \n",
       "298835         residences                  0.390813             0.557452   \n",
       "298836       polyproteins                  0.654729             0.556530   \n",
       "298837          mimicking                  0.218953             0.558827   \n",
       "298838        synergistic                  0.113028             0.490899   \n",
       "298839  dephosphorylation                  0.179083             0.501326   \n",
       "\n",
       "        year_pair     frequency  freq_pct_change  \n",
       "0       2009-2010  3.340596e-06        -0.156690  \n",
       "1       2009-2010  4.281238e-05        -0.046123  \n",
       "2       2009-2010  5.567661e-06        -0.017940  \n",
       "3       2009-2010  4.717860e-06         0.180164  \n",
       "4       2009-2010  2.101059e-05         0.187133  \n",
       "...           ...           ...              ...  \n",
       "298835  2014-2015  9.709601e-07         0.072999  \n",
       "298836  2014-2015  2.703940e-07         0.387331  \n",
       "298837  2014-2015  1.356886e-05         0.043536  \n",
       "298838  2014-2015  2.541703e-05         0.028000  \n",
       "298839  2014-2015  4.227978e-06        -0.010751  \n",
       "\n",
       "[298840 rows x 6 columns]"
      ]
     },
     "execution_count": 9,
     "metadata": {},
     "output_type": "execute_result"
    }
   ],
   "source": [
    "merged_frequency_df = (\n",
    "    full_token_set_df\n",
    "    >> ply_tdy.unite(\"year\", \"year_1\", \"year_2\", sep=\"-\")\n",
    "    >> ply.inner_join(all_word_pct_change_df, on=[\"tok\", \"year\"])\n",
    "    >> ply.rename(year_pair=\"year\")\n",
    "    >> ply.select(\n",
    "        \"tok\",\n",
    "        \"original_global_distance\",\n",
    "        \"global_distance_qst\",\n",
    "        \"year_pair\",\n",
    "        \"frequency\",\n",
    "        \"freq_pct_change\",\n",
    "    )\n",
    ")\n",
    "merged_frequency_df"
   ]
  },
  {
   "cell_type": "code",
   "execution_count": 10,
   "metadata": {
    "ExecuteTime": {
     "end_time": "2021-11-08T18:22:49.793315Z",
     "start_time": "2021-11-08T18:22:18.026383Z"
    }
   },
   "outputs": [
    {
     "data": {
      "text/html": [
       "<div>\n",
       "<style scoped>\n",
       "    .dataframe tbody tr th:only-of-type {\n",
       "        vertical-align: middle;\n",
       "    }\n",
       "\n",
       "    .dataframe tbody tr th {\n",
       "        vertical-align: top;\n",
       "    }\n",
       "\n",
       "    .dataframe thead th {\n",
       "        text-align: right;\n",
       "    }\n",
       "</style>\n",
       "<table border=\"1\" class=\"dataframe\">\n",
       "  <thead>\n",
       "    <tr style=\"text-align: right;\">\n",
       "      <th></th>\n",
       "      <th>tok</th>\n",
       "      <th>original_global_distance</th>\n",
       "      <th>global_distance_qst</th>\n",
       "      <th>year_pair</th>\n",
       "      <th>frequency</th>\n",
       "      <th>freq_pct_change</th>\n",
       "      <th>change_metric</th>\n",
       "    </tr>\n",
       "  </thead>\n",
       "  <tbody>\n",
       "    <tr>\n",
       "      <th>52296</th>\n",
       "      <td>hmsh2</td>\n",
       "      <td>0.220541</td>\n",
       "      <td>0.602066</td>\n",
       "      <td>2000-2001</td>\n",
       "      <td>0.000008</td>\n",
       "      <td>-0.070446</td>\n",
       "      <td>0.531619</td>\n",
       "    </tr>\n",
       "    <tr>\n",
       "      <th>54781</th>\n",
       "      <td>lock</td>\n",
       "      <td>0.961701</td>\n",
       "      <td>0.728451</td>\n",
       "      <td>2000-2001</td>\n",
       "      <td>0.000002</td>\n",
       "      <td>0.673196</td>\n",
       "      <td>1.401647</td>\n",
       "    </tr>\n",
       "    <tr>\n",
       "      <th>54782</th>\n",
       "      <td>urinary</td>\n",
       "      <td>0.289514</td>\n",
       "      <td>0.773856</td>\n",
       "      <td>2000-2001</td>\n",
       "      <td>0.000093</td>\n",
       "      <td>0.394330</td>\n",
       "      <td>1.168186</td>\n",
       "    </tr>\n",
       "    <tr>\n",
       "      <th>54783</th>\n",
       "      <td>swimming</td>\n",
       "      <td>0.711984</td>\n",
       "      <td>0.657287</td>\n",
       "      <td>2000-2001</td>\n",
       "      <td>0.000005</td>\n",
       "      <td>4.019589</td>\n",
       "      <td>4.676875</td>\n",
       "    </tr>\n",
       "    <tr>\n",
       "      <th>54784</th>\n",
       "      <td>uncover</td>\n",
       "      <td>0.582078</td>\n",
       "      <td>0.670746</td>\n",
       "      <td>2000-2001</td>\n",
       "      <td>0.000008</td>\n",
       "      <td>7.365982</td>\n",
       "      <td>8.036727</td>\n",
       "    </tr>\n",
       "    <tr>\n",
       "      <th>...</th>\n",
       "      <td>...</td>\n",
       "      <td>...</td>\n",
       "      <td>...</td>\n",
       "      <td>...</td>\n",
       "      <td>...</td>\n",
       "      <td>...</td>\n",
       "      <td>...</td>\n",
       "    </tr>\n",
       "    <tr>\n",
       "      <th>99611</th>\n",
       "      <td>factorial</td>\n",
       "      <td>0.175588</td>\n",
       "      <td>0.465320</td>\n",
       "      <td>2019-2020</td>\n",
       "      <td>0.000008</td>\n",
       "      <td>0.109293</td>\n",
       "      <td>0.574614</td>\n",
       "    </tr>\n",
       "    <tr>\n",
       "      <th>99610</th>\n",
       "      <td>epsilon</td>\n",
       "      <td>0.360522</td>\n",
       "      <td>0.554700</td>\n",
       "      <td>2019-2020</td>\n",
       "      <td>0.000005</td>\n",
       "      <td>-0.076923</td>\n",
       "      <td>0.477777</td>\n",
       "    </tr>\n",
       "    <tr>\n",
       "      <th>99609</th>\n",
       "      <td>u87</td>\n",
       "      <td>0.237114</td>\n",
       "      <td>0.469929</td>\n",
       "      <td>2019-2020</td>\n",
       "      <td>0.000003</td>\n",
       "      <td>-0.172239</td>\n",
       "      <td>0.297689</td>\n",
       "    </tr>\n",
       "    <tr>\n",
       "      <th>99621</th>\n",
       "      <td>minimizing</td>\n",
       "      <td>0.162147</td>\n",
       "      <td>0.530061</td>\n",
       "      <td>2019-2020</td>\n",
       "      <td>0.000009</td>\n",
       "      <td>0.069525</td>\n",
       "      <td>0.599587</td>\n",
       "    </tr>\n",
       "    <tr>\n",
       "      <th>89655</th>\n",
       "      <td>137</td>\n",
       "      <td>0.295282</td>\n",
       "      <td>0.568921</td>\n",
       "      <td>2019-2020</td>\n",
       "      <td>0.000005</td>\n",
       "      <td>-0.003662</td>\n",
       "      <td>0.565259</td>\n",
       "    </tr>\n",
       "  </tbody>\n",
       "</table>\n",
       "<p>298840 rows × 7 columns</p>\n",
       "</div>"
      ],
      "text/plain": [
       "              tok  original_global_distance  global_distance_qst  year_pair  \\\n",
       "52296       hmsh2                  0.220541             0.602066  2000-2001   \n",
       "54781        lock                  0.961701             0.728451  2000-2001   \n",
       "54782     urinary                  0.289514             0.773856  2000-2001   \n",
       "54783    swimming                  0.711984             0.657287  2000-2001   \n",
       "54784     uncover                  0.582078             0.670746  2000-2001   \n",
       "...           ...                       ...                  ...        ...   \n",
       "99611   factorial                  0.175588             0.465320  2019-2020   \n",
       "99610     epsilon                  0.360522             0.554700  2019-2020   \n",
       "99609         u87                  0.237114             0.469929  2019-2020   \n",
       "99621  minimizing                  0.162147             0.530061  2019-2020   \n",
       "89655         137                  0.295282             0.568921  2019-2020   \n",
       "\n",
       "       frequency  freq_pct_change  change_metric  \n",
       "52296   0.000008        -0.070446       0.531619  \n",
       "54781   0.000002         0.673196       1.401647  \n",
       "54782   0.000093         0.394330       1.168186  \n",
       "54783   0.000005         4.019589       4.676875  \n",
       "54784   0.000008         7.365982       8.036727  \n",
       "...          ...              ...            ...  \n",
       "99611   0.000008         0.109293       0.574614  \n",
       "99610   0.000005        -0.076923       0.477777  \n",
       "99609   0.000003        -0.172239       0.297689  \n",
       "99621   0.000009         0.069525       0.599587  \n",
       "89655   0.000005        -0.003662       0.565259  \n",
       "\n",
       "[298840 rows x 7 columns]"
      ]
     },
     "execution_count": 10,
     "metadata": {},
     "output_type": "execute_result"
    }
   ],
   "source": [
    "change_metric_df = (\n",
    "    merged_frequency_df\n",
    "    >> ply.group_by(\"tok\")\n",
    "    >> ply.arrange(\"year_pair\")\n",
    "    >> ply.define(change_metric=\"global_distance_qst + freq_pct_change\")\n",
    "    >> ply.ungroup()\n",
    ")\n",
    "change_metric_df"
   ]
  },
  {
   "cell_type": "markdown",
   "metadata": {},
   "source": [
    "# Change point detection"
   ]
  },
  {
   "cell_type": "markdown",
   "metadata": {},
   "source": [
    "Use Semantic Change Analysis with Frequency (SCAF) to perform bayesian change point detection."
   ]
  },
  {
   "cell_type": "code",
   "execution_count": 11,
   "metadata": {
    "ExecuteTime": {
     "end_time": "2021-11-08T00:05:56.670853Z",
     "start_time": "2021-11-08T00:05:56.666914Z"
    }
   },
   "outputs": [],
   "source": [
    "if not Path(\"output/bayesian_changepoint_data.tsv\", sep=\"\\t\").exists():\n",
    "    change_point_results = []\n",
    "    for tok, tok_series_df in tqdm.tqdm(change_metric_df.groupby(\"tok\")):\n",
    "        change_metric = np.insert(tok_series_df >> ply.pull(\"change_metric\"), 0, 0)\n",
    "        Q, P, Pcp = offcd.offline_changepoint_detection(\n",
    "            change_metric,\n",
    "            partial(offcd.const_prior, l=(len(change_metric) + 1)),\n",
    "            offcd.gaussian_obs_log_likelihood,\n",
    "            truncate=-40,\n",
    "        )\n",
    "        estimated_changepoint_probability = np.exp(Pcp).sum(0)\n",
    "\n",
    "        change_point_results.append(\n",
    "            pd.DataFrame.from_dict(\n",
    "                {\n",
    "                    \"tok\": [tok] * len(estimated_changepoint_probability),\n",
    "                    \"changepoint_prob\": estimated_changepoint_probability,\n",
    "                    \"year_pair\": (\n",
    "                        tok_series_df\n",
    "                        >> ply.select(\"year_pair\")\n",
    "                        >> ply.pull(\"year_pair\")\n",
    "                    ),\n",
    "                }\n",
    "            )\n",
    "        )"
   ]
  },
  {
   "cell_type": "code",
   "execution_count": 12,
   "metadata": {
    "ExecuteTime": {
     "end_time": "2021-11-08T00:05:57.147232Z",
     "start_time": "2021-11-08T00:05:56.672244Z"
    }
   },
   "outputs": [
    {
     "data": {
      "text/html": [
       "<div>\n",
       "<style scoped>\n",
       "    .dataframe tbody tr th:only-of-type {\n",
       "        vertical-align: middle;\n",
       "    }\n",
       "\n",
       "    .dataframe tbody tr th {\n",
       "        vertical-align: top;\n",
       "    }\n",
       "\n",
       "    .dataframe thead th {\n",
       "        text-align: right;\n",
       "    }\n",
       "</style>\n",
       "<table border=\"1\" class=\"dataframe\">\n",
       "  <thead>\n",
       "    <tr style=\"text-align: right;\">\n",
       "      <th></th>\n",
       "      <th>tok</th>\n",
       "      <th>changepoint_prob</th>\n",
       "      <th>year_pair</th>\n",
       "    </tr>\n",
       "  </thead>\n",
       "  <tbody>\n",
       "    <tr>\n",
       "      <th>0</th>\n",
       "      <td>!</td>\n",
       "      <td>0.020841</td>\n",
       "      <td>2000-2001</td>\n",
       "    </tr>\n",
       "    <tr>\n",
       "      <th>1</th>\n",
       "      <td>!</td>\n",
       "      <td>0.020878</td>\n",
       "      <td>2001-2002</td>\n",
       "    </tr>\n",
       "    <tr>\n",
       "      <th>2</th>\n",
       "      <td>!</td>\n",
       "      <td>0.029867</td>\n",
       "      <td>2002-2003</td>\n",
       "    </tr>\n",
       "    <tr>\n",
       "      <th>3</th>\n",
       "      <td>!</td>\n",
       "      <td>0.002951</td>\n",
       "      <td>2003-2004</td>\n",
       "    </tr>\n",
       "    <tr>\n",
       "      <th>4</th>\n",
       "      <td>!</td>\n",
       "      <td>0.110963</td>\n",
       "      <td>2004-2005</td>\n",
       "    </tr>\n",
       "  </tbody>\n",
       "</table>\n",
       "</div>"
      ],
      "text/plain": [
       "  tok  changepoint_prob  year_pair\n",
       "0   !          0.020841  2000-2001\n",
       "1   !          0.020878  2001-2002\n",
       "2   !          0.029867  2002-2003\n",
       "3   !          0.002951  2003-2004\n",
       "4   !          0.110963  2004-2005"
      ]
     },
     "execution_count": 12,
     "metadata": {},
     "output_type": "execute_result"
    }
   ],
   "source": [
    "if not Path(\"output/bayesian_changepoint_data.tsv\", sep=\"\\t\").exists():\n",
    "    change_point_df = pd.concat(change_point_results)\n",
    "    change_point_df.to_csv(\n",
    "        \"output/bayesian_changepoint_data.tsv\", sep=\"\\t\", index=False\n",
    "    )\n",
    "else:\n",
    "    change_point_df = pd.read_csv(\"output/bayesian_changepoint_data.tsv\", sep=\"\\t\")\n",
    "change_point_df.head()"
   ]
  },
  {
   "cell_type": "code",
   "execution_count": 13,
   "metadata": {
    "ExecuteTime": {
     "end_time": "2021-11-08T00:05:57.323079Z",
     "start_time": "2021-11-08T00:05:57.148328Z"
    }
   },
   "outputs": [
    {
     "data": {
      "text/html": [
       "<div>\n",
       "<style scoped>\n",
       "    .dataframe tbody tr th:only-of-type {\n",
       "        vertical-align: middle;\n",
       "    }\n",
       "\n",
       "    .dataframe tbody tr th {\n",
       "        vertical-align: top;\n",
       "    }\n",
       "\n",
       "    .dataframe thead th {\n",
       "        text-align: right;\n",
       "    }\n",
       "</style>\n",
       "<table border=\"1\" class=\"dataframe\">\n",
       "  <thead>\n",
       "    <tr style=\"text-align: right;\">\n",
       "      <th></th>\n",
       "      <th>tok</th>\n",
       "      <th>changepoint_prob</th>\n",
       "      <th>year_pair</th>\n",
       "    </tr>\n",
       "  </thead>\n",
       "  <tbody>\n",
       "    <tr>\n",
       "      <th>14321</th>\n",
       "      <td>2001</td>\n",
       "      <td>0.993024</td>\n",
       "      <td>2001-2002</td>\n",
       "    </tr>\n",
       "    <tr>\n",
       "      <th>80678</th>\n",
       "      <td>coronavirus</td>\n",
       "      <td>0.981948</td>\n",
       "      <td>2018-2019</td>\n",
       "    </tr>\n",
       "    <tr>\n",
       "      <th>57606</th>\n",
       "      <td>canals</td>\n",
       "      <td>0.976014</td>\n",
       "      <td>2006-2007</td>\n",
       "    </tr>\n",
       "    <tr>\n",
       "      <th>205158</th>\n",
       "      <td>pandemic</td>\n",
       "      <td>0.975899</td>\n",
       "      <td>2018-2019</td>\n",
       "    </tr>\n",
       "    <tr>\n",
       "      <th>125507</th>\n",
       "      <td>fructose</td>\n",
       "      <td>0.972912</td>\n",
       "      <td>2007-2008</td>\n",
       "    </tr>\n",
       "    <tr>\n",
       "      <th>80398</th>\n",
       "      <td>copyright</td>\n",
       "      <td>0.964185</td>\n",
       "      <td>2018-2019</td>\n",
       "    </tr>\n",
       "    <tr>\n",
       "      <th>101625</th>\n",
       "      <td>e.coli</td>\n",
       "      <td>0.961284</td>\n",
       "      <td>2005-2006</td>\n",
       "    </tr>\n",
       "    <tr>\n",
       "      <th>255084</th>\n",
       "      <td>siv</td>\n",
       "      <td>0.960381</td>\n",
       "      <td>2004-2005</td>\n",
       "    </tr>\n",
       "    <tr>\n",
       "      <th>140321</th>\n",
       "      <td>horses</td>\n",
       "      <td>0.959799</td>\n",
       "      <td>2001-2002</td>\n",
       "    </tr>\n",
       "    <tr>\n",
       "      <th>81582</th>\n",
       "      <td>counseling</td>\n",
       "      <td>0.954540</td>\n",
       "      <td>2002-2003</td>\n",
       "    </tr>\n",
       "    <tr>\n",
       "      <th>101623</th>\n",
       "      <td>e.coli</td>\n",
       "      <td>0.954250</td>\n",
       "      <td>2003-2004</td>\n",
       "    </tr>\n",
       "    <tr>\n",
       "      <th>276548</th>\n",
       "      <td>title</td>\n",
       "      <td>0.954106</td>\n",
       "      <td>2008-2009</td>\n",
       "    </tr>\n",
       "    <tr>\n",
       "      <th>257764</th>\n",
       "      <td>soybean</td>\n",
       "      <td>0.952949</td>\n",
       "      <td>2004-2005</td>\n",
       "    </tr>\n",
       "    <tr>\n",
       "      <th>247602</th>\n",
       "      <td>schemes</td>\n",
       "      <td>0.951051</td>\n",
       "      <td>2002-2003</td>\n",
       "    </tr>\n",
       "    <tr>\n",
       "      <th>298438</th>\n",
       "      <td>zu</td>\n",
       "      <td>0.950504</td>\n",
       "      <td>2018-2019</td>\n",
       "    </tr>\n",
       "    <tr>\n",
       "      <th>25345</th>\n",
       "      <td>abi</td>\n",
       "      <td>0.949561</td>\n",
       "      <td>2005-2006</td>\n",
       "    </tr>\n",
       "    <tr>\n",
       "      <th>297148</th>\n",
       "      <td>wortmannin</td>\n",
       "      <td>0.945531</td>\n",
       "      <td>2008-2009</td>\n",
       "    </tr>\n",
       "    <tr>\n",
       "      <th>296118</th>\n",
       "      <td>wird</td>\n",
       "      <td>0.945343</td>\n",
       "      <td>2018-2019</td>\n",
       "    </tr>\n",
       "    <tr>\n",
       "      <th>6125</th>\n",
       "      <td>1-year</td>\n",
       "      <td>0.944950</td>\n",
       "      <td>2005-2006</td>\n",
       "    </tr>\n",
       "    <tr>\n",
       "      <th>249925</th>\n",
       "      <td>seminal</td>\n",
       "      <td>0.943336</td>\n",
       "      <td>2005-2006</td>\n",
       "    </tr>\n",
       "    <tr>\n",
       "      <th>243645</th>\n",
       "      <td>rituximab</td>\n",
       "      <td>0.941752</td>\n",
       "      <td>2005-2006</td>\n",
       "    </tr>\n",
       "    <tr>\n",
       "      <th>43504</th>\n",
       "      <td>asthmatics</td>\n",
       "      <td>0.939286</td>\n",
       "      <td>2004-2005</td>\n",
       "    </tr>\n",
       "    <tr>\n",
       "      <th>284866</th>\n",
       "      <td>uncovering</td>\n",
       "      <td>0.937211</td>\n",
       "      <td>2006-2007</td>\n",
       "    </tr>\n",
       "    <tr>\n",
       "      <th>242982</th>\n",
       "      <td>ri</td>\n",
       "      <td>0.935803</td>\n",
       "      <td>2002-2003</td>\n",
       "    </tr>\n",
       "    <tr>\n",
       "      <th>203405</th>\n",
       "      <td>p16</td>\n",
       "      <td>0.935776</td>\n",
       "      <td>2005-2006</td>\n",
       "    </tr>\n",
       "    <tr>\n",
       "      <th>104202</th>\n",
       "      <td>electrocardiogram</td>\n",
       "      <td>0.934660</td>\n",
       "      <td>2002-2003</td>\n",
       "    </tr>\n",
       "    <tr>\n",
       "      <th>141205</th>\n",
       "      <td>ht</td>\n",
       "      <td>0.934442</td>\n",
       "      <td>2005-2006</td>\n",
       "    </tr>\n",
       "    <tr>\n",
       "      <th>98826</th>\n",
       "      <td>donation</td>\n",
       "      <td>0.934428</td>\n",
       "      <td>2006-2007</td>\n",
       "    </tr>\n",
       "    <tr>\n",
       "      <th>193444</th>\n",
       "      <td>nomenclature</td>\n",
       "      <td>0.932039</td>\n",
       "      <td>2004-2005</td>\n",
       "    </tr>\n",
       "    <tr>\n",
       "      <th>89766</th>\n",
       "      <td>dentistry</td>\n",
       "      <td>0.931577</td>\n",
       "      <td>2006-2007</td>\n",
       "    </tr>\n",
       "  </tbody>\n",
       "</table>\n",
       "</div>"
      ],
      "text/plain": [
       "                      tok  changepoint_prob  year_pair\n",
       "14321                2001          0.993024  2001-2002\n",
       "80678         coronavirus          0.981948  2018-2019\n",
       "57606              canals          0.976014  2006-2007\n",
       "205158           pandemic          0.975899  2018-2019\n",
       "125507           fructose          0.972912  2007-2008\n",
       "80398           copyright          0.964185  2018-2019\n",
       "101625             e.coli          0.961284  2005-2006\n",
       "255084                siv          0.960381  2004-2005\n",
       "140321             horses          0.959799  2001-2002\n",
       "81582          counseling          0.954540  2002-2003\n",
       "101623             e.coli          0.954250  2003-2004\n",
       "276548              title          0.954106  2008-2009\n",
       "257764            soybean          0.952949  2004-2005\n",
       "247602            schemes          0.951051  2002-2003\n",
       "298438                 zu          0.950504  2018-2019\n",
       "25345                 abi          0.949561  2005-2006\n",
       "297148         wortmannin          0.945531  2008-2009\n",
       "296118               wird          0.945343  2018-2019\n",
       "6125               1-year          0.944950  2005-2006\n",
       "249925            seminal          0.943336  2005-2006\n",
       "243645          rituximab          0.941752  2005-2006\n",
       "43504          asthmatics          0.939286  2004-2005\n",
       "284866         uncovering          0.937211  2006-2007\n",
       "242982                 ri          0.935803  2002-2003\n",
       "203405                p16          0.935776  2005-2006\n",
       "104202  electrocardiogram          0.934660  2002-2003\n",
       "141205                 ht          0.934442  2005-2006\n",
       "98826            donation          0.934428  2006-2007\n",
       "193444       nomenclature          0.932039  2004-2005\n",
       "89766           dentistry          0.931577  2006-2007"
      ]
     },
     "execution_count": 13,
     "metadata": {},
     "output_type": "execute_result"
    }
   ],
   "source": [
    "change_point_df >> ply.arrange(\"-changepoint_prob\") >> ply.slice_rows(30)"
   ]
  },
  {
   "cell_type": "code",
   "execution_count": 14,
   "metadata": {
    "ExecuteTime": {
     "end_time": "2021-11-08T00:05:58.011034Z",
     "start_time": "2021-11-08T00:05:57.324526Z"
    }
   },
   "outputs": [
    {
     "data": {
      "image/png": "[encoded data removed]",
      "text/plain": [
       "<Figure size 640x480 with 1 Axes>"
      ]
     },
     "metadata": {},
     "output_type": "display_data"
    },
    {
     "data": {
      "text/plain": [
       "<ggplot: (8785940141302)>"
      ]
     },
     "execution_count": 14,
     "metadata": {},
     "output_type": "execute_result"
    }
   ],
   "source": [
    "(\n",
    "    p9.ggplot(change_point_df >> ply.query(\"tok=='coronavirus'\"))\n",
    "    + p9.aes(x=\"year_pair\", y=\"changepoint_prob\", group=0)\n",
    "    + p9.geom_point()\n",
    "    + p9.geom_line()\n",
    "    + p9.coord_flip()\n",
    "    + p9.theme_seaborn(\"white\")\n",
    "    + p9.labs(\n",
    "        x=\"years\",\n",
    "        y=\"Probability of Changepoint\",\n",
    "        title=\"Changepoint Prediction for Token ('coronavirus')\",\n",
    "    )\n",
    ")"
   ]
  },
  {
   "cell_type": "code",
   "execution_count": 15,
   "metadata": {
    "ExecuteTime": {
     "end_time": "2021-11-08T00:05:58.547754Z",
     "start_time": "2021-11-08T00:05:58.012057Z"
    }
   },
   "outputs": [
    {
     "data": {
      "image/png": "[encoded data removed]",
      "text/plain": [
       "<Figure size 640x480 with 1 Axes>"
      ]
     },
     "metadata": {},
     "output_type": "display_data"
    },
    {
     "data": {
      "text/plain": [
       "<ggplot: (8785940179860)>"
      ]
     },
     "execution_count": 15,
     "metadata": {},
     "output_type": "execute_result"
    }
   ],
   "source": [
    "(\n",
    "    p9.ggplot(change_point_df >> ply.query(\"tok=='copyright'\"))\n",
    "    + p9.aes(x=\"year_pair\", y=\"changepoint_prob\", group=0)\n",
    "    + p9.geom_point()\n",
    "    + p9.geom_line()\n",
    "    + p9.coord_flip()\n",
    "    + p9.theme_seaborn(\"white\")\n",
    "    + p9.labs(\n",
    "        x=\"years\",\n",
    "        y=\"Probability of Changepoint\",\n",
    "        title=\"Changepoint Prediction for Token ('copyright')\",\n",
    "    )\n",
    ")"
   ]
  },
  {
   "cell_type": "code",
   "execution_count": 16,
   "metadata": {
    "ExecuteTime": {
     "end_time": "2021-11-08T00:05:59.089011Z",
     "start_time": "2021-11-08T00:05:58.549213Z"
    }
   },
   "outputs": [
    {
     "data": {
      "image/png": "[encoded data removed]",
      "text/plain": [
       "<Figure size 640x480 with 1 Axes>"
      ]
     },
     "metadata": {},
     "output_type": "display_data"
    },
    {
     "data": {
      "text/plain": [
       "<ggplot: (-9223363250913616482)>"
      ]
     },
     "execution_count": 16,
     "metadata": {},
     "output_type": "execute_result"
    }
   ],
   "source": [
    "(\n",
    "    p9.ggplot(change_point_df >> ply.query(\"tok=='pandemic'\"))\n",
    "    + p9.aes(x=\"year_pair\", y=\"changepoint_prob\", group=0)\n",
    "    + p9.geom_point()\n",
    "    + p9.geom_line()\n",
    "    + p9.coord_flip()\n",
    "    + p9.theme_seaborn(\"white\")\n",
    "    + p9.labs(\n",
    "        x=\"years\",\n",
    "        y=\"Probability of Changepoint\",\n",
    "        title=\"Changepoint Prediction for Token ('pandemic')\",\n",
    "    )\n",
    ")"
   ]
  },
  {
   "cell_type": "code",
   "execution_count": 18,
   "metadata": {
    "ExecuteTime": {
     "end_time": "2021-11-08T00:09:02.579581Z",
     "start_time": "2021-11-08T00:09:02.054810Z"
    }
   },
   "outputs": [
    {
     "data": {
      "image/png": "[encoded data removed]",
      "text/plain": [
       "<Figure size 640x480 with 1 Axes>"
      ]
     },
     "metadata": {},
     "output_type": "display_data"
    },
    {
     "data": {
      "text/plain": [
       "<ggplot: (8786014207864)>"
      ]
     },
     "execution_count": 18,
     "metadata": {},
     "output_type": "execute_result"
    }
   ],
   "source": [
    "(\n",
    "    p9.ggplot(change_point_df >> ply.query(\"tok=='the'\"))\n",
    "    + p9.aes(x=\"year_pair\", y=\"changepoint_prob\", group=0)\n",
    "    + p9.geom_point()\n",
    "    + p9.geom_line()\n",
    "    + p9.coord_flip()\n",
    "    + p9.theme_seaborn(\"white\")\n",
    "    + p9.labs(\n",
    "        x=\"years\",\n",
    "        y=\"Probability of Changepoint\",\n",
    "        title=\"Changepoint Prediction for Token ('the')\",\n",
    "    )\n",
    "    + p9.scale_y_continuous(limits=[0, 1])\n",
    ")"
   ]
  },
  {
   "cell_type": "markdown",
   "metadata": {},
   "source": [
    "# Take Home Points"
   ]
  },
  {
   "cell_type": "markdown",
   "metadata": {},
   "source": [
    "1. Bayesian change point detection provides insight on the specific year period a semantic change point may have occurred.\n",
    "2. Best positive result is pandemic which underwent a focus shift from bird flu and influenza to coronavirus.\n",
    "3. Follow up analysis which will appear in the next notebook will involve looking at the top X token neighbors to the query word. By doing that one can estimate which kind of shift a word has undergone."
   ]
  }
 ],
 "metadata": {
  "jupytext": {
   "formats": "ipynb,py"
  },
  "kernelspec": {
   "display_name": "Python [conda env:biovectors]",
   "language": "python",
   "name": "conda-env-biovectors-py"
  },
  "language_info": {
   "codemirror_mode": {
    "name": "ipython",
    "version": 3
   },
   "file_extension": ".py",
   "mimetype": "text/x-python",
   "name": "python",
   "nbconvert_exporter": "python",
   "pygments_lexer": "ipython3",
   "version": "3.7.2"
  },
  "toc": {
   "base_numbering": 1,
   "nav_menu": {},
   "number_sections": true,
   "sideBar": true,
   "skip_h1_title": false,
   "title_cell": "Table of Contents",
   "title_sidebar": "Contents",
   "toc_cell": false,
   "toc_position": {},
   "toc_section_display": true,
   "toc_window_display": false
  }
 },
 "nbformat": 4,
 "nbformat_minor": 2
}
