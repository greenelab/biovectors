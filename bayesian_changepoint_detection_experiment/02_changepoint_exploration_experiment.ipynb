{
 "cells": [
  {
   "cell_type": "markdown",
   "metadata": {},
   "source": [
    "# Dive into time periods of change"
   ]
  },
  {
   "cell_type": "markdown",
   "metadata": {},
   "source": [
    "This notebook is designed to further examine individual changepoints that occurred in [01_change_point_detection.ipynb](01_change_point_detection.ipynb)."
   ]
  },
  {
   "cell_type": "code",
   "execution_count": 1,
   "metadata": {
    "ExecuteTime": {
     "end_time": "2021-11-08T15:05:10.455165Z",
     "start_time": "2021-11-08T15:05:08.075315Z"
    }
   },
   "outputs": [],
   "source": [
    "from IPython import display\n",
    "from pathlib import Path\n",
    "import re\n",
    "\n",
    "from gensim.models import Word2Vec\n",
    "import matplotlib.pyplot as plt\n",
    "import pandas as pd\n",
    "import plotnine as p9\n",
    "import plydata as ply\n",
    "import wordcloud"
   ]
  },
  {
   "cell_type": "markdown",
   "metadata": {},
   "source": [
    "## Load the changepoint predictions"
   ]
  },
  {
   "cell_type": "code",
   "execution_count": 2,
   "metadata": {
    "ExecuteTime": {
     "end_time": "2021-11-08T15:05:11.036587Z",
     "start_time": "2021-11-08T15:05:10.456299Z"
    }
   },
   "outputs": [
    {
     "data": {
      "text/html": [
       "<div>\n",
       "<style scoped>\n",
       "    .dataframe tbody tr th:only-of-type {\n",
       "        vertical-align: middle;\n",
       "    }\n",
       "\n",
       "    .dataframe tbody tr th {\n",
       "        vertical-align: top;\n",
       "    }\n",
       "\n",
       "    .dataframe thead th {\n",
       "        text-align: right;\n",
       "    }\n",
       "</style>\n",
       "<table border=\"1\" class=\"dataframe\">\n",
       "  <thead>\n",
       "    <tr style=\"text-align: right;\">\n",
       "      <th></th>\n",
       "      <th>tok</th>\n",
       "      <th>changepoint_prob</th>\n",
       "      <th>year_pair</th>\n",
       "    </tr>\n",
       "  </thead>\n",
       "  <tbody>\n",
       "    <tr>\n",
       "      <th>0</th>\n",
       "      <td>!</td>\n",
       "      <td>0.020841</td>\n",
       "      <td>2000-2001</td>\n",
       "    </tr>\n",
       "    <tr>\n",
       "      <th>1</th>\n",
       "      <td>!</td>\n",
       "      <td>0.020878</td>\n",
       "      <td>2001-2002</td>\n",
       "    </tr>\n",
       "    <tr>\n",
       "      <th>2</th>\n",
       "      <td>!</td>\n",
       "      <td>0.029867</td>\n",
       "      <td>2002-2003</td>\n",
       "    </tr>\n",
       "    <tr>\n",
       "      <th>3</th>\n",
       "      <td>!</td>\n",
       "      <td>0.002951</td>\n",
       "      <td>2003-2004</td>\n",
       "    </tr>\n",
       "    <tr>\n",
       "      <th>4</th>\n",
       "      <td>!</td>\n",
       "      <td>0.110963</td>\n",
       "      <td>2004-2005</td>\n",
       "    </tr>\n",
       "    <tr>\n",
       "      <th>5</th>\n",
       "      <td>!</td>\n",
       "      <td>0.233036</td>\n",
       "      <td>2005-2006</td>\n",
       "    </tr>\n",
       "    <tr>\n",
       "      <th>6</th>\n",
       "      <td>!</td>\n",
       "      <td>0.093458</td>\n",
       "      <td>2006-2007</td>\n",
       "    </tr>\n",
       "    <tr>\n",
       "      <th>7</th>\n",
       "      <td>!</td>\n",
       "      <td>0.101725</td>\n",
       "      <td>2007-2008</td>\n",
       "    </tr>\n",
       "    <tr>\n",
       "      <th>8</th>\n",
       "      <td>!</td>\n",
       "      <td>0.103046</td>\n",
       "      <td>2008-2009</td>\n",
       "    </tr>\n",
       "    <tr>\n",
       "      <th>9</th>\n",
       "      <td>!</td>\n",
       "      <td>0.056640</td>\n",
       "      <td>2009-2010</td>\n",
       "    </tr>\n",
       "  </tbody>\n",
       "</table>\n",
       "</div>"
      ],
      "text/plain": [
       "  tok  changepoint_prob  year_pair\n",
       "0   !          0.020841  2000-2001\n",
       "1   !          0.020878  2001-2002\n",
       "2   !          0.029867  2002-2003\n",
       "3   !          0.002951  2003-2004\n",
       "4   !          0.110963  2004-2005\n",
       "5   !          0.233036  2005-2006\n",
       "6   !          0.093458  2006-2007\n",
       "7   !          0.101725  2007-2008\n",
       "8   !          0.103046  2008-2009\n",
       "9   !          0.056640  2009-2010"
      ]
     },
     "execution_count": 2,
     "metadata": {},
     "output_type": "execute_result"
    }
   ],
   "source": [
    "change_point_df = pd.read_csv(\"output/bayesian_changepoint_data.tsv\", sep=\"\\t\")\n",
    "change_point_df >> ply.slice_rows(10)"
   ]
  },
  {
   "cell_type": "markdown",
   "metadata": {},
   "source": [
    "## Load the word vector model and their indicies"
   ]
  },
  {
   "cell_type": "code",
   "execution_count": 3,
   "metadata": {
    "ExecuteTime": {
     "end_time": "2021-11-08T15:05:11.063299Z",
     "start_time": "2021-11-08T15:05:11.043976Z"
    }
   },
   "outputs": [
    {
     "data": {
      "text/plain": [
       "[PosixPath('../multi_model_experiment/output/models/2003/2003_0.model'),\n",
       " PosixPath('../multi_model_experiment/output/models/2003/2003_5.model')]"
      ]
     },
     "execution_count": 3,
     "metadata": {},
     "output_type": "execute_result"
    }
   ],
   "source": [
    "word_models = list(Path(\"../multi_model_experiment/output/models\").rglob(\"*/*model\"))\n",
    "word_models[0:2]"
   ]
  },
  {
   "cell_type": "code",
   "execution_count": 4,
   "metadata": {
    "ExecuteTime": {
     "end_time": "2021-11-08T15:05:11.100052Z",
     "start_time": "2021-11-08T15:05:11.068025Z"
    }
   },
   "outputs": [],
   "source": [
    "word_model_map = dict()\n",
    "for word_model in word_models:\n",
    "    match_obj = re.search(r\"(\\d+)_(\\d).model\", str(word_model))\n",
    "\n",
    "    year = int(match_obj.group(1))\n",
    "    if year not in word_model_map:\n",
    "        word_model_map[year] = list()\n",
    "\n",
    "    word_model_map[year].append(str(word_model))"
   ]
  },
  {
   "cell_type": "code",
   "execution_count": 5,
   "metadata": {
    "ExecuteTime": {
     "end_time": "2021-11-08T15:14:38.357025Z",
     "start_time": "2021-11-08T15:05:11.101100Z"
    }
   },
   "outputs": [],
   "source": [
    "word_model_loaded_map = {\n",
    "    key: Word2Vec.load(sorted(word_model_map[key])[0]) for key in word_model_map\n",
    "}"
   ]
  },
  {
   "cell_type": "code",
   "execution_count": 6,
   "metadata": {
    "ExecuteTime": {
     "end_time": "2021-11-08T15:14:38.366890Z",
     "start_time": "2021-11-08T15:14:38.358635Z"
    }
   },
   "outputs": [],
   "source": [
    "word_freq_count_cutoff = 30"
   ]
  },
  {
   "cell_type": "code",
   "execution_count": 7,
   "metadata": {
    "ExecuteTime": {
     "end_time": "2021-11-08T15:15:04.248234Z",
     "start_time": "2021-11-08T15:14:38.375156Z"
    }
   },
   "outputs": [],
   "source": [
    "word_model_cutoff_map = {\n",
    "    key: {\n",
    "        \"model\": word_model_loaded_map[key],\n",
    "        \"cutoff_index\": min(\n",
    "            map(\n",
    "                lambda x: 999999\n",
    "                if word_model_loaded_map[key].wv.get_vecattr(x[1], \"count\")\n",
    "                > word_freq_count_cutoff\n",
    "                else x[0],\n",
    "                enumerate(word_model_loaded_map[key].wv.index_to_key),\n",
    "            )\n",
    "        ),\n",
    "    }\n",
    "    for key in word_model_loaded_map\n",
    "}"
   ]
  },
  {
   "cell_type": "markdown",
   "metadata": {},
   "source": [
    "# Examine Handpicked Tokens with a high chance of Change"
   ]
  },
  {
   "cell_type": "code",
   "execution_count": 8,
   "metadata": {
    "ExecuteTime": {
     "end_time": "2021-11-08T15:15:04.261545Z",
     "start_time": "2021-11-08T15:15:04.250659Z"
    }
   },
   "outputs": [],
   "source": [
    "def examine_words_at_timepoint_range(\n",
    "    word_model_map: dict, years_to_examine: list, tok: str = \"the\", topn: int = 25\n",
    "):\n",
    "    for year in years_to_examine:\n",
    "        print(year)\n",
    "        display.display(\n",
    "            word_model_map[year][\"model\"].wv.most_similar(\n",
    "                tok, topn=topn, clip_end=word_model_map[year][\"cutoff_index\"]\n",
    "            )\n",
    "        )\n",
    "        print()"
   ]
  },
  {
   "cell_type": "markdown",
   "metadata": {},
   "source": [
    "## Pandemic"
   ]
  },
  {
   "cell_type": "markdown",
   "metadata": {},
   "source": [
    "COVID-19. The drastic shift that came from the pandemic that was first talked about in 2019 but became more prevalent in 2020."
   ]
  },
  {
   "cell_type": "code",
   "execution_count": 9,
   "metadata": {
    "ExecuteTime": {
     "end_time": "2021-11-08T15:15:05.098290Z",
     "start_time": "2021-11-08T15:15:04.263285Z"
    }
   },
   "outputs": [
    {
     "data": {
      "image/png": "[encoded data removed]",
      "text/plain": [
       "<Figure size 640x480 with 1 Axes>"
      ]
     },
     "metadata": {},
     "output_type": "display_data"
    },
    {
     "data": {
      "text/plain": [
       "<ggplot: (8788477333743)>"
      ]
     },
     "execution_count": 9,
     "metadata": {},
     "output_type": "execute_result"
    }
   ],
   "source": [
    "(\n",
    "    p9.ggplot(change_point_df >> ply.query(\"tok=='pandemic'\"))\n",
    "    + p9.aes(x=\"year_pair\", y=\"changepoint_prob\", group=0)\n",
    "    + p9.geom_point()\n",
    "    + p9.geom_line()\n",
    "    + p9.coord_flip()\n",
    "    + p9.theme_seaborn(\"white\")\n",
    "    + p9.labs(\n",
    "        x=\"years\",\n",
    "        y=\"Probability of Changepoint\",\n",
    "        title=\"Changepoint Prediction for Token ('pandemic')\",\n",
    "    )\n",
    ")"
   ]
  },
  {
   "cell_type": "code",
   "execution_count": 10,
   "metadata": {
    "ExecuteTime": {
     "end_time": "2021-11-08T15:15:08.247896Z",
     "start_time": "2021-11-08T15:15:05.099309Z"
    },
    "scrolled": false
   },
   "outputs": [
    {
     "name": "stdout",
     "output_type": "stream",
     "text": [
      "2017\n"
     ]
    },
    {
     "data": {
      "text/plain": [
       "[('pandemics', 0.6991780400276184),\n",
       " ('epidemic', 0.6856436729431152),\n",
       " ('epidemics', 0.6150782108306885),\n",
       " ('h7n9', 0.5978159308433533),\n",
       " ('outbreak', 0.5829018950462341),\n",
       " ('h5n1', 0.5636022686958313),\n",
       " ('outbreaks', 0.5613247156143188),\n",
       " ('h3n2', 0.5537860989570618),\n",
       " ('h1n1', 0.5487057566642761),\n",
       " ('influenza_virus', 0.5333134531974792),\n",
       " ('smallpox', 0.5245035290718079),\n",
       " ('influenza', 0.5225406289100647),\n",
       " ('h5n2', 0.5161430835723877),\n",
       " ('avian_influenza_virus', 0.514297604560852),\n",
       " ('reassortant', 0.5110467672348022),\n",
       " ('aivs', 0.4954032599925995),\n",
       " ('h5n6', 0.4929891526699066),\n",
       " ('hpai', 0.4925987720489502),\n",
       " ('reemergence', 0.4914324879646301),\n",
       " ('zika', 0.4908639192581177)]"
      ]
     },
     "metadata": {},
     "output_type": "display_data"
    },
    {
     "name": "stdout",
     "output_type": "stream",
     "text": [
      "\n",
      "2018\n"
     ]
    },
    {
     "data": {
      "text/plain": [
       "[('pandemics', 0.7332271933555603),\n",
       " ('epidemics', 0.6715065836906433),\n",
       " ('epidemic', 0.6519843935966492),\n",
       " ('1918', 0.6153443455696106),\n",
       " ('outbreaks', 0.5759876370429993),\n",
       " ('outbreak', 0.5730677247047424),\n",
       " ('h1n1', 0.541581392288208),\n",
       " ('influenza_infection', 0.5323501825332642),\n",
       " ('influenza', 0.5313560962677002),\n",
       " ('h7n9', 0.5313538908958435),\n",
       " ('influenza_virus', 0.5215354561805725),\n",
       " ('iavs', 0.5017030835151672),\n",
       " ('flu', 0.49690765142440796),\n",
       " ('h3n2', 0.4967515170574188),\n",
       " ('h5n1', 0.4835919141769409),\n",
       " ('ebola', 0.4784187972545624),\n",
       " ('hpai', 0.47480645775794983),\n",
       " ('vaccine', 0.4744572639465332),\n",
       " ('zika', 0.47367310523986816),\n",
       " ('vaccination', 0.4722369313240051)]"
      ]
     },
     "metadata": {},
     "output_type": "display_data"
    },
    {
     "name": "stdout",
     "output_type": "stream",
     "text": [
      "\n",
      "2019\n"
     ]
    },
    {
     "data": {
      "text/plain": [
       "[('epidemic', 0.6750437617301941),\n",
       " ('pandemics', 0.6453397870063782),\n",
       " ('epidemics', 0.6332555413246155),\n",
       " ('1918', 0.574148952960968),\n",
       " ('outbreak', 0.5280614495277405),\n",
       " ('outbreaks', 0.5235552787780762),\n",
       " ('hpai', 0.5136731266975403),\n",
       " ('h7n9', 0.5135642290115356),\n",
       " ('h1n1', 0.500178337097168),\n",
       " ('influenza', 0.48792916536331177),\n",
       " ('influenza_viruses', 0.48726943135261536),\n",
       " ('h3n2', 0.4749680757522583),\n",
       " ('aivs', 0.4734039604663849),\n",
       " ('h5n1', 0.469298392534256),\n",
       " ('h5n8', 0.468316912651062),\n",
       " ('chikungunya_virus', 0.4624755084514618),\n",
       " ('epizootic', 0.460426390171051),\n",
       " ('avian_influenza_virus', 0.4584755301475525),\n",
       " ('reassortant', 0.4581826627254486),\n",
       " ('emergence', 0.4580637216567993)]"
      ]
     },
     "metadata": {},
     "output_type": "display_data"
    },
    {
     "name": "stdout",
     "output_type": "stream",
     "text": [
      "\n",
      "2020\n"
     ]
    },
    {
     "data": {
      "text/plain": [
       "[('crisis', 0.7900959253311157),\n",
       " ('outbreak', 0.7101421356201172),\n",
       " ('pandemics', 0.686601459980011),\n",
       " ('epidemic', 0.6264187097549438),\n",
       " ('lockdown', 0.6042526364326477),\n",
       " ('surge', 0.5688024163246155),\n",
       " ('crises', 0.567150354385376),\n",
       " ('lockdowns', 0.5604577660560608),\n",
       " ('emergencies', 0.5471855998039246),\n",
       " ('redeployment', 0.5211671590805054),\n",
       " ('epidemics', 0.5193330645561218),\n",
       " ('spread', 0.5026978254318237),\n",
       " ('infodemic', 0.49901479482650757),\n",
       " ('situation', 0.49563202261924744),\n",
       " ('pandemia', 0.47866198420524597),\n",
       " ('neurosurgeons', 0.4780711233615875),\n",
       " ('outbreaks', 0.4773049056529999),\n",
       " ('surges', 0.4746277332305908),\n",
       " ('covid-19', 0.4732852578163147),\n",
       " ('humanity', 0.4658540189266205)]"
      ]
     },
     "metadata": {},
     "output_type": "display_data"
    },
    {
     "name": "stdout",
     "output_type": "stream",
     "text": [
      "\n"
     ]
    }
   ],
   "source": [
    "examine_words_at_timepoint_range(\n",
    "    word_model_cutoff_map, [2017, 2018, 2019, 2020], tok=\"pandemic\", topn=20\n",
    ")"
   ]
  },
  {
   "cell_type": "markdown",
   "metadata": {},
   "source": [
    "## Rituximab"
   ]
  },
  {
   "cell_type": "markdown",
   "metadata": {},
   "source": [
    "Not sure the change here but seems like the time period is when the drug was being used to treat rheumatoid arthritis. More investigation is needed."
   ]
  },
  {
   "cell_type": "code",
   "execution_count": 37,
   "metadata": {
    "ExecuteTime": {
     "end_time": "2021-11-08T18:34:00.337560Z",
     "start_time": "2021-11-08T18:33:59.788618Z"
    }
   },
   "outputs": [
    {
     "data": {
      "image/png": "[encoded data removed]",
      "text/plain": [
       "<Figure size 640x480 with 1 Axes>"
      ]
     },
     "metadata": {},
     "output_type": "display_data"
    },
    {
     "data": {
      "text/plain": [
       "<ggplot: (8788476355304)>"
      ]
     },
     "execution_count": 37,
     "metadata": {},
     "output_type": "execute_result"
    }
   ],
   "source": [
    "(\n",
    "    p9.ggplot(change_point_df >> ply.query(\"tok=='rituximab'\"))\n",
    "    + p9.aes(x=\"year_pair\", y=\"changepoint_prob\", group=0)\n",
    "    + p9.geom_point()\n",
    "    + p9.geom_line()\n",
    "    + p9.coord_flip()\n",
    "    + p9.theme_seaborn(\"white\")\n",
    "    + p9.labs(\n",
    "        x=\"years\",\n",
    "        y=\"Probability of Changepoint\",\n",
    "        title=\"Changepoint Prediction for Token ('rituximab')\",\n",
    "    )\n",
    ")"
   ]
  },
  {
   "cell_type": "code",
   "execution_count": 38,
   "metadata": {
    "ExecuteTime": {
     "end_time": "2021-11-08T18:34:20.880336Z",
     "start_time": "2021-11-08T18:34:20.827644Z"
    },
    "scrolled": false
   },
   "outputs": [
    {
     "name": "stdout",
     "output_type": "stream",
     "text": [
      "2000\n"
     ]
    },
    {
     "data": {
      "text/plain": [
       "[('mast', 0.6749982833862305),\n",
       " ('balb', 0.6679159998893738),\n",
       " ('parental', 0.637936532497406),\n",
       " ('clone', 0.6155112385749817),\n",
       " ('bearing', 0.6075371503829956),\n",
       " ('exhibited', 0.5965074896812439),\n",
       " ('transformed', 0.5959009528160095),\n",
       " ('gave', 0.5940744280815125),\n",
       " ('producing', 0.5791988372802734),\n",
       " ('-treated', 0.5764799118041992),\n",
       " ('cd34', 0.567865252494812),\n",
       " ('stimulates', 0.5668779015541077),\n",
       " ('peritoneal', 0.5657975077629089),\n",
       " ('mcf-7', 0.5619043707847595),\n",
       " ('enhances', 0.5521397590637207),\n",
       " ('colon_cancer', 0.5471397042274475),\n",
       " ('hematopoietic', 0.5470036864280701),\n",
       " ('mt', 0.546705961227417),\n",
       " ('w', 0.5428543090820312),\n",
       " ('stimulating', 0.5424321889877319)]"
      ]
     },
     "metadata": {},
     "output_type": "display_data"
    },
    {
     "name": "stdout",
     "output_type": "stream",
     "text": [
      "\n",
      "2001\n"
     ]
    },
    {
     "data": {
      "text/plain": [
       "[('transfer', 0.6426998376846313),\n",
       " ('kinetics', 0.6200207471847534),\n",
       " ('background', 0.6152129173278809),\n",
       " ('experiments', 0.6148674488067627),\n",
       " ('light', 0.6109252572059631),\n",
       " ('depends', 0.6017626523971558),\n",
       " ('shape', 0.5951443910598755),\n",
       " ('parallel', 0.5942104458808899),\n",
       " ('whole', 0.586495578289032),\n",
       " ('radial', 0.5810736417770386),\n",
       " ('monocytes', 0.5719237327575684),\n",
       " ('lateral', 0.5701507329940796),\n",
       " ('images', 0.5690827965736389),\n",
       " ('assays', 0.5648252367973328),\n",
       " ('separation', 0.5619150400161743),\n",
       " ('linking', 0.5612422823905945),\n",
       " ('cross', 0.557857871055603),\n",
       " ('depending', 0.5567417740821838),\n",
       " ('embryo', 0.5555033683776855),\n",
       " ('culture', 0.5538331866264343)]"
      ]
     },
     "metadata": {},
     "output_type": "display_data"
    },
    {
     "name": "stdout",
     "output_type": "stream",
     "text": [
      "\n",
      "2002\n"
     ]
    },
    {
     "data": {
      "text/plain": [
       "[('o', 0.7642405033111572),\n",
       " ('pacs', 0.7625166177749634),\n",
       " ('number(s', 0.7576115131378174),\n",
       " ('*', 0.7415123581886292),\n",
       " ('2.0', 0.7351735830307007),\n",
       " ('und', 0.7199195027351379),\n",
       " ('1.0', 0.7185031175613403),\n",
       " ('1.6', 0.7175909876823425),\n",
       " ('1.8', 0.703667938709259),\n",
       " ('ec', 0.6985718011856079),\n",
       " ('gm', 0.6965192556381226),\n",
       " ('doi:10.1038', 0.6928649544715881),\n",
       " ('transferase', 0.6864604353904724),\n",
       " ('mmhg', 0.6802101731300354),\n",
       " ('sj', 0.678193986415863),\n",
       " ('87', 0.6772534847259521),\n",
       " ('der', 0.675006628036499),\n",
       " ('des', 0.6717447638511658),\n",
       " ('10.1038', 0.6710097789764404),\n",
       " ('la', 0.6707950234413147)]"
      ]
     },
     "metadata": {},
     "output_type": "display_data"
    },
    {
     "name": "stdout",
     "output_type": "stream",
     "text": [
      "\n",
      "2003\n"
     ]
    },
    {
     "data": {
      "text/plain": [
       "[('systemic_lupus_erythematosus', 0.74424147605896),\n",
       " ('rheumatoid_arthritis', 0.7119893431663513),\n",
       " ('hepatitis', 0.6898559927940369),\n",
       " ('advanced', 0.6708577275276184),\n",
       " ('-associated', 0.6675217747688293),\n",
       " ('metastatic', 0.666694164276123),\n",
       " ('chemotherapy', 0.6639833450317383),\n",
       " ('docetaxel', 0.658749520778656),\n",
       " ('pancreatic_cancer', 0.657593846321106),\n",
       " ('colorectal_cancer', 0.6425361037254333),\n",
       " ('adjuvant', 0.6390045881271362),\n",
       " ('graft', 0.6336366534233093),\n",
       " ('malignancies', 0.6329132318496704),\n",
       " ('arthritis', 0.6276845335960388),\n",
       " ('agent', 0.619322657585144),\n",
       " ('endometriosis', 0.6150633096694946),\n",
       " ('autoimmunity', 0.6060788631439209),\n",
       " ('refractory', 0.6038910150527954),\n",
       " ('ra', 0.6034440994262695),\n",
       " ('transplantation', 0.6032803654670715)]"
      ]
     },
     "metadata": {},
     "output_type": "display_data"
    },
    {
     "name": "stdout",
     "output_type": "stream",
     "text": [
      "\n",
      "2004\n"
     ]
    },
    {
     "data": {
      "text/plain": [
       "[('i.', 0.7010663151741028),\n",
       " ('pacs', 0.6894559264183044),\n",
       " ('canine', 0.649408757686615),\n",
       " ('triglyceride', 0.6434385776519775),\n",
       " ('priming', 0.6400200724601746),\n",
       " ('0.03', 0.6295343637466431),\n",
       " ('p<0.05', 0.6221560835838318),\n",
       " ('alternate', 0.6217328906059265),\n",
       " ('3.8', 0.6121428608894348),\n",
       " ('glucocorticoids', 0.6115313768386841),\n",
       " ('neuroblastoma', 0.6065365076065063),\n",
       " ('pg', 0.6064301133155823),\n",
       " ('classic', 0.604299783706665),\n",
       " ('stably', 0.6029045581817627),\n",
       " ('suppresses', 0.6017924547195435),\n",
       " ('np', 0.5994503498077393),\n",
       " ('mumol', 0.5983171463012695),\n",
       " ('amoxicillin', 0.5952456593513489),\n",
       " ('conversely', 0.5951845645904541),\n",
       " ('bipolar', 0.5936198830604553)]"
      ]
     },
     "metadata": {},
     "output_type": "display_data"
    },
    {
     "name": "stdout",
     "output_type": "stream",
     "text": [
      "\n",
      "2005\n"
     ]
    },
    {
     "data": {
      "text/plain": [
       "[('refractory', 0.6044105291366577),\n",
       " ('symptomatic', 0.5961765050888062),\n",
       " ('methotrexate', 0.584784209728241),\n",
       " ('cyclophosphamide', 0.5593159198760986),\n",
       " ('prophylactic', 0.5532633662223816),\n",
       " ('immunosuppressive', 0.5436662435531616),\n",
       " ('thrombocytopenia', 0.5371777415275574),\n",
       " ('toxicities', 0.5331265330314636),\n",
       " ('vomiting', 0.5285472273826599),\n",
       " ('intravenous', 0.518385648727417),\n",
       " ('prolonged', 0.5166075229644775),\n",
       " ('adjuvant', 0.5117538571357727),\n",
       " ('imatinib', 0.5080980658531189),\n",
       " ('tolerated', 0.5068846344947815),\n",
       " ('autologous', 0.5058293342590332),\n",
       " ('regimens', 0.5054547190666199),\n",
       " ('subcutaneous', 0.5024641156196594),\n",
       " ('corticosteroids', 0.49930039048194885),\n",
       " ('neutropenia', 0.4969902038574219),\n",
       " ('withdrawal', 0.49486446380615234)]"
      ]
     },
     "metadata": {},
     "output_type": "display_data"
    },
    {
     "name": "stdout",
     "output_type": "stream",
     "text": [
      "\n",
      "2006\n"
     ]
    },
    {
     "data": {
      "text/plain": [
       "[('refractory', 0.6898175477981567),\n",
       " ('immunosuppressive', 0.6855635643005371),\n",
       " ('pegylated', 0.6717652678489685),\n",
       " ('cytotoxic', 0.6605305075645447),\n",
       " ('chemotherapeutic', 0.6598931550979614),\n",
       " ('bortezomib', 0.6457255482673645),\n",
       " ('doxorubicin', 0.6337072849273682),\n",
       " ('ribavirin', 0.6296496987342834),\n",
       " ('interferon', 0.6210818886756897),\n",
       " ('anti-', 0.6161273717880249),\n",
       " ('il-15', 0.6033083200454712),\n",
       " ('trastuzumab', 0.6002428531646729),\n",
       " ('adjuvant', 0.5989996790885925),\n",
       " ('relapsing', 0.5832734107971191),\n",
       " ('systemic_lupus_erythematosus', 0.5767406821250916),\n",
       " ('gefitinib', 0.5754924416542053),\n",
       " ('fluconazole', 0.5691105723381042),\n",
       " ('gemcitabine', 0.5684554576873779),\n",
       " ('platinum', 0.5634644627571106),\n",
       " ('paclitaxel', 0.5632907748222351)]"
      ]
     },
     "metadata": {},
     "output_type": "display_data"
    },
    {
     "name": "stdout",
     "output_type": "stream",
     "text": [
      "\n",
      "2007\n"
     ]
    },
    {
     "data": {
      "text/plain": [
       "[('refractory', 0.7421202063560486),\n",
       " ('relapsed', 0.6932263374328613),\n",
       " ('pdt', 0.6628113389015198),\n",
       " ('chemotherapy', 0.6389865875244141),\n",
       " ('5-fluorouracil', 0.6374110579490662),\n",
       " ('cyclophosphamide', 0.6331055760383606),\n",
       " ('bevacizumab', 0.6314488053321838),\n",
       " ('adjuvant', 0.6270129084587097),\n",
       " ('chemoradiation', 0.6111660599708557),\n",
       " ('docetaxel', 0.6103755235671997),\n",
       " ('5-fu', 0.6065484881401062),\n",
       " ('trastuzumab', 0.6063368320465088),\n",
       " ('cisplatin', 0.603394091129303),\n",
       " ('paclitaxel', 0.6017168164253235),\n",
       " ('imatinib', 0.5995900630950928),\n",
       " ('oxaliplatin', 0.597063422203064),\n",
       " ('chemotherapeutic', 0.5930866599082947),\n",
       " ('immunotherapy', 0.5919866561889648),\n",
       " ('irinotecan', 0.5759705901145935),\n",
       " ('carboplatin', 0.5732789039611816)]"
      ]
     },
     "metadata": {},
     "output_type": "display_data"
    },
    {
     "name": "stdout",
     "output_type": "stream",
     "text": [
      "\n"
     ]
    }
   ],
   "source": [
    "examine_words_at_timepoint_range(\n",
    "    word_model_cutoff_map,\n",
    "    [2000, 2001, 2002, 2003, 2004, 2005, 2006, 2007],\n",
    "    tok=\"rituximab\",\n",
    "    topn=20,\n",
    ")"
   ]
  },
  {
   "cell_type": "markdown",
   "metadata": {},
   "source": [
    "## Asthma"
   ]
  },
  {
   "cell_type": "markdown",
   "metadata": {},
   "source": [
    "There is semantic shift for asthma where in 2002-2003 seems like focus shifted from co-morbidity to drug treatments. Fun fact asthma is connected to type 2 diabetes (had no idea)."
   ]
  },
  {
   "cell_type": "code",
   "execution_count": 39,
   "metadata": {
    "ExecuteTime": {
     "end_time": "2021-11-08T18:44:51.147934Z",
     "start_time": "2021-11-08T18:44:50.603750Z"
    }
   },
   "outputs": [
    {
     "data": {
      "image/png": "[encoded data removed]",
      "text/plain": [
       "<Figure size 640x480 with 1 Axes>"
      ]
     },
     "metadata": {},
     "output_type": "display_data"
    },
    {
     "data": {
      "text/plain": [
       "<ggplot: (8788476232950)>"
      ]
     },
     "execution_count": 39,
     "metadata": {},
     "output_type": "execute_result"
    }
   ],
   "source": [
    "(\n",
    "    p9.ggplot(change_point_df >> ply.query(\"tok=='asthmatics'\"))\n",
    "    + p9.aes(x=\"year_pair\", y=\"changepoint_prob\", group=0)\n",
    "    + p9.geom_point()\n",
    "    + p9.geom_line()\n",
    "    + p9.coord_flip()\n",
    "    + p9.theme_seaborn(\"white\")\n",
    "    + p9.labs(\n",
    "        x=\"years\",\n",
    "        y=\"Probability of Changepoint\",\n",
    "        title=\"Changepoint Prediction for Token ('asthmatics')\",\n",
    "    )\n",
    ")"
   ]
  },
  {
   "cell_type": "code",
   "execution_count": 40,
   "metadata": {
    "ExecuteTime": {
     "end_time": "2021-11-08T18:45:07.696503Z",
     "start_time": "2021-11-08T18:45:07.631195Z"
    },
    "scrolled": false
   },
   "outputs": [
    {
     "name": "stdout",
     "output_type": "stream",
     "text": [
      "2000\n"
     ]
    },
    {
     "data": {
      "text/plain": [
       "[('lungs', 0.7212653160095215),\n",
       " ('killed', 0.7005539536476135),\n",
       " ('peritoneal', 0.695019006729126),\n",
       " ('stomach', 0.6887806057929993),\n",
       " ('infiltration', 0.6834275126457214),\n",
       " ('joints', 0.6796582341194153),\n",
       " ('hepatic', 0.676683783531189),\n",
       " ('reactivity', 0.6741366386413574),\n",
       " ('c57bl/6', 0.673905611038208),\n",
       " ('cattle', 0.6665526032447815),\n",
       " ('healthy', 0.6612000465393066),\n",
       " ('-treated', 0.6528664231300354),\n",
       " ('bcg', 0.647591233253479),\n",
       " ('iga', 0.6475523114204407),\n",
       " ('mmc', 0.6473868489265442),\n",
       " ('untreated', 0.6473284363746643),\n",
       " ('vessel', 0.6436194777488708),\n",
       " ('calves', 0.6403672099113464),\n",
       " ('circulating', 0.6399605870246887),\n",
       " ('attenuated', 0.6387271881103516)]"
      ]
     },
     "metadata": {},
     "output_type": "display_data"
    },
    {
     "name": "stdout",
     "output_type": "stream",
     "text": [
      "\n",
      "2001\n"
     ]
    },
    {
     "data": {
      "text/plain": [
       "[('consistently', 0.7341912388801575),\n",
       " ('slightly', 0.6581230163574219),\n",
       " ('bilateral', 0.6499865651130676),\n",
       " ('ad', 0.6494346857070923),\n",
       " ('residual', 0.6403802633285522),\n",
       " ('progressive', 0.635447084903717),\n",
       " ('never', 0.6240246891975403),\n",
       " ('considerably', 0.6206234693527222),\n",
       " ('prevalent', 0.6187053918838501),\n",
       " ('distant', 0.6185603141784668),\n",
       " ('extra', 0.6060389280319214),\n",
       " ('mild', 0.6031607389450073),\n",
       " ('decreasing', 0.6027633547782898),\n",
       " ('gastroenteritis', 0.5927736163139343),\n",
       " ('venous', 0.5890352725982666),\n",
       " ('moderate', 0.588873565196991),\n",
       " ('correlate', 0.5871338844299316),\n",
       " ('p<0.05', 0.5837293863296509),\n",
       " ('parental', 0.5774109363555908),\n",
       " ('younger', 0.5771081447601318)]"
      ]
     },
     "metadata": {},
     "output_type": "display_data"
    },
    {
     "name": "stdout",
     "output_type": "stream",
     "text": [
      "\n",
      "2002\n"
     ]
    },
    {
     "data": {
      "text/plain": [
       "[('diabetes_mellitus', 0.6948237419128418),\n",
       " ('myocardial_infarction', 0.6515965461730957),\n",
       " ('mild', 0.6480078101158142),\n",
       " ('severe', 0.6354743242263794),\n",
       " ('condition', 0.6226110458374023),\n",
       " ('episodes', 0.6219514608383179),\n",
       " ('cough', 0.6160352230072021),\n",
       " ('symptoms', 0.6156531572341919),\n",
       " ('cigarette', 0.6154245138168335),\n",
       " ('sensitization', 0.5974223613739014),\n",
       " ('parents', 0.5956239104270935),\n",
       " ('infants', 0.5922144055366516),\n",
       " ('adolescents', 0.5916818976402283),\n",
       " ('elderly', 0.589257538318634),\n",
       " ('diarrhea', 0.5843044519424438),\n",
       " ('oa', 0.5814251899719238),\n",
       " ('excluded', 0.5793468356132507),\n",
       " ('child', 0.5763887166976929),\n",
       " ('hypertension', 0.5763483047485352),\n",
       " ('excess', 0.5744470357894897)]"
      ]
     },
     "metadata": {},
     "output_type": "display_data"
    },
    {
     "name": "stdout",
     "output_type": "stream",
     "text": [
      "\n",
      "2003\n"
     ]
    },
    {
     "data": {
      "text/plain": [
       "[('chemotaxis', 0.702450156211853),\n",
       " ('-based', 0.6793529391288757),\n",
       " ('trail', 0.6753236651420593),\n",
       " ('triggered', 0.6748639941215515),\n",
       " ('stimulates', 0.6636601686477661),\n",
       " ('inhibits', 0.6611665487289429),\n",
       " ('transforming', 0.6610868573188782),\n",
       " ('mediates', 0.6602891683578491),\n",
       " ('inhibiting', 0.6470538973808289),\n",
       " ('-mediated', 0.6423174738883972),\n",
       " ('inducing', 0.641094446182251),\n",
       " ('estrogens', 0.6351336240768433),\n",
       " ('catenin', 0.6270502805709839),\n",
       " ('integrin', 0.625895619392395),\n",
       " ('activates', 0.6258313059806824),\n",
       " ('osteoclast', 0.6237668395042419),\n",
       " ('ubiquitin', 0.621432363986969),\n",
       " ('src', 0.6211857795715332),\n",
       " ('modulates', 0.6209842562675476),\n",
       " ('axon', 0.6199256181716919)]"
      ]
     },
     "metadata": {},
     "output_type": "display_data"
    },
    {
     "name": "stdout",
     "output_type": "stream",
     "text": [
      "\n",
      "2004\n"
     ]
    },
    {
     "data": {
      "text/plain": [
       "[('inhaled', 0.6839941143989563),\n",
       " ('newborn', 0.6514480113983154),\n",
       " ('neonates', 0.6479457020759583),\n",
       " ('igg1', 0.6470595598220825),\n",
       " ('mild', 0.6405482292175293),\n",
       " ('asymptomatic', 0.6401692032814026),\n",
       " ('recipients', 0.627132773399353),\n",
       " ('vancomycin', 0.6207065582275391),\n",
       " ('calves', 0.6155859231948853),\n",
       " ('infliximab', 0.6147308945655823),\n",
       " ('moderate', 0.6107444167137146),\n",
       " ('donors', 0.6104379892349243),\n",
       " ('titer', 0.592126727104187),\n",
       " ('carriers', 0.5895813703536987),\n",
       " ('volunteers', 0.5851869583129883),\n",
       " ('transfusions', 0.5778705477714539),\n",
       " ('allergens', 0.5731098055839539),\n",
       " ('pg', 0.5730322003364563),\n",
       " ('smokers', 0.5715954303741455),\n",
       " ('titers', 0.5695578455924988)]"
      ]
     },
     "metadata": {},
     "output_type": "display_data"
    },
    {
     "name": "stdout",
     "output_type": "stream",
     "text": [
      "\n",
      "2005\n"
     ]
    },
    {
     "data": {
      "text/plain": [
       "[('atopic', 0.7547791004180908),\n",
       " ('sensitized', 0.7091889381408691),\n",
       " ('balf', 0.68149334192276),\n",
       " ('asthmatic', 0.6697232127189636),\n",
       " ('eosinophils', 0.6686051487922668),\n",
       " ('ova', 0.6626640558242798),\n",
       " ('sensitization', 0.648569643497467),\n",
       " ('bronchial', 0.6419340372085571),\n",
       " ('bronchoalveolar', 0.6368231773376465),\n",
       " ('allergens', 0.6330153942108154),\n",
       " ('lavage', 0.6224052906036377),\n",
       " ('airways', 0.5946694612503052),\n",
       " ('recipients', 0.5921541452407837),\n",
       " ('sputum', 0.5910604000091553),\n",
       " ('ige', 0.5881975293159485),\n",
       " ('allergen', 0.5849301218986511),\n",
       " ('allergic', 0.5832582712173462),\n",
       " ('ahr', 0.582333505153656),\n",
       " ('ventilated', 0.5822708606719971),\n",
       " ('infiltration', 0.5817573666572571)]"
      ]
     },
     "metadata": {},
     "output_type": "display_data"
    },
    {
     "name": "stdout",
     "output_type": "stream",
     "text": [
      "\n",
      "2006\n"
     ]
    },
    {
     "data": {
      "text/plain": [
       "[('asthmatic', 0.6221446990966797),\n",
       " ('airways', 0.6073458790779114),\n",
       " ('airway', 0.5993697047233582),\n",
       " ('neutrophils', 0.5845120549201965),\n",
       " ('lungs', 0.578845202922821),\n",
       " ('eosinophilia', 0.5696489214897156),\n",
       " ('bronchial', 0.5654510855674744),\n",
       " ('eosinophils', 0.5641201734542847),\n",
       " ('microglia', 0.5519346594810486),\n",
       " ('chronically', 0.5515621900558472),\n",
       " ('alveolar', 0.5485657453536987),\n",
       " ('spontaneously', 0.542661190032959),\n",
       " ('eosinophil', 0.5385617017745972),\n",
       " ('neutrophil', 0.5374373197555542),\n",
       " ('sputum', 0.5344828367233276),\n",
       " ('sepsis', 0.5313383340835571),\n",
       " ('respiratory_failure', 0.5266923308372498),\n",
       " ('allergen', 0.5219619870185852),\n",
       " ('macrophages', 0.5217006802558899),\n",
       " ('cutaneous', 0.5171064138412476)]"
      ]
     },
     "metadata": {},
     "output_type": "display_data"
    },
    {
     "name": "stdout",
     "output_type": "stream",
     "text": [
      "\n",
      "2007\n"
     ]
    },
    {
     "data": {
      "text/plain": [
       "[('airway', 0.6589729189872742),\n",
       " ('atopic', 0.6366866827011108),\n",
       " ('methacholine', 0.616245448589325),\n",
       " ('asthmatic', 0.5923959016799927),\n",
       " ('pulmonary', 0.5795917510986328),\n",
       " ('allergic', 0.5738620162010193),\n",
       " ('airways', 0.5672656297683716),\n",
       " ('asthma', 0.563923180103302),\n",
       " ('dyspnea', 0.5569828748703003),\n",
       " ('cough', 0.5476459264755249),\n",
       " ('elevation', 0.5461803078651428),\n",
       " ('eosinophils', 0.5442642569541931),\n",
       " ('systemic', 0.5440528392791748),\n",
       " ('hypotension', 0.543931245803833),\n",
       " ('respiratory_distress_syndrome', 0.543857991695404),\n",
       " ('allergen', 0.5431628227233887),\n",
       " ('atopy', 0.5374076962471008),\n",
       " ('corticosteroids', 0.5352861881256104),\n",
       " ('acth', 0.533117413520813),\n",
       " ('inhalation', 0.531807541847229)]"
      ]
     },
     "metadata": {},
     "output_type": "display_data"
    },
    {
     "name": "stdout",
     "output_type": "stream",
     "text": [
      "\n"
     ]
    }
   ],
   "source": [
    "examine_words_at_timepoint_range(\n",
    "    word_model_cutoff_map,\n",
    "    [2000, 2001, 2002, 2003, 2004, 2005, 2006, 2007],\n",
    "    tok=\"asthmatics\",\n",
    "    topn=20,\n",
    ")"
   ]
  },
  {
   "cell_type": "markdown",
   "metadata": {},
   "source": [
    "## Individual Year Changes"
   ]
  },
  {
   "cell_type": "markdown",
   "metadata": {},
   "source": [
    "2001 token has a high chance of a shift moving from medical topics from cancer and healthcare to specifying time and dates.\n",
    "This leads to the question do other years have this short of shift?\n",
    "Turns out yes 2003 and 2004 have this shift but more data is needed in order to calculate the changepoint timeline (only used tokens present across all the years)."
   ]
  },
  {
   "cell_type": "code",
   "execution_count": 17,
   "metadata": {
    "ExecuteTime": {
     "end_time": "2021-11-08T15:15:11.609316Z",
     "start_time": "2021-11-08T15:15:11.029947Z"
    }
   },
   "outputs": [
    {
     "data": {
      "image/png": "[encoded data removed]",
      "text/plain": [
       "<Figure size 640x480 with 1 Axes>"
      ]
     },
     "metadata": {},
     "output_type": "display_data"
    },
    {
     "data": {
      "text/plain": [
       "<ggplot: (-9223363248378148064)>"
      ]
     },
     "execution_count": 17,
     "metadata": {},
     "output_type": "execute_result"
    }
   ],
   "source": [
    "(\n",
    "    p9.ggplot(change_point_df >> ply.query(\"tok=='2001'\"))\n",
    "    + p9.aes(x=\"year_pair\", y=\"changepoint_prob\", group=0)\n",
    "    + p9.geom_point()\n",
    "    + p9.geom_line()\n",
    "    + p9.coord_flip()\n",
    "    + p9.theme_seaborn(\"white\")\n",
    "    + p9.labs(\n",
    "        x=\"years\",\n",
    "        y=\"Probability of Changepoint\",\n",
    "        title=\"Changepoint Prediction for Token ('2001')\",\n",
    "    )\n",
    ")"
   ]
  },
  {
   "cell_type": "code",
   "execution_count": 18,
   "metadata": {
    "ExecuteTime": {
     "end_time": "2021-11-08T15:15:11.710069Z",
     "start_time": "2021-11-08T15:15:11.614248Z"
    },
    "scrolled": false
   },
   "outputs": [
    {
     "name": "stdout",
     "output_type": "stream",
     "text": [
      "2000\n"
     ]
    },
    {
     "data": {
      "text/plain": [
       "[('saudi', 0.8432109951972961),\n",
       " ('standardized', 0.8264970183372498),\n",
       " ('city', 0.8260639309883118),\n",
       " ('de', 0.8148120641708374),\n",
       " ('a.', 0.8061053156852722),\n",
       " ('materials', 0.7914955615997314),\n",
       " ('der', 0.7802072167396545),\n",
       " ('c.', 0.7777249813079834),\n",
       " ('mixed', 0.7755757570266724),\n",
       " ('1999', 0.7706924676895142),\n",
       " ('usa', 0.7677820920944214),\n",
       " ('medicare', 0.7641255259513855),\n",
       " ('electronic', 0.7600763440132141),\n",
       " ('personal', 0.7595586180686951),\n",
       " ('s.', 0.758797824382782),\n",
       " ('mercury', 0.7520304322242737),\n",
       " ('operations', 0.7516397833824158),\n",
       " ('consisted', 0.7497888207435608),\n",
       " ('1993', 0.7493039965629578),\n",
       " ('science', 0.7448055148124695)]"
      ]
     },
     "metadata": {},
     "output_type": "display_data"
    },
    {
     "name": "stdout",
     "output_type": "stream",
     "text": [
      "\n",
      "2001\n"
     ]
    },
    {
     "data": {
      "text/plain": [
       "[('http://www.bjcancer.com', 0.8318086266517639),\n",
       " ('campaign', 0.8302060961723328),\n",
       " ('cancer', 0.7477707266807556),\n",
       " ('research', 0.7422857880592346),\n",
       " ('campaignhttp://www.bjcancer.com', 0.7218648195266724),\n",
       " ('stroke', 0.5327287316322327),\n",
       " ('uk', 0.5237401723861694),\n",
       " ('breast_cancer', 0.5072314739227295),\n",
       " ('&', 0.49664217233657837),\n",
       " ('september', 0.49431484937667847),\n",
       " ('therapies', 0.484430193901062),\n",
       " ('prostate_cancer', 0.4801977276802063),\n",
       " ('malignancy', 0.475796103477478),\n",
       " ('society', 0.46949294209480286),\n",
       " ('regional', 0.4691867232322693),\n",
       " ('meeting', 0.4686853885650635),\n",
       " ('efforts', 0.467476487159729),\n",
       " ('bladder_cancer', 0.45329970121383667),\n",
       " ('healthcare', 0.452086865901947),\n",
       " ('aids', 0.4515453279018402)]"
      ]
     },
     "metadata": {},
     "output_type": "display_data"
    },
    {
     "name": "stdout",
     "output_type": "stream",
     "text": [
      "\n",
      "2002\n"
     ]
    },
    {
     "data": {
      "text/plain": [
       "[('july', 0.9446263313293457),\n",
       " ('2000', 0.9396282434463501),\n",
       " ('june', 0.931744396686554),\n",
       " ('usa', 0.923620343208313),\n",
       " ('1999', 0.9197708368301392),\n",
       " ('october', 0.9193089604377747),\n",
       " ('september', 0.9093526601791382),\n",
       " ('1996', 0.9075074195861816),\n",
       " ('canada', 0.9037778973579407),\n",
       " ('1998', 0.9028666019439697),\n",
       " ('1997', 0.900740921497345),\n",
       " ('december', 0.897705078125),\n",
       " ('april', 0.8972738981246948),\n",
       " ('january', 0.8956347703933716),\n",
       " ('1994', 0.8930555582046509),\n",
       " ('march', 0.8913734555244446),\n",
       " ('1995', 0.8765857815742493),\n",
       " ('meeting', 0.8738429546356201),\n",
       " ('society', 0.8639897108078003),\n",
       " ('university', 0.856545627117157)]"
      ]
     },
     "metadata": {},
     "output_type": "display_data"
    },
    {
     "name": "stdout",
     "output_type": "stream",
     "text": [
      "\n",
      "2003\n"
     ]
    },
    {
     "data": {
      "text/plain": [
       "[('2000', 0.9564700722694397),\n",
       " ('1999', 0.9534481167793274),\n",
       " ('december', 0.9512897729873657),\n",
       " ('1998', 0.9396007061004639),\n",
       " ('1997', 0.9351389408111572),\n",
       " ('1996', 0.9335981607437134),\n",
       " ('2002', 0.928378164768219),\n",
       " ('1992', 0.926242470741272),\n",
       " ('april', 0.9262280464172363),\n",
       " ('1995', 0.9234369397163391),\n",
       " ('1993', 0.9203662872314453),\n",
       " ('november', 0.9190138578414917),\n",
       " ('september', 0.9151549339294434),\n",
       " ('january', 0.9149354696273804),\n",
       " ('june', 0.9141809940338135),\n",
       " ('1994', 0.9102522134780884),\n",
       " ('july', 0.903495728969574),\n",
       " ('march', 0.899539589881897),\n",
       " ('canada', 0.8670191764831543),\n",
       " ('university', 0.860650897026062)]"
      ]
     },
     "metadata": {},
     "output_type": "display_data"
    },
    {
     "name": "stdout",
     "output_type": "stream",
     "text": [
      "\n",
      "2004\n"
     ]
    },
    {
     "data": {
      "text/plain": [
       "[('2002', 0.956555962562561),\n",
       " ('2000', 0.9546187520027161),\n",
       " ('1999', 0.9480164051055908),\n",
       " ('1998', 0.9414657950401306),\n",
       " ('1997', 0.9258561730384827),\n",
       " ('1996', 0.9090879559516907),\n",
       " ('1993', 0.9047948718070984),\n",
       " ('1995', 0.9004828929901123),\n",
       " ('june', 0.8955667018890381),\n",
       " ('october', 0.8923563957214355),\n",
       " ('1990', 0.8893294930458069),\n",
       " ('1991', 0.886691689491272),\n",
       " ('january', 0.8848327994346619),\n",
       " ('1992', 0.8846935033798218),\n",
       " ('july', 0.8830146789550781),\n",
       " ('2003', 0.868171751499176),\n",
       " ('february', 0.8680133819580078),\n",
       " ('city', 0.8669352531433105),\n",
       " ('march', 0.8612505793571472),\n",
       " ('december', 0.860803484916687)]"
      ]
     },
     "metadata": {},
     "output_type": "display_data"
    },
    {
     "name": "stdout",
     "output_type": "stream",
     "text": [
      "\n",
      "2005\n"
     ]
    },
    {
     "data": {
      "text/plain": [
       "[('2002', 0.9538552165031433),\n",
       " ('1999', 0.941307008266449),\n",
       " ('2000', 0.9353254437446594),\n",
       " ('1997', 0.9273191690444946),\n",
       " ('1992', 0.9255942106246948),\n",
       " ('1998', 0.9250929951667786),\n",
       " ('2003', 0.9164978861808777),\n",
       " ('1996', 0.9144657850265503),\n",
       " ('july', 0.8984336256980896),\n",
       " ('1995', 0.8974937200546265),\n",
       " ('1994', 0.8966698050498962),\n",
       " ('june', 0.8893527984619141),\n",
       " ('january', 0.8869908452033997),\n",
       " ('1991', 0.8797577023506165),\n",
       " ('september', 0.8776789307594299),\n",
       " ('october', 0.8750477433204651),\n",
       " ('1993', 0.8743531703948975),\n",
       " ('2004', 0.8661823868751526),\n",
       " ('1985', 0.8654690384864807),\n",
       " ('december', 0.8626788854598999)]"
      ]
     },
     "metadata": {},
     "output_type": "display_data"
    },
    {
     "name": "stdout",
     "output_type": "stream",
     "text": [
      "\n",
      "2006\n"
     ]
    },
    {
     "data": {
      "text/plain": [
       "[('2002', 0.9378804564476013),\n",
       " ('1999', 0.9193202257156372),\n",
       " ('1996', 0.9137009978294373),\n",
       " ('2000', 0.9060183763504028),\n",
       " ('1997', 0.9042595624923706),\n",
       " ('2004', 0.8884674310684204),\n",
       " ('1998', 0.8875961303710938),\n",
       " ('1994', 0.8816200494766235),\n",
       " ('1990', 0.8804488182067871),\n",
       " ('2003', 0.8791505694389343),\n",
       " ('1995', 0.8678397536277771),\n",
       " ('1993', 0.8618658781051636),\n",
       " ('1992', 0.8585325479507446),\n",
       " ('1989', 0.8532274961471558),\n",
       " ('1991', 0.8498894572257996),\n",
       " ('2005', 0.8408299088478088),\n",
       " ('1980', 0.8378196954727173),\n",
       " ('1988', 0.8333727717399597),\n",
       " ('december', 0.8287203311920166),\n",
       " ('january', 0.8280925750732422)]"
      ]
     },
     "metadata": {},
     "output_type": "display_data"
    },
    {
     "name": "stdout",
     "output_type": "stream",
     "text": [
      "\n",
      "2007\n"
     ]
    },
    {
     "data": {
      "text/plain": [
       "[('2003', 0.937782883644104),\n",
       " ('2002', 0.9260450601577759),\n",
       " ('2004', 0.9190454483032227),\n",
       " ('1999', 0.9123333692550659),\n",
       " ('1998', 0.9105551838874817),\n",
       " ('1996', 0.9097070693969727),\n",
       " ('2000', 0.9089395999908447),\n",
       " ('1997', 0.9066451787948608),\n",
       " ('1995', 0.9011654853820801),\n",
       " ('1994', 0.8847943544387817),\n",
       " ('2005', 0.8832452297210693),\n",
       " ('1992', 0.8814750909805298),\n",
       " ('1991', 0.8758801221847534),\n",
       " ('1993', 0.8726835250854492),\n",
       " ('1990', 0.8591752648353577),\n",
       " ('1985', 0.8538426160812378),\n",
       " ('2006', 0.8294625282287598),\n",
       " ('april', 0.8256270885467529),\n",
       " ('1988', 0.8208978772163391),\n",
       " ('1986', 0.8174721002578735)]"
      ]
     },
     "metadata": {},
     "output_type": "display_data"
    },
    {
     "name": "stdout",
     "output_type": "stream",
     "text": [
      "\n"
     ]
    }
   ],
   "source": [
    "examine_words_at_timepoint_range(\n",
    "    word_model_cutoff_map,\n",
    "    [2000, 2001, 2002, 2003, 2004, 2005, 2006, 2007],\n",
    "    tok=\"2001\",\n",
    "    topn=20,\n",
    ")"
   ]
  },
  {
   "cell_type": "code",
   "execution_count": 24,
   "metadata": {
    "ExecuteTime": {
     "end_time": "2021-11-08T17:28:37.674953Z",
     "start_time": "2021-11-08T17:28:37.625565Z"
    },
    "scrolled": false
   },
   "outputs": [
    {
     "name": "stdout",
     "output_type": "stream",
     "text": [
      "2001\n"
     ]
    },
    {
     "data": {
      "text/plain": [
       "[('india', 0.8063188195228577),\n",
       " ('germany', 0.7984466552734375),\n",
       " ('netherlands', 0.7637784481048584),\n",
       " ('47', 0.747256338596344),\n",
       " ('eradication', 0.746081531047821),\n",
       " ('c.', 0.7437146306037903),\n",
       " ('black', 0.738354504108429),\n",
       " ('south', 0.7363499402999878),\n",
       " ('seeds', 0.7361745834350586),\n",
       " ('69', 0.736077070236206),\n",
       " ('52', 0.7354280948638916),\n",
       " ('japan', 0.7288751602172852),\n",
       " ('sweden', 0.7250351905822754),\n",
       " ('california', 0.7236170768737793),\n",
       " ('africa', 0.716462254524231),\n",
       " ('yr', 0.714867353439331),\n",
       " ('prenatal', 0.7140916585922241),\n",
       " ('0.04', 0.7114668488502502),\n",
       " ('63', 0.7105916738510132),\n",
       " ('april', 0.7073225975036621)]"
      ]
     },
     "metadata": {},
     "output_type": "display_data"
    },
    {
     "name": "stdout",
     "output_type": "stream",
     "text": [
      "\n",
      "2002\n"
     ]
    },
    {
     "data": {
      "text/plain": [
       "[('british_journal_of_cancer', 0.9454949498176575),\n",
       " ('87', 0.9204401969909668),\n",
       " ('doi:10.1038', 0.9092787504196167),\n",
       " ('86', 0.9069949984550476),\n",
       " ('doi', 0.8932250738143921),\n",
       " ('www.bjcancer.com', 0.8787106871604919),\n",
       " ('10.1038', 0.8739707469940186),\n",
       " ('j.', 0.8286666870117188),\n",
       " ('usa', 0.8217796087265015),\n",
       " ('sj', 0.8126808404922485),\n",
       " ('uk', 0.7999984622001648),\n",
       " ('conference', 0.7842532396316528),\n",
       " ('und', 0.7627854943275452),\n",
       " ('2001', 0.7586966156959534),\n",
       " ('la', 0.747410774230957),\n",
       " ('et', 0.7454637289047241),\n",
       " ('july', 0.7451778650283813),\n",
       " ('der', 0.7437066435813904),\n",
       " ('des', 0.7417592406272888),\n",
       " ('meeting', 0.7385398745536804)]"
      ]
     },
     "metadata": {},
     "output_type": "display_data"
    },
    {
     "name": "stdout",
     "output_type": "stream",
     "text": [
      "\n",
      "2003\n"
     ]
    },
    {
     "data": {
      "text/plain": [
       "[('april', 0.935422956943512),\n",
       " ('2001', 0.9283782243728638),\n",
       " ('september', 0.925445020198822),\n",
       " ('december', 0.9157528281211853),\n",
       " ('february', 0.9136343002319336),\n",
       " ('march', 0.9088101983070374),\n",
       " ('2000', 0.9079383015632629),\n",
       " ('november', 0.9059327840805054),\n",
       " ('october', 0.9050827622413635),\n",
       " ('1998', 0.8974112272262573),\n",
       " ('1992', 0.8915820717811584),\n",
       " ('1996', 0.8914527893066406),\n",
       " ('june', 0.8912656903266907),\n",
       " ('1999', 0.889941394329071),\n",
       " ('2003', 0.8876498937606812),\n",
       " ('january', 0.8817615509033203),\n",
       " ('july', 0.8788714408874512),\n",
       " ('usa', 0.8721766471862793),\n",
       " ('1995', 0.8637121915817261),\n",
       " ('1994', 0.8616956472396851)]"
      ]
     },
     "metadata": {},
     "output_type": "display_data"
    },
    {
     "name": "stdout",
     "output_type": "stream",
     "text": [
      "\n",
      "2004\n"
     ]
    },
    {
     "data": {
      "text/plain": [
       "[('2001', 0.956555962562561),\n",
       " ('1999', 0.9526932835578918),\n",
       " ('2000', 0.9288946986198425),\n",
       " ('1998', 0.9266785979270935),\n",
       " ('1997', 0.9237653613090515),\n",
       " ('july', 0.9225309491157532),\n",
       " ('june', 0.9086323380470276),\n",
       " ('october', 0.9023337960243225),\n",
       " ('2003', 0.9018549919128418),\n",
       " ('february', 0.8952934741973877),\n",
       " ('january', 0.8892712593078613),\n",
       " ('1993', 0.8866076469421387),\n",
       " ('march', 0.8853424191474915),\n",
       " ('april', 0.8851429224014282),\n",
       " ('november', 0.8795472979545593),\n",
       " ('1990', 0.8777859210968018),\n",
       " ('1995', 0.8673726320266724),\n",
       " ('december', 0.8654211759567261),\n",
       " ('1992', 0.8628286123275757),\n",
       " ('september', 0.8616975545883179)]"
      ]
     },
     "metadata": {},
     "output_type": "display_data"
    },
    {
     "name": "stdout",
     "output_type": "stream",
     "text": [
      "\n",
      "2005\n"
     ]
    },
    {
     "data": {
      "text/plain": [
       "[('2001', 0.9538552165031433),\n",
       " ('2000', 0.9413185715675354),\n",
       " ('2003', 0.9395217895507812),\n",
       " ('1998', 0.935455322265625),\n",
       " ('1999', 0.9293990135192871),\n",
       " ('1997', 0.9205735325813293),\n",
       " ('1992', 0.9123324751853943),\n",
       " ('1996', 0.9079698324203491),\n",
       " ('1994', 0.8988443613052368),\n",
       " ('1995', 0.885626494884491),\n",
       " ('july', 0.8823605179786682),\n",
       " ('1991', 0.8723043203353882),\n",
       " ('2004', 0.871273398399353),\n",
       " ('october', 0.8702239394187927),\n",
       " ('january', 0.8699345588684082),\n",
       " ('june', 0.8675122261047363),\n",
       " ('march', 0.8532117605209351),\n",
       " ('1993', 0.8531935811042786),\n",
       " ('december', 0.8521066308021545),\n",
       " ('1989', 0.8514293432235718)]"
      ]
     },
     "metadata": {},
     "output_type": "display_data"
    },
    {
     "name": "stdout",
     "output_type": "stream",
     "text": [
      "\n",
      "2006\n"
     ]
    },
    {
     "data": {
      "text/plain": [
       "[('2001', 0.9378805160522461),\n",
       " ('2000', 0.9242199063301086),\n",
       " ('2003', 0.9227199554443359),\n",
       " ('1999', 0.9218511581420898),\n",
       " ('1996', 0.9131659865379333),\n",
       " ('2004', 0.9080150723457336),\n",
       " ('1998', 0.9042612314224243),\n",
       " ('1994', 0.9004992842674255),\n",
       " ('1997', 0.8970680236816406),\n",
       " ('1995', 0.8804758191108704),\n",
       " ('1990', 0.8769423961639404),\n",
       " ('1993', 0.8750925064086914),\n",
       " ('2005', 0.855303943157196),\n",
       " ('1992', 0.8534585237503052),\n",
       " ('1980', 0.8513573408126831),\n",
       " ('1991', 0.8465787768363953),\n",
       " ('march', 0.8456258177757263),\n",
       " ('november', 0.8451701998710632),\n",
       " ('december', 0.844913899898529),\n",
       " ('1988', 0.8446298241615295)]"
      ]
     },
     "metadata": {},
     "output_type": "display_data"
    },
    {
     "name": "stdout",
     "output_type": "stream",
     "text": [
      "\n",
      "2007\n"
     ]
    },
    {
     "data": {
      "text/plain": [
       "[('2003', 0.9300655126571655),\n",
       " ('2001', 0.9260451197624207),\n",
       " ('1996', 0.9236549139022827),\n",
       " ('2000', 0.9162953495979309),\n",
       " ('2004', 0.9146245121955872),\n",
       " ('1997', 0.9092884659767151),\n",
       " ('1999', 0.9041351675987244),\n",
       " ('2005', 0.8994956016540527),\n",
       " ('1995', 0.8878554701805115),\n",
       " ('1998', 0.8872728943824768),\n",
       " ('1993', 0.8831503391265869),\n",
       " ('1992', 0.8810118436813354),\n",
       " ('1994', 0.8734124302864075),\n",
       " ('1985', 0.857234537601471),\n",
       " ('1990', 0.8536389470100403),\n",
       " ('1991', 0.8516843318939209),\n",
       " ('2006', 0.8271045088768005),\n",
       " ('november', 0.8148993849754333),\n",
       " ('1986', 0.8102503418922424),\n",
       " ('april', 0.8096151947975159)]"
      ]
     },
     "metadata": {},
     "output_type": "display_data"
    },
    {
     "name": "stdout",
     "output_type": "stream",
     "text": [
      "\n"
     ]
    }
   ],
   "source": [
    "examine_words_at_timepoint_range(\n",
    "    word_model_cutoff_map,\n",
    "    [2001, 2002, 2003, 2004, 2005, 2006, 2007],\n",
    "    tok=\"2002\",\n",
    "    topn=20,\n",
    ")"
   ]
  },
  {
   "cell_type": "code",
   "execution_count": 26,
   "metadata": {
    "ExecuteTime": {
     "end_time": "2021-11-08T17:29:02.760392Z",
     "start_time": "2021-11-08T17:29:02.717578Z"
    },
    "scrolled": false
   },
   "outputs": [
    {
     "name": "stdout",
     "output_type": "stream",
     "text": [
      "2001\n"
     ]
    },
    {
     "data": {
      "text/plain": [
       "[('medicine', 0.8780555129051208),\n",
       " ('electronic', 0.8551231622695923),\n",
       " ('project', 0.8509266972541809),\n",
       " ('international', 0.8489315509796143),\n",
       " ('implemented', 0.8439934849739075),\n",
       " ('government', 0.8434041142463684),\n",
       " ('laboratories', 0.8415573239326477),\n",
       " ('program', 0.8333643674850464),\n",
       " ('society', 0.8331282734870911),\n",
       " ('services', 0.8328529000282288),\n",
       " ('reviews', 0.8269591331481934),\n",
       " ('programme', 0.8252877593040466),\n",
       " ('standards', 0.8241098523139954),\n",
       " ('conference', 0.8222143650054932),\n",
       " ('meeting', 0.8217001557350159),\n",
       " ('institute', 0.8203809261322021),\n",
       " ('scientists', 0.8189162015914917),\n",
       " ('national', 0.816405713558197),\n",
       " ('implementation', 0.8112483024597168),\n",
       " ('needs', 0.8081846833229065)]"
      ]
     },
     "metadata": {},
     "output_type": "display_data"
    },
    {
     "name": "stdout",
     "output_type": "stream",
     "text": [
      "\n",
      "2002\n"
     ]
    },
    {
     "data": {
      "text/plain": [
       "[('sought', 0.7000471949577332),\n",
       " ('discuss', 0.6552701592445374),\n",
       " ('workshop', 0.6441062092781067),\n",
       " ('papers', 0.6376475095748901),\n",
       " ('recommendations', 0.6354597210884094),\n",
       " ('believe', 0.6301151514053345),\n",
       " ('statistics', 0.6208488345146179),\n",
       " ('science', 0.6192717552185059),\n",
       " ('students', 0.6187579035758972),\n",
       " ('made', 0.6163511872291565),\n",
       " ('implemented', 0.6112954020500183),\n",
       " ('addressed', 0.6096375584602356),\n",
       " ('issues', 0.6060203909873962),\n",
       " ('advances', 0.6018872261047363),\n",
       " ('guidelines', 0.6008256077766418),\n",
       " ('private', 0.6008029580116272),\n",
       " ('questions', 0.5991829633712769),\n",
       " ('beginning', 0.5953621864318848),\n",
       " ('decisions', 0.5944299101829529),\n",
       " ('conducted', 0.5897355675697327)]"
      ]
     },
     "metadata": {},
     "output_type": "display_data"
    },
    {
     "name": "stdout",
     "output_type": "stream",
     "text": [
      "\n",
      "2003\n"
     ]
    },
    {
     "data": {
      "text/plain": [
       "[('usa', 0.9228909015655518),\n",
       " ('2002', 0.8876498937606812),\n",
       " ('february', 0.8662300109863281),\n",
       " ('october', 0.8619667887687683),\n",
       " ('june', 0.8513710498809814),\n",
       " ('conference', 0.8365359902381897),\n",
       " ('september', 0.8342829942703247),\n",
       " ('april', 0.8158129453659058),\n",
       " ('annual', 0.8099162578582764),\n",
       " ('spring', 0.8048946261405945),\n",
       " ('society', 0.7974013686180115),\n",
       " ('november', 0.7961088418960571),\n",
       " ('december', 0.7942329049110413),\n",
       " ('&', 0.7909618616104126),\n",
       " ('australia', 0.790335476398468),\n",
       " ('march', 0.7893681526184082),\n",
       " ('meeting', 0.7884358167648315),\n",
       " ('2001', 0.7855339050292969),\n",
       " ('college', 0.7779617309570312),\n",
       " ('uk', 0.7769067883491516)]"
      ]
     },
     "metadata": {},
     "output_type": "display_data"
    },
    {
     "name": "stdout",
     "output_type": "stream",
     "text": [
      "\n",
      "2004\n"
     ]
    },
    {
     "data": {
      "text/plain": [
       "[('march', 0.928215503692627),\n",
       " ('april', 0.9060505628585815),\n",
       " ('2002', 0.901854932308197),\n",
       " ('july', 0.8927509784698486),\n",
       " ('june', 0.8861556053161621),\n",
       " ('november', 0.884349524974823),\n",
       " ('september', 0.8760266304016113),\n",
       " ('2001', 0.8681718707084656),\n",
       " ('february', 0.8519372344017029),\n",
       " ('2004', 0.8477588295936584),\n",
       " ('2000', 0.8410372138023376),\n",
       " ('october', 0.831256628036499),\n",
       " ('hong', 0.830402672290802),\n",
       " ('1999', 0.8293284773826599),\n",
       " ('kong', 0.8265788555145264),\n",
       " ('january', 0.8185333013534546),\n",
       " ('taiwan', 0.8139671087265015),\n",
       " ('china', 0.8040578961372375),\n",
       " ('1997', 0.8017659187316895),\n",
       " ('france', 0.797909677028656)]"
      ]
     },
     "metadata": {},
     "output_type": "display_data"
    },
    {
     "name": "stdout",
     "output_type": "stream",
     "text": [
      "\n",
      "2005\n"
     ]
    },
    {
     "data": {
      "text/plain": [
       "[('2002', 0.9395217299461365),\n",
       " ('2001', 0.9164979457855225),\n",
       " ('july', 0.8938586711883545),\n",
       " ('1998', 0.892406702041626),\n",
       " ('2004', 0.8883048892021179),\n",
       " ('march', 0.8864219188690186),\n",
       " ('january', 0.8845809102058411),\n",
       " ('1999', 0.881694495677948),\n",
       " ('1997', 0.8810608983039856),\n",
       " ('2000', 0.876952052116394),\n",
       " ('1992', 0.8700794577598572),\n",
       " ('june', 0.867925763130188),\n",
       " ('1994', 0.8639615774154663),\n",
       " ('october', 0.8638278245925903),\n",
       " ('1996', 0.8605572581291199),\n",
       " ('1995', 0.8578177094459534),\n",
       " ('september', 0.8574187159538269),\n",
       " ('august', 0.8561694622039795),\n",
       " ('february', 0.8505076169967651),\n",
       " ('december', 0.8412885069847107)]"
      ]
     },
     "metadata": {},
     "output_type": "display_data"
    },
    {
     "name": "stdout",
     "output_type": "stream",
     "text": [
      "\n",
      "2006\n"
     ]
    },
    {
     "data": {
      "text/plain": [
       "[('2004', 0.9338700771331787),\n",
       " ('2002', 0.9227198362350464),\n",
       " ('2001', 0.8791506886482239),\n",
       " ('2005', 0.8677091002464294),\n",
       " ('2000', 0.8578751087188721),\n",
       " ('1996', 0.855333685874939),\n",
       " ('1999', 0.8533710241317749),\n",
       " ('november', 0.8508495092391968),\n",
       " ('1997', 0.8427935838699341),\n",
       " ('1998', 0.8378631472587585),\n",
       " ('1993', 0.8290247321128845),\n",
       " ('1994', 0.8287273049354553),\n",
       " ('february', 0.8149591684341431),\n",
       " ('1995', 0.8147850036621094),\n",
       " ('march', 0.8096376657485962),\n",
       " ('july', 0.8093154430389404),\n",
       " ('august', 0.8025539517402649),\n",
       " ('december', 0.7983813285827637),\n",
       " ('1980', 0.7967457175254822),\n",
       " ('january', 0.7954729795455933)]"
      ]
     },
     "metadata": {},
     "output_type": "display_data"
    },
    {
     "name": "stdout",
     "output_type": "stream",
     "text": [
      "\n",
      "2007\n"
     ]
    },
    {
     "data": {
      "text/plain": [
       "[('2001', 0.937782883644104),\n",
       " ('2002', 0.9300655126571655),\n",
       " ('2004', 0.9299824237823486),\n",
       " ('1996', 0.9243012070655823),\n",
       " ('2005', 0.9172598123550415),\n",
       " ('2000', 0.9135787487030029),\n",
       " ('1998', 0.9058120846748352),\n",
       " ('1997', 0.9009886384010315),\n",
       " ('1995', 0.8924322724342346),\n",
       " ('1999', 0.8840514421463013),\n",
       " ('1994', 0.8684614300727844),\n",
       " ('1992', 0.8671429753303528),\n",
       " ('1993', 0.8664298057556152),\n",
       " ('1990', 0.8549057841300964),\n",
       " ('1991', 0.8537904024124146),\n",
       " ('2006', 0.8444281220436096),\n",
       " ('november', 0.840759813785553),\n",
       " ('1985', 0.8324291110038757),\n",
       " ('april', 0.8205530643463135),\n",
       " ('march', 0.8128677010536194)]"
      ]
     },
     "metadata": {},
     "output_type": "display_data"
    },
    {
     "name": "stdout",
     "output_type": "stream",
     "text": [
      "\n"
     ]
    }
   ],
   "source": [
    "examine_words_at_timepoint_range(\n",
    "    word_model_cutoff_map,\n",
    "    [2001, 2002, 2003, 2004, 2005, 2006, 2007],\n",
    "    tok=\"2003\",\n",
    "    topn=20,\n",
    ")"
   ]
  },
  {
   "cell_type": "markdown",
   "metadata": {},
   "source": [
    "# Take home points"
   ]
  },
  {
   "cell_type": "markdown",
   "metadata": {},
   "source": [
    "1. Looks like my model is off by 1 for words such as corona virus and pandemic. This is probably due the way changepoint detection works and changes at the end of the series is hard to detect.\n",
    "2. Asthma has an association with type 2 diabetes. Thats really interesting as I just hadn't fathomed there was a connection.\n",
    "3. Years seem to undergo a shift in prevalent topics discussed to time indiciations. Need more data to be processed before I can truly say this trend is possible.\n",
    "4. More data to come ones the years have finally finished processing."
   ]
  }
 ],
 "metadata": {
  "jupytext": {
   "formats": "ipynb,py"
  },
  "kernelspec": {
   "display_name": "Python [conda env:biovectors]",
   "language": "python",
   "name": "conda-env-biovectors-py"
  },
  "language_info": {
   "codemirror_mode": {
    "name": "ipython",
    "version": 3
   },
   "file_extension": ".py",
   "mimetype": "text/x-python",
   "name": "python",
   "nbconvert_exporter": "python",
   "pygments_lexer": "ipython3",
   "version": "3.7.2"
  },
  "toc": {
   "base_numbering": 1,
   "nav_menu": {},
   "number_sections": true,
   "sideBar": true,
   "skip_h1_title": false,
   "title_cell": "Table of Contents",
   "title_sidebar": "Contents",
   "toc_cell": false,
   "toc_position": {},
   "toc_section_display": true,
   "toc_window_display": false
  }
 },
 "nbformat": 4,
 "nbformat_minor": 2
}
