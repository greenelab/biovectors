{
 "cells": [
  {
   "cell_type": "markdown",
   "metadata": {},
   "source": [
    "# Convert biorxiv and medrxiv into Pubtator's bioC format"
   ]
  },
  {
   "cell_type": "markdown",
   "metadata": {},
   "source": [
    "Convert biorxiv and medrxiv preprints into Pubtator's BioCXML format, so Pubtator's taggers can work.\n",
    "This notebook only uses the most current version of a preprint."
   ]
  },
  {
   "cell_type": "code",
   "execution_count": 1,
   "metadata": {
    "ExecuteTime": {
     "end_time": "2022-03-11T16:22:33.625394Z",
     "start_time": "2022-03-11T16:22:32.885969Z"
    }
   },
   "outputs": [],
   "source": [
    "from pathlib import Path\n",
    "\n",
    "import lxml.etree as ET\n",
    "import pandas as pd\n",
    "import plydata as ply\n",
    "import plydata.tidy as ply_tdy\n",
    "import tqdm\n",
    "\n",
    "from biovectors_modules.preprint_converter import convert_to_bioc"
   ]
  },
  {
   "cell_type": "code",
   "execution_count": 2,
   "metadata": {
    "ExecuteTime": {
     "end_time": "2022-03-11T16:22:33.628776Z",
     "start_time": "2022-03-11T16:22:33.626766Z"
    }
   },
   "outputs": [],
   "source": [
    "biorxiv_folder = Path(\"output/biorxiv_medrxiv_dump/biorxiv\")\n",
    "medrxiv_folder = Path(\"output/biorxiv_medrxiv_dump/medrxiv\")"
   ]
  },
  {
   "cell_type": "markdown",
   "metadata": {},
   "source": [
    "## Get the time stamps of all medrxiv and biorxiv preprints"
   ]
  },
  {
   "cell_type": "code",
   "execution_count": 3,
   "metadata": {
    "ExecuteTime": {
     "end_time": "2022-03-11T16:22:33.672740Z",
     "start_time": "2022-03-11T16:22:33.630345Z"
    },
    "scrolled": false
   },
   "outputs": [],
   "source": [
    "if not Path(\"output/all_medrxiv_biorxiv_timestamps.tsv\").exists():\n",
    "    data_rows = []\n",
    "    xml_parser = ET.XMLParser(encoding=\"UTF-8\", recover=True)\n",
    "    all_biomed_preprints = list(biorxiv_folder.rglob(\"*xml\")) + list(\n",
    "        medrxiv_folder.rglob(\"*xml\")\n",
    "    )\n",
    "    for xml_file in tqdm.tqdm(all_biomed_preprints):\n",
    "        doc_obj = ET.parse(str(xml_file), parser=xml_parser).getroot()\n",
    "        date_row = doc_obj.xpath(\"//date[@date-type='accepted']/*/text()\")\n",
    "        attribute_label = \"accepted\"\n",
    "        if len(date_row) == 0:\n",
    "            date_row = doc_obj.xpath(\"//date[@date-type='received']/*/text()\")\n",
    "            attribute_label = \"received\"\n",
    "        # In case there is no date found\n",
    "        if len(date_row) == 0:\n",
    "            doc_date = \"NA\"\n",
    "        else:\n",
    "            doc_date = \"-\".join([date_row[1], date_row[0], date_row[2]])\n",
    "        data_rows.append(\n",
    "            {\n",
    "                \"date\": doc_date,\n",
    "                \"repository\": xml_file.parents[0].name,\n",
    "                \"doc_id\": xml_file.stem,\n",
    "                \"attribute\": attribute_label,\n",
    "            }\n",
    "        )"
   ]
  },
  {
   "cell_type": "code",
   "execution_count": 4,
   "metadata": {
    "ExecuteTime": {
     "end_time": "2022-03-11T16:22:33.866231Z",
     "start_time": "2022-03-11T16:22:33.679445Z"
    }
   },
   "outputs": [
    {
     "name": "stderr",
     "output_type": "stream",
     "text": [
      "/home/danich1/anaconda3/envs/biovectors/lib/python3.7/site-packages/IPython/core/interactiveshell.py:3156: DtypeWarning: Columns (4) have mixed types.Specify dtype option on import or set low_memory=False.\n",
      "  interactivity=interactivity, compiler=compiler, result=result)\n"
     ]
    },
    {
     "data": {
      "text/html": [
       "<div>\n",
       "<style scoped>\n",
       "    .dataframe tbody tr th:only-of-type {\n",
       "        vertical-align: middle;\n",
       "    }\n",
       "\n",
       "    .dataframe tbody tr th {\n",
       "        vertical-align: top;\n",
       "    }\n",
       "\n",
       "    .dataframe thead th {\n",
       "        text-align: right;\n",
       "    }\n",
       "</style>\n",
       "<table border=\"1\" class=\"dataframe\">\n",
       "  <thead>\n",
       "    <tr style=\"text-align: right;\">\n",
       "      <th></th>\n",
       "      <th>month</th>\n",
       "      <th>day</th>\n",
       "      <th>year</th>\n",
       "      <th>repository</th>\n",
       "      <th>doc_id</th>\n",
       "      <th>version</th>\n",
       "      <th>attribute</th>\n",
       "    </tr>\n",
       "  </thead>\n",
       "  <tbody>\n",
       "    <tr>\n",
       "      <th>0</th>\n",
       "      <td>12</td>\n",
       "      <td>13</td>\n",
       "      <td>2021</td>\n",
       "      <td>biorxiv</td>\n",
       "      <td>472104</td>\n",
       "      <td>v1</td>\n",
       "      <td>accepted</td>\n",
       "    </tr>\n",
       "    <tr>\n",
       "      <th>1</th>\n",
       "      <td>4</td>\n",
       "      <td>4</td>\n",
       "      <td>2021</td>\n",
       "      <td>biorxiv</td>\n",
       "      <td>438107</td>\n",
       "      <td>v1</td>\n",
       "      <td>accepted</td>\n",
       "    </tr>\n",
       "    <tr>\n",
       "      <th>2</th>\n",
       "      <td>7</td>\n",
       "      <td>5</td>\n",
       "      <td>2021</td>\n",
       "      <td>biorxiv</td>\n",
       "      <td>435952</td>\n",
       "      <td>v1</td>\n",
       "      <td>accepted</td>\n",
       "    </tr>\n",
       "    <tr>\n",
       "      <th>3</th>\n",
       "      <td>4</td>\n",
       "      <td>22</td>\n",
       "      <td>2021</td>\n",
       "      <td>biorxiv</td>\n",
       "      <td>440735</td>\n",
       "      <td>v1</td>\n",
       "      <td>accepted</td>\n",
       "    </tr>\n",
       "    <tr>\n",
       "      <th>4</th>\n",
       "      <td>9</td>\n",
       "      <td>19</td>\n",
       "      <td>2019</td>\n",
       "      <td>biorxiv</td>\n",
       "      <td>775270</td>\n",
       "      <td>v1</td>\n",
       "      <td>accepted</td>\n",
       "    </tr>\n",
       "    <tr>\n",
       "      <th>5</th>\n",
       "      <td>8</td>\n",
       "      <td>10</td>\n",
       "      <td>2020</td>\n",
       "      <td>biorxiv</td>\n",
       "      <td>242404</td>\n",
       "      <td>v1</td>\n",
       "      <td>accepted</td>\n",
       "    </tr>\n",
       "    <tr>\n",
       "      <th>6</th>\n",
       "      <td>7</td>\n",
       "      <td>11</td>\n",
       "      <td>2020</td>\n",
       "      <td>biorxiv</td>\n",
       "      <td>872994</td>\n",
       "      <td>v1</td>\n",
       "      <td>accepted</td>\n",
       "    </tr>\n",
       "    <tr>\n",
       "      <th>7</th>\n",
       "      <td>4</td>\n",
       "      <td>24</td>\n",
       "      <td>2017</td>\n",
       "      <td>biorxiv</td>\n",
       "      <td>080853</td>\n",
       "      <td>v2</td>\n",
       "      <td>accepted</td>\n",
       "    </tr>\n",
       "    <tr>\n",
       "      <th>8</th>\n",
       "      <td>10</td>\n",
       "      <td>21</td>\n",
       "      <td>2021</td>\n",
       "      <td>biorxiv</td>\n",
       "      <td>418780</td>\n",
       "      <td>v4</td>\n",
       "      <td>accepted</td>\n",
       "    </tr>\n",
       "    <tr>\n",
       "      <th>9</th>\n",
       "      <td>12</td>\n",
       "      <td>16</td>\n",
       "      <td>2021</td>\n",
       "      <td>biorxiv</td>\n",
       "      <td>472819</td>\n",
       "      <td>v1</td>\n",
       "      <td>accepted</td>\n",
       "    </tr>\n",
       "  </tbody>\n",
       "</table>\n",
       "</div>"
      ],
      "text/plain": [
       "   month  day  year repository  doc_id version attribute\n",
       "0     12   13  2021    biorxiv  472104      v1  accepted\n",
       "1      4    4  2021    biorxiv  438107      v1  accepted\n",
       "2      7    5  2021    biorxiv  435952      v1  accepted\n",
       "3      4   22  2021    biorxiv  440735      v1  accepted\n",
       "4      9   19  2019    biorxiv  775270      v1  accepted\n",
       "5      8   10  2020    biorxiv  242404      v1  accepted\n",
       "6      7   11  2020    biorxiv  872994      v1  accepted\n",
       "7      4   24  2017    biorxiv  080853      v2  accepted\n",
       "8     10   21  2021    biorxiv  418780      v4  accepted\n",
       "9     12   16  2021    biorxiv  472819      v1  accepted"
      ]
     },
     "execution_count": 4,
     "metadata": {},
     "output_type": "execute_result"
    }
   ],
   "source": [
    "if not Path(\"output/all_medrxiv_biorxiv_timestamps.tsv\").exists():\n",
    "    preprint_dates_df = (\n",
    "        pd.DataFrame.from_records(data_rows)\n",
    "        >> ply_tdy.separate(\"date\", into=[\"month\", \"day\", \"year\"])\n",
    "        >> ply_tdy.separate(\"doc_id\", into=[\"doc_id\", \"version\"])\n",
    "    )\n",
    "    preprint_dates_df >> ply.call(\n",
    "        \".to_csv\", \"output/all_medrxiv_biorxiv_timestamps.tsv\", sep=\"\\t\", index=False\n",
    "    )\n",
    "else:\n",
    "    preprint_dates_df = pd.read_csv(\n",
    "        \"output/all_medrxiv_biorxiv_timestamps.tsv\", sep=\"\\t\", keep_default_na=False\n",
    "    )\n",
    "preprint_dates_df >> ply.slice_rows(10)"
   ]
  },
  {
   "cell_type": "markdown",
   "metadata": {},
   "source": [
    "## Filter each preprint to the latest version"
   ]
  },
  {
   "cell_type": "code",
   "execution_count": 5,
   "metadata": {
    "ExecuteTime": {
     "end_time": "2022-03-11T16:22:33.897681Z",
     "start_time": "2022-03-11T16:22:33.867646Z"
    }
   },
   "outputs": [
    {
     "data": {
      "text/plain": [
       "2020    69737\n",
       "2021    67394\n",
       "2019    36984\n",
       "2018    13029\n",
       "2022    10204\n",
       "2017     7673\n",
       "2016     3248\n",
       "2015     1392\n",
       "2014      647\n",
       "2013       73\n",
       "Name: year, dtype: int64"
      ]
     },
     "execution_count": 5,
     "metadata": {},
     "output_type": "execute_result"
    }
   ],
   "source": [
    "preprint_dates_df.sort_values(\"year\").year.value_counts()"
   ]
  },
  {
   "cell_type": "code",
   "execution_count": 6,
   "metadata": {
    "ExecuteTime": {
     "end_time": "2022-03-11T16:22:34.788329Z",
     "start_time": "2022-03-11T16:22:33.898842Z"
    }
   },
   "outputs": [
    {
     "data": {
      "text/html": [
       "<div>\n",
       "<style scoped>\n",
       "    .dataframe tbody tr th:only-of-type {\n",
       "        vertical-align: middle;\n",
       "    }\n",
       "\n",
       "    .dataframe tbody tr th {\n",
       "        vertical-align: top;\n",
       "    }\n",
       "\n",
       "    .dataframe thead th {\n",
       "        text-align: right;\n",
       "    }\n",
       "</style>\n",
       "<table border=\"1\" class=\"dataframe\">\n",
       "  <thead>\n",
       "    <tr style=\"text-align: right;\">\n",
       "      <th></th>\n",
       "      <th>doc_id</th>\n",
       "      <th>month</th>\n",
       "      <th>day</th>\n",
       "      <th>year</th>\n",
       "      <th>repository</th>\n",
       "    </tr>\n",
       "  </thead>\n",
       "  <tbody>\n",
       "    <tr>\n",
       "      <th>0</th>\n",
       "      <td>000042_v2</td>\n",
       "      <td>11</td>\n",
       "      <td>7</td>\n",
       "      <td>2013</td>\n",
       "      <td>biorxiv</td>\n",
       "    </tr>\n",
       "    <tr>\n",
       "      <th>1</th>\n",
       "      <td>000067_v1</td>\n",
       "      <td>10</td>\n",
       "      <td>19</td>\n",
       "      <td>2013</td>\n",
       "      <td>biorxiv</td>\n",
       "    </tr>\n",
       "    <tr>\n",
       "      <th>2</th>\n",
       "      <td>000109_v1</td>\n",
       "      <td>7</td>\n",
       "      <td>2</td>\n",
       "      <td>2020</td>\n",
       "      <td>biorxiv</td>\n",
       "    </tr>\n",
       "    <tr>\n",
       "      <th>3</th>\n",
       "      <td>000133_v1</td>\n",
       "      <td>8</td>\n",
       "      <td>11</td>\n",
       "      <td>2020</td>\n",
       "      <td>biorxiv</td>\n",
       "    </tr>\n",
       "    <tr>\n",
       "      <th>4</th>\n",
       "      <td>000141_v1</td>\n",
       "      <td>3</td>\n",
       "      <td>22</td>\n",
       "      <td>2020</td>\n",
       "      <td>biorxiv</td>\n",
       "    </tr>\n",
       "    <tr>\n",
       "      <th>5</th>\n",
       "      <td>000174_v1</td>\n",
       "      <td>3</td>\n",
       "      <td>20</td>\n",
       "      <td>2020</td>\n",
       "      <td>biorxiv</td>\n",
       "    </tr>\n",
       "    <tr>\n",
       "      <th>6</th>\n",
       "      <td>000240_v2</td>\n",
       "      <td>9</td>\n",
       "      <td>1</td>\n",
       "      <td>2020</td>\n",
       "      <td>biorxiv</td>\n",
       "    </tr>\n",
       "    <tr>\n",
       "      <th>7</th>\n",
       "      <td>000257_v4</td>\n",
       "      <td>10</td>\n",
       "      <td>16</td>\n",
       "      <td>2014</td>\n",
       "      <td>biorxiv</td>\n",
       "    </tr>\n",
       "    <tr>\n",
       "      <th>8</th>\n",
       "      <td>000265_v1</td>\n",
       "      <td>3</td>\n",
       "      <td>20</td>\n",
       "      <td>2020</td>\n",
       "      <td>biorxiv</td>\n",
       "    </tr>\n",
       "    <tr>\n",
       "      <th>9</th>\n",
       "      <td>000299_v1</td>\n",
       "      <td>3</td>\n",
       "      <td>20</td>\n",
       "      <td>2020</td>\n",
       "      <td>biorxiv</td>\n",
       "    </tr>\n",
       "  </tbody>\n",
       "</table>\n",
       "</div>"
      ],
      "text/plain": [
       "      doc_id  month  day  year repository\n",
       "0  000042_v2     11    7  2013    biorxiv\n",
       "1  000067_v1     10   19  2013    biorxiv\n",
       "2  000109_v1      7    2  2020    biorxiv\n",
       "3  000133_v1      8   11  2020    biorxiv\n",
       "4  000141_v1      3   22  2020    biorxiv\n",
       "5  000174_v1      3   20  2020    biorxiv\n",
       "6  000240_v2      9    1  2020    biorxiv\n",
       "7  000257_v4     10   16  2014    biorxiv\n",
       "8  000265_v1      3   20  2020    biorxiv\n",
       "9  000299_v1      3   20  2020    biorxiv"
      ]
     },
     "execution_count": 6,
     "metadata": {},
     "output_type": "execute_result"
    }
   ],
   "source": [
    "latest_version_df = (\n",
    "    (\n",
    "        preprint_dates_df\n",
    "        >> ply.arrange(\"doc_id\", \"version\")\n",
    "        >> ply.call(\".groupby\", \"doc_id\")\n",
    "    ).agg(\n",
    "        {\n",
    "            \"version\": \"last\",\n",
    "            \"month\": \"last\",\n",
    "            \"day\": \"last\",\n",
    "            \"year\": \"last\",\n",
    "            \"repository\": \"last\",\n",
    "        }\n",
    "    )\n",
    "    >> ply.call(\".reset_index\")\n",
    "    >> ply.define(\n",
    "        doc_id=lambda x: x.doc_id.apply(\n",
    "            lambda y: \"%06d\" % (int(y)) if type(y) == int else y\n",
    "        )\n",
    "    )\n",
    "    >> ply_tdy.unite(\"doc_id_version\", \"doc_id\", \"version\", sep=\"_\")\n",
    "    >> ply.rename(doc_id=\"doc_id_version\")\n",
    ")\n",
    "latest_version_df >> ply.slice_rows(10)"
   ]
  },
  {
   "cell_type": "markdown",
   "metadata": {},
   "source": [
    "## Perform the actual conversion to BioCXML format"
   ]
  },
  {
   "cell_type": "code",
   "execution_count": 7,
   "metadata": {
    "ExecuteTime": {
     "end_time": "2022-03-11T16:22:34.791776Z",
     "start_time": "2022-03-11T16:22:34.789553Z"
    }
   },
   "outputs": [],
   "source": [
    "filter_tag_list = [\n",
    "    \"sc\",\n",
    "    \"italic\",\n",
    "    \"sub\",\n",
    "    \"inline-formula\",\n",
    "    \"disp-formula\",\n",
    "    \"bold\",\n",
    "    \"tr\",\n",
    "    \"td\",\n",
    "]"
   ]
  },
  {
   "cell_type": "code",
   "execution_count": 8,
   "metadata": {
    "ExecuteTime": {
     "end_time": "2022-03-11T16:34:34.518606Z",
     "start_time": "2022-03-11T16:22:34.793455Z"
    }
   },
   "outputs": [
    {
     "name": "stderr",
     "output_type": "stream",
     "text": [
      "100%|██████████| 168038/168038 [11:59<00:00, 233.50it/s]\n"
     ]
    }
   ],
   "source": [
    "for doc, year, repository in tqdm.tqdm(\n",
    "    latest_version_df >> ply.pull([\"doc_id\", \"year\", \"repository\"])\n",
    "):\n",
    "\n",
    "    doc_folder = medrxiv_folder if repository == \"medrxiv\" else biorxiv_folder\n",
    "\n",
    "    parser = ET.XMLParser(encoding=\"UTF-8\", recover=True, remove_blank_text=True)\n",
    "    tree = ET.parse(open(f\"{doc_folder}/{doc}.xml\", \"rb\"), parser=parser)\n",
    "    ET.strip_tags(tree, *filter_tag_list)\n",
    "\n",
    "    converted_tree = convert_to_bioc(tree, repository=repository)\n",
    "    output_folder = Path(f\"output/converted_docs/{year}\")\n",
    "    output_folder.mkdir(exist_ok=True, parents=True)\n",
    "    ET.ElementTree(converted_tree).write(\n",
    "        f\"{output_folder}/{doc}.{doc_folder.stem}.bioc.xml\",\n",
    "        pretty_print=True,\n",
    "        method=\"c14n\",\n",
    "    )"
   ]
  }
 ],
 "metadata": {
  "jupytext": {
   "formats": "ipynb,py"
  },
  "kernelspec": {
   "display_name": "Python [conda env:biovectors]",
   "language": "python",
   "name": "conda-env-biovectors-py"
  },
  "language_info": {
   "codemirror_mode": {
    "name": "ipython",
    "version": 3
   },
   "file_extension": ".py",
   "mimetype": "text/x-python",
   "name": "python",
   "nbconvert_exporter": "python",
   "pygments_lexer": "ipython3",
   "version": "3.7.2"
  },
  "toc": {
   "base_numbering": 1,
   "nav_menu": {},
   "number_sections": true,
   "sideBar": true,
   "skip_h1_title": false,
   "title_cell": "Table of Contents",
   "title_sidebar": "Contents",
   "toc_cell": false,
   "toc_position": {},
   "toc_section_display": true,
   "toc_window_display": false
  }
 },
 "nbformat": 4,
 "nbformat_minor": 2
}
