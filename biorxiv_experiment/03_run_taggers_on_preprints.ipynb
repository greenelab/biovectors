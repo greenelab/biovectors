{
 "cells": [
  {
   "cell_type": "markdown",
   "metadata": {},
   "source": [
    "# Tag Preprints with Pubtator Central's Taggers"
   ]
  },
  {
   "cell_type": "markdown",
   "metadata": {},
   "source": [
    "This notebook runs Pubtator's specific taggers on the converted preprint files.\n",
    "These taggers are mainly written in java (except for GnormPlus that has a perl option).\n",
    "I suggest only using the java version (openjdk 11.0.15) as it was the easiest to set up and get running.\n",
    "Also, as a side note some of these taggers will require a bit of hitting your head against the wall as one of their external programs will need you to recompile to run.\n",
    "\n",
    "| Tagger | URL |\n",
    "| --- | --- |\n",
    "| Tagger One | https://www.ncbi.nlm.nih.gov/research/bionlp/Tools/taggerone/ |\n",
    "| GNormPlus  | https://www.ncbi.nlm.nih.gov/research/bionlp/Tools/gnormplus/ |"
   ]
  },
  {
   "cell_type": "code",
   "execution_count": 1,
   "metadata": {
    "ExecuteTime": {
     "end_time": "2022-04-27T14:57:15.197918Z",
     "start_time": "2022-04-27T14:57:15.192757Z"
    }
   },
   "outputs": [],
   "source": [
    "from pathlib import Path\n",
    "\n",
    "import os\n",
    "import subprocess"
   ]
  },
  {
   "cell_type": "code",
   "execution_count": null,
   "metadata": {},
   "outputs": [],
   "source": [
    "converted_preprint_folders = sorted(\n",
    "    list(Path(\"output/converted_docs\").glob(\"*\"), key=lambda x: int(x.stem))\n",
    ")"
   ]
  },
  {
   "cell_type": "code",
   "execution_count": 2,
   "metadata": {
    "ExecuteTime": {
     "end_time": "2022-04-27T14:57:15.221464Z",
     "start_time": "2022-04-27T14:57:15.199246Z"
    }
   },
   "outputs": [
    {
     "data": {
      "text/plain": [
       "[PosixPath('/home/danich1/Documents/biovectors/biorxiv_experiment/output/converted_docs/2013'),\n",
       " PosixPath('/home/danich1/Documents/biovectors/biorxiv_experiment/output/converted_docs/2014'),\n",
       " PosixPath('/home/danich1/Documents/biovectors/biorxiv_experiment/output/converted_docs/2015'),\n",
       " PosixPath('/home/danich1/Documents/biovectors/biorxiv_experiment/output/converted_docs/2016'),\n",
       " PosixPath('/home/danich1/Documents/biovectors/biorxiv_experiment/output/converted_docs/2017'),\n",
       " PosixPath('/home/danich1/Documents/biovectors/biorxiv_experiment/output/converted_docs/2018'),\n",
       " PosixPath('/home/danich1/Documents/biovectors/biorxiv_experiment/output/converted_docs/2019'),\n",
       " PosixPath('/home/danich1/Documents/biovectors/biorxiv_experiment/output/converted_docs/2020'),\n",
       " PosixPath('/home/danich1/Documents/biovectors/biorxiv_experiment/output/converted_docs/2021'),\n",
       " PosixPath('/home/danich1/Documents/biovectors/biorxiv_experiment/output/converted_docs/2022')]"
      ]
     },
     "execution_count": 2,
     "metadata": {},
     "output_type": "execute_result"
    }
   ],
   "source": [
    "preprint_folders = [folder.absolute() for folder in converted_preprint_folders]\n",
    "preprint_folders"
   ]
  },
  {
   "cell_type": "code",
   "execution_count": 3,
   "metadata": {
    "ExecuteTime": {
     "end_time": "2022-04-27T14:57:15.225287Z",
     "start_time": "2022-04-27T14:57:15.222877Z"
    }
   },
   "outputs": [],
   "source": [
    "log_output_folder = Path(\"output/tagging_logs/\").absolute()"
   ]
  },
  {
   "cell_type": "markdown",
   "metadata": {},
   "source": [
    "# GNormPlus Tagger"
   ]
  },
  {
   "cell_type": "code",
   "execution_count": null,
   "metadata": {},
   "outputs": [],
   "source": [
    "gnorm_tagger_path = Path(\"../../tagger_test/GNormPlusJava/\").absolute()\n",
    "gnorm_output_folder = Path(\"output/gnormplus_tags/\").absolute()"
   ]
  },
  {
   "cell_type": "code",
   "execution_count": null,
   "metadata": {
    "ExecuteTime": {
     "start_time": "2022-04-27T14:57:15.109Z"
    }
   },
   "outputs": [
    {
     "name": "stdout",
     "output_type": "stream",
     "text": [
      "/home/danich1/Documents/biovectors/biorxiv_experiment/output/converted_docs/2013\n",
      "/home/danich1/Documents/biovectors/biorxiv_experiment/output/converted_docs/2014\n",
      "/home/danich1/Documents/biovectors/biorxiv_experiment/output/converted_docs/2015\n",
      "/home/danich1/Documents/biovectors/biorxiv_experiment/output/converted_docs/2016\n",
      "/home/danich1/Documents/biovectors/biorxiv_experiment/output/converted_docs/2017\n",
      "/home/danich1/Documents/biovectors/biorxiv_experiment/output/converted_docs/2018\n",
      "/home/danich1/Documents/biovectors/biorxiv_experiment/output/converted_docs/2019\n",
      "/home/danich1/Documents/biovectors/biorxiv_experiment/output/converted_docs/2020\n",
      "/home/danich1/Documents/biovectors/biorxiv_experiment/output/converted_docs/2021\n",
      "/home/danich1/Documents/biovectors/biorxiv_experiment/output/converted_docs/2022\n"
     ]
    }
   ],
   "source": [
    "os.chdir(str(gnorm_tagger_path))\n",
    "for preprint_folder in preprint_folders:\n",
    "    print(preprint_folder)\n",
    "    f = open(f\"{log_output_folder}/{preprint_folder.stem}_tagger.log\", \"w\")\n",
    "    p = subprocess.call(\n",
    "        [\n",
    "            f\"sh run_gnormplus.sh {str(preprint_folder)} {gnorm_output_folder}/{preprint_folder.stem}\"\n",
    "        ],\n",
    "        stdout=f,\n",
    "        stderr=f,\n",
    "        shell=True,\n",
    "    )\n",
    "    if p != 0:\n",
    "        break"
   ]
  },
  {
   "cell_type": "markdown",
   "metadata": {},
   "source": [
    "# Tagger One Tagger"
   ]
  },
  {
   "cell_type": "code",
   "execution_count": null,
   "metadata": {},
   "outputs": [],
   "source": [
    "tagger_one_path = Path(\"../TaggerOne-0.2.1/\").absolute()\n",
    "tagger_one_output_folder = Path(\"output/tagger_one_tags\").absolute()"
   ]
  },
  {
   "cell_type": "code",
   "execution_count": null,
   "metadata": {
    "ExecuteTime": {
     "end_time": "2022-03-07T08:03:45.823727Z",
     "start_time": "2022-03-07T08:03:45.819040Z"
    }
   },
   "outputs": [],
   "source": [
    "os.chdir(str(tagger_one_path))\n",
    "for preprint_folder in preprint_folders:\n",
    "    for preprint_file in preprint_folder.rglob(\"*xml\"):\n",
    "\n",
    "        if Path(f\"{tagger_one_output_folder}/{preprint_file.name}\").exists():\n",
    "            continue\n",
    "\n",
    "        f = open(f\"{log_output_folder}/{preprint_folder.stem}_tagger.log\", \"w\")\n",
    "        p = subprocess.call(\n",
    "            [\n",
    "                f\"sh ProcessText.sh BioC output/model_DISE.bin {str(preprint_file)} {str(tagger_one_output_folder)}/{str(preprint_file.name)}\"\n",
    "            ],\n",
    "            stdout=f,\n",
    "            stderr=f,\n",
    "            shell=True,\n",
    "        )"
   ]
  }
 ],
 "metadata": {
  "jupytext": {
   "formats": "ipynb,py:light"
  },
  "kernelspec": {
   "display_name": "Python [conda env:biovectors]",
   "language": "python",
   "name": "conda-env-biovectors-py"
  },
  "language_info": {
   "codemirror_mode": {
    "name": "ipython",
    "version": 3
   },
   "file_extension": ".py",
   "mimetype": "text/x-python",
   "name": "python",
   "nbconvert_exporter": "python",
   "pygments_lexer": "ipython3",
   "version": "3.7.2"
  },
  "toc": {
   "base_numbering": 1,
   "nav_menu": {},
   "number_sections": true,
   "sideBar": true,
   "skip_h1_title": false,
   "title_cell": "Table of Contents",
   "title_sidebar": "Contents",
   "toc_cell": false,
   "toc_position": {},
   "toc_section_display": true,
   "toc_window_display": false
  }
 },
 "nbformat": 4,
 "nbformat_minor": 2
}
