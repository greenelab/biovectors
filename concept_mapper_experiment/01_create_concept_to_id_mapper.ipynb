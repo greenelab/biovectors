{
 "cells": [
  {
   "cell_type": "markdown",
   "metadata": {},
   "source": [
    "# Extract all concept IDs for Pubtator Central"
   ]
  },
  {
   "cell_type": "code",
   "execution_count": 1,
   "metadata": {
    "ExecuteTime": {
     "end_time": "2022-05-20T19:06:05.796435Z",
     "start_time": "2022-05-20T19:06:05.602456Z"
    }
   },
   "outputs": [],
   "source": [
    "import gzip\n",
    "import os\n",
    "from pathlib import Path\n",
    "\n",
    "import pandas as pd\n",
    "import plydata as ply\n",
    "import tqdm"
   ]
  },
  {
   "cell_type": "code",
   "execution_count": 2,
   "metadata": {
    "ExecuteTime": {
     "end_time": "2022-05-20T19:06:05.800905Z",
     "start_time": "2022-05-20T19:06:05.797737Z"
    }
   },
   "outputs": [],
   "source": [
    "Path(\"output/intermediate_files\").mkdir(exist_ok=True, parents=True)"
   ]
  },
  {
   "cell_type": "markdown",
   "metadata": {},
   "source": [
    "# Extract MESH IDs"
   ]
  },
  {
   "cell_type": "code",
   "execution_count": 3,
   "metadata": {
    "ExecuteTime": {
     "end_time": "2022-05-20T19:06:05.817642Z",
     "start_time": "2022-05-20T19:06:05.802244Z"
    }
   },
   "outputs": [],
   "source": [
    "mesh_chemical_url = (\n",
    "    \"https://nlmpubs.nlm.nih.gov/projects/mesh/MESH_FILES/asciimesh/c2022.bin\"\n",
    ")\n",
    "mesh_disease_url = (\n",
    "    \"https://nlmpubs.nlm.nih.gov/projects/mesh/MESH_FILES/asciimesh/d2022.bin\"\n",
    ")"
   ]
  },
  {
   "cell_type": "code",
   "execution_count": 4,
   "metadata": {
    "ExecuteTime": {
     "end_time": "2022-05-20T19:06:05.828529Z",
     "start_time": "2022-05-20T19:06:05.818821Z"
    }
   },
   "outputs": [],
   "source": [
    "chemical_file = f\"output/intermediate_files/{Path(mesh_chemical_url).name}\"\n",
    "if not Path(chemical_file).exists():\n",
    "    os.system(f\"wget {mesh_chemical_url} -O {chemical_file}\")\n",
    "\n",
    "disease_file = f\"output/intermediate_files/{Path(mesh_disease_url).name}\"\n",
    "if not Path(disease_file).exists():\n",
    "    os.system(f\"wget {mesh_disease_url} -O {disease_file}\")"
   ]
  },
  {
   "cell_type": "code",
   "execution_count": 5,
   "metadata": {
    "ExecuteTime": {
     "end_time": "2022-05-20T19:06:09.072786Z",
     "start_time": "2022-05-20T19:06:05.829541Z"
    }
   },
   "outputs": [
    {
     "name": "stderr",
     "output_type": "stream",
     "text": [
      "841110it [00:00, 1940560.48it/s]\n",
      "4974852it [00:02, 2283078.60it/s]\n"
     ]
    },
    {
     "name": "stdout",
     "output_type": "stream",
     "text": [
      "(348746, 2)\n"
     ]
    },
    {
     "data": {
      "text/html": [
       "<div>\n",
       "<style scoped>\n",
       "    .dataframe tbody tr th:only-of-type {\n",
       "        vertical-align: middle;\n",
       "    }\n",
       "\n",
       "    .dataframe tbody tr th {\n",
       "        vertical-align: top;\n",
       "    }\n",
       "\n",
       "    .dataframe thead th {\n",
       "        text-align: right;\n",
       "    }\n",
       "</style>\n",
       "<table border=\"1\" class=\"dataframe\">\n",
       "  <thead>\n",
       "    <tr style=\"text-align: right;\">\n",
       "      <th></th>\n",
       "      <th>mesh_id</th>\n",
       "      <th>mesh_heading</th>\n",
       "    </tr>\n",
       "  </thead>\n",
       "  <tbody>\n",
       "    <tr>\n",
       "      <th>0</th>\n",
       "      <td>d000001</td>\n",
       "      <td>calcimycin</td>\n",
       "    </tr>\n",
       "    <tr>\n",
       "      <th>1</th>\n",
       "      <td>d000002</td>\n",
       "      <td>temefos</td>\n",
       "    </tr>\n",
       "    <tr>\n",
       "      <th>2</th>\n",
       "      <td>d000003</td>\n",
       "      <td>abattoirs</td>\n",
       "    </tr>\n",
       "    <tr>\n",
       "      <th>3</th>\n",
       "      <td>d000004</td>\n",
       "      <td>abbreviations as topic</td>\n",
       "    </tr>\n",
       "    <tr>\n",
       "      <th>4</th>\n",
       "      <td>d000005</td>\n",
       "      <td>abdomen</td>\n",
       "    </tr>\n",
       "    <tr>\n",
       "      <th>5</th>\n",
       "      <td>d000006</td>\n",
       "      <td>abdomen, acute</td>\n",
       "    </tr>\n",
       "    <tr>\n",
       "      <th>6</th>\n",
       "      <td>d000007</td>\n",
       "      <td>abdominal injuries</td>\n",
       "    </tr>\n",
       "    <tr>\n",
       "      <th>7</th>\n",
       "      <td>d000008</td>\n",
       "      <td>abdominal neoplasms</td>\n",
       "    </tr>\n",
       "    <tr>\n",
       "      <th>8</th>\n",
       "      <td>d000009</td>\n",
       "      <td>abdominal muscles</td>\n",
       "    </tr>\n",
       "    <tr>\n",
       "      <th>9</th>\n",
       "      <td>d000010</td>\n",
       "      <td>abducens nerve</td>\n",
       "    </tr>\n",
       "  </tbody>\n",
       "</table>\n",
       "</div>"
      ],
      "text/plain": [
       "   mesh_id            mesh_heading\n",
       "0  d000001              calcimycin\n",
       "1  d000002                 temefos\n",
       "2  d000003               abattoirs\n",
       "3  d000004  abbreviations as topic\n",
       "4  d000005                 abdomen\n",
       "5  d000006          abdomen, acute\n",
       "6  d000007      abdominal injuries\n",
       "7  d000008     abdominal neoplasms\n",
       "8  d000009       abdominal muscles\n",
       "9  d000010          abducens nerve"
      ]
     },
     "execution_count": 5,
     "metadata": {},
     "output_type": "execute_result"
    }
   ],
   "source": [
    "mesh_map_file = Path(\"output/mesh_headings_id_mapper.tsv\")\n",
    "if not mesh_map_file.exists():\n",
    "    with open(disease_file, \"r\") as disease_infile:\n",
    "        with open(chemical_file, \"r\") as chem_infile:\n",
    "            data_rows = []\n",
    "            for line in tqdm.tqdm(disease_infile):\n",
    "                line = line.strip()\n",
    "                if \"MH = \" in line:\n",
    "                    concept = line.replace(\"MH = \", \"\").lower()\n",
    "\n",
    "                if \"UI = \" in line:\n",
    "                    concept_id = line.replace(\"UI = \", \"\").lower()\n",
    "                    data_rows.append({\"mesh_id\": concept_id, \"mesh_heading\": concept})\n",
    "\n",
    "            for line in tqdm.tqdm(chem_infile):\n",
    "                line = line.strip()\n",
    "                if \"NM = \" in line:\n",
    "                    concept = line.replace(\"NM = \", \"\").lower()\n",
    "\n",
    "                if \"UI = \" in line:\n",
    "                    concept_id = line.replace(\"UI = \", \"\").lower()\n",
    "                    data_rows.append({\"mesh_id\": concept_id, \"mesh_heading\": concept})\n",
    "\n",
    "    concept_df = pd.DataFrame.from_records(data_rows)\n",
    "    concept_df >> ply.call(\"to_csv\", str(mesh_map_file), sep=\"\\t\", index=False)\n",
    "else:\n",
    "    concept_df = pd.read_csv(str(mesh_map_file), sep=\"\\t\")\n",
    "print(concept_df.shape)\n",
    "concept_df >> ply.slice_rows(10)"
   ]
  },
  {
   "cell_type": "markdown",
   "metadata": {},
   "source": [
    "# Extract Species IDs"
   ]
  },
  {
   "cell_type": "code",
   "execution_count": 6,
   "metadata": {
    "ExecuteTime": {
     "end_time": "2022-05-20T19:07:10.657177Z",
     "start_time": "2022-05-20T19:07:10.651464Z"
    }
   },
   "outputs": [],
   "source": [
    "species_id_url = \"https://ftp.ncbi.nlm.nih.gov/pub/taxonomy/taxdump.tar.gz\""
   ]
  },
  {
   "cell_type": "code",
   "execution_count": 7,
   "metadata": {
    "ExecuteTime": {
     "end_time": "2022-05-20T19:07:10.694758Z",
     "start_time": "2022-05-20T19:07:10.660263Z"
    }
   },
   "outputs": [],
   "source": [
    "species_file = f\"output/intermediate_files/{Path(species_id_url).name}\"\n",
    "if not Path(species_file).exists():\n",
    "    os.system(f\"wget {species_id_url} -O {species_file}\")\n",
    "    Path(\"output/intermediate_files/species_temp\").mkdir(exist_ok=True, parents=True)\n",
    "    os.system(\n",
    "        f\"gunzip -c {species_file} | tar xf - -C output/intermediate_files/species_temp\"\n",
    "    )"
   ]
  },
  {
   "cell_type": "code",
   "execution_count": 8,
   "metadata": {
    "ExecuteTime": {
     "end_time": "2022-05-20T19:07:12.438138Z",
     "start_time": "2022-05-20T19:07:10.700947Z"
    },
    "scrolled": false
   },
   "outputs": [
    {
     "name": "stdout",
     "output_type": "stream",
     "text": [
      "(2402566, 2)\n"
     ]
    },
    {
     "data": {
      "text/html": [
       "<div>\n",
       "<style scoped>\n",
       "    .dataframe tbody tr th:only-of-type {\n",
       "        vertical-align: middle;\n",
       "    }\n",
       "\n",
       "    .dataframe tbody tr th {\n",
       "        vertical-align: top;\n",
       "    }\n",
       "\n",
       "    .dataframe thead th {\n",
       "        text-align: right;\n",
       "    }\n",
       "</style>\n",
       "<table border=\"1\" class=\"dataframe\">\n",
       "  <thead>\n",
       "    <tr style=\"text-align: right;\">\n",
       "      <th></th>\n",
       "      <th>species_id</th>\n",
       "      <th>species_name</th>\n",
       "    </tr>\n",
       "  </thead>\n",
       "  <tbody>\n",
       "    <tr>\n",
       "      <th>0</th>\n",
       "      <td>1</td>\n",
       "      <td>root</td>\n",
       "    </tr>\n",
       "    <tr>\n",
       "      <th>1</th>\n",
       "      <td>2</td>\n",
       "      <td>bacteria</td>\n",
       "    </tr>\n",
       "    <tr>\n",
       "      <th>2</th>\n",
       "      <td>6</td>\n",
       "      <td>azorhizobium</td>\n",
       "    </tr>\n",
       "    <tr>\n",
       "      <th>3</th>\n",
       "      <td>7</td>\n",
       "      <td>azorhizobium caulinodans</td>\n",
       "    </tr>\n",
       "    <tr>\n",
       "      <th>4</th>\n",
       "      <td>9</td>\n",
       "      <td>buchnera aphidicola</td>\n",
       "    </tr>\n",
       "    <tr>\n",
       "      <th>5</th>\n",
       "      <td>10</td>\n",
       "      <td>cellvibrio</td>\n",
       "    </tr>\n",
       "    <tr>\n",
       "      <th>6</th>\n",
       "      <td>11</td>\n",
       "      <td>cellulomonas gilvus</td>\n",
       "    </tr>\n",
       "    <tr>\n",
       "      <th>7</th>\n",
       "      <td>13</td>\n",
       "      <td>dictyoglomus</td>\n",
       "    </tr>\n",
       "    <tr>\n",
       "      <th>8</th>\n",
       "      <td>14</td>\n",
       "      <td>dictyoglomus thermophilum</td>\n",
       "    </tr>\n",
       "    <tr>\n",
       "      <th>9</th>\n",
       "      <td>16</td>\n",
       "      <td>methylophilus</td>\n",
       "    </tr>\n",
       "  </tbody>\n",
       "</table>\n",
       "</div>"
      ],
      "text/plain": [
       "   species_id               species_name\n",
       "0           1                       root\n",
       "1           2                   bacteria\n",
       "2           6               azorhizobium\n",
       "3           7   azorhizobium caulinodans\n",
       "4           9        buchnera aphidicola\n",
       "5          10                 cellvibrio\n",
       "6          11        cellulomonas gilvus\n",
       "7          13               dictyoglomus\n",
       "8          14  dictyoglomus thermophilum\n",
       "9          16              methylophilus"
      ]
     },
     "execution_count": 8,
     "metadata": {},
     "output_type": "execute_result"
    }
   ],
   "source": [
    "species_map_file = Path(\"output/species_id_map.tsv\")\n",
    "if not species_map_file.exists():\n",
    "    with open(\n",
    "        \"output/intermediate_files/species_temp/names.dmp\", \"r\"\n",
    "    ) as species_infile:\n",
    "        data_rows = []\n",
    "        for idx, line in enumerate(species_infile):\n",
    "            fields = line.strip().replace(\"\\t\", \"\").split(\"|\")\n",
    "\n",
    "            if fields[3] == \"scientific name\":\n",
    "                data_rows.append(\n",
    "                    {\"species_id\": int(fields[0]), \"species_name\": fields[1].lower()}\n",
    "                )\n",
    "\n",
    "        species_df = pd.DataFrame.from_records(data_rows)\n",
    "        species_df >> ply.call(\"to_csv\", str(species_map_file), sep=\"\\t\", index=False)\n",
    "else:\n",
    "    species_df = pd.read_csv(str(species_map_file), sep=\"\\t\")\n",
    "\n",
    "print(species_df.shape)\n",
    "species_df >> ply.slice_rows(10)"
   ]
  },
  {
   "cell_type": "markdown",
   "metadata": {},
   "source": [
    "# Extract Gene IDS"
   ]
  },
  {
   "cell_type": "code",
   "execution_count": 9,
   "metadata": {
    "ExecuteTime": {
     "end_time": "2022-05-20T19:07:12.441497Z",
     "start_time": "2022-05-20T19:07:12.439624Z"
    }
   },
   "outputs": [],
   "source": [
    "gene_id_url = \"https://ftp.ncbi.nlm.nih.gov/gene/DATA/GENE_INFO/All_Data.gene_info.gz\""
   ]
  },
  {
   "cell_type": "code",
   "execution_count": 10,
   "metadata": {
    "ExecuteTime": {
     "end_time": "2022-05-20T19:07:12.495777Z",
     "start_time": "2022-05-20T19:07:12.442871Z"
    }
   },
   "outputs": [],
   "source": [
    "gene_file = Path(f\"output/intermediate_files/{Path(gene_id_url).name}\")\n",
    "if not gene_file.exists():\n",
    "    os.system(f\"wget {gene_id_url} -O {gene_file}\")"
   ]
  },
  {
   "cell_type": "code",
   "execution_count": 11,
   "metadata": {
    "ExecuteTime": {
     "end_time": "2022-05-20T19:07:30.513038Z",
     "start_time": "2022-05-20T19:07:12.497283Z"
    }
   },
   "outputs": [
    {
     "name": "stdout",
     "output_type": "stream",
     "text": [
      "(36559909, 3)\n"
     ]
    },
    {
     "data": {
      "text/html": [
       "<div>\n",
       "<style scoped>\n",
       "    .dataframe tbody tr th:only-of-type {\n",
       "        vertical-align: middle;\n",
       "    }\n",
       "\n",
       "    .dataframe tbody tr th {\n",
       "        vertical-align: top;\n",
       "    }\n",
       "\n",
       "    .dataframe thead th {\n",
       "        text-align: right;\n",
       "    }\n",
       "</style>\n",
       "<table border=\"1\" class=\"dataframe\">\n",
       "  <thead>\n",
       "    <tr style=\"text-align: right;\">\n",
       "      <th></th>\n",
       "      <th>tax_id</th>\n",
       "      <th>gene_id</th>\n",
       "      <th>gene_symbol</th>\n",
       "    </tr>\n",
       "  </thead>\n",
       "  <tbody>\n",
       "    <tr>\n",
       "      <th>0</th>\n",
       "      <td>7</td>\n",
       "      <td>5692769</td>\n",
       "      <td>NEWENTRY</td>\n",
       "    </tr>\n",
       "    <tr>\n",
       "      <th>1</th>\n",
       "      <td>9</td>\n",
       "      <td>2827857</td>\n",
       "      <td>NEWENTRY</td>\n",
       "    </tr>\n",
       "    <tr>\n",
       "      <th>2</th>\n",
       "      <td>11</td>\n",
       "      <td>10823747</td>\n",
       "      <td>NEWENTRY</td>\n",
       "    </tr>\n",
       "    <tr>\n",
       "      <th>3</th>\n",
       "      <td>14</td>\n",
       "      <td>6951813</td>\n",
       "      <td>NEWENTRY</td>\n",
       "    </tr>\n",
       "    <tr>\n",
       "      <th>4</th>\n",
       "      <td>19</td>\n",
       "      <td>3758873</td>\n",
       "      <td>NEWENTRY</td>\n",
       "    </tr>\n",
       "    <tr>\n",
       "      <th>5</th>\n",
       "      <td>24</td>\n",
       "      <td>5129993</td>\n",
       "      <td>NEWENTRY</td>\n",
       "    </tr>\n",
       "    <tr>\n",
       "      <th>6</th>\n",
       "      <td>24</td>\n",
       "      <td>67441593</td>\n",
       "      <td>dnaA</td>\n",
       "    </tr>\n",
       "    <tr>\n",
       "      <th>7</th>\n",
       "      <td>24</td>\n",
       "      <td>67441594</td>\n",
       "      <td>dnaN</td>\n",
       "    </tr>\n",
       "    <tr>\n",
       "      <th>8</th>\n",
       "      <td>24</td>\n",
       "      <td>67441595</td>\n",
       "      <td>recF</td>\n",
       "    </tr>\n",
       "    <tr>\n",
       "      <th>9</th>\n",
       "      <td>24</td>\n",
       "      <td>67441596</td>\n",
       "      <td>gyrB</td>\n",
       "    </tr>\n",
       "  </tbody>\n",
       "</table>\n",
       "</div>"
      ],
      "text/plain": [
       "   tax_id   gene_id gene_symbol\n",
       "0       7   5692769    NEWENTRY\n",
       "1       9   2827857    NEWENTRY\n",
       "2      11  10823747    NEWENTRY\n",
       "3      14   6951813    NEWENTRY\n",
       "4      19   3758873    NEWENTRY\n",
       "5      24   5129993    NEWENTRY\n",
       "6      24  67441593        dnaA\n",
       "7      24  67441594        dnaN\n",
       "8      24  67441595        recF\n",
       "9      24  67441596        gyrB"
      ]
     },
     "execution_count": 11,
     "metadata": {},
     "output_type": "execute_result"
    }
   ],
   "source": [
    "gene_map_file = Path(\"output/gene_id_map.tsv\")\n",
    "if not gene_map_file.exists():\n",
    "    with gzip.open(str(gene_file), \"rt\") as infile:\n",
    "        data_rows = []\n",
    "        for idx, line in tqdm.tqdm(enumerate(infile)):\n",
    "            # Skip the first line which is the header\n",
    "            if idx == 0:\n",
    "                continue\n",
    "\n",
    "            gene_row = line.split(\"\\t\")\n",
    "            data_rows.append(\n",
    "                {\n",
    "                    \"tax_id\": gene_row[0],\n",
    "                    \"gene_id\": gene_row[1],\n",
    "                    \"gene_symbol\": gene_row[2],\n",
    "                }\n",
    "            )\n",
    "\n",
    "        gene_df = pd.DataFrame.from_records(data_rows)\n",
    "        gene_df >> ply.call(\"to_csv\", str(gene_map_file), sep=\"\\t\", index=False)\n",
    "else:\n",
    "    gene_df = pd.read_csv(str(gene_map_file), sep=\"\\t\")\n",
    "print(gene_df.shape)\n",
    "gene_df >> ply.slice_rows(10)"
   ]
  },
  {
   "cell_type": "markdown",
   "metadata": {},
   "source": [
    "# Extract Cell Line IDs"
   ]
  },
  {
   "cell_type": "code",
   "execution_count": 12,
   "metadata": {
    "ExecuteTime": {
     "end_time": "2022-05-20T19:07:30.516309Z",
     "start_time": "2022-05-20T19:07:30.514222Z"
    }
   },
   "outputs": [],
   "source": [
    "celline_id_url = \"https://ftp.expasy.org/databases/cellosaurus/cellosaurus.obo\""
   ]
  },
  {
   "cell_type": "code",
   "execution_count": 13,
   "metadata": {
    "ExecuteTime": {
     "end_time": "2022-05-20T19:07:30.532903Z",
     "start_time": "2022-05-20T19:07:30.517869Z"
    }
   },
   "outputs": [],
   "source": [
    "celline_file = f\"output/intermediate_files/{Path(celline_id_url).name}\"\n",
    "if not Path(celline_file).exists():\n",
    "    os.system(f\"wget {celline_id_url} -O {celline_file}\")"
   ]
  },
  {
   "cell_type": "code",
   "execution_count": 14,
   "metadata": {
    "ExecuteTime": {
     "end_time": "2022-05-20T19:07:30.789502Z",
     "start_time": "2022-05-20T19:07:30.534157Z"
    }
   },
   "outputs": [
    {
     "name": "stdout",
     "output_type": "stream",
     "text": [
      "(134849, 2)\n"
     ]
    },
    {
     "data": {
      "text/html": [
       "<div>\n",
       "<style scoped>\n",
       "    .dataframe tbody tr th:only-of-type {\n",
       "        vertical-align: middle;\n",
       "    }\n",
       "\n",
       "    .dataframe tbody tr th {\n",
       "        vertical-align: top;\n",
       "    }\n",
       "\n",
       "    .dataframe thead th {\n",
       "        text-align: right;\n",
       "    }\n",
       "</style>\n",
       "<table border=\"1\" class=\"dataframe\">\n",
       "  <thead>\n",
       "    <tr style=\"text-align: right;\">\n",
       "      <th></th>\n",
       "      <th>celline_id</th>\n",
       "      <th>celline_name</th>\n",
       "    </tr>\n",
       "  </thead>\n",
       "  <tbody>\n",
       "    <tr>\n",
       "      <th>0</th>\n",
       "      <td>CVCL_B0T9</td>\n",
       "      <td>#132</td>\n",
       "    </tr>\n",
       "    <tr>\n",
       "      <th>1</th>\n",
       "      <td>CVCL_B0T8</td>\n",
       "      <td>#132</td>\n",
       "    </tr>\n",
       "    <tr>\n",
       "      <th>2</th>\n",
       "      <td>CVCL_E548</td>\n",
       "      <td>#15310-LN</td>\n",
       "    </tr>\n",
       "    <tr>\n",
       "      <th>3</th>\n",
       "      <td>CVCL_KA96</td>\n",
       "      <td>#16-15</td>\n",
       "    </tr>\n",
       "    <tr>\n",
       "      <th>4</th>\n",
       "      <td>CVCL_IW91</td>\n",
       "      <td>#40a</td>\n",
       "    </tr>\n",
       "    <tr>\n",
       "      <th>5</th>\n",
       "      <td>CVCL_B375</td>\n",
       "      <td>#490</td>\n",
       "    </tr>\n",
       "    <tr>\n",
       "      <th>6</th>\n",
       "      <td>CVCL_X345</td>\n",
       "      <td>#822</td>\n",
       "    </tr>\n",
       "    <tr>\n",
       "      <th>7</th>\n",
       "      <td>CVCL_E549</td>\n",
       "      <td>#W7079</td>\n",
       "    </tr>\n",
       "    <tr>\n",
       "      <th>8</th>\n",
       "      <td>CVCL_G217</td>\n",
       "      <td>(BF1)</td>\n",
       "    </tr>\n",
       "    <tr>\n",
       "      <th>9</th>\n",
       "      <td>CVCL_VG99</td>\n",
       "      <td>(L)PC6</td>\n",
       "    </tr>\n",
       "  </tbody>\n",
       "</table>\n",
       "</div>"
      ],
      "text/plain": [
       "  celline_id celline_name\n",
       "0  CVCL_B0T9         #132\n",
       "1  CVCL_B0T8         #132\n",
       "2  CVCL_E548    #15310-LN\n",
       "3  CVCL_KA96       #16-15\n",
       "4  CVCL_IW91         #40a\n",
       "5  CVCL_B375         #490\n",
       "6  CVCL_X345         #822\n",
       "7  CVCL_E549       #W7079\n",
       "8  CVCL_G217        (BF1)\n",
       "9  CVCL_VG99       (L)PC6"
      ]
     },
     "execution_count": 14,
     "metadata": {},
     "output_type": "execute_result"
    }
   ],
   "source": [
    "celline_map_file = Path(\"output/celline_id_map.tsv\")\n",
    "if not celline_map_file.exists():\n",
    "    with open(celline_file, \"r\") as celline_infile:\n",
    "        data_rows = []\n",
    "        for idx, line in tqdm.tqdm(enumerate(celline_infile)):\n",
    "            line = line.strip()\n",
    "            if \"id:\" in line:\n",
    "                entry = dict(celline_id=line.split(\" \")[1])\n",
    "\n",
    "            if \"name:\" in line:\n",
    "                entry[\"celline_name\"] = line.split(\" \")[1]\n",
    "                data_rows.append(entry)\n",
    "\n",
    "        celline_df = pd.DataFrame.from_records(data_rows)\n",
    "        celline_df >> ply.call(\"to_csv\", str(celline_map_file), sep=\"\\t\", index=False)\n",
    "else:\n",
    "    celline_df = pd.read_csv(str(celline_map_file), sep=\"\\t\")\n",
    "\n",
    "print(celline_df.shape)\n",
    "celline_df >> ply.slice_rows(10)"
   ]
  },
  {
   "cell_type": "markdown",
   "metadata": {},
   "source": [
    "# Merge all ids into one"
   ]
  },
  {
   "cell_type": "code",
   "execution_count": 16,
   "metadata": {
    "ExecuteTime": {
     "end_time": "2022-05-20T19:17:11.634137Z",
     "start_time": "2022-05-20T19:08:20.501713Z"
    }
   },
   "outputs": [
    {
     "data": {
      "text/html": [
       "<div>\n",
       "<style scoped>\n",
       "    .dataframe tbody tr th:only-of-type {\n",
       "        vertical-align: middle;\n",
       "    }\n",
       "\n",
       "    .dataframe tbody tr th {\n",
       "        vertical-align: top;\n",
       "    }\n",
       "\n",
       "    .dataframe thead th {\n",
       "        text-align: right;\n",
       "    }\n",
       "</style>\n",
       "<table border=\"1\" class=\"dataframe\">\n",
       "  <thead>\n",
       "    <tr style=\"text-align: right;\">\n",
       "      <th></th>\n",
       "      <th>concept_id</th>\n",
       "      <th>concept</th>\n",
       "    </tr>\n",
       "  </thead>\n",
       "  <tbody>\n",
       "    <tr>\n",
       "      <th>543819</th>\n",
       "      <td>gene_57972401</td>\n",
       "      <td>DK182_RS04135</td>\n",
       "    </tr>\n",
       "    <tr>\n",
       "      <th>25840386</th>\n",
       "      <td>gene_114818499</td>\n",
       "      <td>LOC114818499</td>\n",
       "    </tr>\n",
       "    <tr>\n",
       "      <th>23705729</th>\n",
       "      <td>gene_105632890</td>\n",
       "      <td>LOC105632890</td>\n",
       "    </tr>\n",
       "    <tr>\n",
       "      <th>29203991</th>\n",
       "      <td>gene_8742979</td>\n",
       "      <td>HTUR_RS11695</td>\n",
       "    </tr>\n",
       "    <tr>\n",
       "      <th>27300370</th>\n",
       "      <td>gene_5878640</td>\n",
       "      <td>EDI_322610</td>\n",
       "    </tr>\n",
       "    <tr>\n",
       "      <th>1237435</th>\n",
       "      <td>species_1537359</td>\n",
       "      <td>arthrobacter sp. thg-dn3.21</td>\n",
       "    </tr>\n",
       "    <tr>\n",
       "      <th>11382192</th>\n",
       "      <td>gene_113742134</td>\n",
       "      <td>LOC113742134</td>\n",
       "    </tr>\n",
       "    <tr>\n",
       "      <th>11350479</th>\n",
       "      <td>gene_113710421</td>\n",
       "      <td>LOC113710421</td>\n",
       "    </tr>\n",
       "    <tr>\n",
       "      <th>26443279</th>\n",
       "      <td>gene_41795762</td>\n",
       "      <td>psaJ</td>\n",
       "    </tr>\n",
       "    <tr>\n",
       "      <th>35659526</th>\n",
       "      <td>gene_59344705</td>\n",
       "      <td>MIND_00540600</td>\n",
       "    </tr>\n",
       "    <tr>\n",
       "      <th>35367700</th>\n",
       "      <td>gene_52228901</td>\n",
       "      <td>SR187_RS01590</td>\n",
       "    </tr>\n",
       "    <tr>\n",
       "      <th>6492941</th>\n",
       "      <td>gene_118392591</td>\n",
       "      <td>LOC118392591</td>\n",
       "    </tr>\n",
       "    <tr>\n",
       "      <th>9419404</th>\n",
       "      <td>gene_123800596</td>\n",
       "      <td>LOC123800596</td>\n",
       "    </tr>\n",
       "    <tr>\n",
       "      <th>1568950</th>\n",
       "      <td>gene_7455687</td>\n",
       "      <td>LOC7455687</td>\n",
       "    </tr>\n",
       "    <tr>\n",
       "      <th>24012720</th>\n",
       "      <td>gene_104350979</td>\n",
       "      <td>LOC104350979</td>\n",
       "    </tr>\n",
       "    <tr>\n",
       "      <th>5722570</th>\n",
       "      <td>gene_120333683</td>\n",
       "      <td>LOC120333683</td>\n",
       "    </tr>\n",
       "    <tr>\n",
       "      <th>8613394</th>\n",
       "      <td>gene_107503517</td>\n",
       "      <td>CD52</td>\n",
       "    </tr>\n",
       "    <tr>\n",
       "      <th>1515623</th>\n",
       "      <td>species_1854674</td>\n",
       "      <td>pseudomonas sp. bfs112</td>\n",
       "    </tr>\n",
       "    <tr>\n",
       "      <th>3181676</th>\n",
       "      <td>gene_114317643</td>\n",
       "      <td>LOC114317643</td>\n",
       "    </tr>\n",
       "    <tr>\n",
       "      <th>16281290</th>\n",
       "      <td>gene_118347612</td>\n",
       "      <td>LOC118347612</td>\n",
       "    </tr>\n",
       "  </tbody>\n",
       "</table>\n",
       "</div>"
      ],
      "text/plain": [
       "               concept_id                      concept\n",
       "543819      gene_57972401                DK182_RS04135\n",
       "25840386   gene_114818499                 LOC114818499\n",
       "23705729   gene_105632890                 LOC105632890\n",
       "29203991     gene_8742979                 HTUR_RS11695\n",
       "27300370     gene_5878640                   EDI_322610\n",
       "1237435   species_1537359  arthrobacter sp. thg-dn3.21\n",
       "11382192   gene_113742134                 LOC113742134\n",
       "11350479   gene_113710421                 LOC113710421\n",
       "26443279    gene_41795762                         psaJ\n",
       "35659526    gene_59344705                MIND_00540600\n",
       "35367700    gene_52228901                SR187_RS01590\n",
       "6492941    gene_118392591                 LOC118392591\n",
       "9419404    gene_123800596                 LOC123800596\n",
       "1568950      gene_7455687                   LOC7455687\n",
       "24012720   gene_104350979                 LOC104350979\n",
       "5722570    gene_120333683                 LOC120333683\n",
       "8613394    gene_107503517                         CD52\n",
       "1515623   species_1854674       pseudomonas sp. bfs112\n",
       "3181676    gene_114317643                 LOC114317643\n",
       "16281290   gene_118347612                 LOC118347612"
      ]
     },
     "execution_count": 16,
     "metadata": {},
     "output_type": "execute_result"
    }
   ],
   "source": [
    "total_concept_file = Path(\"output/all_concept_ids.tsv.xz\")\n",
    "if not total_concept_file.exists():\n",
    "    total_concepts_df = pd.concat(\n",
    "        [\n",
    "            (\n",
    "                concept_df\n",
    "                >> ply.define(\n",
    "                    concept_id=\"mesh_id.apply(lambda x: 'mesh_'+x.lower())\",\n",
    "                    concept=\"mesh_heading\",\n",
    "                )\n",
    "                >> ply.select(\"concept_id\", \"concept\")\n",
    "            ),\n",
    "            (\n",
    "                species_df\n",
    "                >> ply.define(\n",
    "                    concept_id=\"species_id.apply(lambda x: 'species_'+str(x))\",\n",
    "                    concept=\"species_name\",\n",
    "                )\n",
    "                >> ply.select(\"concept_id\", \"concept\")\n",
    "            ),\n",
    "            (\n",
    "                gene_df\n",
    "                >> ply.define(\n",
    "                    concept_id=\"gene_id.apply(lambda x: 'gene_'+str(x))\",\n",
    "                    concept=\"gene_symbol\",\n",
    "                )\n",
    "                >> ply.select(\"concept_id\", \"concept\")\n",
    "            ),\n",
    "            (\n",
    "                celline_df\n",
    "                >> ply.define(\n",
    "                    concept_id=\"celline_id.apply(lambda x: 'cellline_'+str(x))\",\n",
    "                    concept=\"celline_name\",\n",
    "                )\n",
    "                >> ply.select(\"concept_id\", \"concept\")\n",
    "            ),\n",
    "        ]\n",
    "    )\n",
    "    total_concepts_df >> ply.call(\n",
    "        \"to_csv\", str(total_concept_file), sep=\"\\t\", index=False, compression=\"xz\"\n",
    "    )\n",
    "else:\n",
    "    total_concepts_df = pd.read_csv(str(total_concept_file), sep=\"\\t\")\n",
    "total_concepts_df >> ply.sample_n(20, random_state=100)"
   ]
  }
 ],
 "metadata": {
  "jupytext": {
   "formats": "ipynb,py:light"
  },
  "kernelspec": {
   "display_name": "Python [conda env:biovectors]",
   "language": "python",
   "name": "conda-env-biovectors-py"
  },
  "language_info": {
   "codemirror_mode": {
    "name": "ipython",
    "version": 3
   },
   "file_extension": ".py",
   "mimetype": "text/x-python",
   "name": "python",
   "nbconvert_exporter": "python",
   "pygments_lexer": "ipython3",
   "version": "3.7.2"
  },
  "toc": {
   "base_numbering": 1,
   "nav_menu": {},
   "number_sections": true,
   "sideBar": true,
   "skip_h1_title": false,
   "title_cell": "Table of Contents",
   "title_sidebar": "Contents",
   "toc_cell": false,
   "toc_position": {},
   "toc_section_display": true,
   "toc_window_display": false
  }
 },
 "nbformat": 4,
 "nbformat_minor": 2
}
