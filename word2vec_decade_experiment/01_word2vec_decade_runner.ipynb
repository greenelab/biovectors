{
 "cells": [
  {
   "cell_type": "markdown",
   "id": "assisted-quest",
   "metadata": {},
   "source": [
    "# Run Word2vec on abstracts for each Decade"
   ]
  },
  {
   "cell_type": "code",
   "execution_count": null,
   "id": "collectible-lending",
   "metadata": {
    "ExecuteTime": {
     "end_time": "2021-03-24T22:30:44.734079Z",
     "start_time": "2021-03-24T22:30:44.095338Z"
    }
   },
   "outputs": [],
   "source": [
    "%load_ext autoreload\n",
    "%autoreload 2\n",
    "\n",
    "from pathlib import Path\n",
    "\n",
    "from gensim.models import Word2Vec, KeyedVectors\n",
    "from sklearn.dummy import DummyClassifier\n",
    "from sklearn.model_selection import train_test_split\n",
    "import pandas as pd\n",
    "import random\n",
    "import re\n",
    "import tqdm\n",
    "\n",
    "from biovectors_modules.word2vec_run_helper import PubMedSentencesIterator, chunks"
   ]
  },
  {
   "cell_type": "markdown",
   "id": "cheap-ottawa",
   "metadata": {},
   "source": [
    "# Set up the Data"
   ]
  },
  {
   "cell_type": "code",
   "execution_count": null,
   "id": "instant-healthcare",
   "metadata": {
    "ExecuteTime": {
     "end_time": "2021-03-24T22:31:14.662131Z",
     "start_time": "2021-03-24T22:30:44.735394Z"
    },
    "lines_to_next_cell": 2
   },
   "outputs": [],
   "source": [
    "pubtator_central_metadata_df = pd.read_csv(\n",
    "    \"../exploratory_data_analysis/output/pmc_metadata.tsv.xz\", sep=\"\\t\"\n",
    ")\n",
    "print(pubtator_central_metadata_df.shape)\n",
    "pubtator_central_metadata_df.head()"
   ]
  },
  {
   "cell_type": "code",
   "execution_count": null,
   "id": "intelligent-premium",
   "metadata": {
    "ExecuteTime": {
     "end_time": "2021-03-24T22:31:21.721058Z",
     "start_time": "2021-03-24T22:31:21.701223Z"
    }
   },
   "outputs": [],
   "source": [
    "pubtator_abstract_batch = list(Path(\"../pubtator_abstracts\").rglob(\"*.gz\"))\n",
    "print(len(pubtator_abstract_batch))"
   ]
  },
  {
   "cell_type": "code",
   "execution_count": null,
   "id": "unable-workplace",
   "metadata": {
    "ExecuteTime": {
     "end_time": "2021-03-24T22:31:31.295382Z",
     "start_time": "2021-03-24T22:31:22.615637Z"
    }
   },
   "outputs": [],
   "source": [
    "year_mapper_df = (\n",
    "    pubtator_central_metadata_df.query(\"published_year != 0\")\n",
    "    .groupby([\"published_year\", \"batch_folder\"])\n",
    "    .agg({\"batch_file\": \"unique\"})\n",
    "    .reset_index()\n",
    ")\n",
    "year_mapper_df.head()"
   ]
  },
  {
   "cell_type": "code",
   "execution_count": null,
   "id": "cordless-criticism",
   "metadata": {
    "ExecuteTime": {
     "end_time": "2021-03-24T22:31:31.496056Z",
     "start_time": "2021-03-24T22:31:31.296800Z"
    }
   },
   "outputs": [],
   "source": [
    "batch_file_year_dict = {}\n",
    "for idx, row in tqdm.tqdm(year_mapper_df.iterrows()):\n",
    "    if row[\"published_year\"] not in batch_file_year_dict:\n",
    "        batch_file_year_dict[row[\"published_year\"]] = {}\n",
    "\n",
    "    batch_file_year_dict[row[\"published_year\"]][row[\"batch_folder\"]] = list(\n",
    "        row[\"batch_file\"]\n",
    "    )"
   ]
  },
  {
   "cell_type": "markdown",
   "id": "balanced-worship",
   "metadata": {},
   "source": [
    "# Run the Models"
   ]
  },
  {
   "cell_type": "code",
   "execution_count": null,
   "id": "following-crest",
   "metadata": {
    "ExecuteTime": {
     "end_time": "2021-03-24T22:31:32.782201Z",
     "start_time": "2021-03-24T22:31:31.497708Z"
    },
    "lines_to_next_cell": 2
   },
   "outputs": [],
   "source": [
    "# Generate path to save word2vec models\n",
    "Path(\"output/models\").mkdir(exist_ok=True)\n",
    "years = (\n",
    "    pubtator_central_metadata_df.query(\"published_year>=2000\")\n",
    "    .published_year.unique()\n",
    "    .tolist()\n",
    ")"
   ]
  },
  {
   "cell_type": "code",
   "execution_count": null,
   "id": "cooperative-denver",
   "metadata": {
    "ExecuteTime": {
     "end_time": "2021-03-24T22:31:47.802882Z",
     "start_time": "2021-03-24T22:31:34.252738Z"
    },
    "lines_to_next_cell": 2
   },
   "outputs": [],
   "source": [
    "# iterate through all abstracts through all years\n",
    "random.seed(100)\n",
    "for idx, year in enumerate(chunks(sorted(years), 1)):\n",
    "\n",
    "    if Path(f\"output/models/word2vec_{str(year)}.model\").exists():\n",
    "        continue\n",
    "\n",
    "    random.shuffle(pubtator_abstract_batch)\n",
    "\n",
    "    doc_iterator = PubMedSentencesIterator(\n",
    "        pubtator_abstract_batch,\n",
    "        batch_mapper=batch_file_year_dict[year[0]],\n",
    "        year_filter=year,\n",
    "        jobs=40,\n",
    "    )\n",
    "\n",
    "    model = Word2Vec(size=300, window=5, min_count=1, workers=8, seed=100)\n",
    "    model.build_vocab(doc_iterator)\n",
    "\n",
    "    model.train(doc_iterator, epochs=5, total_examples=model.corpus_count)\n",
    "\n",
    "    model.save(str(Path(f\"output/models/word2vec_{str(year[0])}.model\")))\n",
    "\n",
    "    print(f\"Saved {str(year[0])} word2vec model\")"
   ]
  }
 ],
 "metadata": {
  "jupytext": {
   "cell_metadata_filter": "-all",
   "encoding": "# coding: utf-8",
   "executable": "/usr/bin/env python",
   "formats": "ipynb,py"
  },
  "kernelspec": {
   "display_name": "Python [conda env:biovectors]",
   "language": "python",
   "name": "conda-env-biovectors-py"
  },
  "language_info": {
   "codemirror_mode": {
    "name": "ipython",
    "version": 3
   },
   "file_extension": ".py",
   "mimetype": "text/x-python",
   "name": "python",
   "nbconvert_exporter": "python",
   "pygments_lexer": "ipython3",
   "version": "3.7.2"
  },
  "toc": {
   "base_numbering": 1,
   "nav_menu": {},
   "number_sections": true,
   "sideBar": true,
   "skip_h1_title": false,
   "title_cell": "Table of Contents",
   "title_sidebar": "Contents",
   "toc_cell": false,
   "toc_position": {},
   "toc_section_display": true,
   "toc_window_display": false
  }
 },
 "nbformat": 4,
 "nbformat_minor": 5
}
