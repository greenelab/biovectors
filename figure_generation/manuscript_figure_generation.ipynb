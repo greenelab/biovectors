{
 "cells": [
  {
   "cell_type": "markdown",
   "metadata": {},
   "source": [
    "# Figure Generation for Manuscript"
   ]
  },
  {
   "cell_type": "code",
   "execution_count": 21,
   "metadata": {
    "ExecuteTime": {
     "end_time": "2022-05-16T13:54:53.676931Z",
     "start_time": "2022-05-16T13:54:52.434522Z"
    }
   },
   "outputs": [],
   "source": [
    "import os\n",
    "from pathlib import Path\n",
    "from IPython.display import Image, display, SVG\n",
    "\n",
    "from cairosvg import svg2png\n",
    "from lxml import etree\n",
    "import numpy as np\n",
    "import pandas as pd\n",
    "from svgutils.compose import Unit\n",
    "import svgutils.transform as sg"
   ]
  },
  {
   "cell_type": "markdown",
   "metadata": {},
   "source": [
    "## Figure 1"
   ]
  },
  {
   "cell_type": "markdown",
   "metadata": {},
   "source": [
    "This figure is designed to show the need for orthogonal procrustes.\n",
    "Idea here is that word2vec generates words arbitrarily and direct comparison is meaningless without an alignment factor.\n",
    "1. Panel A - Show umap plot of word models without alignment\n",
    "2. Panel B - Show umap plot of the same word models with alignment\n",
    "3. Panel C - Show same umap plot but with two examples that show intra year variability (show the opacity plot with word such as 'of', 'interleukin-18', 'pandemic')"
   ]
  },
  {
   "cell_type": "code",
   "execution_count": 2,
   "metadata": {
    "ExecuteTime": {
     "end_time": "2022-05-16T13:47:45.804383Z",
     "start_time": "2022-05-16T13:47:45.797722Z"
    }
   },
   "outputs": [],
   "source": [
    "umap_visualization_path = Path(\n",
    "    \"../multi_model_revamp/output/figure_data_and_figures/alignment_visualization\"\n",
    ")"
   ]
  },
  {
   "cell_type": "code",
   "execution_count": 3,
   "metadata": {
    "ExecuteTime": {
     "end_time": "2022-05-16T13:47:46.486223Z",
     "start_time": "2022-05-16T13:47:45.810560Z"
    }
   },
   "outputs": [
    {
     "name": "stdout",
     "output_type": "stream",
     "text": [
      "original: (666.0, 436.0)\n",
      "scaled:(1065.6000000000001, 697.6)\n"
     ]
    }
   ],
   "source": [
    "panel_one = sg.fromfile(umap_visualization_path / \"unaligned_2010_plot.svg\")\n",
    "\n",
    "# Convert pt units to pixel units\n",
    "# Vince's tutorial FTW\n",
    "panel_one_size = (\n",
    "    np.round(float(panel_one.root.attrib[\"width\"][:-2]) * 1.33, 0),\n",
    "    np.round(float(panel_one.root.attrib[\"height\"][:-2]) * 1.33, 0),\n",
    ")\n",
    "\n",
    "scale_x = 1.6\n",
    "scale_y = 1.6\n",
    "\n",
    "print(f\"original: {panel_one_size}\")\n",
    "print(f\"scaled:{(panel_one_size[0]*scale_x,panel_one_size[1]*scale_y)}\")\n",
    "\n",
    "panel_one = panel_one.getroot()\n",
    "panel_one.scale(x=scale_x, y=scale_y)\n",
    "panel_one.moveto(50, 50)"
   ]
  },
  {
   "cell_type": "code",
   "execution_count": 4,
   "metadata": {
    "ExecuteTime": {
     "end_time": "2022-05-16T13:47:47.074099Z",
     "start_time": "2022-05-16T13:47:46.487695Z"
    }
   },
   "outputs": [
    {
     "name": "stdout",
     "output_type": "stream",
     "text": [
      "original: (666.0, 436.0)\n",
      "scaled:(1065.6000000000001, 697.6)\n"
     ]
    }
   ],
   "source": [
    "panel_two = sg.fromfile(umap_visualization_path / \"unaligned_2010_probiotics_plot.svg\")\n",
    "\n",
    "panel_two_size = (\n",
    "    np.round(float(panel_two.root.attrib[\"width\"][:-2]) * 1.33, 0),\n",
    "    np.round(float(panel_two.root.attrib[\"height\"][:-2]) * 1.33, 0),\n",
    ")\n",
    "scale_x = 1.6\n",
    "scale_y = 1.6\n",
    "\n",
    "print(f\"original: {panel_two_size}\")\n",
    "print(f\"scaled:{(panel_two_size[0]*scale_x, panel_two_size[1]*scale_y)}\")\n",
    "\n",
    "panel_two = panel_two.getroot()\n",
    "panel_two.scale(x=scale_x, y=scale_y)\n",
    "panel_two.moveto(954, 50)"
   ]
  },
  {
   "cell_type": "code",
   "execution_count": 5,
   "metadata": {
    "ExecuteTime": {
     "end_time": "2022-05-16T13:47:47.700722Z",
     "start_time": "2022-05-16T13:47:47.075462Z"
    }
   },
   "outputs": [
    {
     "name": "stdout",
     "output_type": "stream",
     "text": [
      "original: (676.0, 436.0)\n",
      "scaled:(1081.6000000000001, 697.6)\n"
     ]
    }
   ],
   "source": [
    "panel_three = sg.fromfile(umap_visualization_path / \"aligned_2010_probiotics_plot.svg\")\n",
    "\n",
    "panel_three_size = (\n",
    "    np.round(float(panel_three.root.attrib[\"width\"][:-2]) * 1.33, 0),\n",
    "    np.round(float(panel_three.root.attrib[\"height\"][:-2]) * 1.33, 0),\n",
    ")\n",
    "scale_x = 1.6\n",
    "scale_y = 1.6\n",
    "\n",
    "print(f\"original: {panel_three_size}\")\n",
    "print(f\"scaled:{(panel_three_size[0]*scale_x, panel_three_size[1]*scale_y)}\")\n",
    "\n",
    "panel_three = panel_three.getroot()\n",
    "panel_three.scale(x=scale_x, y=scale_y)\n",
    "panel_three.moveto(50, 631)"
   ]
  },
  {
   "cell_type": "code",
   "execution_count": 6,
   "metadata": {
    "ExecuteTime": {
     "end_time": "2022-05-16T13:47:47.705218Z",
     "start_time": "2022-05-16T13:47:47.702053Z"
    }
   },
   "outputs": [],
   "source": [
    "panel_one_label = sg.TextElement(30, 30, \"A\", size=30, weight=\"bold\")\n",
    "panel_two_label = sg.TextElement(954, 30, \"B\", size=30, weight=\"bold\")\n",
    "panel_three_label = sg.TextElement(30, 631, \"C\", size=30, weight=\"bold\")"
   ]
  },
  {
   "cell_type": "code",
   "execution_count": 7,
   "metadata": {
    "ExecuteTime": {
     "end_time": "2022-05-16T13:47:47.812343Z",
     "start_time": "2022-05-16T13:47:47.706474Z"
    },
    "scrolled": false
   },
   "outputs": [],
   "source": [
    "figure_one = sg.SVGFigure(Unit(1650), Unit(1200))\n",
    "\n",
    "figure_one.append(\n",
    "    [\n",
    "        etree.Element(\"rect\", {\"width\": \"100%\", \"height\": \"100%\", \"fill\": \"white\"}),\n",
    "        panel_one,\n",
    "        panel_two,\n",
    "        panel_three,\n",
    "        panel_one_label,\n",
    "        panel_two_label,\n",
    "        panel_three_label,\n",
    "    ]\n",
    ")\n",
    "# display(SVG(figure_one.to_str()))"
   ]
  },
  {
   "cell_type": "code",
   "execution_count": 8,
   "metadata": {
    "ExecuteTime": {
     "end_time": "2022-05-16T13:49:05.924457Z",
     "start_time": "2022-05-16T13:47:47.814166Z"
    }
   },
   "outputs": [],
   "source": [
    "# save generated SVG files\n",
    "figure_one.save(\"output/Figure_1.svg\")\n",
    "svg2png(bytestring=figure_one.to_str(), write_to=\"output/Figure_1.png\", dpi=600)"
   ]
  },
  {
   "cell_type": "code",
   "execution_count": 9,
   "metadata": {
    "ExecuteTime": {
     "end_time": "2022-05-16T13:49:06.142339Z",
     "start_time": "2022-05-16T13:49:05.925787Z"
    }
   },
   "outputs": [
    {
     "data": {
      "text/plain": [
       "0"
      ]
     },
     "execution_count": 9,
     "metadata": {},
     "output_type": "execute_result"
    }
   ],
   "source": [
    "os.system(\n",
    "    \"convert -compress LZW -alpha remove output/Figure_1.png output/Figure_1.tiff\"\n",
    ")\n",
    "os.system(\"mogrify -alpha off output/Figure_1.tiff\")"
   ]
  },
  {
   "cell_type": "markdown",
   "metadata": {},
   "source": [
    "## Figure 2"
   ]
  },
  {
   "cell_type": "markdown",
   "metadata": {},
   "source": [
    "This figure is to show the validation of the metric which is Qst.\n",
    "This metric accounts for the intra year instability within each word2vec model.\n",
    "1. Panel - shows the percent difference validation I had for the tokens across the years"
   ]
  },
  {
   "cell_type": "code",
   "execution_count": 10,
   "metadata": {
    "ExecuteTime": {
     "end_time": "2022-05-16T13:49:06.145555Z",
     "start_time": "2022-05-16T13:49:06.143638Z"
    }
   },
   "outputs": [],
   "source": [
    "novel_distance_visualization_path = Path(\n",
    "    \"../multi_model_revamp/output/figure_data_and_figures/novel_distance_visualization\"\n",
    ")"
   ]
  },
  {
   "cell_type": "code",
   "execution_count": 11,
   "metadata": {
    "ExecuteTime": {
     "end_time": "2022-05-16T13:49:06.232057Z",
     "start_time": "2022-05-16T13:49:06.146889Z"
    }
   },
   "outputs": [
    {
     "name": "stdout",
     "output_type": "stream",
     "text": [
      "original: (810.0, 445.0)\n",
      "scaled:(810.0, 445.0)\n"
     ]
    }
   ],
   "source": [
    "panel_one = sg.fromfile(\n",
    "    novel_distance_visualization_path / \"percent_difference_2010-2011_plot.svg\"\n",
    ")\n",
    "\n",
    "# Convert pt units to pixel units\n",
    "# Vince's tutorial FTW\n",
    "panel_one_size = (\n",
    "    np.round(float(panel_one.root.attrib[\"width\"][:-2]) * 1.33, 0),\n",
    "    np.round(float(panel_one.root.attrib[\"height\"][:-2]) * 1.33, 0),\n",
    ")\n",
    "\n",
    "scale_x = 1\n",
    "scale_y = 1\n",
    "\n",
    "print(f\"original: {panel_one_size}\")\n",
    "print(f\"scaled:{(panel_one_size[0]*scale_x,panel_one_size[1]*scale_y)}\")\n",
    "\n",
    "panel_one = panel_one.getroot()\n",
    "panel_one.scale(x=scale_x, y=scale_y)\n",
    "panel_one.moveto(50, 50)"
   ]
  },
  {
   "cell_type": "code",
   "execution_count": 12,
   "metadata": {
    "ExecuteTime": {
     "end_time": "2022-05-16T13:49:06.269189Z",
     "start_time": "2022-05-16T13:49:06.237161Z"
    }
   },
   "outputs": [],
   "source": [
    "panel_one_label = sg.TextElement(30, 30, \"A\", size=30, weight=\"bold\")"
   ]
  },
  {
   "cell_type": "code",
   "execution_count": 16,
   "metadata": {
    "ExecuteTime": {
     "end_time": "2022-05-16T13:50:44.550352Z",
     "start_time": "2022-05-16T13:50:44.544572Z"
    },
    "scrolled": false
   },
   "outputs": [],
   "source": [
    "figure_two = sg.SVGFigure(Unit(900), Unit(480))\n",
    "\n",
    "figure_two.append(\n",
    "    [\n",
    "        etree.Element(\"rect\", {\"width\": \"100%\", \"height\": \"100%\", \"fill\": \"white\"}),\n",
    "        panel_one,\n",
    "        panel_one_label,\n",
    "    ]\n",
    ")\n",
    "# display(SVG(figure_two.to_str()))"
   ]
  },
  {
   "cell_type": "code",
   "execution_count": 17,
   "metadata": {
    "ExecuteTime": {
     "end_time": "2022-05-16T13:50:46.250696Z",
     "start_time": "2022-05-16T13:50:45.874300Z"
    }
   },
   "outputs": [],
   "source": [
    "# save generated SVG files\n",
    "figure_two.save(\"output/Figure_2.svg\")\n",
    "svg2png(bytestring=figure_two.to_str(), write_to=\"output/Figure_2.png\", dpi=600)"
   ]
  },
  {
   "cell_type": "code",
   "execution_count": 18,
   "metadata": {
    "ExecuteTime": {
     "end_time": "2022-05-16T13:50:46.758239Z",
     "start_time": "2022-05-16T13:50:46.714809Z"
    }
   },
   "outputs": [
    {
     "data": {
      "text/plain": [
       "0"
      ]
     },
     "execution_count": 18,
     "metadata": {},
     "output_type": "execute_result"
    }
   ],
   "source": [
    "os.system(\n",
    "    \"convert -compress LZW -alpha remove output/Figure_2.png output/Figure_2.tiff\"\n",
    ")\n",
    "os.system(\"mogrify -alpha off output/Figure_2.tiff\")"
   ]
  },
  {
   "cell_type": "markdown",
   "metadata": {},
   "source": [
    "## Figure 3"
   ]
  },
  {
   "cell_type": "markdown",
   "metadata": {},
   "source": [
    "Use this metric through the SCAF approach to detect the specific timepoint at which a word has undergone a drastic shift.\n",
    "Idea here is to provide rational that my correction method actually improves detection\n",
    "1. Panel A - Time point example for lung cancer\n",
    "2. Panel B - show wordcloud for this case study and let the users see the shift in semantics\n",
    "3. Could also think about providing the word pandemic or coronavirus as a positive control for this case"
   ]
  },
  {
   "cell_type": "code",
   "execution_count": 19,
   "metadata": {
    "ExecuteTime": {
     "end_time": "2022-05-16T13:54:46.014259Z",
     "start_time": "2022-05-16T13:54:46.008455Z"
    }
   },
   "outputs": [],
   "source": [
    "neighbor_table_path = Path(\n",
    "    \"../multi_model_revamp/output/figure_data_and_figures/neighbor_tables\"\n",
    ")"
   ]
  },
  {
   "cell_type": "code",
   "execution_count": 24,
   "metadata": {
    "ExecuteTime": {
     "end_time": "2022-05-16T13:56:46.627973Z",
     "start_time": "2022-05-16T13:56:46.526983Z"
    },
    "scrolled": false
   },
   "outputs": [
    {
     "name": "stdout",
     "output_type": "stream",
     "text": [
      "pandemic_neighbors\n"
     ]
    },
    {
     "data": {
      "text/html": [
       "<div>\n",
       "<style scoped>\n",
       "    .dataframe tbody tr th:only-of-type {\n",
       "        vertical-align: middle;\n",
       "    }\n",
       "\n",
       "    .dataframe tbody tr th {\n",
       "        vertical-align: top;\n",
       "    }\n",
       "\n",
       "    .dataframe thead th {\n",
       "        text-align: right;\n",
       "    }\n",
       "</style>\n",
       "<table border=\"1\" class=\"dataframe\">\n",
       "  <thead>\n",
       "    <tr style=\"text-align: right;\">\n",
       "      <th></th>\n",
       "      <th>0</th>\n",
       "      <th>1</th>\n",
       "      <th>2</th>\n",
       "      <th>3</th>\n",
       "      <th>4</th>\n",
       "      <th>5</th>\n",
       "      <th>6</th>\n",
       "      <th>7</th>\n",
       "      <th>8</th>\n",
       "      <th>9</th>\n",
       "    </tr>\n",
       "  </thead>\n",
       "  <tbody>\n",
       "    <tr>\n",
       "      <th>2000</th>\n",
       "      <td>epidemic</td>\n",
       "      <td>epizootic</td>\n",
       "      <td>influenza b virus (species_11520)</td>\n",
       "      <td>h3n2 subtype (species_119210)</td>\n",
       "      <td>1918</td>\n",
       "      <td>zoonosis</td>\n",
       "      <td>h1n1 subtype (species_114727)</td>\n",
       "      <td>japanese encephalitis virus (species_11072)</td>\n",
       "      <td>outbreak</td>\n",
       "      <td>poliomyelitis (mesh_d011051)</td>\n",
       "    </tr>\n",
       "    <tr>\n",
       "      <th>2001</th>\n",
       "      <td>epidemic</td>\n",
       "      <td>poliomyelitis (mesh_d011051)</td>\n",
       "      <td>variola virus (species_10255)</td>\n",
       "      <td>influenza a virus (species_11320)</td>\n",
       "      <td>plague</td>\n",
       "      <td>epizootic</td>\n",
       "      <td>h3n2 subtype (species_119210)</td>\n",
       "      <td>polio</td>\n",
       "      <td>1918</td>\n",
       "      <td>encephalitis, arbovirus (mesh_d004671)</td>\n",
       "    </tr>\n",
       "    <tr>\n",
       "      <th>2002</th>\n",
       "      <td>epidemic</td>\n",
       "      <td>variola virus (species_10255)</td>\n",
       "      <td>1918</td>\n",
       "      <td>h5n1 subtype (species_102793)</td>\n",
       "      <td>epizootic</td>\n",
       "      <td>resurgence</td>\n",
       "      <td>influenza a virus (species_11320)</td>\n",
       "      <td>plague</td>\n",
       "      <td>flavivirus</td>\n",
       "      <td>h1n1 subtype (species_114727)</td>\n",
       "    </tr>\n",
       "    <tr>\n",
       "      <th>2003</th>\n",
       "      <td>epidemic</td>\n",
       "      <td>influenza b virus (species_11520)</td>\n",
       "      <td>h5n1 subtype (species_102793)</td>\n",
       "      <td>1918</td>\n",
       "      <td>reemergence</td>\n",
       "      <td>outbreak</td>\n",
       "      <td>variola</td>\n",
       "      <td>bioterrorism</td>\n",
       "      <td>h3n2 subtype (species_119210)</td>\n",
       "      <td>influenza a virus (species_11320)</td>\n",
       "    </tr>\n",
       "    <tr>\n",
       "      <th>2004</th>\n",
       "      <td>epidemic</td>\n",
       "      <td>1918</td>\n",
       "      <td>variola virus (species_10255)</td>\n",
       "      <td>influenza a virus (a/wsn/1933(h1n1)) (species_...</td>\n",
       "      <td>h5n1 subtype (species_102793)</td>\n",
       "      <td>reemergence</td>\n",
       "      <td>outbreak</td>\n",
       "      <td>unidentified influenza virus (species_11309)</td>\n",
       "      <td>influenza a virus (species_11320)</td>\n",
       "      <td>plague</td>\n",
       "    </tr>\n",
       "    <tr>\n",
       "      <th>2005</th>\n",
       "      <td>epidemic</td>\n",
       "      <td>flu</td>\n",
       "      <td>variola virus (species_10255)</td>\n",
       "      <td>outbreak</td>\n",
       "      <td>unidentified influenza virus (species_11309)</td>\n",
       "      <td>bioterrorism</td>\n",
       "      <td>h5n1 subtype (species_102793)</td>\n",
       "      <td>1918</td>\n",
       "      <td>influenza a virus (species_11320)</td>\n",
       "      <td>influenza</td>\n",
       "    </tr>\n",
       "    <tr>\n",
       "      <th>2006</th>\n",
       "      <td>epidemic</td>\n",
       "      <td>outbreak</td>\n",
       "      <td>influenza a virus (species_11320)</td>\n",
       "      <td>unidentified influenza virus (species_11309)</td>\n",
       "      <td>SARS1 (gene_6301)</td>\n",
       "      <td>disaster</td>\n",
       "      <td>influenza</td>\n",
       "      <td>1918</td>\n",
       "      <td>flu</td>\n",
       "      <td>variola virus (species_10255)</td>\n",
       "    </tr>\n",
       "    <tr>\n",
       "      <th>2007</th>\n",
       "      <td>epidemic</td>\n",
       "      <td>outbreak</td>\n",
       "      <td>influenza</td>\n",
       "      <td>bioterrorism</td>\n",
       "      <td>influenza a virus (species_11320)</td>\n",
       "      <td>h5n1 subtype (species_102793)</td>\n",
       "      <td>severe acute respiratory syndrome (mesh_d045169)</td>\n",
       "      <td>unidentified influenza virus (species_11309)</td>\n",
       "      <td>disaster</td>\n",
       "      <td>flu</td>\n",
       "    </tr>\n",
       "    <tr>\n",
       "      <th>2008</th>\n",
       "      <td>epidemic</td>\n",
       "      <td>outbreak</td>\n",
       "      <td>influenza</td>\n",
       "      <td>variola virus (species_10255)</td>\n",
       "      <td>disaster</td>\n",
       "      <td>severe acute respiratory syndrome (mesh_d045169)</td>\n",
       "      <td>influenza a virus (species_11320)</td>\n",
       "      <td>unidentified influenza virus (species_11309)</td>\n",
       "      <td>bioterrorism</td>\n",
       "      <td>1918</td>\n",
       "    </tr>\n",
       "    <tr>\n",
       "      <th>2009</th>\n",
       "      <td>epidemic</td>\n",
       "      <td>outbreak</td>\n",
       "      <td>influenza</td>\n",
       "      <td>h1n1 subtype (species_114727)</td>\n",
       "      <td>influenza a virus (species_11320)</td>\n",
       "      <td>unidentified influenza virus (species_11309)</td>\n",
       "      <td>severe acute respiratory syndrome (mesh_d045169)</td>\n",
       "      <td>disaster</td>\n",
       "      <td>influenza, human (mesh_d007251)</td>\n",
       "      <td>variola virus (species_10255)</td>\n",
       "    </tr>\n",
       "    <tr>\n",
       "      <th>2010</th>\n",
       "      <td>epidemic</td>\n",
       "      <td>h1n1 subtype (species_114727)</td>\n",
       "      <td>influenza</td>\n",
       "      <td>outbreak</td>\n",
       "      <td>influenza a virus (species_11320)</td>\n",
       "      <td>unidentified influenza virus (species_11309)</td>\n",
       "      <td>ph1n1</td>\n",
       "      <td>severe acute respiratory syndrome (mesh_d045169)</td>\n",
       "      <td>influenza, human (mesh_d007251)</td>\n",
       "      <td>flu</td>\n",
       "    </tr>\n",
       "    <tr>\n",
       "      <th>2011</th>\n",
       "      <td>ph1n1</td>\n",
       "      <td>epidemic</td>\n",
       "      <td>h1n1 subtype (species_114727)</td>\n",
       "      <td>influenza</td>\n",
       "      <td>outbreak</td>\n",
       "      <td>influenza a virus h3n2 (species_41857)</td>\n",
       "      <td>influenza a virus (species_11320)</td>\n",
       "      <td>unidentified influenza virus (species_11309)</td>\n",
       "      <td>influenza a virus (h1n1) (species_1323429)</td>\n",
       "      <td>influenza, human (mesh_d007251)</td>\n",
       "    </tr>\n",
       "    <tr>\n",
       "      <th>2012</th>\n",
       "      <td>epidemic</td>\n",
       "      <td>h1n1 subtype (species_114727)</td>\n",
       "      <td>influenza</td>\n",
       "      <td>outbreak</td>\n",
       "      <td>ph1n1</td>\n",
       "      <td>unidentified influenza virus (species_11309)</td>\n",
       "      <td>influenza a virus h3n2 (species_41857)</td>\n",
       "      <td>influenza a virus (species_11320)</td>\n",
       "      <td>influenza, human (mesh_d007251)</td>\n",
       "      <td>severe acute respiratory syndrome (mesh_d045169)</td>\n",
       "    </tr>\n",
       "    <tr>\n",
       "      <th>2013</th>\n",
       "      <td>epidemic</td>\n",
       "      <td>h1n1 subtype (species_114727)</td>\n",
       "      <td>outbreak</td>\n",
       "      <td>influenza</td>\n",
       "      <td>ph1n1</td>\n",
       "      <td>unidentified influenza virus (species_11309)</td>\n",
       "      <td>influenza, human (mesh_d007251)</td>\n",
       "      <td>influenza a virus (h1n1) (species_1323429)</td>\n",
       "      <td>influenza a virus (species_11320)</td>\n",
       "      <td>severe acute respiratory syndrome (mesh_d045169)</td>\n",
       "    </tr>\n",
       "    <tr>\n",
       "      <th>2014</th>\n",
       "      <td>epidemic</td>\n",
       "      <td>outbreak</td>\n",
       "      <td>h1n1 subtype (species_114727)</td>\n",
       "      <td>influenza a virus (h1n1) (species_1323429)</td>\n",
       "      <td>epizootic</td>\n",
       "      <td>ph1n1</td>\n",
       "      <td>influenza a virus (species_11320)</td>\n",
       "      <td>a(h7n9</td>\n",
       "      <td>severe acute respiratory syndrome (mesh_d045169)</td>\n",
       "      <td>influenza</td>\n",
       "    </tr>\n",
       "    <tr>\n",
       "      <th>2015</th>\n",
       "      <td>epidemic</td>\n",
       "      <td>outbreak</td>\n",
       "      <td>h1n1 subtype (species_114727)</td>\n",
       "      <td>influenza a virus (species_11320)</td>\n",
       "      <td>severe acute respiratory syndrome (mesh_d045169)</td>\n",
       "      <td>influenza, human (mesh_d007251)</td>\n",
       "      <td>influenza</td>\n",
       "      <td>unidentified influenza virus (species_11309)</td>\n",
       "      <td>h7n9 subtype (species_333278)</td>\n",
       "      <td>influenza a virus h3n2 (species_41857)</td>\n",
       "    </tr>\n",
       "    <tr>\n",
       "      <th>2016</th>\n",
       "      <td>epidemic</td>\n",
       "      <td>outbreak</td>\n",
       "      <td>h1n1 subtype (species_114727)</td>\n",
       "      <td>severe acute respiratory syndrome (mesh_d045169)</td>\n",
       "      <td>ph1n1</td>\n",
       "      <td>epizootic</td>\n",
       "      <td>h7n9</td>\n",
       "      <td>h7n9 subtype (species_333278)</td>\n",
       "      <td>hpai</td>\n",
       "      <td>influenza a virus h3n2 (species_41857)</td>\n",
       "    </tr>\n",
       "    <tr>\n",
       "      <th>2017</th>\n",
       "      <td>epidemic</td>\n",
       "      <td>outbreak</td>\n",
       "      <td>influenza a virus (species_11320)</td>\n",
       "      <td>ah1n1</td>\n",
       "      <td>h7n9</td>\n",
       "      <td>epizootic</td>\n",
       "      <td>h1n1 subtype (species_114727)</td>\n",
       "      <td>h7n9 subtype (species_333278)</td>\n",
       "      <td>unidentified influenza virus (species_11309)</td>\n",
       "      <td>influenza, human (mesh_d007251)</td>\n",
       "    </tr>\n",
       "    <tr>\n",
       "      <th>2018</th>\n",
       "      <td>epidemic</td>\n",
       "      <td>outbreak</td>\n",
       "      <td>influenza</td>\n",
       "      <td>h1n1 subtype (species_114727)</td>\n",
       "      <td>epizootic</td>\n",
       "      <td>influenza a virus (species_11320)</td>\n",
       "      <td>1918</td>\n",
       "      <td>h7n9 subtype (species_333278)</td>\n",
       "      <td>ph1n1</td>\n",
       "      <td>influenza, human (mesh_d007251)</td>\n",
       "    </tr>\n",
       "    <tr>\n",
       "      <th>2019</th>\n",
       "      <td>epidemic</td>\n",
       "      <td>outbreak</td>\n",
       "      <td>h1n1 subtype (species_114727)</td>\n",
       "      <td>epizootic</td>\n",
       "      <td>hpai</td>\n",
       "      <td>orthomyxoviridae (species_11308)</td>\n",
       "      <td>h7n9 subtype (species_333278)</td>\n",
       "      <td>influenza a virus (species_11320)</td>\n",
       "      <td>coronavirus infections (mesh_d018352)</td>\n",
       "      <td>influenza b virus (species_11520)</td>\n",
       "    </tr>\n",
       "    <tr>\n",
       "      <th>2020</th>\n",
       "      <td>crisis</td>\n",
       "      <td>epidemic</td>\n",
       "      <td>outbreak</td>\n",
       "      <td>lockdown</td>\n",
       "      <td>mesh_c000657245</td>\n",
       "      <td>surge</td>\n",
       "      <td>disaster</td>\n",
       "      <td>quarantine</td>\n",
       "      <td>government</td>\n",
       "      <td>emergency</td>\n",
       "    </tr>\n",
       "    <tr>\n",
       "      <th>2021</th>\n",
       "      <td>crisis</td>\n",
       "      <td>lockdown</td>\n",
       "      <td>epidemic</td>\n",
       "      <td>outbreak</td>\n",
       "      <td>mesh_c000657245</td>\n",
       "      <td>surge</td>\n",
       "      <td>quarantine</td>\n",
       "      <td>disaster</td>\n",
       "      <td>government</td>\n",
       "      <td>shutdown</td>\n",
       "    </tr>\n",
       "  </tbody>\n",
       "</table>\n",
       "</div>"
      ],
      "text/plain": [
       "             0                                  1  \\\n",
       "2000  epidemic                          epizootic   \n",
       "2001  epidemic       poliomyelitis (mesh_d011051)   \n",
       "2002  epidemic      variola virus (species_10255)   \n",
       "2003  epidemic  influenza b virus (species_11520)   \n",
       "2004  epidemic                               1918   \n",
       "2005  epidemic                                flu   \n",
       "2006  epidemic                           outbreak   \n",
       "2007  epidemic                           outbreak   \n",
       "2008  epidemic                           outbreak   \n",
       "2009  epidemic                           outbreak   \n",
       "2010  epidemic      h1n1 subtype (species_114727)   \n",
       "2011     ph1n1                           epidemic   \n",
       "2012  epidemic      h1n1 subtype (species_114727)   \n",
       "2013  epidemic      h1n1 subtype (species_114727)   \n",
       "2014  epidemic                           outbreak   \n",
       "2015  epidemic                           outbreak   \n",
       "2016  epidemic                           outbreak   \n",
       "2017  epidemic                           outbreak   \n",
       "2018  epidemic                           outbreak   \n",
       "2019  epidemic                           outbreak   \n",
       "2020    crisis                           epidemic   \n",
       "2021    crisis                           lockdown   \n",
       "\n",
       "                                      2  \\\n",
       "2000  influenza b virus (species_11520)   \n",
       "2001      variola virus (species_10255)   \n",
       "2002                               1918   \n",
       "2003      h5n1 subtype (species_102793)   \n",
       "2004      variola virus (species_10255)   \n",
       "2005      variola virus (species_10255)   \n",
       "2006  influenza a virus (species_11320)   \n",
       "2007                          influenza   \n",
       "2008                          influenza   \n",
       "2009                          influenza   \n",
       "2010                          influenza   \n",
       "2011      h1n1 subtype (species_114727)   \n",
       "2012                          influenza   \n",
       "2013                           outbreak   \n",
       "2014      h1n1 subtype (species_114727)   \n",
       "2015      h1n1 subtype (species_114727)   \n",
       "2016      h1n1 subtype (species_114727)   \n",
       "2017  influenza a virus (species_11320)   \n",
       "2018                          influenza   \n",
       "2019      h1n1 subtype (species_114727)   \n",
       "2020                           outbreak   \n",
       "2021                           epidemic   \n",
       "\n",
       "                                                      3  \\\n",
       "2000                      h3n2 subtype (species_119210)   \n",
       "2001                  influenza a virus (species_11320)   \n",
       "2002                      h5n1 subtype (species_102793)   \n",
       "2003                                               1918   \n",
       "2004  influenza a virus (a/wsn/1933(h1n1)) (species_...   \n",
       "2005                                           outbreak   \n",
       "2006       unidentified influenza virus (species_11309)   \n",
       "2007                                       bioterrorism   \n",
       "2008                      variola virus (species_10255)   \n",
       "2009                      h1n1 subtype (species_114727)   \n",
       "2010                                           outbreak   \n",
       "2011                                          influenza   \n",
       "2012                                           outbreak   \n",
       "2013                                          influenza   \n",
       "2014         influenza a virus (h1n1) (species_1323429)   \n",
       "2015                  influenza a virus (species_11320)   \n",
       "2016   severe acute respiratory syndrome (mesh_d045169)   \n",
       "2017                                              ah1n1   \n",
       "2018                      h1n1 subtype (species_114727)   \n",
       "2019                                          epizootic   \n",
       "2020                                           lockdown   \n",
       "2021                                           outbreak   \n",
       "\n",
       "                                                     4  \\\n",
       "2000                                              1918   \n",
       "2001                                            plague   \n",
       "2002                                         epizootic   \n",
       "2003                                       reemergence   \n",
       "2004                     h5n1 subtype (species_102793)   \n",
       "2005      unidentified influenza virus (species_11309)   \n",
       "2006                                 SARS1 (gene_6301)   \n",
       "2007                 influenza a virus (species_11320)   \n",
       "2008                                          disaster   \n",
       "2009                 influenza a virus (species_11320)   \n",
       "2010                 influenza a virus (species_11320)   \n",
       "2011                                          outbreak   \n",
       "2012                                             ph1n1   \n",
       "2013                                             ph1n1   \n",
       "2014                                         epizootic   \n",
       "2015  severe acute respiratory syndrome (mesh_d045169)   \n",
       "2016                                             ph1n1   \n",
       "2017                                              h7n9   \n",
       "2018                                         epizootic   \n",
       "2019                                              hpai   \n",
       "2020                                   mesh_c000657245   \n",
       "2021                                   mesh_c000657245   \n",
       "\n",
       "                                                     5  \\\n",
       "2000                                          zoonosis   \n",
       "2001                                         epizootic   \n",
       "2002                                        resurgence   \n",
       "2003                                          outbreak   \n",
       "2004                                       reemergence   \n",
       "2005                                      bioterrorism   \n",
       "2006                                          disaster   \n",
       "2007                     h5n1 subtype (species_102793)   \n",
       "2008  severe acute respiratory syndrome (mesh_d045169)   \n",
       "2009      unidentified influenza virus (species_11309)   \n",
       "2010      unidentified influenza virus (species_11309)   \n",
       "2011            influenza a virus h3n2 (species_41857)   \n",
       "2012      unidentified influenza virus (species_11309)   \n",
       "2013      unidentified influenza virus (species_11309)   \n",
       "2014                                             ph1n1   \n",
       "2015                   influenza, human (mesh_d007251)   \n",
       "2016                                         epizootic   \n",
       "2017                                         epizootic   \n",
       "2018                 influenza a virus (species_11320)   \n",
       "2019                  orthomyxoviridae (species_11308)   \n",
       "2020                                             surge   \n",
       "2021                                             surge   \n",
       "\n",
       "                                                     6  \\\n",
       "2000                     h1n1 subtype (species_114727)   \n",
       "2001                     h3n2 subtype (species_119210)   \n",
       "2002                 influenza a virus (species_11320)   \n",
       "2003                                           variola   \n",
       "2004                                          outbreak   \n",
       "2005                     h5n1 subtype (species_102793)   \n",
       "2006                                         influenza   \n",
       "2007  severe acute respiratory syndrome (mesh_d045169)   \n",
       "2008                 influenza a virus (species_11320)   \n",
       "2009  severe acute respiratory syndrome (mesh_d045169)   \n",
       "2010                                             ph1n1   \n",
       "2011                 influenza a virus (species_11320)   \n",
       "2012            influenza a virus h3n2 (species_41857)   \n",
       "2013                   influenza, human (mesh_d007251)   \n",
       "2014                 influenza a virus (species_11320)   \n",
       "2015                                         influenza   \n",
       "2016                                              h7n9   \n",
       "2017                     h1n1 subtype (species_114727)   \n",
       "2018                                              1918   \n",
       "2019                     h7n9 subtype (species_333278)   \n",
       "2020                                          disaster   \n",
       "2021                                        quarantine   \n",
       "\n",
       "                                                     7  \\\n",
       "2000       japanese encephalitis virus (species_11072)   \n",
       "2001                                             polio   \n",
       "2002                                            plague   \n",
       "2003                                      bioterrorism   \n",
       "2004      unidentified influenza virus (species_11309)   \n",
       "2005                                              1918   \n",
       "2006                                              1918   \n",
       "2007      unidentified influenza virus (species_11309)   \n",
       "2008      unidentified influenza virus (species_11309)   \n",
       "2009                                          disaster   \n",
       "2010  severe acute respiratory syndrome (mesh_d045169)   \n",
       "2011      unidentified influenza virus (species_11309)   \n",
       "2012                 influenza a virus (species_11320)   \n",
       "2013        influenza a virus (h1n1) (species_1323429)   \n",
       "2014                                            a(h7n9   \n",
       "2015      unidentified influenza virus (species_11309)   \n",
       "2016                     h7n9 subtype (species_333278)   \n",
       "2017                     h7n9 subtype (species_333278)   \n",
       "2018                     h7n9 subtype (species_333278)   \n",
       "2019                 influenza a virus (species_11320)   \n",
       "2020                                        quarantine   \n",
       "2021                                          disaster   \n",
       "\n",
       "                                                     8  \\\n",
       "2000                                          outbreak   \n",
       "2001                                              1918   \n",
       "2002                                        flavivirus   \n",
       "2003                     h3n2 subtype (species_119210)   \n",
       "2004                 influenza a virus (species_11320)   \n",
       "2005                 influenza a virus (species_11320)   \n",
       "2006                                               flu   \n",
       "2007                                          disaster   \n",
       "2008                                      bioterrorism   \n",
       "2009                   influenza, human (mesh_d007251)   \n",
       "2010                   influenza, human (mesh_d007251)   \n",
       "2011        influenza a virus (h1n1) (species_1323429)   \n",
       "2012                   influenza, human (mesh_d007251)   \n",
       "2013                 influenza a virus (species_11320)   \n",
       "2014  severe acute respiratory syndrome (mesh_d045169)   \n",
       "2015                     h7n9 subtype (species_333278)   \n",
       "2016                                              hpai   \n",
       "2017      unidentified influenza virus (species_11309)   \n",
       "2018                                             ph1n1   \n",
       "2019             coronavirus infections (mesh_d018352)   \n",
       "2020                                        government   \n",
       "2021                                        government   \n",
       "\n",
       "                                                     9  \n",
       "2000                      poliomyelitis (mesh_d011051)  \n",
       "2001            encephalitis, arbovirus (mesh_d004671)  \n",
       "2002                     h1n1 subtype (species_114727)  \n",
       "2003                 influenza a virus (species_11320)  \n",
       "2004                                            plague  \n",
       "2005                                         influenza  \n",
       "2006                     variola virus (species_10255)  \n",
       "2007                                               flu  \n",
       "2008                                              1918  \n",
       "2009                     variola virus (species_10255)  \n",
       "2010                                               flu  \n",
       "2011                   influenza, human (mesh_d007251)  \n",
       "2012  severe acute respiratory syndrome (mesh_d045169)  \n",
       "2013  severe acute respiratory syndrome (mesh_d045169)  \n",
       "2014                                         influenza  \n",
       "2015            influenza a virus h3n2 (species_41857)  \n",
       "2016            influenza a virus h3n2 (species_41857)  \n",
       "2017                   influenza, human (mesh_d007251)  \n",
       "2018                   influenza, human (mesh_d007251)  \n",
       "2019                 influenza b virus (species_11520)  \n",
       "2020                                         emergency  \n",
       "2021                                          shutdown  "
      ]
     },
     "metadata": {},
     "output_type": "display_data"
    },
    {
     "name": "stdout",
     "output_type": "stream",
     "text": [
      "\n",
      "medrxiv_neighbors\n"
     ]
    },
    {
     "data": {
      "text/html": [
       "<div>\n",
       "<style scoped>\n",
       "    .dataframe tbody tr th:only-of-type {\n",
       "        vertical-align: middle;\n",
       "    }\n",
       "\n",
       "    .dataframe tbody tr th {\n",
       "        vertical-align: top;\n",
       "    }\n",
       "\n",
       "    .dataframe thead th {\n",
       "        text-align: right;\n",
       "    }\n",
       "</style>\n",
       "<table border=\"1\" class=\"dataframe\">\n",
       "  <thead>\n",
       "    <tr style=\"text-align: right;\">\n",
       "      <th></th>\n",
       "      <th>0</th>\n",
       "      <th>1</th>\n",
       "      <th>2</th>\n",
       "      <th>3</th>\n",
       "      <th>4</th>\n",
       "      <th>5</th>\n",
       "      <th>6</th>\n",
       "      <th>7</th>\n",
       "      <th>8</th>\n",
       "      <th>9</th>\n",
       "    </tr>\n",
       "  </thead>\n",
       "  <tbody>\n",
       "    <tr>\n",
       "      <th>2018</th>\n",
       "      <td>preprint</td>\n",
       "      <td>biorxiv</td>\n",
       "      <td>hackathon</td>\n",
       "      <td>ajhp</td>\n",
       "      <td>directorship</td>\n",
       "      <td>tuveson</td>\n",
       "      <td>agbiodata</td>\n",
       "      <td>hhmi</td>\n",
       "      <td>defunct</td>\n",
       "      <td>foldit</td>\n",
       "    </tr>\n",
       "    <tr>\n",
       "      <th>2019</th>\n",
       "      <td>informatics</td>\n",
       "      <td>guardant</td>\n",
       "      <td>arxiv</td>\n",
       "      <td>allina</td>\n",
       "      <td>avalere</td>\n",
       "      <td>f1000research</td>\n",
       "      <td>f1000</td>\n",
       "      <td>uconn</td>\n",
       "      <td>elsevi</td>\n",
       "      <td>omada</td>\n",
       "    </tr>\n",
       "    <tr>\n",
       "      <th>2020</th>\n",
       "      <td>biorxiv</td>\n",
       "      <td>medrxiv.org</td>\n",
       "      <td>preprint</td>\n",
       "      <td>arxiv</td>\n",
       "      <td>chemrxiv</td>\n",
       "      <td>biorxiv.org</td>\n",
       "      <td>https://www.medrxiv.org/</td>\n",
       "      <td>chinaxiv</td>\n",
       "      <td>researchgate</td>\n",
       "      <td>litcovid</td>\n",
       "    </tr>\n",
       "    <tr>\n",
       "      <th>2021</th>\n",
       "      <td>biorxiv</td>\n",
       "      <td>arxiv</td>\n",
       "      <td>preprint</td>\n",
       "      <td>medrxiv.org</td>\n",
       "      <td>litcovid</td>\n",
       "      <td>psyarxiv</td>\n",
       "      <td>chemrxiv</td>\n",
       "      <td>ssrn</td>\n",
       "      <td>biorxiv.org</td>\n",
       "      <td>https://www.medrxiv.org/</td>\n",
       "    </tr>\n",
       "  </tbody>\n",
       "</table>\n",
       "</div>"
      ],
      "text/plain": [
       "                0            1          2            3             4  \\\n",
       "2018     preprint      biorxiv  hackathon         ajhp  directorship   \n",
       "2019  informatics     guardant      arxiv       allina       avalere   \n",
       "2020      biorxiv  medrxiv.org   preprint        arxiv      chemrxiv   \n",
       "2021      biorxiv        arxiv   preprint  medrxiv.org      litcovid   \n",
       "\n",
       "                  5                         6         7             8  \\\n",
       "2018        tuveson                 agbiodata      hhmi       defunct   \n",
       "2019  f1000research                     f1000     uconn        elsevi   \n",
       "2020    biorxiv.org  https://www.medrxiv.org/  chinaxiv  researchgate   \n",
       "2021       psyarxiv                  chemrxiv      ssrn   biorxiv.org   \n",
       "\n",
       "                             9  \n",
       "2018                    foldit  \n",
       "2019                     omada  \n",
       "2020                  litcovid  \n",
       "2021  https://www.medrxiv.org/  "
      ]
     },
     "metadata": {},
     "output_type": "display_data"
    },
    {
     "name": "stdout",
     "output_type": "stream",
     "text": [
      "\n",
      "cas9_neighbors\n"
     ]
    },
    {
     "data": {
      "text/html": [
       "<div>\n",
       "<style scoped>\n",
       "    .dataframe tbody tr th:only-of-type {\n",
       "        vertical-align: middle;\n",
       "    }\n",
       "\n",
       "    .dataframe tbody tr th {\n",
       "        vertical-align: top;\n",
       "    }\n",
       "\n",
       "    .dataframe thead th {\n",
       "        text-align: right;\n",
       "    }\n",
       "</style>\n",
       "<table border=\"1\" class=\"dataframe\">\n",
       "  <thead>\n",
       "    <tr style=\"text-align: right;\">\n",
       "      <th></th>\n",
       "      <th>0</th>\n",
       "      <th>1</th>\n",
       "      <th>2</th>\n",
       "      <th>3</th>\n",
       "      <th>4</th>\n",
       "      <th>5</th>\n",
       "      <th>6</th>\n",
       "      <th>7</th>\n",
       "      <th>8</th>\n",
       "      <th>9</th>\n",
       "    </tr>\n",
       "  </thead>\n",
       "  <tbody>\n",
       "    <tr>\n",
       "      <th>2011</th>\n",
       "      <td>cas2</td>\n",
       "      <td>crispr3</td>\n",
       "      <td>cas3</td>\n",
       "      <td>cas1</td>\n",
       "      <td>cse3</td>\n",
       "      <td>cas4</td>\n",
       "      <td>csn1</td>\n",
       "      <td>crispr1</td>\n",
       "      <td>csn2</td>\n",
       "      <td>crispr</td>\n",
       "    </tr>\n",
       "    <tr>\n",
       "      <th>2012</th>\n",
       "      <td>cas2</td>\n",
       "      <td>crispr1</td>\n",
       "      <td>cas3</td>\n",
       "      <td>cas1</td>\n",
       "      <td>cas10</td>\n",
       "      <td>crispr3</td>\n",
       "      <td>tracrrna</td>\n",
       "      <td>crispr</td>\n",
       "      <td>csn1</td>\n",
       "      <td>crispr4</td>\n",
       "    </tr>\n",
       "    <tr>\n",
       "      <th>2013</th>\n",
       "      <td>sgrna</td>\n",
       "      <td>talen</td>\n",
       "      <td>spcas9</td>\n",
       "      <td>zfns</td>\n",
       "      <td>grna</td>\n",
       "      <td>zfn</td>\n",
       "      <td>dcas9</td>\n",
       "      <td>nickase</td>\n",
       "      <td>pcocas9</td>\n",
       "      <td>crispr</td>\n",
       "    </tr>\n",
       "    <tr>\n",
       "      <th>2014</th>\n",
       "      <td>talen</td>\n",
       "      <td>sgrna</td>\n",
       "      <td>grna</td>\n",
       "      <td>zfn</td>\n",
       "      <td>dcas9</td>\n",
       "      <td>zfns</td>\n",
       "      <td>crispr</td>\n",
       "      <td>rgen</td>\n",
       "      <td>grnas</td>\n",
       "      <td>sgrnas</td>\n",
       "    </tr>\n",
       "    <tr>\n",
       "      <th>2015</th>\n",
       "      <td>talen</td>\n",
       "      <td>sgrna</td>\n",
       "      <td>zfn</td>\n",
       "      <td>zfns</td>\n",
       "      <td>grna</td>\n",
       "      <td>crispr</td>\n",
       "      <td>spcas9</td>\n",
       "      <td>dcas9</td>\n",
       "      <td>cas9n</td>\n",
       "      <td>sgrnas</td>\n",
       "    </tr>\n",
       "    <tr>\n",
       "      <th>2016</th>\n",
       "      <td>crispr</td>\n",
       "      <td>talen</td>\n",
       "      <td>sgrna</td>\n",
       "      <td>grna</td>\n",
       "      <td>zfn</td>\n",
       "      <td>cripsr</td>\n",
       "      <td>sacas9</td>\n",
       "      <td>spcas9</td>\n",
       "      <td>zfns</td>\n",
       "      <td>Cnbd2 (gene_70873)</td>\n",
       "    </tr>\n",
       "    <tr>\n",
       "      <th>2017</th>\n",
       "      <td>spcas9</td>\n",
       "      <td>crispr</td>\n",
       "      <td>sacas9</td>\n",
       "      <td>talen</td>\n",
       "      <td>sgrna</td>\n",
       "      <td>grna</td>\n",
       "      <td>Cnbd2 (gene_70873)</td>\n",
       "      <td>gene_46806597</td>\n",
       "      <td>cas9n</td>\n",
       "      <td>cripsr</td>\n",
       "    </tr>\n",
       "    <tr>\n",
       "      <th>2018</th>\n",
       "      <td>crispr</td>\n",
       "      <td>sgrna</td>\n",
       "      <td>grna</td>\n",
       "      <td>talen</td>\n",
       "      <td>gene_46806597</td>\n",
       "      <td>cripsr</td>\n",
       "      <td>spcas9</td>\n",
       "      <td>cas9n</td>\n",
       "      <td>Cnbd2 (gene_70873)</td>\n",
       "      <td>zfn</td>\n",
       "    </tr>\n",
       "    <tr>\n",
       "      <th>2019</th>\n",
       "      <td>gene_46806597</td>\n",
       "      <td>crispr</td>\n",
       "      <td>cripsr</td>\n",
       "      <td>grna</td>\n",
       "      <td>Cnbd2 (gene_70873)</td>\n",
       "      <td>cas9n</td>\n",
       "      <td>sgrna</td>\n",
       "      <td>zfn</td>\n",
       "      <td>talen</td>\n",
       "      <td>sacas9</td>\n",
       "    </tr>\n",
       "    <tr>\n",
       "      <th>2020</th>\n",
       "      <td>gene_46806597</td>\n",
       "      <td>crispr</td>\n",
       "      <td>gene_52200466</td>\n",
       "      <td>Cnbd2 (gene_70873)</td>\n",
       "      <td>grna</td>\n",
       "      <td>cripsr</td>\n",
       "      <td>zfn</td>\n",
       "      <td>sgrna</td>\n",
       "      <td>cas-9</td>\n",
       "      <td>talen</td>\n",
       "    </tr>\n",
       "    <tr>\n",
       "      <th>2021</th>\n",
       "      <td>gene_46806597</td>\n",
       "      <td>Cnbd2 (gene_70873)</td>\n",
       "      <td>crispr</td>\n",
       "      <td>cripsr</td>\n",
       "      <td>cas-9</td>\n",
       "      <td>cas9n</td>\n",
       "      <td>gene_52200466</td>\n",
       "      <td>grna</td>\n",
       "      <td>spcas9</td>\n",
       "      <td>cas9-</td>\n",
       "    </tr>\n",
       "  </tbody>\n",
       "</table>\n",
       "</div>"
      ],
      "text/plain": [
       "                  0                   1              2                   3  \\\n",
       "2011           cas2             crispr3           cas3                cas1   \n",
       "2012           cas2             crispr1           cas3                cas1   \n",
       "2013          sgrna               talen         spcas9                zfns   \n",
       "2014          talen               sgrna           grna                 zfn   \n",
       "2015          talen               sgrna            zfn                zfns   \n",
       "2016         crispr               talen          sgrna                grna   \n",
       "2017         spcas9              crispr         sacas9               talen   \n",
       "2018         crispr               sgrna           grna               talen   \n",
       "2019  gene_46806597              crispr         cripsr                grna   \n",
       "2020  gene_46806597              crispr  gene_52200466  Cnbd2 (gene_70873)   \n",
       "2021  gene_46806597  Cnbd2 (gene_70873)         crispr              cripsr   \n",
       "\n",
       "                       4        5                   6              7  \\\n",
       "2011                cse3     cas4                csn1        crispr1   \n",
       "2012               cas10  crispr3            tracrrna         crispr   \n",
       "2013                grna      zfn               dcas9        nickase   \n",
       "2014               dcas9     zfns              crispr           rgen   \n",
       "2015                grna   crispr              spcas9          dcas9   \n",
       "2016                 zfn   cripsr              sacas9         spcas9   \n",
       "2017               sgrna     grna  Cnbd2 (gene_70873)  gene_46806597   \n",
       "2018       gene_46806597   cripsr              spcas9          cas9n   \n",
       "2019  Cnbd2 (gene_70873)    cas9n               sgrna            zfn   \n",
       "2020                grna   cripsr                 zfn          sgrna   \n",
       "2021               cas-9    cas9n       gene_52200466           grna   \n",
       "\n",
       "                       8                   9  \n",
       "2011                csn2              crispr  \n",
       "2012                csn1             crispr4  \n",
       "2013             pcocas9              crispr  \n",
       "2014               grnas              sgrnas  \n",
       "2015               cas9n              sgrnas  \n",
       "2016                zfns  Cnbd2 (gene_70873)  \n",
       "2017               cas9n              cripsr  \n",
       "2018  Cnbd2 (gene_70873)                 zfn  \n",
       "2019               talen              sacas9  \n",
       "2020               cas-9               talen  \n",
       "2021              spcas9               cas9-  "
      ]
     },
     "metadata": {},
     "output_type": "display_data"
    },
    {
     "name": "stdout",
     "output_type": "stream",
     "text": [
      "\n"
     ]
    }
   ],
   "source": [
    "tables_to_show = list(neighbor_table_path.rglob(\"*tsv\"))\n",
    "for table in tables_to_show:\n",
    "    token_table = pd.read_csv(str(table), sep=\"\\t\", index_col=0)\n",
    "    print(table.stem)\n",
    "    display(token_table)\n",
    "    print()"
   ]
  },
  {
   "cell_type": "markdown",
   "metadata": {},
   "source": [
    "## Figure 4 - Website Walkthrough"
   ]
  },
  {
   "cell_type": "code",
   "execution_count": null,
   "metadata": {
    "ExecuteTime": {
     "end_time": "2022-05-14T20:21:34.994537Z",
     "start_time": "2022-05-14T20:21:34.988827Z"
    }
   },
   "outputs": [],
   "source": [
    "website_visualization_path = Path(\"output/website_pieces\")"
   ]
  },
  {
   "cell_type": "code",
   "execution_count": null,
   "metadata": {
    "ExecuteTime": {
     "end_time": "2022-05-14T20:21:35.052874Z",
     "start_time": "2022-05-14T20:21:34.998399Z"
    }
   },
   "outputs": [],
   "source": [
    "panel_one = sg.fromfile(website_visualization_path / \"word-lapse-trajectory.svg\")\n",
    "\n",
    "# Convert pt units to pixel units\n",
    "# Vince's tutorial FTW\n",
    "panel_one_size = (\n",
    "    np.round(float(panel_one.root.attrib[\"width\"][:-2]) * 1.33, 0),\n",
    "    np.round(float(panel_one.root.attrib[\"height\"][:-2]) * 1.33, 0),\n",
    ")\n",
    "\n",
    "scale_x = 1.6\n",
    "scale_y = 1.6\n",
    "\n",
    "print(f\"original: {panel_one_size}\")\n",
    "print(f\"scaled:{(panel_one_size[0]*scale_x,panel_one_size[1]*scale_y)}\")\n",
    "\n",
    "panel_one = panel_one.getroot()\n",
    "panel_one.scale(x=scale_x, y=scale_y)\n",
    "panel_one.moveto(50, 50)"
   ]
  },
  {
   "cell_type": "code",
   "execution_count": null,
   "metadata": {
    "ExecuteTime": {
     "end_time": "2022-05-14T20:27:45.118308Z",
     "start_time": "2022-05-14T20:27:45.063533Z"
    }
   },
   "outputs": [],
   "source": [
    "panel_two = sg.fromfile(website_visualization_path / \"word-lapse-frequency.svg\")\n",
    "\n",
    "panel_two_size = (\n",
    "    np.round(float(panel_two.root.attrib[\"width\"][:-2]) * 1.33, 0),\n",
    "    np.round(float(panel_two.root.attrib[\"height\"][:-2]) * 1.33, 0),\n",
    ")\n",
    "scale_x = 1.6\n",
    "scale_y = 1.6\n",
    "\n",
    "print(f\"original: {panel_two_size}\")\n",
    "print(f\"scaled:{(panel_two_size[0]*scale_x, panel_two_size[1]*scale_y)}\")\n",
    "\n",
    "panel_two = panel_two.getroot()\n",
    "panel_two.scale(x=scale_x, y=scale_y)\n",
    "panel_two.moveto(954, 50)"
   ]
  },
  {
   "cell_type": "code",
   "execution_count": null,
   "metadata": {
    "ExecuteTime": {
     "end_time": "2022-05-14T20:21:35.059583Z",
     "start_time": "2022-05-14T20:21:34.983Z"
    }
   },
   "outputs": [],
   "source": [
    "panel_three = sg.fromfile(website_visualization_path / \"word-lapse-neighbors.svg\")\n",
    "\n",
    "panel_three_size = (\n",
    "    np.round(float(panel_three.root.attrib[\"width\"][:-2]) * 1.33, 0),\n",
    "    np.round(float(panel_three.root.attrib[\"height\"][:-2]) * 1.33, 0),\n",
    ")\n",
    "scale_x = 1.6\n",
    "scale_y = 1.6\n",
    "\n",
    "print(f\"original: {panel_three_size}\")\n",
    "print(f\"scaled:{(panel_three_size[0]*scale_x, panel_three_size[1]*scale_y)}\")\n",
    "\n",
    "panel_three = panel_three.getroot()\n",
    "panel_three.scale(x=scale_x, y=scale_y)\n",
    "panel_three.moveto(50, 631)"
   ]
  },
  {
   "cell_type": "code",
   "execution_count": null,
   "metadata": {
    "ExecuteTime": {
     "end_time": "2022-05-14T20:21:35.060309Z",
     "start_time": "2022-05-14T20:21:34.988Z"
    }
   },
   "outputs": [],
   "source": [
    "panel_one_label = sg.TextElement(30, 30, \"A\", size=30, weight=\"bold\")\n",
    "panel_two_label = sg.TextElement(954, 30, \"B\", size=30, weight=\"bold\")\n",
    "panel_three_label = sg.TextElement(30, 631, \"C\", size=30, weight=\"bold\")"
   ]
  },
  {
   "cell_type": "code",
   "execution_count": null,
   "metadata": {
    "ExecuteTime": {
     "end_time": "2022-05-14T20:21:35.060919Z",
     "start_time": "2022-05-14T20:21:34.993Z"
    },
    "scrolled": false
   },
   "outputs": [],
   "source": [
    "figure_three = sg.SVGFigure(Unit(1650), Unit(1200))\n",
    "\n",
    "figure_three.append(\n",
    "    [\n",
    "        etree.Element(\"rect\", {\"width\": \"100%\", \"height\": \"100%\", \"fill\": \"white\"}),\n",
    "        panel_one,\n",
    "        panel_two,\n",
    "        panel_three,\n",
    "        panel_one_label,\n",
    "        panel_two_label,\n",
    "        panel_three_label,\n",
    "    ]\n",
    ")\n",
    "# display(SVG(figure_three.to_str()))"
   ]
  },
  {
   "cell_type": "code",
   "execution_count": null,
   "metadata": {
    "ExecuteTime": {
     "end_time": "2022-05-14T20:21:35.061679Z",
     "start_time": "2022-05-14T20:21:34.998Z"
    }
   },
   "outputs": [],
   "source": [
    "# save generated SVG files\n",
    "figure_three.save(\"output/Figure_3.svg\")\n",
    "svg2png(bytestring=figure_three.to_str(), write_to=\"output/Figure_3.png\", dpi=600)"
   ]
  },
  {
   "cell_type": "code",
   "execution_count": null,
   "metadata": {
    "ExecuteTime": {
     "end_time": "2022-05-14T20:10:57.546250Z",
     "start_time": "2022-05-14T20:10:57.373076Z"
    }
   },
   "outputs": [],
   "source": [
    "os.system(\n",
    "    \"convert -compress LZW -alpha remove output/Figure_3.png output/Figure_3.tiff\"\n",
    ")\n",
    "os.system(\"mogrify -alpha off output/Figure_3.tiff\")"
   ]
  }
 ],
 "metadata": {
  "jupytext": {
   "formats": "ipynb,py:light"
  },
  "kernelspec": {
   "display_name": "Python [conda env:biovectors]",
   "language": "python",
   "name": "conda-env-biovectors-py"
  },
  "language_info": {
   "codemirror_mode": {
    "name": "ipython",
    "version": 3
   },
   "file_extension": ".py",
   "mimetype": "text/x-python",
   "name": "python",
   "nbconvert_exporter": "python",
   "pygments_lexer": "ipython3",
   "version": "3.7.2"
  },
  "toc": {
   "base_numbering": 1,
   "nav_menu": {},
   "number_sections": true,
   "sideBar": true,
   "skip_h1_title": false,
   "title_cell": "Table of Contents",
   "title_sidebar": "Contents",
   "toc_cell": false,
   "toc_position": {},
   "toc_section_display": true,
   "toc_window_display": false
  }
 },
 "nbformat": 4,
 "nbformat_minor": 2
}
