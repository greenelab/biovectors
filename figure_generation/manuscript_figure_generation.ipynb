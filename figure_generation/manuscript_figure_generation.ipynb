{
 "cells": [
  {
   "cell_type": "markdown",
   "metadata": {},
   "source": [
    "# Figure Generation for Manuscript"
   ]
  },
  {
   "cell_type": "code",
   "execution_count": null,
   "metadata": {
    "ExecuteTime": {
     "end_time": "2022-05-19T19:43:16.545161Z",
     "start_time": "2022-05-19T19:43:16.058795Z"
    }
   },
   "outputs": [],
   "source": [
    "import os\n",
    "from pathlib import Path\n",
    "from IPython.display import Image, display, SVG\n",
    "\n",
    "from cairosvg import svg2png\n",
    "from lxml import etree\n",
    "import matplotlib.pyplot as plt\n",
    "from matplotlib_venn import venn2\n",
    "import numpy as np\n",
    "import pandas as pd\n",
    "from svgutils.compose import Unit\n",
    "import svgutils.transform as sg"
   ]
  },
  {
   "cell_type": "markdown",
   "metadata": {},
   "source": [
    "## Figure 1"
   ]
  },
  {
   "cell_type": "markdown",
   "metadata": {},
   "source": [
    "This figure is designed to show the need for orthogonal procrustes.\n",
    "Idea here is that word2vec generates words arbitrarily and direct comparison is meaningless without an alignment factor.\n",
    "1. Panel A - Show umap plot of word models without alignment\n",
    "2. Panel B - Show umap plot of the same word models with alignment\n",
    "3. Panel C - Show same umap plot but with two examples that show intra year variability (show the opacity plot with word such as 'of', 'interleukin-18', 'pandemic')"
   ]
  },
  {
   "cell_type": "code",
   "execution_count": null,
   "metadata": {
    "ExecuteTime": {
     "end_time": "2022-05-19T19:43:16.548615Z",
     "start_time": "2022-05-19T19:43:16.546666Z"
    }
   },
   "outputs": [],
   "source": [
    "umap_visualization_path = Path(\n",
    "    \"../multi_model_revamp/output/figure_data_and_figures/alignment_visualization\"\n",
    ")"
   ]
  },
  {
   "cell_type": "code",
   "execution_count": null,
   "metadata": {
    "ExecuteTime": {
     "end_time": "2022-05-19T19:43:17.062633Z",
     "start_time": "2022-05-19T19:43:16.550223Z"
    }
   },
   "outputs": [],
   "source": [
    "panel_one = sg.fromfile(umap_visualization_path / \"unaligned_2010_plot.svg\")\n",
    "\n",
    "# Convert pt units to pixel units\n",
    "# Vince's tutorial FTW\n",
    "panel_one_size = (\n",
    "    np.round(float(panel_one.root.attrib[\"width\"][:-2]) * 1.33, 0),\n",
    "    np.round(float(panel_one.root.attrib[\"height\"][:-2]) * 1.33, 0),\n",
    ")\n",
    "\n",
    "scale_x = 1.4\n",
    "scale_y = 1.4\n",
    "\n",
    "print(f\"original: {panel_one_size}\")\n",
    "print(f\"scaled:{(panel_one_size[0]*scale_x,panel_one_size[1]*scale_y)}\")\n",
    "\n",
    "panel_one = panel_one.getroot()\n",
    "panel_one.scale(x=scale_x, y=scale_y)\n",
    "panel_one.moveto(50, 50)"
   ]
  },
  {
   "cell_type": "code",
   "execution_count": null,
   "metadata": {
    "ExecuteTime": {
     "end_time": "2022-05-19T19:43:17.541488Z",
     "start_time": "2022-05-19T19:43:17.064108Z"
    }
   },
   "outputs": [],
   "source": [
    "panel_two = sg.fromfile(umap_visualization_path / \"unaligned_2010_probiotics_plot.svg\")\n",
    "\n",
    "panel_two_size = (\n",
    "    np.round(float(panel_two.root.attrib[\"width\"][:-2]) * 1.33, 0),\n",
    "    np.round(float(panel_two.root.attrib[\"height\"][:-2]) * 1.33, 0),\n",
    ")\n",
    "scale_x = 1.4\n",
    "scale_y = 1.4\n",
    "\n",
    "print(f\"original: {panel_two_size}\")\n",
    "print(f\"scaled:{(panel_two_size[0]*scale_x, panel_two_size[1]*scale_y)}\")\n",
    "\n",
    "panel_two = panel_two.getroot()\n",
    "panel_two.scale(x=scale_x, y=scale_y)\n",
    "panel_two.moveto(954, 50)"
   ]
  },
  {
   "cell_type": "code",
   "execution_count": null,
   "metadata": {
    "ExecuteTime": {
     "end_time": "2022-05-19T19:43:18.021524Z",
     "start_time": "2022-05-19T19:43:17.543004Z"
    }
   },
   "outputs": [],
   "source": [
    "panel_three = sg.fromfile(umap_visualization_path / \"aligned_2010_probiotics_plot.svg\")\n",
    "\n",
    "panel_three_size = (\n",
    "    np.round(float(panel_three.root.attrib[\"width\"][:-2]) * 1.33, 0),\n",
    "    np.round(float(panel_three.root.attrib[\"height\"][:-2]) * 1.33, 0),\n",
    ")\n",
    "scale_x = 1.4\n",
    "scale_y = 1.4\n",
    "\n",
    "print(f\"original: {panel_three_size}\")\n",
    "print(f\"scaled:{(panel_three_size[0]*scale_x, panel_three_size[1]*scale_y)}\")\n",
    "\n",
    "panel_three = panel_three.getroot()\n",
    "panel_three.scale(x=scale_x, y=scale_y)\n",
    "panel_three.moveto(50, 631)"
   ]
  },
  {
   "cell_type": "code",
   "execution_count": null,
   "metadata": {
    "ExecuteTime": {
     "end_time": "2022-05-19T19:43:18.025317Z",
     "start_time": "2022-05-19T19:43:18.022736Z"
    }
   },
   "outputs": [],
   "source": [
    "panel_one_label = sg.TextElement(30, 30, \"A\", size=30, weight=\"bold\")\n",
    "panel_two_label = sg.TextElement(954, 30, \"B\", size=30, weight=\"bold\")\n",
    "panel_three_label = sg.TextElement(30, 631, \"C\", size=30, weight=\"bold\")"
   ]
  },
  {
   "cell_type": "code",
   "execution_count": null,
   "metadata": {
    "ExecuteTime": {
     "end_time": "2022-05-19T19:43:22.104548Z",
     "start_time": "2022-05-19T19:43:18.026664Z"
    },
    "scrolled": false
   },
   "outputs": [],
   "source": [
    "figure_one = sg.SVGFigure(Unit(1650), Unit(1200))\n",
    "\n",
    "figure_one.append(\n",
    "    [\n",
    "        etree.Element(\"rect\", {\"width\": \"100%\", \"height\": \"100%\", \"fill\": \"white\"}),\n",
    "        panel_one,\n",
    "        panel_two,\n",
    "        panel_three,\n",
    "        panel_one_label,\n",
    "        panel_two_label,\n",
    "        panel_three_label,\n",
    "    ]\n",
    ")\n",
    "display(SVG(figure_one.to_str()))"
   ]
  },
  {
   "cell_type": "code",
   "execution_count": null,
   "metadata": {
    "ExecuteTime": {
     "end_time": "2022-05-19T19:44:41.909040Z",
     "start_time": "2022-05-19T19:43:22.106907Z"
    }
   },
   "outputs": [],
   "source": [
    "# save generated SVG files\n",
    "figure_one.save(\"output/Figure_1.svg\")\n",
    "svg2png(bytestring=figure_one.to_str(), write_to=\"output/Figure_1.png\", dpi=600)"
   ]
  },
  {
   "cell_type": "code",
   "execution_count": null,
   "metadata": {
    "ExecuteTime": {
     "end_time": "2022-05-19T19:44:42.054499Z",
     "start_time": "2022-05-19T19:44:41.910558Z"
    }
   },
   "outputs": [],
   "source": [
    "!convert -compress LZW -alpha remove output/Figure_1.png output/Figure_1.tiff\n",
    "!mogrify -alpha off output/Figure_1.tiff"
   ]
  },
  {
   "cell_type": "markdown",
   "metadata": {},
   "source": [
    "## Figure 2"
   ]
  },
  {
   "cell_type": "markdown",
   "metadata": {},
   "source": [
    "This figure is to show the validation of the metric which is Qst.\n",
    "This metric accounts for the intra year instability within each word2vec model.\n",
    "1. Panel - shows the percent difference validation I had for the tokens across the years"
   ]
  },
  {
   "cell_type": "code",
   "execution_count": null,
   "metadata": {
    "ExecuteTime": {
     "end_time": "2022-05-19T19:44:42.057807Z",
     "start_time": "2022-05-19T19:44:42.055975Z"
    }
   },
   "outputs": [],
   "source": [
    "novel_distance_visualization_path = Path(\n",
    "    \"../multi_model_revamp/output/figure_data_and_figures/novel_distance_visualization\"\n",
    ")"
   ]
  },
  {
   "cell_type": "code",
   "execution_count": null,
   "metadata": {
    "ExecuteTime": {
     "end_time": "2022-05-19T19:44:42.118001Z",
     "start_time": "2022-05-19T19:44:42.059088Z"
    }
   },
   "outputs": [],
   "source": [
    "panel_one = sg.fromfile(\n",
    "    novel_distance_visualization_path / \"percent_difference_2010-2011_plot.svg\"\n",
    ")\n",
    "\n",
    "# Convert pt units to pixel units\n",
    "# Vince's tutorial FTW\n",
    "panel_one_size = (\n",
    "    np.round(float(panel_one.root.attrib[\"width\"][:-2]) * 1.33, 0),\n",
    "    np.round(float(panel_one.root.attrib[\"height\"][:-2]) * 1.33, 0),\n",
    ")\n",
    "\n",
    "scale_x = 1\n",
    "scale_y = 1\n",
    "\n",
    "print(f\"original: {panel_one_size}\")\n",
    "print(f\"scaled:{(panel_one_size[0]*scale_x,panel_one_size[1]*scale_y)}\")\n",
    "\n",
    "panel_one = panel_one.getroot()\n",
    "panel_one.scale(x=scale_x, y=scale_y)\n",
    "panel_one.moveto(50, 50)"
   ]
  },
  {
   "cell_type": "code",
   "execution_count": null,
   "metadata": {
    "ExecuteTime": {
     "end_time": "2022-05-19T19:44:42.166610Z",
     "start_time": "2022-05-19T19:44:42.120338Z"
    }
   },
   "outputs": [],
   "source": [
    "panel_two = sg.fromfile(\n",
    "    novel_distance_visualization_path / \"pandemic_cas9_changepoint_example_plot.svg\"\n",
    ")\n",
    "\n",
    "# Convert pt units to pixel units\n",
    "# Vince's tutorial FTW\n",
    "panel_two_size = (\n",
    "    np.round(float(panel_two.root.attrib[\"width\"][:-2]) * 1.33, 0),\n",
    "    np.round(float(panel_two.root.attrib[\"height\"][:-2]) * 1.33, 0),\n",
    ")\n",
    "\n",
    "scale_x = 1\n",
    "scale_y = 1\n",
    "\n",
    "print(f\"original: {panel_two_size}\")\n",
    "print(f\"scaled:{(panel_two_size[0]*scale_x,panel_two_size[1]*scale_y)}\")\n",
    "\n",
    "panel_two = panel_two.getroot()\n",
    "panel_two.scale(x=scale_x, y=scale_y)\n",
    "panel_two.moveto(660, 50)"
   ]
  },
  {
   "cell_type": "code",
   "execution_count": null,
   "metadata": {
    "ExecuteTime": {
     "end_time": "2022-05-19T19:44:42.209203Z",
     "start_time": "2022-05-19T19:44:42.171425Z"
    }
   },
   "outputs": [],
   "source": [
    "panel_one_label = sg.TextElement(30, 30, \"A\", size=30, weight=\"bold\")\n",
    "panel_two_label = sg.TextElement(630, 30, \"B\", size=30, weight=\"bold\")"
   ]
  },
  {
   "cell_type": "code",
   "execution_count": null,
   "metadata": {
    "ExecuteTime": {
     "end_time": "2022-05-19T19:44:42.321990Z",
     "start_time": "2022-05-19T19:44:42.210818Z"
    },
    "scrolled": false
   },
   "outputs": [],
   "source": [
    "figure_two = sg.SVGFigure(Unit(1280), Unit(480))\n",
    "\n",
    "figure_two.append(\n",
    "    [\n",
    "        etree.Element(\"rect\", {\"width\": \"100%\", \"height\": \"100%\", \"fill\": \"white\"}),\n",
    "        panel_one,\n",
    "        panel_one_label,\n",
    "        panel_two,\n",
    "        panel_two_label,\n",
    "    ]\n",
    ")\n",
    "display(SVG(figure_two.to_str()))"
   ]
  },
  {
   "cell_type": "code",
   "execution_count": null,
   "metadata": {
    "ExecuteTime": {
     "end_time": "2022-05-19T19:44:43.126156Z",
     "start_time": "2022-05-19T19:44:42.323221Z"
    }
   },
   "outputs": [],
   "source": [
    "# save generated SVG files\n",
    "figure_two.save(\"output/Figure_2.svg\")\n",
    "svg2png(bytestring=figure_two.to_str(), write_to=\"output/Figure_2.png\", dpi=600)"
   ]
  },
  {
   "cell_type": "code",
   "execution_count": null,
   "metadata": {
    "ExecuteTime": {
     "end_time": "2022-05-19T19:44:43.176832Z",
     "start_time": "2022-05-19T19:44:43.127397Z"
    }
   },
   "outputs": [],
   "source": [
    "!convert -compress LZW -alpha remove output/Figure_2.png output/Figure_2.tiff\n",
    "!mogrify -alpha off output/Figure_2.tiff"
   ]
  },
  {
   "cell_type": "markdown",
   "metadata": {},
   "source": [
    "## Figure 3"
   ]
  },
  {
   "cell_type": "markdown",
   "metadata": {},
   "source": [
    "Use this metric through the SCAF approach to detect the specific timepoint at which a word has undergone a drastic shift.\n",
    "Idea here is to provide rational that my correction method actually improves detection\n",
    "1. Panel A - Time point example for lung cancer\n",
    "2. Panel B - show wordcloud for this case study and let the users see the shift in semantics\n",
    "3. Could also think about providing the word pandemic or coronavirus as a positive control for this case"
   ]
  },
  {
   "cell_type": "code",
   "execution_count": null,
   "metadata": {
    "ExecuteTime": {
     "end_time": "2022-05-19T19:44:43.180050Z",
     "start_time": "2022-05-19T19:44:43.178118Z"
    }
   },
   "outputs": [],
   "source": [
    "neighbor_table_path = Path(\n",
    "    \"../multi_model_revamp/output/figure_data_and_figures/neighbor_tables\"\n",
    ")"
   ]
  },
  {
   "cell_type": "code",
   "execution_count": null,
   "metadata": {
    "ExecuteTime": {
     "end_time": "2022-05-19T19:44:43.329503Z",
     "start_time": "2022-05-19T19:44:43.181075Z"
    },
    "scrolled": false
   },
   "outputs": [],
   "source": [
    "tables_to_show = list(neighbor_table_path.rglob(\"*tsv\"))\n",
    "for table in tables_to_show:\n",
    "    token_table = pd.read_csv(str(table), sep=\"\\t\", index_col=0)\n",
    "    print(table.stem)\n",
    "    display(token_table)\n",
    "    print()"
   ]
  },
  {
   "cell_type": "markdown",
   "metadata": {},
   "source": [
    "## Figure 3 - Compare Changepoints between Published Papers and Preperints"
   ]
  },
  {
   "cell_type": "code",
   "execution_count": null,
   "metadata": {
    "ExecuteTime": {
     "end_time": "2022-05-19T19:44:43.333181Z",
     "start_time": "2022-05-19T19:44:43.330822Z"
    }
   },
   "outputs": [],
   "source": [
    "preprint_changepoint_path = Path(\"../biorxiv_experiment/output/\")\n",
    "published_changepoint_path = Path(\"../multi_model_revamp/output/\")"
   ]
  },
  {
   "cell_type": "code",
   "execution_count": null,
   "metadata": {
    "ExecuteTime": {
     "end_time": "2022-05-19T19:44:43.473842Z",
     "start_time": "2022-05-19T19:44:43.334533Z"
    }
   },
   "outputs": [],
   "source": [
    "preprint_changepoints = pd.read_csv(\n",
    "    preprint_changepoint_path / \"biorxiv_changepoints.tsv\", sep=\"\\t\"\n",
    ")\n",
    "preprint_changepoints"
   ]
  },
  {
   "cell_type": "code",
   "execution_count": null,
   "metadata": {
    "ExecuteTime": {
     "end_time": "2022-05-19T19:44:43.642682Z",
     "start_time": "2022-05-19T19:44:43.476120Z"
    }
   },
   "outputs": [],
   "source": [
    "published_changepoints = pd.read_csv(\n",
    "    published_changepoint_path / \"pubtator_updated_changepoints.tsv\", sep=\"\\t\"\n",
    ")\n",
    "published_changepoints"
   ]
  },
  {
   "cell_type": "code",
   "execution_count": null,
   "metadata": {
    "ExecuteTime": {
     "end_time": "2022-05-19T19:44:43.655976Z",
     "start_time": "2022-05-19T19:44:43.643730Z"
    }
   },
   "outputs": [],
   "source": [
    "changepoint_intersection = set(published_changepoints[\"tok\"]).intersection(\n",
    "    set(preprint_changepoints[\"tok\"])\n",
    ")\n",
    "changpoint_intersection_df = pd.DataFrame.from_dict(\n",
    "    dict(tok=list(changepoint_intersection))\n",
    ").sort_values(\"tok\")\n",
    "changpoint_intersection_df.to_csv(\n",
    "    \"output/Figure_3_intersection.tsv\", sep=\"\\t\", index=False\n",
    ")"
   ]
  },
  {
   "cell_type": "code",
   "execution_count": null,
   "metadata": {
    "ExecuteTime": {
     "end_time": "2022-05-19T19:44:43.876912Z",
     "start_time": "2022-05-19T19:44:43.658100Z"
    }
   },
   "outputs": [],
   "source": [
    "fig = plt.figure()\n",
    "venn2(\n",
    "    [set(published_changepoints[\"tok\"]), set(preprint_changepoints[\"tok\"])],\n",
    "    normalize_to=200,\n",
    "    set_labels=(\"published\", \"preprints\"),\n",
    "    set_colors=(\"#d95f02\", \"#1b9e77\"),\n",
    ")\n",
    "plt.title(\"Overlap of Changepoints Between Published Papers and Preprints\")\n",
    "fig.show()"
   ]
  },
  {
   "cell_type": "code",
   "execution_count": null,
   "metadata": {
    "ExecuteTime": {
     "end_time": "2022-05-19T19:44:44.350089Z",
     "start_time": "2022-05-19T19:44:43.878279Z"
    }
   },
   "outputs": [],
   "source": [
    "# save generated SVG files\n",
    "fig.savefig(\"output/Figure_3.svg\")\n",
    "svg2png(url=\"output/Figure_3.svg\", write_to=\"output/Figure_3.png\", dpi=600)"
   ]
  },
  {
   "cell_type": "code",
   "execution_count": null,
   "metadata": {
    "ExecuteTime": {
     "end_time": "2022-05-19T19:44:44.889032Z",
     "start_time": "2022-05-19T19:44:44.351315Z"
    }
   },
   "outputs": [],
   "source": [
    "!convert -compress LZW -alpha remove output/Figure_3.png output/Figure_3.tiff\n",
    "!mogrify -alpha off output/Figure_3.tiff"
   ]
  }
 ],
 "metadata": {
  "jupytext": {
   "formats": "ipynb,py:light"
  },
  "kernelspec": {
   "display_name": "Python [conda env:biovectors]",
   "language": "python",
   "name": "conda-env-biovectors-py"
  },
  "language_info": {
   "codemirror_mode": {
    "name": "ipython",
    "version": 3
   },
   "file_extension": ".py",
   "mimetype": "text/x-python",
   "name": "python",
   "nbconvert_exporter": "python",
   "pygments_lexer": "ipython3",
   "version": "3.7.2"
  },
  "toc": {
   "base_numbering": 1,
   "nav_menu": {},
   "number_sections": true,
   "sideBar": true,
   "skip_h1_title": false,
   "title_cell": "Table of Contents",
   "title_sidebar": "Contents",
   "toc_cell": false,
   "toc_position": {},
   "toc_section_display": true,
   "toc_window_display": false
  }
 },
 "nbformat": 4,
 "nbformat_minor": 2
}
