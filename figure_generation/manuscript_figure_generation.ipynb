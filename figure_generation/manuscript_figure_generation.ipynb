{
 "cells": [
  {
   "cell_type": "markdown",
   "metadata": {},
   "source": [
    "# Figure Generation for Manuscript"
   ]
  },
  {
   "cell_type": "code",
   "execution_count": 1,
   "metadata": {
    "ExecuteTime": {
     "end_time": "2022-06-16T14:07:27.773253Z",
     "start_time": "2022-06-16T14:07:26.118164Z"
    }
   },
   "outputs": [],
   "source": [
    "import os\n",
    "from pathlib import Path\n",
    "from IPython.display import Image, display, SVG\n",
    "\n",
    "from cairosvg import svg2png\n",
    "from lxml import etree\n",
    "import matplotlib.pyplot as plt\n",
    "from matplotlib_venn import venn2\n",
    "import numpy as np\n",
    "import pandas as pd\n",
    "from svgutils.compose import Unit\n",
    "import svgutils.transform as sg"
   ]
  },
  {
   "cell_type": "markdown",
   "metadata": {},
   "source": [
    "## Figure 1"
   ]
  },
  {
   "cell_type": "markdown",
   "metadata": {},
   "source": [
    "This figure is designed to show the need for orthogonal procrustes.\n",
    "Idea here is that word2vec generates words arbitrarily and direct comparison is meaningless without an alignment factor.\n",
    "1. Panel A - Show umap plot of word models without alignment\n",
    "2. Panel B - Show umap plot of the same word models with alignment\n",
    "3. Panel C - Show same umap plot but with two examples that show intra year variability (show the opacity plot with word such as 'of', 'interleukin-18', 'pandemic')\n",
    "4. Panel D - Systematic comparison of tokens across the years"
   ]
  },
  {
   "cell_type": "code",
   "execution_count": 2,
   "metadata": {
    "ExecuteTime": {
     "end_time": "2022-06-16T14:07:27.776726Z",
     "start_time": "2022-06-16T14:07:27.774683Z"
    }
   },
   "outputs": [],
   "source": [
    "umap_visualization_path = Path(\n",
    "    \"../multi_model_revamp/output/figure_data_and_figures/alignment_visualization\"\n",
    ")"
   ]
  },
  {
   "cell_type": "code",
   "execution_count": 3,
   "metadata": {
    "ExecuteTime": {
     "end_time": "2022-06-16T14:07:28.286618Z",
     "start_time": "2022-06-16T14:07:27.778487Z"
    }
   },
   "outputs": [
    {
     "name": "stdout",
     "output_type": "stream",
     "text": [
      "original: (666.0, 436.0)\n",
      "scaled:(666.0, 436.0)\n"
     ]
    }
   ],
   "source": [
    "panel_one = sg.fromfile(umap_visualization_path / \"unaligned_2010_plot.svg\")\n",
    "\n",
    "# Convert pt units to pixel units\n",
    "# Vince's tutorial FTW\n",
    "panel_one_size = (\n",
    "    np.round(float(panel_one.root.attrib[\"width\"][:-2]) * 1.33, 0),\n",
    "    np.round(float(panel_one.root.attrib[\"height\"][:-2]) * 1.33, 0),\n",
    ")\n",
    "\n",
    "scale_x = 1\n",
    "scale_y = 1\n",
    "\n",
    "print(f\"original: {panel_one_size}\")\n",
    "print(f\"scaled:{(panel_one_size[0]*scale_x,panel_one_size[1]*scale_y)}\")\n",
    "\n",
    "panel_one = panel_one.getroot()\n",
    "panel_one.scale(x=scale_x, y=scale_y)\n",
    "panel_one.moveto(50, 50)"
   ]
  },
  {
   "cell_type": "code",
   "execution_count": 4,
   "metadata": {
    "ExecuteTime": {
     "end_time": "2022-06-16T14:07:28.761700Z",
     "start_time": "2022-06-16T14:07:28.288189Z"
    }
   },
   "outputs": [
    {
     "name": "stdout",
     "output_type": "stream",
     "text": [
      "original: (666.0, 436.0)\n",
      "scaled:(666.0, 436.0)\n"
     ]
    }
   ],
   "source": [
    "panel_two = sg.fromfile(umap_visualization_path / \"unaligned_2010_probiotics_plot.svg\")\n",
    "\n",
    "panel_two_size = (\n",
    "    np.round(float(panel_two.root.attrib[\"width\"][:-2]) * 1.33, 0),\n",
    "    np.round(float(panel_two.root.attrib[\"height\"][:-2]) * 1.33, 0),\n",
    ")\n",
    "scale_x = 1\n",
    "scale_y = 1\n",
    "\n",
    "print(f\"original: {panel_two_size}\")\n",
    "print(f\"scaled:{(panel_two_size[0]*scale_x, panel_two_size[1]*scale_y)}\")\n",
    "\n",
    "panel_two = panel_two.getroot()\n",
    "panel_two.scale(x=scale_x, y=scale_y)\n",
    "panel_two.moveto(670, 50)"
   ]
  },
  {
   "cell_type": "code",
   "execution_count": 5,
   "metadata": {
    "ExecuteTime": {
     "end_time": "2022-06-16T14:07:29.241342Z",
     "start_time": "2022-06-16T14:07:28.762908Z"
    }
   },
   "outputs": [
    {
     "name": "stdout",
     "output_type": "stream",
     "text": [
      "original: (676.0, 436.0)\n",
      "scaled:(676.0, 436.0)\n"
     ]
    }
   ],
   "source": [
    "panel_three = sg.fromfile(umap_visualization_path / \"aligned_2010_probiotics_plot.svg\")\n",
    "\n",
    "panel_three_size = (\n",
    "    np.round(float(panel_three.root.attrib[\"width\"][:-2]) * 1.33, 0),\n",
    "    np.round(float(panel_three.root.attrib[\"height\"][:-2]) * 1.33, 0),\n",
    ")\n",
    "scale_x = 1\n",
    "scale_y = 1\n",
    "\n",
    "print(f\"original: {panel_three_size}\")\n",
    "print(f\"scaled:{(panel_three_size[0]*scale_x, panel_three_size[1]*scale_y)}\")\n",
    "\n",
    "panel_three = panel_three.getroot()\n",
    "panel_three.scale(x=scale_x, y=scale_y)\n",
    "panel_three.moveto(50, 436)"
   ]
  },
  {
   "cell_type": "code",
   "execution_count": 6,
   "metadata": {
    "ExecuteTime": {
     "end_time": "2022-06-16T14:07:29.247798Z",
     "start_time": "2022-06-16T14:07:29.242666Z"
    }
   },
   "outputs": [
    {
     "name": "stdout",
     "output_type": "stream",
     "text": [
      "original: (736.0, 445.0)\n",
      "scaled:(736.0, 445.0)\n"
     ]
    }
   ],
   "source": [
    "panel_four = sg.fromfile(umap_visualization_path / \"systemic_alignment_metrics.svg\")\n",
    "\n",
    "panel_four_size = (\n",
    "    np.round(float(panel_four.root.attrib[\"width\"][:-2]) * 1.33, 0),\n",
    "    np.round(float(panel_four.root.attrib[\"height\"][:-2]) * 1.33, 0),\n",
    ")\n",
    "scale_x = 1\n",
    "scale_y = 1\n",
    "\n",
    "print(f\"original: {panel_four_size}\")\n",
    "print(f\"scaled:{(panel_four_size[0]*scale_x, panel_four_size[1]*scale_y)}\")\n",
    "\n",
    "panel_four = panel_four.getroot()\n",
    "panel_four.scale(x=scale_x, y=scale_y)\n",
    "panel_four.moveto(670, 436)"
   ]
  },
  {
   "cell_type": "code",
   "execution_count": 7,
   "metadata": {
    "ExecuteTime": {
     "end_time": "2022-06-16T14:07:29.299775Z",
     "start_time": "2022-06-16T14:07:29.248897Z"
    }
   },
   "outputs": [],
   "source": [
    "panel_one_label = sg.TextElement(30, 30, \"A\", size=30, weight=\"bold\")\n",
    "panel_two_label = sg.TextElement(660, 30, \"B\", size=30, weight=\"bold\")\n",
    "panel_three_label = sg.TextElement(30, 436, \"C\", size=30, weight=\"bold\")\n",
    "panel_four_label = sg.TextElement(660, 436, \"D\", size=30, weight=\"bold\")"
   ]
  },
  {
   "cell_type": "code",
   "execution_count": 8,
   "metadata": {
    "ExecuteTime": {
     "end_time": "2022-06-16T14:07:29.378815Z",
     "start_time": "2022-06-16T14:07:29.308188Z"
    },
    "scrolled": false
   },
   "outputs": [],
   "source": [
    "figure_one = sg.SVGFigure(Unit(1350), Unit(880))\n",
    "\n",
    "figure_one.append(\n",
    "    [\n",
    "        etree.Element(\"rect\", {\"width\": \"100%\", \"height\": \"100%\", \"fill\": \"white\"}),\n",
    "        panel_one,\n",
    "        panel_two,\n",
    "        panel_three,\n",
    "        panel_four,\n",
    "        panel_one_label,\n",
    "        panel_two_label,\n",
    "        panel_three_label,\n",
    "        panel_four_label,\n",
    "    ]\n",
    ")\n",
    "# display(SVG(figure_one.to_str()))"
   ]
  },
  {
   "cell_type": "code",
   "execution_count": 9,
   "metadata": {
    "ExecuteTime": {
     "end_time": "2022-06-16T14:10:36.094412Z",
     "start_time": "2022-06-16T14:07:29.380234Z"
    }
   },
   "outputs": [],
   "source": [
    "# save generated SVG files\n",
    "figure_one.save(\"output/Figure_1.svg\")\n",
    "svg2png(bytestring=figure_one.to_str(), write_to=\"output/Figure_1.png\", dpi=300)"
   ]
  },
  {
   "cell_type": "code",
   "execution_count": 10,
   "metadata": {
    "ExecuteTime": {
     "end_time": "2022-06-16T14:10:36.532830Z",
     "start_time": "2022-06-16T14:10:36.095602Z"
    }
   },
   "outputs": [],
   "source": [
    "!convert -compress LZW -alpha remove output/Figure_1.png output/Figure_1.tiff\n",
    "!mogrify -alpha off output/Figure_1.tiff"
   ]
  },
  {
   "cell_type": "markdown",
   "metadata": {},
   "source": [
    "## Figure 2"
   ]
  },
  {
   "cell_type": "markdown",
   "metadata": {},
   "source": [
    "This figure panel shows the validation of the ratio metric"
   ]
  },
  {
   "cell_type": "code",
   "execution_count": 11,
   "metadata": {
    "ExecuteTime": {
     "end_time": "2022-06-16T14:10:36.543818Z",
     "start_time": "2022-06-16T14:10:36.539257Z"
    }
   },
   "outputs": [],
   "source": [
    "novel_distance_visualization_path = Path(\n",
    "    \"../multi_model_revamp/output/figure_data_and_figures/novel_distance_visualization\"\n",
    ")"
   ]
  },
  {
   "cell_type": "code",
   "execution_count": 12,
   "metadata": {
    "ExecuteTime": {
     "end_time": "2022-06-16T14:10:36.576739Z",
     "start_time": "2022-06-16T14:10:36.545182Z"
    }
   },
   "outputs": [
    {
     "name": "stdout",
     "output_type": "stream",
     "text": [
      "original: (583.0, 464.0)\n",
      "scaled:(583.0, 464.0)\n"
     ]
    }
   ],
   "source": [
    "panel_one = sg.fromfile(novel_distance_visualization_path / \"token_count.svg\")\n",
    "\n",
    "# Convert pt units to pixel units\n",
    "# Vince's tutorial FTW\n",
    "panel_one_size = (\n",
    "    np.round(float(panel_one.root.attrib[\"width\"][:-2]) * 1.33, 0),\n",
    "    np.round(float(panel_one.root.attrib[\"height\"][:-2]) * 1.33, 0),\n",
    ")\n",
    "\n",
    "scale_x = 1\n",
    "scale_y = 1\n",
    "\n",
    "print(f\"original: {panel_one_size}\")\n",
    "print(f\"scaled:{(panel_one_size[0]*scale_x,panel_one_size[1]*scale_y)}\")\n",
    "\n",
    "panel_one = panel_one.getroot()\n",
    "panel_one.scale(x=scale_x, y=scale_y)\n",
    "panel_one.moveto(50, 50)"
   ]
  },
  {
   "cell_type": "code",
   "execution_count": 13,
   "metadata": {
    "ExecuteTime": {
     "end_time": "2022-06-16T14:10:36.801701Z",
     "start_time": "2022-06-16T14:10:36.578346Z"
    }
   },
   "outputs": [
    {
     "name": "stdout",
     "output_type": "stream",
     "text": [
      "original: (732.0, 464.0)\n",
      "scaled:(732.0, 464.0)\n"
     ]
    }
   ],
   "source": [
    "panel_two = sg.fromfile(\n",
    "    novel_distance_visualization_path / \"single_model_distance_confirm.svg\"\n",
    ")\n",
    "\n",
    "# Convert pt units to pixel units\n",
    "# Vince's tutorial FTW\n",
    "panel_two_size = (\n",
    "    np.round(float(panel_two.root.attrib[\"width\"][:-2]) * 1.33, 0),\n",
    "    np.round(float(panel_two.root.attrib[\"height\"][:-2]) * 1.33, 0),\n",
    ")\n",
    "\n",
    "scale_x = 1\n",
    "scale_y = 1\n",
    "\n",
    "print(f\"original: {panel_two_size}\")\n",
    "print(f\"scaled:{(panel_two_size[0]*scale_x,panel_two_size[1]*scale_y)}\")\n",
    "\n",
    "panel_two = panel_two.getroot()\n",
    "panel_two.scale(x=scale_x, y=scale_y)\n",
    "panel_two.moveto(660, 50)"
   ]
  },
  {
   "cell_type": "code",
   "execution_count": 14,
   "metadata": {
    "ExecuteTime": {
     "end_time": "2022-06-16T14:10:36.937736Z",
     "start_time": "2022-06-16T14:10:36.803032Z"
    }
   },
   "outputs": [
    {
     "name": "stdout",
     "output_type": "stream",
     "text": [
      "original: (732.0, 464.0)\n",
      "scaled:(732.0, 464.0)\n"
     ]
    }
   ],
   "source": [
    "panel_three = sg.fromfile(\n",
    "    novel_distance_visualization_path / \"multi_model_distance_confirm.svg\"\n",
    ")\n",
    "\n",
    "# Convert pt units to pixel units\n",
    "# Vince's tutorial FTW\n",
    "panel_three_size = (\n",
    "    np.round(float(panel_three.root.attrib[\"width\"][:-2]) * 1.33, 0),\n",
    "    np.round(float(panel_three.root.attrib[\"height\"][:-2]) * 1.33, 0),\n",
    ")\n",
    "\n",
    "scale_x = 1\n",
    "scale_y = 1\n",
    "\n",
    "print(f\"original: {panel_three_size}\")\n",
    "print(f\"scaled:{(panel_three_size[0]*scale_x, panel_three_size[1]*scale_y)}\")\n",
    "\n",
    "panel_three = panel_three.getroot()\n",
    "panel_three.scale(x=scale_x, y=scale_y)\n",
    "panel_three.moveto(70, 464)"
   ]
  },
  {
   "cell_type": "code",
   "execution_count": 15,
   "metadata": {
    "ExecuteTime": {
     "end_time": "2022-06-16T14:10:36.941815Z",
     "start_time": "2022-06-16T14:10:36.938991Z"
    }
   },
   "outputs": [],
   "source": [
    "panel_one_label = sg.TextElement(30, 30, \"A\", size=30, weight=\"bold\")\n",
    "panel_two_label = sg.TextElement(630, 30, \"B\", size=30, weight=\"bold\")\n",
    "panel_three_label = sg.TextElement(30, 464, \"C\", size=30, weight=\"bold\")"
   ]
  },
  {
   "cell_type": "code",
   "execution_count": 16,
   "metadata": {
    "ExecuteTime": {
     "end_time": "2022-06-16T14:10:36.991263Z",
     "start_time": "2022-06-16T14:10:36.943082Z"
    },
    "scrolled": false
   },
   "outputs": [],
   "source": [
    "figure_two = sg.SVGFigure(Unit(1280), Unit(930))\n",
    "\n",
    "figure_two.append(\n",
    "    [\n",
    "        etree.Element(\"rect\", {\"width\": \"100%\", \"height\": \"100%\", \"fill\": \"white\"}),\n",
    "        panel_one,\n",
    "        panel_two,\n",
    "        panel_three,\n",
    "        panel_one_label,\n",
    "        panel_two_label,\n",
    "        panel_three_label,\n",
    "    ]\n",
    ")\n",
    "# display(SVG(figure_two.to_str()))"
   ]
  },
  {
   "cell_type": "code",
   "execution_count": 17,
   "metadata": {
    "ExecuteTime": {
     "end_time": "2022-06-16T14:10:47.095293Z",
     "start_time": "2022-06-16T14:10:36.992413Z"
    }
   },
   "outputs": [],
   "source": [
    "# save generated SVG files\n",
    "figure_two.save(\"output/Figure_2.svg\")\n",
    "svg2png(bytestring=figure_two.to_str(), write_to=\"output/Figure_2.png\", dpi=600)"
   ]
  },
  {
   "cell_type": "code",
   "execution_count": 18,
   "metadata": {
    "ExecuteTime": {
     "end_time": "2022-06-16T14:10:47.429317Z",
     "start_time": "2022-06-16T14:10:47.096475Z"
    }
   },
   "outputs": [],
   "source": [
    "!convert -compress LZW -alpha remove output/Figure_2.png output/Figure_2.tiff\n",
    "!mogrify -alpha off output/Figure_2.tiff"
   ]
  },
  {
   "cell_type": "markdown",
   "metadata": {},
   "source": [
    "## Figure 3"
   ]
  },
  {
   "cell_type": "markdown",
   "metadata": {},
   "source": [
    "Use this metric through the SCAF approach to detect the specific timepoint at which a word has undergone a drastic shift.\n",
    "Idea here is to provide rational that my correction method actually improves detection\n",
    "1. Panel A - Time point example for lung cancer\n",
    "2. Panel B - show wordcloud for this case study and let the users see the shift in semantics\n",
    "3. Could also think about providing the word pandemic or coronavirus as a positive control for this case"
   ]
  },
  {
   "cell_type": "code",
   "execution_count": 19,
   "metadata": {
    "ExecuteTime": {
     "end_time": "2022-06-16T14:10:47.442535Z",
     "start_time": "2022-06-16T14:10:47.435590Z"
    }
   },
   "outputs": [],
   "source": [
    "published_changepoint_path = Path(\n",
    "    \"../multi_model_revamp/output/figure_data_and_figures/changepoint_amount\"\n",
    ")"
   ]
  },
  {
   "cell_type": "code",
   "execution_count": 20,
   "metadata": {
    "ExecuteTime": {
     "end_time": "2022-06-16T14:10:47.463097Z",
     "start_time": "2022-06-16T14:10:47.447534Z"
    }
   },
   "outputs": [],
   "source": [
    "preprint_changepoint_path = Path(\n",
    "    \"../biorxiv_experiment/output/figure_data_and_figures/changepoint_amount\"\n",
    ")"
   ]
  },
  {
   "cell_type": "code",
   "execution_count": 21,
   "metadata": {
    "ExecuteTime": {
     "end_time": "2022-06-16T14:10:47.501970Z",
     "start_time": "2022-06-16T14:10:47.467884Z"
    }
   },
   "outputs": [
    {
     "name": "stdout",
     "output_type": "stream",
     "text": [
      "original: (559.0, 490.0)\n",
      "scaled:(559.0, 490.0)\n"
     ]
    }
   ],
   "source": [
    "panel_one = sg.fromfile(published_changepoint_path / \"published_changepoint_amount.svg\")\n",
    "\n",
    "# Convert pt units to pixel units\n",
    "# Vince's tutorial FTW\n",
    "panel_one_size = (\n",
    "    np.round(float(panel_one.root.attrib[\"width\"][:-2]) * 1.33, 0),\n",
    "    np.round(float(panel_one.root.attrib[\"height\"][:-2]) * 1.33, 0),\n",
    ")\n",
    "\n",
    "scale_x = 1\n",
    "scale_y = 1\n",
    "\n",
    "print(f\"original: {panel_one_size}\")\n",
    "print(f\"scaled:{(panel_one_size[0]*scale_x,panel_one_size[1]*scale_y)}\")\n",
    "\n",
    "panel_one = panel_one.getroot()\n",
    "panel_one.scale(x=scale_x, y=scale_y)\n",
    "panel_one.moveto(50, 50)"
   ]
  },
  {
   "cell_type": "code",
   "execution_count": 22,
   "metadata": {
    "ExecuteTime": {
     "end_time": "2022-06-16T14:10:47.561263Z",
     "start_time": "2022-06-16T14:10:47.506761Z"
    }
   },
   "outputs": [
    {
     "name": "stdout",
     "output_type": "stream",
     "text": [
      "original: (559.0, 490.0)\n",
      "scaled:(559.0, 490.0)\n"
     ]
    }
   ],
   "source": [
    "panel_two = sg.fromfile(preprint_changepoint_path / \"preprint_changepoint_amount.svg\")\n",
    "\n",
    "panel_two_size = (\n",
    "    np.round(float(panel_two.root.attrib[\"width\"][:-2]) * 1.33, 0),\n",
    "    np.round(float(panel_two.root.attrib[\"height\"][:-2]) * 1.33, 0),\n",
    ")\n",
    "scale_x = 1\n",
    "scale_y = 1\n",
    "\n",
    "print(f\"original: {panel_two_size}\")\n",
    "print(f\"scaled:{(panel_two_size[0]*scale_x, panel_two_size[1]*scale_y)}\")\n",
    "\n",
    "panel_two = panel_two.getroot()\n",
    "panel_two.scale(x=scale_x, y=scale_y)\n",
    "panel_two.moveto(600, 50)"
   ]
  },
  {
   "cell_type": "code",
   "execution_count": 23,
   "metadata": {
    "ExecuteTime": {
     "end_time": "2022-06-16T14:10:47.608462Z",
     "start_time": "2022-06-16T14:10:47.570612Z"
    }
   },
   "outputs": [
    {
     "name": "stdout",
     "output_type": "stream",
     "text": [
      "original: (545.0, 490.0)\n",
      "scaled:(545.0, 490.0)\n"
     ]
    }
   ],
   "source": [
    "panel_three = sg.fromfile(published_changepoint_path / \"cas9_change_metric.svg\")\n",
    "\n",
    "panel_three_size = (\n",
    "    np.round(float(panel_three.root.attrib[\"width\"][:-2]) * 1.33, 0),\n",
    "    np.round(float(panel_three.root.attrib[\"height\"][:-2]) * 1.33, 0),\n",
    ")\n",
    "scale_x = 1\n",
    "scale_y = 1\n",
    "\n",
    "print(f\"original: {panel_three_size}\")\n",
    "print(f\"scaled:{(panel_three_size[0]*scale_x, panel_three_size[1]*scale_y)}\")\n",
    "\n",
    "panel_three = panel_three.getroot()\n",
    "panel_three.scale(x=scale_x, y=scale_y)\n",
    "panel_three.moveto(50, 500)"
   ]
  },
  {
   "cell_type": "code",
   "execution_count": 24,
   "metadata": {
    "ExecuteTime": {
     "end_time": "2022-06-16T14:10:47.718327Z",
     "start_time": "2022-06-16T14:10:47.611110Z"
    }
   },
   "outputs": [
    {
     "name": "stdout",
     "output_type": "stream",
     "text": [
      "original: (543.0, 490.0)\n",
      "scaled:(543.0, 490.0)\n"
     ]
    }
   ],
   "source": [
    "panel_four = sg.fromfile(published_changepoint_path / \"sars_change_metric.svg\")\n",
    "\n",
    "panel_four_size = (\n",
    "    np.round(float(panel_four.root.attrib[\"width\"][:-2]) * 1.33, 0),\n",
    "    np.round(float(panel_four.root.attrib[\"height\"][:-2]) * 1.33, 0),\n",
    ")\n",
    "scale_x = 1\n",
    "scale_y = 1\n",
    "\n",
    "print(f\"original: {panel_four_size}\")\n",
    "print(f\"scaled:{(panel_four_size[0]*scale_x, panel_four_size[1]*scale_y)}\")\n",
    "\n",
    "panel_four = panel_four.getroot()\n",
    "panel_four.scale(x=scale_x, y=scale_y)\n",
    "panel_four.moveto(600, 500)"
   ]
  },
  {
   "cell_type": "code",
   "execution_count": 25,
   "metadata": {
    "ExecuteTime": {
     "end_time": "2022-06-16T14:10:47.790866Z",
     "start_time": "2022-06-16T14:10:47.719446Z"
    }
   },
   "outputs": [],
   "source": [
    "panel_one_label = sg.TextElement(30, 30, \"A\", size=30, weight=\"bold\")\n",
    "panel_two_label = sg.TextElement(600, 30, \"B\", size=30, weight=\"bold\")\n",
    "panel_three_label = sg.TextElement(30, 500, \"C\", size=30, weight=\"bold\")\n",
    "panel_four_label = sg.TextElement(600, 500, \"D\", size=30, weight=\"bold\")"
   ]
  },
  {
   "cell_type": "code",
   "execution_count": 26,
   "metadata": {
    "ExecuteTime": {
     "end_time": "2022-06-16T14:10:47.852964Z",
     "start_time": "2022-06-16T14:10:47.795679Z"
    },
    "scrolled": false
   },
   "outputs": [],
   "source": [
    "figure_three = sg.SVGFigure(Unit(1100), Unit(980))\n",
    "\n",
    "figure_three.append(\n",
    "    [\n",
    "        etree.Element(\"rect\", {\"width\": \"100%\", \"height\": \"100%\", \"fill\": \"white\"}),\n",
    "        panel_one,\n",
    "        panel_two,\n",
    "        panel_three,\n",
    "        panel_four,\n",
    "        panel_one_label,\n",
    "        panel_two_label,\n",
    "        panel_three_label,\n",
    "        panel_four_label,\n",
    "    ]\n",
    ")\n",
    "# display(SVG(figure_one.to_str()))"
   ]
  },
  {
   "cell_type": "code",
   "execution_count": 27,
   "metadata": {
    "ExecuteTime": {
     "end_time": "2022-06-16T14:10:49.146523Z",
     "start_time": "2022-06-16T14:10:47.857845Z"
    }
   },
   "outputs": [],
   "source": [
    "# save generated SVG files\n",
    "figure_three.save(\"output/Figure_3.svg\")\n",
    "svg2png(bytestring=figure_three.to_str(), write_to=\"output/Figure_3.png\", dpi=600)"
   ]
  },
  {
   "cell_type": "code",
   "execution_count": 28,
   "metadata": {
    "ExecuteTime": {
     "end_time": "2022-06-16T14:10:49.506818Z",
     "start_time": "2022-06-16T14:10:49.147760Z"
    }
   },
   "outputs": [],
   "source": [
    "!convert -compress LZW -alpha remove output/Figure_3.png output/Figure_3.tiff\n",
    "!mogrify -alpha off output/Figure_3.tiff"
   ]
  }
 ],
 "metadata": {
  "jupytext": {
   "formats": "ipynb,py:light"
  },
  "kernelspec": {
   "display_name": "Python [conda env:biovectors]",
   "language": "python",
   "name": "conda-env-biovectors-py"
  },
  "language_info": {
   "codemirror_mode": {
    "name": "ipython",
    "version": 3
   },
   "file_extension": ".py",
   "mimetype": "text/x-python",
   "name": "python",
   "nbconvert_exporter": "python",
   "pygments_lexer": "ipython3",
   "version": "3.7.2"
  },
  "toc": {
   "base_numbering": 1,
   "nav_menu": {},
   "number_sections": true,
   "sideBar": true,
   "skip_h1_title": false,
   "title_cell": "Table of Contents",
   "title_sidebar": "Contents",
   "toc_cell": false,
   "toc_position": {},
   "toc_section_display": true,
   "toc_window_display": false
  }
 },
 "nbformat": 4,
 "nbformat_minor": 2
}
